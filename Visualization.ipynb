{
 "cells": [
  {
   "cell_type": "code",
   "execution_count": 5,
   "metadata": {},
   "outputs": [],
   "source": [
    "import warnings\n",
    "warnings.filterwarnings(\"ignore\")\n",
    "\n",
    "# # =-=-=-=-=-=-=-=-=-=-=-=-=-=-=-=-=-=-=-=-=-=-=-=-=-=-=-=-=-=-=-=-=-=-=-=-=-=\n",
    "# # Basic libraries\n",
    "# #\n",
    "# import time\n",
    "# import pandas    as pd\n",
    "import numpy     as np\n",
    "# from   tqdm      import tqdm\n",
    "\n",
    "\n",
    "# =-=-=-=-=-=-=-=-=-=-=-=-=-=-=-=-=-=-=-=-=-=-=-=-=-=-=-=-=-=-=-=-=-=-=-=-=-=\n",
    "# Visualization library\n",
    "#\n",
    "import matplotlib.pyplot   as plt "
   ]
  },
  {
   "cell_type": "code",
   "execution_count": 6,
   "metadata": {},
   "outputs": [],
   "source": [
    "# figsize = (8, 4)\n",
    "\n",
    "# fig, ax = plt.subplots( figsize = figsize )\n",
    "# #\n",
    "# rects1 = ax.bar( np.arange(1, 13) - 0.2, df1['R2'].values, width=0.4, )\n",
    "# rects2 = ax.bar( np.arange(1, 13) + 0.2, df2['R2'].values, width=0.4, )\n",
    "\n",
    "# # Add some text for labels, title and custom x-axis tick labels, etc.\n",
    "# ax.set_ylabel('R$^2$', size = 12)\n",
    "# ax.set_xlabel('Forecasting Horizon', size = 12)\n",
    "# # ax.set_title('Sample point ID: 9500', size=12)\n",
    "# ax.set_xticks( np.arange(1, 13), )\n",
    "# ax.legend(['without Filtering', 'with Filtering'], frameon=False)\n",
    "# ax.set_ylim([0, 1])\n",
    "\n",
    "# autolabel(rects1)\n",
    "# autolabel(rects2)\n",
    "\n",
    "\n",
    "# fig.tight_layout()\n",
    "# plt.savefig('images/R2_PM10_9500.png', bbox_inches = 'tight', transparent=True, dvi=300)\n",
    "# plt.show()\n",
    "\n",
    "\n"
   ]
  },
  {
   "cell_type": "code",
   "execution_count": 7,
   "metadata": {},
   "outputs": [],
   "source": [
    "# CO\n",
    "# Horizon:  1 MAE  9.76 SMAPE:  4.72 R2: 0.94\n",
    "# Horizon:  2 MAE 17.16 SMAPE:  8.30 R2: 0.81\n",
    "# Horizon:  3 MAE 22.07 SMAPE: 10.72 R2: 0.69\n",
    "# Horizon:  4 MAE 26.25 SMAPE: 12.78 R2: 0.58\n",
    "            \n",
    "# NO2\n",
    "# Horizon:  1 MAE  6.87 SMAPE: 10.85 R2: 0.93\n",
    "# Horizon:  2 MAE 12.02 SMAPE: 18.64 R2: 0.80\n",
    "# Horizon:  3 MAE 15.36 SMAPE: 23.88 R2: 0.69\n",
    "# Horizon:  4 MAE 18.06 SMAPE: 28.33 R2: 0.60"
   ]
  },
  {
   "cell_type": "code",
   "execution_count": 35,
   "metadata": {},
   "outputs": [
    {
     "data": {
      "image/png": "[encoded data removed]",
      "text/plain": [
       "<Figure size 1080x144 with 2 Axes>"
      ]
     },
     "metadata": {
      "needs_background": "light"
     },
     "output_type": "display_data"
    }
   ],
   "source": [
    "# R2 of CO\n",
    "CO  = [0.94, 0.81, 0.69, 0.58]\n",
    "NO2 = [0.93, 0.80, 0.69, 0.60]\n",
    "fig, ax = plt.subplots(nrows = 1, ncols = 2, figsize = (15, 2))\n",
    "\n",
    "ax[0].bar( np.arange(1, 5), CO, width=0.4,  color='tab:blue')\n",
    "ax[1].bar( np.arange(1, 5), NO2, width=0.4, color='tab:orange')\n",
    "\n",
    "ax[0].set_ylim([0,1.01])\n",
    "ax[1].set_ylim([0,1.01])\n",
    "\n",
    "# Add some text for labels, title and custom x-axis tick labels, etc.\n",
    "ax[0].set_ylabel('R$^2$', size = 12)\n",
    "ax[0].set_xlabel('Forecasting Horizon', size = 12)\n",
    "ax[0].set_xticks( np.arange(1, 5), )\n",
    "\n",
    "\n",
    "# Add some text for labels, title and custom x-axis tick labels, etc.\n",
    "ax[1].set_ylabel('R$^2$', size = 12)\n",
    "ax[1].set_xlabel('Forecasting Horizon', size = 12)\n",
    "ax[1].set_xticks( np.arange(1, 5), )\n",
    "\n",
    "ax[0].legend(['CO'], frameon = False)\n",
    "ax[1].legend(['NO2'], frameon = False)\n",
    "\n",
    "\n",
    "plt.show();"
   ]
  },
  {
   "cell_type": "code",
   "execution_count": null,
   "metadata": {},
   "outputs": [],
   "source": []
  },
  {
   "cell_type": "code",
   "execution_count": null,
   "metadata": {},
   "outputs": [],
   "source": []
  }
 ],
 "metadata": {
  "kernelspec": {
   "display_name": "Python [conda env:tensorflow]",
   "language": "python",
   "name": "conda-env-tensorflow-py"
  },
  "language_info": {
   "codemirror_mode": {
    "name": "ipython",
    "version": 3
   },
   "file_extension": ".py",
   "mimetype": "text/x-python",
   "name": "python",
   "nbconvert_exporter": "python",
   "pygments_lexer": "ipython3",
   "version": "3.7.12"
  },
  "toc": {
   "base_numbering": 1,
   "nav_menu": {},
   "number_sections": true,
   "sideBar": true,
   "skip_h1_title": false,
   "title_cell": "Table of Contents",
   "title_sidebar": "Contents",
   "toc_cell": false,
   "toc_position": {},
   "toc_section_display": true,
   "toc_window_display": false
  }
 },
 "nbformat": 4,
 "nbformat_minor": 4
}
