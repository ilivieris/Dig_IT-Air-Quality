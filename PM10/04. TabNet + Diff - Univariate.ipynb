{
 "cells": [
  {
   "cell_type": "markdown",
   "metadata": {},
   "source": [
    "# Libraries"
   ]
  },
  {
   "cell_type": "markdown",
   "metadata": {},
   "source": [
    "##  Remove warnings"
   ]
  },
  {
   "cell_type": "code",
   "execution_count": 1,
   "metadata": {},
   "outputs": [],
   "source": [
    "import warnings\n",
    "warnings.filterwarnings(\"ignore\")"
   ]
  },
  {
   "cell_type": "markdown",
   "metadata": {},
   "source": [
    "## Import libraries"
   ]
  },
  {
   "cell_type": "code",
   "execution_count": 2,
   "metadata": {},
   "outputs": [],
   "source": [
    "# =-=-=-=-=-=-=-=-=-=-=-=-=-=-=-=-=-=-=-=-=-=-=-=-=-=-=-=-=-=-=-=-=-=-=-=-=-=\n",
    "# Basic libraries\n",
    "#\n",
    "import random\n",
    "import time\n",
    "import pandas    as pd\n",
    "import numpy     as np\n",
    "from   tqdm      import tqdm\n",
    "\n",
    "\n",
    "# =-=-=-=-=-=-=-=-=-=-=-=-=-=-=-=-=-=-=-=-=-=-=-=-=-=-=-=-=-=-=-=-=-=-=-=-=-=\n",
    "# Visualization library\n",
    "#\n",
    "import matplotlib.pyplot   as plt \n",
    "\n",
    "\n",
    "# =-=-=-=-=-=-=-=-=-=-=-=-=-=-=-=-=-=-=-=-=-=-=-=-=-=-=-=-=-=-=-=-=-=-=-=-=-=\n",
    "# Sklearn library\n",
    "#\n",
    "from sklearn.preprocessing import StandardScaler, MinMaxScaler, RobustScaler\n",
    "\n",
    "\n",
    "\n",
    "# =-=-=-=-=-=-=-=-=-=-=-=-=-=-=-=-=-=-=-=-=-=-=-=-=-=-=-=-=-=-=-=-=-=-=-=-=-=-=-=-=-=-=-=-=-=-=-=-=-=-=-=-=-=-=-=-=-=-=-=-=-=-=-=-=-=-=-=-=-=-=-=-=-=-=-=-=\n",
    "#\n",
    "# TabNet library\n",
    "#\n",
    "from pytorch_tabnet.tab_model import TabNetRegressor\n",
    "\n",
    "\n",
    "# =-=-=-=-=-=-=-=-=-=-=-=-=-=-=-=-=-=-=-=-=-=-=-=-=-=-=-=-=-=-=-=-=-=-=-=-=-=-=-=-=-=-=-=-=-=-=-=-=-=-=-=-=-=-=-=-=-=-=-=-=-=-=-=-=-=-=-=-=-=-=-=-=-=-=-=-=\n",
    "#\n",
    "# User libraries\n",
    "#\n",
    "from utils.PerformanceMetrics import RegressionEvaluation\n",
    "from utils.plot_scatter       import *"
   ]
  },
  {
   "cell_type": "markdown",
   "metadata": {},
   "source": [
    "# Parameters"
   ]
  },
  {
   "cell_type": "markdown",
   "metadata": {},
   "source": [
    "## Data handling parameters"
   ]
  },
  {
   "cell_type": "code",
   "execution_count": 3,
   "metadata": {},
   "outputs": [],
   "source": [
    "# Parameters\n",
    "#\n",
    "filename   = '../metadata/7-kanal-1.csv'\n",
    "\n",
    "Transformation  = True\n",
    "Scaling         = 'Standard'"
   ]
  },
  {
   "cell_type": "markdown",
   "metadata": {},
   "source": [
    "## Neural networks parameters"
   ]
  },
  {
   "cell_type": "code",
   "execution_count": 5,
   "metadata": {},
   "outputs": [],
   "source": [
    "Lag        =   12\n",
    "Horizon    =    4"
   ]
  },
  {
   "cell_type": "markdown",
   "metadata": {},
   "source": [
    "# Data handling"
   ]
  },
  {
   "cell_type": "markdown",
   "metadata": {},
   "source": [
    "## Import data\n"
   ]
  },
  {
   "cell_type": "code",
   "execution_count": 6,
   "metadata": {},
   "outputs": [
    {
     "name": "stdout",
     "output_type": "stream",
     "text": [
      "[INFO] Data imported\n",
      "[INFO] Time: 0.41 seconds\n"
     ]
    },
    {
     "data": {
      "text/html": [
       "<div>\n",
       "<style scoped>\n",
       "    .dataframe tbody tr th:only-of-type {\n",
       "        vertical-align: middle;\n",
       "    }\n",
       "\n",
       "    .dataframe tbody tr th {\n",
       "        vertical-align: top;\n",
       "    }\n",
       "\n",
       "    .dataframe thead th {\n",
       "        text-align: right;\n",
       "    }\n",
       "</style>\n",
       "<table border=\"1\" class=\"dataframe\">\n",
       "  <thead>\n",
       "    <tr style=\"text-align: right;\">\n",
       "      <th></th>\n",
       "      <th>Date</th>\n",
       "      <th>Temperature</th>\n",
       "      <th>Humidity</th>\n",
       "      <th>PM2.5</th>\n",
       "      <th>PM10</th>\n",
       "      <th>NO2</th>\n",
       "      <th>CO</th>\n",
       "    </tr>\n",
       "  </thead>\n",
       "  <tbody>\n",
       "    <tr>\n",
       "      <th>0</th>\n",
       "      <td>2022-02-19 00:00:09</td>\n",
       "      <td>-2.4</td>\n",
       "      <td>86.0</td>\n",
       "      <td>2.7</td>\n",
       "      <td>4.9</td>\n",
       "      <td>212.0</td>\n",
       "      <td>263.0</td>\n",
       "    </tr>\n",
       "    <tr>\n",
       "      <th>1</th>\n",
       "      <td>2022-02-19 00:00:25</td>\n",
       "      <td>-2.4</td>\n",
       "      <td>86.0</td>\n",
       "      <td>2.7</td>\n",
       "      <td>7.6</td>\n",
       "      <td>209.0</td>\n",
       "      <td>261.0</td>\n",
       "    </tr>\n",
       "    <tr>\n",
       "      <th>2</th>\n",
       "      <td>2022-02-19 00:00:41</td>\n",
       "      <td>-2.4</td>\n",
       "      <td>86.0</td>\n",
       "      <td>2.6</td>\n",
       "      <td>7.3</td>\n",
       "      <td>204.0</td>\n",
       "      <td>258.0</td>\n",
       "    </tr>\n",
       "  </tbody>\n",
       "</table>\n",
       "</div>"
      ],
      "text/plain": [
       "                  Date  Temperature  Humidity  PM2.5  PM10    NO2     CO\n",
       "0  2022-02-19 00:00:09         -2.4      86.0    2.7   4.9  212.0  263.0\n",
       "1  2022-02-19 00:00:25         -2.4      86.0    2.7   7.6  209.0  261.0\n",
       "2  2022-02-19 00:00:41         -2.4      86.0    2.6   7.3  204.0  258.0"
      ]
     },
     "execution_count": 6,
     "metadata": {},
     "output_type": "execute_result"
    }
   ],
   "source": [
    "# Start timer\n",
    "#\n",
    "start = time.time()\n",
    "\n",
    "# Load data\n",
    "#\n",
    "df = pd.read_csv( filename )\n",
    "\n",
    "print('[INFO] Data imported')\n",
    "print('[INFO] Time: %.2f seconds' % (time.time() - start))\n",
    "\n",
    "df.head(3)"
   ]
  },
  {
   "cell_type": "markdown",
   "metadata": {},
   "source": [
    "## Preprocess data"
   ]
  },
  {
   "cell_type": "markdown",
   "metadata": {},
   "source": [
    "### Set index"
   ]
  },
  {
   "cell_type": "code",
   "execution_count": 7,
   "metadata": {},
   "outputs": [
    {
     "data": {
      "text/html": [
       "<div>\n",
       "<style scoped>\n",
       "    .dataframe tbody tr th:only-of-type {\n",
       "        vertical-align: middle;\n",
       "    }\n",
       "\n",
       "    .dataframe tbody tr th {\n",
       "        vertical-align: top;\n",
       "    }\n",
       "\n",
       "    .dataframe thead th {\n",
       "        text-align: right;\n",
       "    }\n",
       "</style>\n",
       "<table border=\"1\" class=\"dataframe\">\n",
       "  <thead>\n",
       "    <tr style=\"text-align: right;\">\n",
       "      <th></th>\n",
       "      <th>PM2.5</th>\n",
       "    </tr>\n",
       "    <tr>\n",
       "      <th>Date</th>\n",
       "      <th></th>\n",
       "    </tr>\n",
       "  </thead>\n",
       "  <tbody>\n",
       "    <tr>\n",
       "      <th>2022-02-19 00:00:00</th>\n",
       "      <td>2.457895</td>\n",
       "    </tr>\n",
       "    <tr>\n",
       "      <th>2022-02-19 00:05:00</th>\n",
       "      <td>2.494737</td>\n",
       "    </tr>\n",
       "    <tr>\n",
       "      <th>2022-02-19 00:10:00</th>\n",
       "      <td>2.494737</td>\n",
       "    </tr>\n",
       "  </tbody>\n",
       "</table>\n",
       "</div>"
      ],
      "text/plain": [
       "                        PM2.5\n",
       "Date                         \n",
       "2022-02-19 00:00:00  2.457895\n",
       "2022-02-19 00:05:00  2.494737\n",
       "2022-02-19 00:10:00  2.494737"
      ]
     },
     "execution_count": 7,
     "metadata": {},
     "output_type": "execute_result"
    }
   ],
   "source": [
    "# Convert Date to 'datetime64'\n",
    "#\n",
    "df['Date'] = df['Date'].astype('datetime64')\n",
    "\n",
    "# Set index\n",
    "#\n",
    "df.set_index('Date', inplace=True)\n",
    "\n",
    "\n",
    "df = df.resample('5min').mean().interpolate()\n",
    "df = pd.DataFrame( df['PM2.5'] )\n",
    "df.head(3)"
   ]
  },
  {
   "cell_type": "code",
   "execution_count": 8,
   "metadata": {},
   "outputs": [],
   "source": [
    "targetSeries = df.columns[-1]"
   ]
  },
  {
   "cell_type": "markdown",
   "metadata": {},
   "source": [
    "### Split Training/Testing"
   ]
  },
  {
   "cell_type": "code",
   "execution_count": 9,
   "metadata": {},
   "outputs": [],
   "source": [
    "idx = int( df.shape[0] * 0.8 )\n",
    "\n",
    "df_train = df[ :idx ].dropna()\n",
    "df_test  = df[ idx: ].dropna()"
   ]
  },
  {
   "cell_type": "markdown",
   "metadata": {},
   "source": [
    "### Visualization"
   ]
  },
  {
   "cell_type": "code",
   "execution_count": 10,
   "metadata": {},
   "outputs": [
    {
     "data": {
      "image/png": "[encoded data removed]",
      "text/plain": [
       "<Figure size 1440x216 with 1 Axes>"
      ]
     },
     "metadata": {
      "needs_background": "light"
     },
     "output_type": "display_data"
    }
   ],
   "source": [
    "fig, ax = plt.subplots(nrows = 1, ncols = 1, figsize=(20, 3) )\n",
    "\n",
    "df_train.plot(ax=ax, color='tab:blue' )\n",
    "df_test.plot(ax=ax,  color='tab:orange')\n",
    "\n",
    "plt.legend(['Training', 'Testing'], frameon = False, fontsize = 14)\n",
    "plt.ylabel(targetSeries, size = 14)\n",
    "plt.xlabel('Date', size = 14);\n",
    "plt.xticks(size = 12);\n",
    "plt.yticks(size = 12);"
   ]
  },
  {
   "cell_type": "markdown",
   "metadata": {},
   "source": [
    "### Fixing Lag"
   ]
  },
  {
   "cell_type": "code",
   "execution_count": 11,
   "metadata": {},
   "outputs": [],
   "source": [
    "df_test = pd.concat([df_train.iloc[-Lag:], df_test])"
   ]
  },
  {
   "cell_type": "markdown",
   "metadata": {},
   "source": [
    "## Preprocessing"
   ]
  },
  {
   "cell_type": "markdown",
   "metadata": {},
   "source": [
    "## Data Transformation"
   ]
  },
  {
   "cell_type": "code",
   "execution_count": 12,
   "metadata": {},
   "outputs": [
    {
     "name": "stdout",
     "output_type": "stream",
     "text": [
      "[INFO] Data transformation applied\n"
     ]
    }
   ],
   "source": [
    "if (Transformation == True):\n",
    "    \n",
    "    print('[INFO] Data transformation applied')\n",
    "    \n",
    "    VALUE = np.ceil( max(-df.min().min(), 1.0) )\n",
    "    \n",
    "    df_train = np.log( df_train + VALUE)\n",
    "    df_test  = np.log( df_test  + VALUE)\n",
    "    \n",
    "else:\n",
    "    print('[INFO] No data transformation applied.')  "
   ]
  },
  {
   "cell_type": "code",
   "execution_count": 13,
   "metadata": {},
   "outputs": [
    {
     "name": "stdout",
     "output_type": "stream",
     "text": [
      "[INFO] Scaling: Standard\n"
     ]
    }
   ],
   "source": [
    "if (Scaling == 'MinMax'):\n",
    "    print('[INFO] Scaling: MinMax')\n",
    "    \n",
    "    # Set scaler\n",
    "    #\n",
    "    scaler = MinMaxScaler()\n",
    "\n",
    "    df_train[targetSeries] = scaler.fit_transform( df_train[ targetSeries ].to_numpy().reshape(-1,1) )\n",
    "    df_test[targetSeries]  = scaler.transform( df_test[ targetSeries ].to_numpy().reshape(-1,1) )\n",
    "        \n",
    "elif (Scaling == 'Robust'):\n",
    "    print('[INFO] Scaling: Robust')\n",
    "    \n",
    "    # Set scaler\n",
    "    #\n",
    "    scaler = RobustScaler()\n",
    "     \n",
    "    df_train[targetSeries] = scaler.fit_transform( df_train[ targetSeries ].to_numpy().reshape(-1,1) )\n",
    "    df_test[targetSeries]  = scaler.transform( df_test[ targetSeries ].to_numpy().reshape(-1,1) )\n",
    "        \n",
    "elif (Scaling == 'Standard'):\n",
    "    print('[INFO] Scaling: Standard')\n",
    "    \n",
    "    # Set scaler\n",
    "    #\n",
    "    scaler = StandardScaler()\n",
    "\n",
    "    df_train[targetSeries] = scaler.fit_transform( df_train[ targetSeries ].to_numpy().reshape(-1,1) )\n",
    "    df_test[targetSeries]  = scaler.transform( df_test[ targetSeries ].to_numpy().reshape(-1,1) )\n",
    "           \n",
    "else:\n",
    "    print('[WARNING] Unknown data scaling. Standar scaling was selected')   \n",
    "    \n",
    "    # Set scaler\n",
    "    #\n",
    "    scaler = StandardScaler()\n",
    "\n",
    "    df_train[targetSeries] = scaler.fit_transform( df_train[ targetSeries ].to_numpy().reshape(-1,1) )\n",
    "    df_test[targetSeries]  = scaler.transform( df_test[ targetSeries ].to_numpy().reshape(-1,1) )    "
   ]
  },
  {
   "cell_type": "markdown",
   "metadata": {},
   "source": [
    "## Create Training/Testing data"
   ]
  },
  {
   "cell_type": "code",
   "execution_count": 14,
   "metadata": {
    "scrolled": false
   },
   "outputs": [],
   "source": [
    "def create_dataset(df = None, Lag = 1, Horizon = 12, targetSeries = None, overlap = 1):\n",
    "    \n",
    "    if (targetSeries is None):\n",
    "        targetSeries = df.columns[-1]\n",
    "    \n",
    "    dataX, dataY = [], []\n",
    "    for i in tqdm( range(0, df.shape[0] + 1  - Lag - Horizon, overlap) ):\n",
    "\n",
    "        # Instances: Lag-d differences\n",
    "        Instance  = (df[ targetSeries ][i+Lag-1] - df[ targetSeries ][i:(i+Lag-1)]).to_list()\n",
    "        # Time\n",
    "        Instance.append( df.index[i+Lag-1].hour + df.index[i+Lag-1].minute / 60) \n",
    "        # Current value\n",
    "        Instance.append( df[ targetSeries ].to_numpy()[i+Lag-1] )\n",
    "\n",
    "           \n",
    "        \n",
    "\n",
    "        # Append instance\n",
    "        dataX.append( Instance ) \n",
    "                \n",
    "        # Target Instance\n",
    "        Instance = (df[ targetSeries ][i+Lag-1] - df[ targetSeries ].to_numpy()[i + Lag : i + Lag + Horizon])\n",
    "        # Append instance\n",
    "        dataY.append( Instance )\n",
    "\n",
    "        \n",
    "    return ( np.array(dataX), np.array(dataY) )"
   ]
  },
  {
   "cell_type": "code",
   "execution_count": 15,
   "metadata": {},
   "outputs": [
    {
     "name": "stderr",
     "output_type": "stream",
     "text": [
      "100%|██████████| 4276/4276 [00:01<00:00, 3027.41it/s]\n",
      "100%|██████████| 4277/4277 [00:01<00:00, 3208.32it/s]"
     ]
    },
    {
     "name": "stdout",
     "output_type": "stream",
     "text": [
      "Training instances:     4276\n",
      "Testing instances:      4277\n"
     ]
    },
    {
     "name": "stderr",
     "output_type": "stream",
     "text": [
      "\n"
     ]
    }
   ],
   "source": [
    "trainX, trainY = create_dataset(df           = df_train, \n",
    "                                Lag          = Lag, \n",
    "                                Horizon      = Horizon, \n",
    "                                targetSeries = targetSeries,\n",
    "                                overlap      = Horizon,)\n",
    "\n",
    "testX,  testY  = create_dataset(df           = df_test, \n",
    "                                Lag          = Lag, \n",
    "                                Horizon      = Horizon, \n",
    "                                targetSeries = targetSeries,\n",
    "                                overlap      = 1,)\n",
    "\n",
    "print('Training instances:   %6i' % trainX.shape[0])\n",
    "print('Testing instances:    %6i' % testX.shape[0])"
   ]
  },
  {
   "cell_type": "code",
   "execution_count": 16,
   "metadata": {},
   "outputs": [
    {
     "data": {
      "text/plain": [
       "((4276, 13), (4276, 4))"
      ]
     },
     "execution_count": 16,
     "metadata": {},
     "output_type": "execute_result"
    }
   ],
   "source": [
    "trainX.shape, trainY.shape"
   ]
  },
  {
   "cell_type": "markdown",
   "metadata": {},
   "source": [
    "# Forecasting model: TabNet"
   ]
  },
  {
   "cell_type": "markdown",
   "metadata": {},
   "source": [
    "## Setup model"
   ]
  },
  {
   "cell_type": "code",
   "execution_count": 17,
   "metadata": {},
   "outputs": [
    {
     "name": "stdout",
     "output_type": "stream",
     "text": [
      "Device used : cpu\n"
     ]
    }
   ],
   "source": [
    "model = TabNetRegressor(verbose = 1, \n",
    "                        seed    = 42)"
   ]
  },
  {
   "cell_type": "markdown",
   "metadata": {},
   "source": [
    "## Training process"
   ]
  },
  {
   "cell_type": "code",
   "execution_count": null,
   "metadata": {
    "scrolled": true
   },
   "outputs": [
    {
     "name": "stdout",
     "output_type": "stream",
     "text": [
      "epoch 0  | loss: 0.27964 | val_0_rmse: 0.53887 |  0:00:04s\n",
      "epoch 1  | loss: 0.22108 | val_0_rmse: 0.52835 |  0:00:08s\n",
      "epoch 2  | loss: 0.21606 | val_0_rmse: 0.52726 |  0:00:12s\n",
      "epoch 3  | loss: 0.21426 | val_0_rmse: 0.52217 |  0:00:16s\n",
      "epoch 4  | loss: 0.20923 | val_0_rmse: 0.51664 |  0:00:20s\n",
      "epoch 5  | loss: 0.20902 | val_0_rmse: 0.52192 |  0:00:24s\n",
      "epoch 6  | loss: 0.20915 | val_0_rmse: 0.51456 |  0:00:28s\n",
      "epoch 7  | loss: 0.20643 | val_0_rmse: 0.51808 |  0:00:32s\n",
      "epoch 8  | loss: 0.2073  | val_0_rmse: 0.50829 |  0:00:35s\n",
      "epoch 9  | loss: 0.20849 | val_0_rmse: 0.51169 |  0:00:39s\n",
      "epoch 10 | loss: 0.20604 | val_0_rmse: 0.51075 |  0:00:43s\n",
      "epoch 11 | loss: 0.20272 | val_0_rmse: 0.51295 |  0:00:47s\n",
      "epoch 12 | loss: 0.20436 | val_0_rmse: 0.51863 |  0:00:51s\n",
      "epoch 13 | loss: 0.20539 | val_0_rmse: 0.51536 |  0:00:55s\n",
      "epoch 14 | loss: 0.20774 | val_0_rmse: 0.52148 |  0:00:59s\n",
      "epoch 15 | loss: 0.20807 | val_0_rmse: 0.50654 |  0:01:03s\n",
      "epoch 16 | loss: 0.20552 | val_0_rmse: 0.50745 |  0:01:07s\n",
      "epoch 17 | loss: 0.20438 | val_0_rmse: 0.5074  |  0:01:11s\n",
      "epoch 18 | loss: 0.20355 | val_0_rmse: 0.5061  |  0:01:15s\n",
      "epoch 19 | loss: 0.20328 | val_0_rmse: 0.51095 |  0:01:17s\n",
      "epoch 20 | loss: 0.20231 | val_0_rmse: 0.50879 |  0:01:20s\n",
      "epoch 21 | loss: 0.20198 | val_0_rmse: 0.50822 |  0:01:22s\n",
      "epoch 22 | loss: 0.20089 | val_0_rmse: 0.50984 |  0:01:25s\n",
      "epoch 23 | loss: 0.20126 | val_0_rmse: 0.50466 |  0:01:27s\n",
      "epoch 24 | loss: 0.2025  | val_0_rmse: 0.50488 |  0:01:30s\n",
      "epoch 25 | loss: 0.20134 | val_0_rmse: 0.5076  |  0:01:33s\n",
      "epoch 26 | loss: 0.20123 | val_0_rmse: 0.5179  |  0:01:35s\n",
      "epoch 27 | loss: 0.20348 | val_0_rmse: 0.50879 |  0:01:38s\n",
      "epoch 28 | loss: 0.20446 | val_0_rmse: 0.50349 |  0:01:40s\n",
      "epoch 29 | loss: 0.2028  | val_0_rmse: 0.50981 |  0:01:43s\n",
      "epoch 30 | loss: 0.20459 | val_0_rmse: 0.51128 |  0:01:45s\n",
      "epoch 31 | loss: 0.20136 | val_0_rmse: 0.5084  |  0:01:48s\n",
      "epoch 32 | loss: 0.20547 | val_0_rmse: 0.50621 |  0:01:50s\n",
      "epoch 33 | loss: 0.20457 | val_0_rmse: 0.51809 |  0:01:53s\n",
      "epoch 34 | loss: 0.20388 | val_0_rmse: 0.50305 |  0:01:56s\n",
      "epoch 35 | loss: 0.20156 | val_0_rmse: 0.5027  |  0:01:58s\n",
      "epoch 36 | loss: 0.20161 | val_0_rmse: 0.50283 |  0:02:01s\n",
      "epoch 37 | loss: 0.20074 | val_0_rmse: 0.50835 |  0:02:03s\n",
      "epoch 38 | loss: 0.20041 | val_0_rmse: 0.50592 |  0:02:06s\n",
      "epoch 39 | loss: 0.20148 | val_0_rmse: 0.50987 |  0:02:08s\n",
      "epoch 40 | loss: 0.19978 | val_0_rmse: 0.51004 |  0:02:11s\n",
      "epoch 41 | loss: 0.20125 | val_0_rmse: 0.50881 |  0:02:13s\n",
      "epoch 42 | loss: 0.19961 | val_0_rmse: 0.50919 |  0:02:16s\n",
      "epoch 43 | loss: 0.20067 | val_0_rmse: 0.50915 |  0:02:18s\n",
      "epoch 44 | loss: 0.20358 | val_0_rmse: 0.51416 |  0:02:21s\n",
      "epoch 45 | loss: 0.2014  | val_0_rmse: 0.50461 |  0:02:24s\n",
      "epoch 46 | loss: 0.20201 | val_0_rmse: 0.5071  |  0:02:26s\n",
      "epoch 47 | loss: 0.20043 | val_0_rmse: 0.50731 |  0:02:29s\n",
      "epoch 48 | loss: 0.20286 | val_0_rmse: 0.50961 |  0:02:31s\n",
      "epoch 49 | loss: 0.2031  | val_0_rmse: 0.50255 |  0:02:34s\n",
      "epoch 50 | loss: 0.20604 | val_0_rmse: 0.51326 |  0:02:36s\n",
      "epoch 51 | loss: 0.20228 | val_0_rmse: 0.50911 |  0:02:39s\n",
      "epoch 52 | loss: 0.20057 | val_0_rmse: 0.50471 |  0:02:42s\n",
      "epoch 53 | loss: 0.20258 | val_0_rmse: 0.50522 |  0:02:45s\n",
      "epoch 54 | loss: 0.20113 | val_0_rmse: 0.50608 |  0:02:47s\n",
      "epoch 55 | loss: 0.20138 | val_0_rmse: 0.505   |  0:02:50s\n",
      "epoch 56 | loss: 0.19911 | val_0_rmse: 0.50796 |  0:02:53s\n",
      "epoch 57 | loss: 0.2008  | val_0_rmse: 0.50803 |  0:02:56s\n",
      "epoch 58 | loss: 0.20049 | val_0_rmse: 0.50571 |  0:02:58s\n",
      "epoch 59 | loss: 0.19971 | val_0_rmse: 0.50715 |  0:03:01s\n",
      "epoch 60 | loss: 0.19914 | val_0_rmse: 0.50605 |  0:03:04s\n",
      "epoch 61 | loss: 0.20101 | val_0_rmse: 0.51284 |  0:03:07s\n",
      "epoch 62 | loss: 0.19943 | val_0_rmse: 0.50806 |  0:03:09s\n",
      "epoch 63 | loss: 0.19821 | val_0_rmse: 0.50538 |  0:03:12s\n",
      "epoch 64 | loss: 0.19894 | val_0_rmse: 0.51116 |  0:03:15s\n",
      "epoch 65 | loss: 0.20068 | val_0_rmse: 0.51009 |  0:03:17s\n",
      "epoch 66 | loss: 0.1993  | val_0_rmse: 0.50435 |  0:03:20s\n",
      "epoch 67 | loss: 0.20076 | val_0_rmse: 0.50828 |  0:03:22s\n",
      "epoch 68 | loss: 0.20081 | val_0_rmse: 0.51436 |  0:03:25s\n",
      "epoch 69 | loss: 0.19757 | val_0_rmse: 0.5063  |  0:03:28s\n",
      "epoch 70 | loss: 0.19848 | val_0_rmse: 0.50706 |  0:03:30s\n",
      "epoch 71 | loss: 0.19954 | val_0_rmse: 0.50912 |  0:03:33s\n",
      "epoch 72 | loss: 0.1997  | val_0_rmse: 0.50691 |  0:03:35s\n",
      "epoch 73 | loss: 0.20119 | val_0_rmse: 0.50695 |  0:03:38s\n",
      "epoch 74 | loss: 0.19741 | val_0_rmse: 0.50667 |  0:03:40s\n",
      "epoch 75 | loss: 0.19905 | val_0_rmse: 0.51335 |  0:03:43s\n",
      "epoch 76 | loss: 0.19767 | val_0_rmse: 0.50796 |  0:03:45s\n",
      "epoch 77 | loss: 0.20069 | val_0_rmse: 0.5031  |  0:03:48s\n",
      "epoch 78 | loss: 0.19956 | val_0_rmse: 0.50603 |  0:03:51s\n",
      "epoch 79 | loss: 0.19829 | val_0_rmse: 0.5049  |  0:03:53s\n",
      "epoch 80 | loss: 0.19973 | val_0_rmse: 0.50778 |  0:03:56s\n",
      "epoch 81 | loss: 0.20344 | val_0_rmse: 0.51561 |  0:03:58s\n",
      "epoch 82 | loss: 0.20568 | val_0_rmse: 0.50926 |  0:04:01s\n",
      "epoch 83 | loss: 0.19922 | val_0_rmse: 0.50582 |  0:04:03s\n",
      "epoch 84 | loss: 0.19927 | val_0_rmse: 0.5077  |  0:04:06s\n",
      "epoch 85 | loss: 0.20086 | val_0_rmse: 0.50676 |  0:04:08s\n",
      "epoch 86 | loss: 0.19758 | val_0_rmse: 0.51004 |  0:04:11s\n",
      "epoch 87 | loss: 0.20041 | val_0_rmse: 0.5071  |  0:04:13s\n",
      "epoch 88 | loss: 0.19917 | val_0_rmse: 0.50661 |  0:04:16s\n",
      "epoch 89 | loss: 0.19801 | val_0_rmse: 0.50641 |  0:04:18s\n",
      "epoch 90 | loss: 0.19869 | val_0_rmse: 0.50689 |  0:04:21s\n",
      "epoch 91 | loss: 0.19752 | val_0_rmse: 0.50661 |  0:04:24s\n",
      "epoch 92 | loss: 0.19844 | val_0_rmse: 0.51404 |  0:04:26s\n",
      "epoch 93 | loss: 0.1999  | val_0_rmse: 0.51189 |  0:04:29s\n",
      "epoch 94 | loss: 0.19904 | val_0_rmse: 0.50636 |  0:04:31s\n",
      "epoch 95 | loss: 0.19982 | val_0_rmse: 0.50786 |  0:04:34s\n",
      "epoch 96 | loss: 0.19919 | val_0_rmse: 0.5054  |  0:04:36s\n",
      "epoch 97 | loss: 0.20072 | val_0_rmse: 0.51776 |  0:04:39s\n",
      "epoch 98 | loss: 0.19927 | val_0_rmse: 0.50497 |  0:04:41s\n",
      "epoch 99 | loss: 0.20079 | val_0_rmse: 0.50697 |  0:04:44s\n",
      "epoch 100| loss: 0.19891 | val_0_rmse: 0.51629 |  0:04:46s\n",
      "epoch 101| loss: 0.19926 | val_0_rmse: 0.50736 |  0:04:49s\n",
      "epoch 102| loss: 0.20098 | val_0_rmse: 0.50855 |  0:04:51s\n",
      "epoch 103| loss: 0.19754 | val_0_rmse: 0.50728 |  0:04:54s\n",
      "epoch 104| loss: 0.19899 | val_0_rmse: 0.51145 |  0:04:56s\n",
      "epoch 105| loss: 0.19865 | val_0_rmse: 0.50734 |  0:04:59s\n",
      "epoch 106| loss: 0.19949 | val_0_rmse: 0.50812 |  0:05:01s\n",
      "epoch 107| loss: 0.19694 | val_0_rmse: 0.51041 |  0:05:03s\n",
      "epoch 108| loss: 0.19922 | val_0_rmse: 0.50434 |  0:05:06s\n",
      "epoch 109| loss: 0.19681 | val_0_rmse: 0.50805 |  0:05:08s\n",
      "epoch 110| loss: 0.19983 | val_0_rmse: 0.50767 |  0:05:11s\n",
      "epoch 111| loss: 0.19942 | val_0_rmse: 0.50763 |  0:05:13s\n",
      "epoch 112| loss: 0.1995  | val_0_rmse: 0.50586 |  0:05:15s\n",
      "epoch 113| loss: 0.19844 | val_0_rmse: 0.50732 |  0:05:18s\n",
      "epoch 114| loss: 0.19787 | val_0_rmse: 0.50745 |  0:05:20s\n",
      "epoch 115| loss: 0.1988  | val_0_rmse: 0.50555 |  0:05:23s\n",
      "epoch 116| loss: 0.19847 | val_0_rmse: 0.52855 |  0:05:25s\n",
      "epoch 117| loss: 0.20457 | val_0_rmse: 0.51136 |  0:05:28s\n",
      "epoch 118| loss: 0.20356 | val_0_rmse: 0.51232 |  0:05:30s\n",
      "epoch 119| loss: 0.20349 | val_0_rmse: 0.51021 |  0:05:32s\n",
      "epoch 120| loss: 0.20357 | val_0_rmse: 0.51031 |  0:05:35s\n",
      "epoch 121| loss: 0.20374 | val_0_rmse: 0.51434 |  0:05:37s\n",
      "epoch 122| loss: 0.2023  | val_0_rmse: 0.51006 |  0:05:40s\n",
      "epoch 123| loss: 0.20476 | val_0_rmse: 0.50719 |  0:05:42s\n",
      "epoch 124| loss: 0.20276 | val_0_rmse: 0.50819 |  0:05:45s\n",
      "epoch 125| loss: 0.20373 | val_0_rmse: 0.51053 |  0:05:47s\n",
      "epoch 126| loss: 0.20288 | val_0_rmse: 0.50665 |  0:05:49s\n",
      "epoch 127| loss: 0.20561 | val_0_rmse: 0.51128 |  0:05:52s\n",
      "epoch 128| loss: 0.2017  | val_0_rmse: 0.50622 |  0:05:54s\n",
      "epoch 129| loss: 0.20311 | val_0_rmse: 0.50397 |  0:05:57s\n",
      "epoch 130| loss: 0.20346 | val_0_rmse: 0.50986 |  0:05:59s\n",
      "epoch 131| loss: 0.20286 | val_0_rmse: 0.5109  |  0:06:02s\n",
      "epoch 132| loss: 0.2032  | val_0_rmse: 0.50731 |  0:06:04s\n",
      "epoch 133| loss: 0.20315 | val_0_rmse: 0.51014 |  0:06:06s\n",
      "epoch 134| loss: 0.20329 | val_0_rmse: 0.51102 |  0:06:09s\n",
      "epoch 135| loss: 0.20486 | val_0_rmse: 0.50891 |  0:06:11s\n",
      "epoch 136| loss: 0.20157 | val_0_rmse: 0.50882 |  0:06:14s\n",
      "epoch 137| loss: 0.20208 | val_0_rmse: 0.51522 |  0:06:16s\n",
      "epoch 138| loss: 0.20366 | val_0_rmse: 0.50847 |  0:06:19s\n"
     ]
    },
    {
     "name": "stdout",
     "output_type": "stream",
     "text": [
      "epoch 139| loss: 0.20331 | val_0_rmse: 0.50895 |  0:06:21s\n",
      "epoch 140| loss: 0.20306 | val_0_rmse: 0.50596 |  0:06:24s\n",
      "epoch 141| loss: 0.20321 | val_0_rmse: 0.53268 |  0:06:26s\n",
      "epoch 142| loss: 0.20368 | val_0_rmse: 0.5186  |  0:06:28s\n",
      "epoch 143| loss: 0.20236 | val_0_rmse: 0.51837 |  0:06:31s\n",
      "epoch 144| loss: 0.20296 | val_0_rmse: 0.51356 |  0:06:33s\n",
      "epoch 145| loss: 0.20573 | val_0_rmse: 0.51816 |  0:06:36s\n",
      "epoch 146| loss: 0.20302 | val_0_rmse: 0.50918 |  0:06:38s\n",
      "epoch 147| loss: 0.20051 | val_0_rmse: 0.507   |  0:06:41s\n",
      "epoch 148| loss: 0.202   | val_0_rmse: 0.51186 |  0:06:43s\n",
      "epoch 149| loss: 0.20337 | val_0_rmse: 0.51368 |  0:06:45s\n",
      "epoch 150| loss: 0.20249 | val_0_rmse: 0.50553 |  0:06:48s\n",
      "epoch 151| loss: 0.2018  | val_0_rmse: 0.51014 |  0:06:50s\n",
      "epoch 152| loss: 0.19958 | val_0_rmse: 0.50813 |  0:06:53s\n",
      "epoch 153| loss: 0.20343 | val_0_rmse: 0.50662 |  0:06:55s\n",
      "epoch 154| loss: 0.20112 | val_0_rmse: 0.50578 |  0:06:58s\n",
      "epoch 155| loss: 0.2008  | val_0_rmse: 0.50525 |  0:07:00s\n",
      "epoch 156| loss: 0.20134 | val_0_rmse: 0.50835 |  0:07:03s\n",
      "epoch 157| loss: 0.1994  | val_0_rmse: 0.50578 |  0:07:05s\n",
      "epoch 158| loss: 0.19832 | val_0_rmse: 0.50531 |  0:07:07s\n",
      "epoch 159| loss: 0.20018 | val_0_rmse: 0.50435 |  0:07:10s\n",
      "epoch 160| loss: 0.2021  | val_0_rmse: 0.50746 |  0:07:12s\n",
      "epoch 161| loss: 0.19945 | val_0_rmse: 0.50869 |  0:07:15s\n",
      "epoch 162| loss: 0.19929 | val_0_rmse: 0.503   |  0:07:17s\n",
      "epoch 163| loss: 0.19993 | val_0_rmse: 0.50634 |  0:07:20s\n",
      "epoch 164| loss: 0.1992  | val_0_rmse: 0.5111  |  0:07:22s\n",
      "epoch 165| loss: 0.19902 | val_0_rmse: 0.50954 |  0:07:25s\n",
      "epoch 166| loss: 0.1991  | val_0_rmse: 0.51027 |  0:07:27s\n",
      "epoch 167| loss: 0.19903 | val_0_rmse: 0.50669 |  0:07:29s\n",
      "epoch 168| loss: 0.19879 | val_0_rmse: 0.50732 |  0:07:32s\n",
      "epoch 169| loss: 0.19977 | val_0_rmse: 0.5068  |  0:07:34s\n",
      "epoch 170| loss: 0.19842 | val_0_rmse: 0.50466 |  0:07:37s\n",
      "epoch 171| loss: 0.19801 | val_0_rmse: 0.50362 |  0:07:39s\n",
      "epoch 172| loss: 0.20014 | val_0_rmse: 0.50868 |  0:07:42s\n",
      "epoch 173| loss: 0.20002 | val_0_rmse: 0.50636 |  0:07:44s\n",
      "epoch 174| loss: 0.198   | val_0_rmse: 0.5102  |  0:07:47s\n",
      "epoch 175| loss: 0.19749 | val_0_rmse: 0.50541 |  0:07:49s\n",
      "epoch 176| loss: 0.19883 | val_0_rmse: 0.51307 |  0:07:51s\n",
      "epoch 177| loss: 0.19881 | val_0_rmse: 0.50441 |  0:07:54s\n",
      "epoch 178| loss: 0.1979  | val_0_rmse: 0.50604 |  0:07:56s\n",
      "epoch 179| loss: 0.19762 | val_0_rmse: 0.50622 |  0:07:59s\n",
      "epoch 180| loss: 0.2001  | val_0_rmse: 0.51045 |  0:08:01s\n",
      "epoch 181| loss: 0.19872 | val_0_rmse: 0.50708 |  0:08:04s\n",
      "epoch 182| loss: 0.19958 | val_0_rmse: 0.5069  |  0:08:06s\n",
      "epoch 183| loss: 0.19953 | val_0_rmse: 0.50948 |  0:08:09s\n",
      "epoch 184| loss: 0.19912 | val_0_rmse: 0.50992 |  0:08:11s\n",
      "epoch 185| loss: 0.19697 | val_0_rmse: 0.50885 |  0:08:13s\n",
      "epoch 186| loss: 0.19819 | val_0_rmse: 0.50358 |  0:08:16s\n",
      "epoch 187| loss: 0.19799 | val_0_rmse: 0.50761 |  0:08:18s\n",
      "epoch 188| loss: 0.1984  | val_0_rmse: 0.50514 |  0:08:21s\n",
      "epoch 189| loss: 0.19903 | val_0_rmse: 0.5122  |  0:08:23s\n",
      "epoch 190| loss: 0.19764 | val_0_rmse: 0.50792 |  0:08:26s\n",
      "epoch 191| loss: 0.19719 | val_0_rmse: 0.50646 |  0:08:28s\n",
      "epoch 192| loss: 0.19695 | val_0_rmse: 0.50367 |  0:08:31s\n",
      "epoch 193| loss: 0.19935 | val_0_rmse: 0.50535 |  0:08:33s\n",
      "epoch 194| loss: 0.20072 | val_0_rmse: 0.50548 |  0:08:36s\n",
      "epoch 195| loss: 0.19718 | val_0_rmse: 0.50521 |  0:08:38s\n",
      "epoch 196| loss: 0.19827 | val_0_rmse: 0.50634 |  0:08:40s\n",
      "epoch 197| loss: 0.19879 | val_0_rmse: 0.50755 |  0:08:43s\n",
      "epoch 198| loss: 0.19964 | val_0_rmse: 0.51021 |  0:08:45s\n",
      "epoch 199| loss: 0.19838 | val_0_rmse: 0.50236 |  0:08:48s\n",
      "epoch 200| loss: 0.19894 | val_0_rmse: 0.51131 |  0:08:50s\n",
      "epoch 201| loss: 0.19766 | val_0_rmse: 0.51064 |  0:08:53s\n",
      "epoch 202| loss: 0.19795 | val_0_rmse: 0.51229 |  0:08:55s\n",
      "epoch 203| loss: 0.19881 | val_0_rmse: 0.50761 |  0:08:58s\n",
      "epoch 204| loss: 0.19851 | val_0_rmse: 0.51338 |  0:09:00s\n",
      "epoch 205| loss: 0.19939 | val_0_rmse: 0.50452 |  0:09:02s\n",
      "epoch 206| loss: 0.19746 | val_0_rmse: 0.51467 |  0:09:05s\n",
      "epoch 207| loss: 0.19998 | val_0_rmse: 0.50832 |  0:09:07s\n",
      "epoch 208| loss: 0.19823 | val_0_rmse: 0.50685 |  0:09:10s\n",
      "epoch 209| loss: 0.19804 | val_0_rmse: 0.50679 |  0:09:12s\n",
      "epoch 210| loss: 0.20009 | val_0_rmse: 0.50671 |  0:09:15s\n",
      "epoch 211| loss: 0.20101 | val_0_rmse: 0.50912 |  0:09:17s\n",
      "epoch 212| loss: 0.19921 | val_0_rmse: 0.50475 |  0:09:20s\n",
      "epoch 213| loss: 0.19685 | val_0_rmse: 0.50776 |  0:09:22s\n",
      "epoch 214| loss: 0.19769 | val_0_rmse: 0.50438 |  0:09:24s\n",
      "epoch 215| loss: 0.19718 | val_0_rmse: 0.51114 |  0:09:27s\n",
      "epoch 216| loss: 0.1983  | val_0_rmse: 0.50653 |  0:09:29s\n",
      "epoch 217| loss: 0.20168 | val_0_rmse: 0.50623 |  0:09:32s\n",
      "epoch 218| loss: 0.19727 | val_0_rmse: 0.5071  |  0:09:34s\n",
      "epoch 219| loss: 0.19889 | val_0_rmse: 0.50932 |  0:09:37s\n",
      "epoch 220| loss: 0.19702 | val_0_rmse: 0.50355 |  0:09:39s\n",
      "epoch 221| loss: 0.19789 | val_0_rmse: 0.50979 |  0:09:42s\n",
      "epoch 222| loss: 0.19913 | val_0_rmse: 0.50606 |  0:09:44s\n",
      "epoch 223| loss: 0.19871 | val_0_rmse: 0.50937 |  0:09:47s\n",
      "epoch 224| loss: 0.19826 | val_0_rmse: 0.50666 |  0:09:49s\n",
      "epoch 225| loss: 0.19797 | val_0_rmse: 0.50462 |  0:09:52s\n",
      "epoch 226| loss: 0.19658 | val_0_rmse: 0.50381 |  0:09:54s\n",
      "epoch 227| loss: 0.20097 | val_0_rmse: 0.50519 |  0:09:56s\n",
      "epoch 228| loss: 0.19856 | val_0_rmse: 0.50446 |  0:09:59s\n",
      "epoch 229| loss: 0.1999  | val_0_rmse: 0.50824 |  0:10:01s\n",
      "epoch 230| loss: 0.19908 | val_0_rmse: 0.50201 |  0:10:04s\n",
      "epoch 231| loss: 0.19903 | val_0_rmse: 0.50734 |  0:10:06s\n",
      "epoch 232| loss: 0.19921 | val_0_rmse: 0.50823 |  0:10:09s\n",
      "epoch 233| loss: 0.19855 | val_0_rmse: 0.50469 |  0:10:11s\n",
      "epoch 234| loss: 0.20185 | val_0_rmse: 0.51006 |  0:10:14s\n",
      "epoch 235| loss: 0.19988 | val_0_rmse: 0.50785 |  0:10:16s\n",
      "epoch 236| loss: 0.19978 | val_0_rmse: 0.5098  |  0:10:18s\n",
      "epoch 237| loss: 0.19766 | val_0_rmse: 0.50273 |  0:10:21s\n",
      "epoch 238| loss: 0.19939 | val_0_rmse: 0.50599 |  0:10:23s\n",
      "epoch 239| loss: 0.19856 | val_0_rmse: 0.50543 |  0:10:26s\n",
      "epoch 240| loss: 0.19954 | val_0_rmse: 0.51086 |  0:10:28s\n",
      "epoch 241| loss: 0.19912 | val_0_rmse: 0.50709 |  0:10:31s\n",
      "epoch 242| loss: 0.19906 | val_0_rmse: 0.50471 |  0:10:33s\n",
      "epoch 243| loss: 0.19804 | val_0_rmse: 0.51037 |  0:10:36s\n",
      "epoch 244| loss: 0.19888 | val_0_rmse: 0.50474 |  0:10:38s\n",
      "epoch 245| loss: 0.198   | val_0_rmse: 0.50617 |  0:10:40s\n",
      "epoch 246| loss: 0.19918 | val_0_rmse: 0.5097  |  0:10:43s\n",
      "epoch 247| loss: 0.19922 | val_0_rmse: 0.50768 |  0:10:45s\n",
      "epoch 248| loss: 0.19982 | val_0_rmse: 0.50817 |  0:10:48s\n",
      "epoch 249| loss: 0.19804 | val_0_rmse: 0.50548 |  0:10:50s\n",
      "epoch 250| loss: 0.1984  | val_0_rmse: 0.50509 |  0:10:53s\n",
      "epoch 251| loss: 0.19767 | val_0_rmse: 0.50544 |  0:10:55s\n",
      "epoch 252| loss: 0.19835 | val_0_rmse: 0.5051  |  0:10:58s\n",
      "epoch 253| loss: 0.19756 | val_0_rmse: 0.50701 |  0:11:00s\n",
      "epoch 254| loss: 0.19782 | val_0_rmse: 0.50747 |  0:11:02s\n",
      "epoch 255| loss: 0.19794 | val_0_rmse: 0.50542 |  0:11:05s\n",
      "epoch 256| loss: 0.19786 | val_0_rmse: 0.5038  |  0:11:07s\n",
      "epoch 257| loss: 0.19911 | val_0_rmse: 0.50785 |  0:11:10s\n",
      "epoch 258| loss: 0.19897 | val_0_rmse: 0.50579 |  0:11:12s\n",
      "epoch 259| loss: 0.1973  | val_0_rmse: 0.50486 |  0:11:15s\n",
      "epoch 260| loss: 0.19925 | val_0_rmse: 0.50622 |  0:11:17s\n",
      "epoch 261| loss: 0.19873 | val_0_rmse: 0.50271 |  0:11:20s\n",
      "epoch 262| loss: 0.19748 | val_0_rmse: 0.50969 |  0:11:22s\n",
      "epoch 263| loss: 0.19781 | val_0_rmse: 0.50489 |  0:11:25s\n",
      "epoch 264| loss: 0.19974 | val_0_rmse: 0.50181 |  0:11:27s\n",
      "epoch 265| loss: 0.19873 | val_0_rmse: 0.5088  |  0:11:29s\n",
      "epoch 266| loss: 0.19796 | val_0_rmse: 0.50697 |  0:11:32s\n",
      "epoch 267| loss: 0.19779 | val_0_rmse: 0.50309 |  0:11:34s\n",
      "epoch 268| loss: 0.19781 | val_0_rmse: 0.50174 |  0:11:37s\n",
      "epoch 269| loss: 0.19716 | val_0_rmse: 0.50768 |  0:11:39s\n",
      "epoch 270| loss: 0.19795 | val_0_rmse: 0.50489 |  0:11:42s\n",
      "epoch 271| loss: 0.20053 | val_0_rmse: 0.51252 |  0:11:44s\n",
      "epoch 272| loss: 0.19694 | val_0_rmse: 0.50775 |  0:11:47s\n",
      "epoch 273| loss: 0.19852 | val_0_rmse: 0.50736 |  0:11:49s\n",
      "epoch 274| loss: 0.19878 | val_0_rmse: 0.50953 |  0:11:51s\n",
      "epoch 275| loss: 0.19784 | val_0_rmse: 0.50389 |  0:11:54s\n",
      "epoch 276| loss: 0.19797 | val_0_rmse: 0.50714 |  0:11:56s\n",
      "epoch 277| loss: 0.19579 | val_0_rmse: 0.50636 |  0:11:59s\n"
     ]
    },
    {
     "name": "stdout",
     "output_type": "stream",
     "text": [
      "epoch 278| loss: 0.19685 | val_0_rmse: 0.50691 |  0:12:01s\n",
      "epoch 279| loss: 0.19656 | val_0_rmse: 0.50772 |  0:12:04s\n",
      "epoch 280| loss: 0.19829 | val_0_rmse: 0.51051 |  0:12:06s\n",
      "epoch 281| loss: 0.19941 | val_0_rmse: 0.50431 |  0:12:09s\n",
      "epoch 282| loss: 0.19665 | val_0_rmse: 0.50451 |  0:12:11s\n",
      "epoch 283| loss: 0.19693 | val_0_rmse: 0.50658 |  0:12:14s\n",
      "epoch 284| loss: 0.19848 | val_0_rmse: 0.50244 |  0:12:16s\n",
      "epoch 285| loss: 0.19816 | val_0_rmse: 0.50555 |  0:12:18s\n",
      "epoch 286| loss: 0.19819 | val_0_rmse: 0.50731 |  0:12:21s\n",
      "epoch 287| loss: 0.19823 | val_0_rmse: 0.50438 |  0:12:23s\n",
      "epoch 288| loss: 0.20072 | val_0_rmse: 0.51112 |  0:12:26s\n",
      "epoch 289| loss: 0.20282 | val_0_rmse: 0.5185  |  0:12:28s\n",
      "epoch 290| loss: 0.20163 | val_0_rmse: 0.51887 |  0:12:31s\n",
      "epoch 291| loss: 0.20218 | val_0_rmse: 0.51202 |  0:12:33s\n",
      "epoch 292| loss: 0.19931 | val_0_rmse: 0.5116  |  0:12:36s\n",
      "epoch 293| loss: 0.20234 | val_0_rmse: 0.51115 |  0:12:38s\n",
      "epoch 294| loss: 0.19843 | val_0_rmse: 0.59799 |  0:12:40s\n",
      "epoch 295| loss: 0.19926 | val_0_rmse: 0.53138 |  0:12:43s\n",
      "epoch 296| loss: 0.19658 | val_0_rmse: 0.52596 |  0:12:45s\n",
      "epoch 297| loss: 0.1974  | val_0_rmse: 0.51393 |  0:12:48s\n",
      "epoch 298| loss: 0.19805 | val_0_rmse: 0.50978 |  0:12:50s\n",
      "epoch 299| loss: 0.19765 | val_0_rmse: 0.50694 |  0:12:53s\n",
      "epoch 300| loss: 0.19852 | val_0_rmse: 0.50983 |  0:12:55s\n",
      "epoch 301| loss: 0.19827 | val_0_rmse: 0.50759 |  0:12:58s\n",
      "epoch 302| loss: 0.20004 | val_0_rmse: 0.50641 |  0:13:00s\n",
      "epoch 303| loss: 0.19838 | val_0_rmse: 0.50547 |  0:13:03s\n",
      "epoch 304| loss: 0.19709 | val_0_rmse: 0.50326 |  0:13:06s\n",
      "epoch 305| loss: 0.1974  | val_0_rmse: 0.50789 |  0:13:09s\n",
      "epoch 306| loss: 0.19716 | val_0_rmse: 0.50892 |  0:13:11s\n",
      "epoch 307| loss: 0.19632 | val_0_rmse: 0.51804 |  0:13:14s\n",
      "epoch 308| loss: 0.19648 | val_0_rmse: 0.5101  |  0:13:16s\n",
      "epoch 309| loss: 0.20061 | val_0_rmse: 0.50688 |  0:13:19s\n",
      "epoch 310| loss: 0.19788 | val_0_rmse: 0.51426 |  0:13:21s\n",
      "epoch 311| loss: 0.1998  | val_0_rmse: 0.50614 |  0:13:24s\n",
      "epoch 312| loss: 0.20186 | val_0_rmse: 0.50972 |  0:13:26s\n",
      "epoch 313| loss: 0.19999 | val_0_rmse: 0.50642 |  0:13:29s\n",
      "epoch 314| loss: 0.20135 | val_0_rmse: 0.52189 |  0:13:31s\n",
      "epoch 315| loss: 0.20012 | val_0_rmse: 0.50778 |  0:13:34s\n",
      "epoch 316| loss: 0.19941 | val_0_rmse: 0.5075  |  0:13:36s\n",
      "epoch 317| loss: 0.19702 | val_0_rmse: 0.50501 |  0:13:38s\n",
      "epoch 318| loss: 0.19803 | val_0_rmse: 0.50886 |  0:13:41s\n",
      "epoch 319| loss: 0.19714 | val_0_rmse: 0.50635 |  0:13:43s\n",
      "epoch 320| loss: 0.19709 | val_0_rmse: 0.50658 |  0:13:46s\n",
      "epoch 321| loss: 0.19659 | val_0_rmse: 0.50758 |  0:13:48s\n",
      "epoch 322| loss: 0.19788 | val_0_rmse: 0.50492 |  0:13:51s\n",
      "epoch 323| loss: 0.19698 | val_0_rmse: 0.50559 |  0:13:53s\n",
      "epoch 324| loss: 0.19883 | val_0_rmse: 0.50704 |  0:13:56s\n",
      "epoch 325| loss: 0.19759 | val_0_rmse: 0.50405 |  0:13:58s\n",
      "epoch 326| loss: 0.19942 | val_0_rmse: 0.50536 |  0:14:00s\n",
      "epoch 327| loss: 0.1985  | val_0_rmse: 0.5084  |  0:14:03s\n",
      "epoch 328| loss: 0.19753 | val_0_rmse: 0.50209 |  0:14:05s\n",
      "epoch 329| loss: 0.19709 | val_0_rmse: 0.50565 |  0:14:08s\n",
      "epoch 330| loss: 0.19916 | val_0_rmse: 0.50599 |  0:14:10s\n",
      "epoch 331| loss: 0.19648 | val_0_rmse: 0.5072  |  0:14:13s\n",
      "epoch 332| loss: 0.19858 | val_0_rmse: 0.50544 |  0:14:15s\n",
      "epoch 333| loss: 0.19726 | val_0_rmse: 0.50184 |  0:14:18s\n",
      "epoch 334| loss: 0.19807 | val_0_rmse: 0.50306 |  0:14:20s\n",
      "epoch 335| loss: 0.19734 | val_0_rmse: 0.50328 |  0:14:23s\n",
      "epoch 336| loss: 0.19856 | val_0_rmse: 0.50806 |  0:14:25s\n",
      "epoch 337| loss: 0.19895 | val_0_rmse: 0.50543 |  0:14:27s\n",
      "epoch 338| loss: 0.1986  | val_0_rmse: 0.50397 |  0:14:30s\n",
      "epoch 339| loss: 0.19713 | val_0_rmse: 0.50389 |  0:14:32s\n",
      "epoch 340| loss: 0.19875 | val_0_rmse: 0.50856 |  0:14:35s\n",
      "epoch 341| loss: 0.19784 | val_0_rmse: 0.50848 |  0:14:37s\n",
      "epoch 342| loss: 0.19885 | val_0_rmse: 0.51281 |  0:14:40s\n",
      "epoch 343| loss: 0.19924 | val_0_rmse: 0.50514 |  0:14:42s\n",
      "epoch 344| loss: 0.19802 | val_0_rmse: 0.51022 |  0:14:45s\n",
      "epoch 345| loss: 0.19849 | val_0_rmse: 0.50648 |  0:14:47s\n",
      "epoch 346| loss: 0.2014  | val_0_rmse: 0.50476 |  0:14:49s\n",
      "epoch 347| loss: 0.20073 | val_0_rmse: 0.50916 |  0:14:52s\n",
      "epoch 348| loss: 0.19834 | val_0_rmse: 0.5055  |  0:14:54s\n",
      "epoch 349| loss: 0.19881 | val_0_rmse: 0.50353 |  0:14:57s\n",
      "epoch 350| loss: 0.19958 | val_0_rmse: 0.50665 |  0:14:59s\n",
      "epoch 351| loss: 0.19776 | val_0_rmse: 0.50658 |  0:15:02s\n",
      "epoch 352| loss: 0.19815 | val_0_rmse: 0.50997 |  0:15:04s\n",
      "epoch 353| loss: 0.19673 | val_0_rmse: 0.50728 |  0:15:07s\n",
      "epoch 354| loss: 0.19773 | val_0_rmse: 0.50971 |  0:15:09s\n",
      "epoch 355| loss: 0.19834 | val_0_rmse: 0.5069  |  0:15:12s\n",
      "epoch 356| loss: 0.19625 | val_0_rmse: 0.50897 |  0:15:14s\n",
      "epoch 357| loss: 0.1975  | val_0_rmse: 0.50895 |  0:15:17s\n",
      "epoch 358| loss: 0.19959 | val_0_rmse: 0.5055  |  0:15:19s\n",
      "epoch 359| loss: 0.19734 | val_0_rmse: 0.50825 |  0:15:21s\n",
      "epoch 360| loss: 0.19774 | val_0_rmse: 0.50599 |  0:15:24s\n",
      "epoch 361| loss: 0.19816 | val_0_rmse: 0.50777 |  0:15:26s\n",
      "epoch 362| loss: 0.19695 | val_0_rmse: 0.50513 |  0:15:29s\n",
      "epoch 363| loss: 0.19673 | val_0_rmse: 0.50827 |  0:15:31s\n",
      "epoch 364| loss: 0.19779 | val_0_rmse: 0.50655 |  0:15:34s\n",
      "epoch 365| loss: 0.19777 | val_0_rmse: 0.51044 |  0:15:36s\n",
      "epoch 366| loss: 0.19692 | val_0_rmse: 0.50418 |  0:15:39s\n",
      "epoch 367| loss: 0.19756 | val_0_rmse: 0.50753 |  0:15:41s\n",
      "epoch 368| loss: 0.1998  | val_0_rmse: 0.50387 |  0:15:44s\n",
      "epoch 369| loss: 0.19765 | val_0_rmse: 0.50525 |  0:15:46s\n",
      "epoch 370| loss: 0.19652 | val_0_rmse: 0.50999 |  0:15:48s\n",
      "epoch 371| loss: 0.19793 | val_0_rmse: 0.50744 |  0:15:51s\n",
      "epoch 372| loss: 0.19813 | val_0_rmse: 0.5074  |  0:15:53s\n",
      "epoch 373| loss: 0.19884 | val_0_rmse: 0.50745 |  0:15:56s\n",
      "epoch 374| loss: 0.1974  | val_0_rmse: 0.50723 |  0:15:58s\n",
      "epoch 375| loss: 0.19911 | val_0_rmse: 0.50554 |  0:16:01s\n",
      "epoch 376| loss: 0.19895 | val_0_rmse: 0.5125  |  0:16:03s\n",
      "epoch 377| loss: 0.19865 | val_0_rmse: 0.50746 |  0:16:06s\n",
      "epoch 378| loss: 0.19776 | val_0_rmse: 0.50745 |  0:16:08s\n",
      "epoch 379| loss: 0.1988  | val_0_rmse: 0.50601 |  0:16:10s\n",
      "epoch 380| loss: 0.19595 | val_0_rmse: 0.5095  |  0:16:13s\n",
      "epoch 381| loss: 0.19739 | val_0_rmse: 0.50457 |  0:16:15s\n",
      "epoch 382| loss: 0.19767 | val_0_rmse: 0.5079  |  0:16:18s\n",
      "epoch 383| loss: 0.19666 | val_0_rmse: 0.51433 |  0:16:20s\n",
      "epoch 384| loss: 0.19904 | val_0_rmse: 0.50787 |  0:16:23s\n",
      "epoch 385| loss: 0.19921 | val_0_rmse: 0.50719 |  0:16:25s\n",
      "epoch 386| loss: 0.19709 | val_0_rmse: 0.5056  |  0:16:28s\n",
      "epoch 387| loss: 0.19676 | val_0_rmse: 0.50765 |  0:16:30s\n",
      "epoch 388| loss: 0.19723 | val_0_rmse: 0.50415 |  0:16:33s\n",
      "epoch 389| loss: 0.1963  | val_0_rmse: 0.5044  |  0:16:35s\n",
      "epoch 390| loss: 0.19915 | val_0_rmse: 0.50693 |  0:16:37s\n",
      "epoch 391| loss: 0.19555 | val_0_rmse: 0.5121  |  0:16:40s\n",
      "epoch 392| loss: 0.19784 | val_0_rmse: 0.50343 |  0:16:42s\n",
      "epoch 393| loss: 0.1975  | val_0_rmse: 0.50851 |  0:16:45s\n",
      "epoch 394| loss: 0.19684 | val_0_rmse: 0.50706 |  0:16:47s\n",
      "epoch 395| loss: 0.19944 | val_0_rmse: 0.50634 |  0:16:50s\n",
      "epoch 396| loss: 0.19848 | val_0_rmse: 0.50507 |  0:16:52s\n",
      "epoch 397| loss: 0.19743 | val_0_rmse: 0.50709 |  0:16:55s\n",
      "epoch 398| loss: 0.19767 | val_0_rmse: 0.50493 |  0:16:57s\n",
      "epoch 399| loss: 0.19621 | val_0_rmse: 0.50199 |  0:17:00s\n",
      "epoch 400| loss: 0.19748 | val_0_rmse: 0.50942 |  0:17:02s\n",
      "epoch 401| loss: 0.1968  | val_0_rmse: 0.50939 |  0:17:04s\n",
      "epoch 402| loss: 0.19746 | val_0_rmse: 0.50656 |  0:17:07s\n",
      "epoch 403| loss: 0.19781 | val_0_rmse: 0.51133 |  0:17:09s\n",
      "epoch 404| loss: 0.19789 | val_0_rmse: 0.50165 |  0:17:12s\n",
      "epoch 405| loss: 0.19721 | val_0_rmse: 0.50711 |  0:17:14s\n",
      "epoch 406| loss: 0.1972  | val_0_rmse: 0.50659 |  0:17:17s\n",
      "epoch 407| loss: 0.19636 | val_0_rmse: 0.50665 |  0:17:19s\n",
      "epoch 408| loss: 0.19789 | val_0_rmse: 0.50682 |  0:17:22s\n",
      "epoch 409| loss: 0.20058 | val_0_rmse: 0.50582 |  0:17:24s\n",
      "epoch 410| loss: 0.1983  | val_0_rmse: 0.50696 |  0:17:26s\n",
      "epoch 411| loss: 0.19826 | val_0_rmse: 0.50886 |  0:17:29s\n",
      "epoch 412| loss: 0.19789 | val_0_rmse: 0.50612 |  0:17:31s\n",
      "epoch 413| loss: 0.19691 | val_0_rmse: 0.50577 |  0:17:34s\n",
      "epoch 414| loss: 0.19684 | val_0_rmse: 0.50598 |  0:17:36s\n",
      "epoch 415| loss: 0.19931 | val_0_rmse: 0.50708 |  0:17:39s\n",
      "epoch 416| loss: 0.19749 | val_0_rmse: 0.50502 |  0:17:41s\n"
     ]
    },
    {
     "name": "stdout",
     "output_type": "stream",
     "text": [
      "epoch 417| loss: 0.19844 | val_0_rmse: 0.50755 |  0:17:44s\n",
      "epoch 418| loss: 0.19595 | val_0_rmse: 0.5031  |  0:17:46s\n",
      "epoch 419| loss: 0.19747 | val_0_rmse: 0.50468 |  0:17:48s\n",
      "epoch 420| loss: 0.19789 | val_0_rmse: 0.50575 |  0:17:51s\n",
      "epoch 421| loss: 0.19761 | val_0_rmse: 0.51413 |  0:17:53s\n",
      "epoch 422| loss: 0.1987  | val_0_rmse: 0.50327 |  0:17:56s\n",
      "epoch 423| loss: 0.19643 | val_0_rmse: 0.50694 |  0:17:58s\n",
      "epoch 424| loss: 0.19746 | val_0_rmse: 0.50565 |  0:18:01s\n",
      "epoch 425| loss: 0.19854 | val_0_rmse: 0.50643 |  0:18:03s\n",
      "epoch 426| loss: 0.1982  | val_0_rmse: 0.50684 |  0:18:06s\n",
      "epoch 427| loss: 0.19924 | val_0_rmse: 0.51341 |  0:18:08s\n",
      "epoch 428| loss: 0.19894 | val_0_rmse: 0.50695 |  0:18:11s\n",
      "epoch 429| loss: 0.19854 | val_0_rmse: 0.50321 |  0:18:13s\n",
      "epoch 430| loss: 0.19781 | val_0_rmse: 0.50895 |  0:18:15s\n",
      "epoch 431| loss: 0.19764 | val_0_rmse: 0.5079  |  0:18:18s\n",
      "epoch 432| loss: 0.19702 | val_0_rmse: 0.50584 |  0:18:20s\n",
      "epoch 433| loss: 0.19741 | val_0_rmse: 0.50692 |  0:18:23s\n",
      "epoch 434| loss: 0.19831 | val_0_rmse: 0.50601 |  0:18:25s\n",
      "epoch 435| loss: 0.19878 | val_0_rmse: 0.50732 |  0:18:28s\n",
      "epoch 436| loss: 0.19875 | val_0_rmse: 0.50626 |  0:18:30s\n",
      "epoch 437| loss: 0.19839 | val_0_rmse: 0.50629 |  0:18:33s\n",
      "epoch 438| loss: 0.1971  | val_0_rmse: 0.50525 |  0:18:35s\n",
      "epoch 439| loss: 0.19867 | val_0_rmse: 0.50643 |  0:18:37s\n",
      "epoch 440| loss: 0.19851 | val_0_rmse: 0.51217 |  0:18:40s\n",
      "epoch 441| loss: 0.1983  | val_0_rmse: 0.50675 |  0:18:42s\n",
      "epoch 442| loss: 0.19911 | val_0_rmse: 0.50445 |  0:18:45s\n",
      "epoch 443| loss: 0.19691 | val_0_rmse: 0.50748 |  0:18:47s\n",
      "epoch 444| loss: 0.19705 | val_0_rmse: 0.50734 |  0:18:50s\n",
      "epoch 445| loss: 0.19745 | val_0_rmse: 0.50215 |  0:18:52s\n",
      "epoch 446| loss: 0.1963  | val_0_rmse: 0.51098 |  0:18:55s\n",
      "epoch 447| loss: 0.19776 | val_0_rmse: 0.50789 |  0:18:57s\n",
      "epoch 448| loss: 0.1983  | val_0_rmse: 0.50963 |  0:19:00s\n",
      "epoch 449| loss: 0.19647 | val_0_rmse: 0.51061 |  0:19:02s\n",
      "epoch 450| loss: 0.19826 | val_0_rmse: 0.50497 |  0:19:04s\n",
      "epoch 451| loss: 0.19692 | val_0_rmse: 0.50418 |  0:19:07s\n",
      "epoch 452| loss: 0.19872 | val_0_rmse: 0.51296 |  0:19:09s\n",
      "epoch 453| loss: 0.19779 | val_0_rmse: 0.50363 |  0:19:12s\n",
      "epoch 454| loss: 0.19794 | val_0_rmse: 0.52712 |  0:19:14s\n",
      "epoch 455| loss: 0.19731 | val_0_rmse: 0.51266 |  0:19:17s\n",
      "epoch 456| loss: 0.1997  | val_0_rmse: 0.54045 |  0:19:19s\n",
      "epoch 457| loss: 0.19971 | val_0_rmse: 0.51683 |  0:19:22s\n",
      "epoch 458| loss: 0.19789 | val_0_rmse: 0.52733 |  0:19:25s\n",
      "epoch 459| loss: 0.19776 | val_0_rmse: 0.53305 |  0:19:27s\n",
      "epoch 460| loss: 0.19732 | val_0_rmse: 0.5343  |  0:19:30s\n",
      "epoch 461| loss: 0.19806 | val_0_rmse: 0.52181 |  0:19:33s\n",
      "epoch 462| loss: 0.19828 | val_0_rmse: 0.51852 |  0:19:36s\n",
      "epoch 463| loss: 0.19733 | val_0_rmse: 0.53759 |  0:19:38s\n",
      "epoch 464| loss: 0.19826 | val_0_rmse: 0.71539 |  0:19:41s\n",
      "epoch 465| loss: 0.19711 | val_0_rmse: 0.51299 |  0:19:44s\n",
      "epoch 466| loss: 0.19731 | val_0_rmse: 0.51963 |  0:19:46s\n",
      "epoch 467| loss: 0.19888 | val_0_rmse: 0.57002 |  0:19:49s\n",
      "epoch 468| loss: 0.19658 | val_0_rmse: 0.6461  |  0:19:51s\n",
      "epoch 469| loss: 0.19644 | val_0_rmse: 0.50849 |  0:19:54s\n",
      "epoch 470| loss: 0.19758 | val_0_rmse: 0.60868 |  0:19:57s\n",
      "epoch 471| loss: 0.19836 | val_0_rmse: 0.60041 |  0:19:59s\n",
      "epoch 472| loss: 0.19729 | val_0_rmse: 0.61074 |  0:20:02s\n",
      "epoch 473| loss: 0.19675 | val_0_rmse: 0.57774 |  0:20:05s\n",
      "epoch 474| loss: 0.1986  | val_0_rmse: 0.5568  |  0:20:08s\n",
      "epoch 475| loss: 0.19934 | val_0_rmse: 0.55447 |  0:20:11s\n",
      "epoch 476| loss: 0.19753 | val_0_rmse: 0.5452  |  0:20:13s\n",
      "epoch 477| loss: 0.19849 | val_0_rmse: 0.54109 |  0:20:16s\n",
      "epoch 478| loss: 0.19822 | val_0_rmse: 0.54926 |  0:20:18s\n",
      "epoch 479| loss: 0.19828 | val_0_rmse: 0.59322 |  0:20:21s\n",
      "epoch 480| loss: 0.20004 | val_0_rmse: 0.55233 |  0:20:23s\n",
      "epoch 481| loss: 0.1981  | val_0_rmse: 0.56756 |  0:20:26s\n",
      "epoch 482| loss: 0.19704 | val_0_rmse: 0.55126 |  0:20:28s\n",
      "epoch 483| loss: 0.19776 | val_0_rmse: 0.51152 |  0:20:31s\n",
      "epoch 484| loss: 0.19783 | val_0_rmse: 0.56295 |  0:20:33s\n",
      "epoch 485| loss: 0.19582 | val_0_rmse: 0.61149 |  0:20:35s\n",
      "epoch 486| loss: 0.19821 | val_0_rmse: 0.55952 |  0:20:38s\n",
      "epoch 487| loss: 0.19682 | val_0_rmse: 0.57295 |  0:20:41s\n",
      "epoch 488| loss: 0.1972  | val_0_rmse: 0.58678 |  0:20:43s\n",
      "epoch 489| loss: 0.19794 | val_0_rmse: 0.58292 |  0:20:46s\n",
      "epoch 490| loss: 0.19559 | val_0_rmse: 0.58128 |  0:20:48s\n",
      "epoch 491| loss: 0.19897 | val_0_rmse: 0.5799  |  0:20:51s\n",
      "epoch 492| loss: 0.1975  | val_0_rmse: 0.52475 |  0:20:54s\n",
      "epoch 493| loss: 0.19636 | val_0_rmse: 0.50983 |  0:20:56s\n",
      "epoch 494| loss: 0.19669 | val_0_rmse: 0.59052 |  0:20:59s\n",
      "epoch 495| loss: 0.19628 | val_0_rmse: 0.57727 |  0:21:01s\n",
      "epoch 496| loss: 0.19702 | val_0_rmse: 0.54975 |  0:21:04s\n",
      "epoch 497| loss: 0.19909 | val_0_rmse: 0.52163 |  0:21:07s\n",
      "epoch 498| loss: 0.19854 | val_0_rmse: 0.5844  |  0:21:09s\n",
      "epoch 499| loss: 0.19838 | val_0_rmse: 0.59928 |  0:21:12s\n",
      "epoch 500| loss: 0.19881 | val_0_rmse: 0.57954 |  0:21:14s\n",
      "epoch 501| loss: 0.19754 | val_0_rmse: 0.59436 |  0:21:17s\n",
      "epoch 502| loss: 0.19751 | val_0_rmse: 0.57289 |  0:21:19s\n",
      "epoch 503| loss: 0.19944 | val_0_rmse: 0.58108 |  0:21:22s\n",
      "epoch 504| loss: 0.19774 | val_0_rmse: 0.61397 |  0:21:25s\n",
      "epoch 505| loss: 0.19815 | val_0_rmse: 0.60566 |  0:21:27s\n",
      "epoch 506| loss: 0.19692 | val_0_rmse: 0.62022 |  0:21:30s\n",
      "epoch 507| loss: 0.19858 | val_0_rmse: 0.62553 |  0:21:33s\n",
      "epoch 508| loss: 0.19847 | val_0_rmse: 0.66974 |  0:21:36s\n",
      "epoch 509| loss: 0.19762 | val_0_rmse: 0.65489 |  0:21:38s\n",
      "epoch 510| loss: 0.19704 | val_0_rmse: 0.52468 |  0:21:41s\n",
      "epoch 511| loss: 0.19642 | val_0_rmse: 0.52256 |  0:21:43s\n",
      "epoch 512| loss: 0.19856 | val_0_rmse: 0.6577  |  0:21:46s\n",
      "epoch 513| loss: 0.19685 | val_0_rmse: 0.61004 |  0:21:49s\n",
      "epoch 514| loss: 0.19761 | val_0_rmse: 0.62222 |  0:21:51s\n",
      "epoch 515| loss: 0.19807 | val_0_rmse: 0.59106 |  0:21:54s\n",
      "epoch 516| loss: 0.19708 | val_0_rmse: 0.58058 |  0:21:57s\n",
      "epoch 517| loss: 0.19694 | val_0_rmse: 0.55616 |  0:22:00s\n",
      "epoch 518| loss: 0.19679 | val_0_rmse: 0.56794 |  0:22:03s\n",
      "epoch 519| loss: 0.19775 | val_0_rmse: 0.55906 |  0:22:06s\n",
      "epoch 520| loss: 0.19785 | val_0_rmse: 0.56037 |  0:22:09s\n",
      "epoch 521| loss: 0.19967 | val_0_rmse: 0.56158 |  0:22:12s\n",
      "epoch 522| loss: 0.19706 | val_0_rmse: 0.58442 |  0:22:15s\n",
      "epoch 523| loss: 0.19756 | val_0_rmse: 0.57831 |  0:22:18s\n",
      "epoch 524| loss: 0.19727 | val_0_rmse: 0.58051 |  0:22:21s\n",
      "epoch 525| loss: 0.19669 | val_0_rmse: 0.54736 |  0:22:24s\n",
      "epoch 526| loss: 0.19701 | val_0_rmse: 0.57634 |  0:22:26s\n",
      "epoch 527| loss: 0.19673 | val_0_rmse: 0.59646 |  0:22:29s\n",
      "epoch 528| loss: 0.19865 | val_0_rmse: 0.61341 |  0:22:32s\n",
      "epoch 529| loss: 0.19719 | val_0_rmse: 0.53659 |  0:22:35s\n",
      "epoch 530| loss: 0.19729 | val_0_rmse: 0.51635 |  0:22:38s\n",
      "epoch 531| loss: 0.197   | val_0_rmse: 0.54627 |  0:22:41s\n",
      "epoch 532| loss: 0.19656 | val_0_rmse: 0.53235 |  0:22:44s\n",
      "epoch 533| loss: 0.19717 | val_0_rmse: 0.54098 |  0:22:46s\n",
      "epoch 534| loss: 0.19479 | val_0_rmse: 0.55241 |  0:22:49s\n",
      "epoch 535| loss: 0.19735 | val_0_rmse: 0.50855 |  0:22:52s\n",
      "epoch 536| loss: 0.19671 | val_0_rmse: 0.50865 |  0:22:55s\n",
      "epoch 537| loss: 0.19834 | val_0_rmse: 0.51119 |  0:22:58s\n",
      "epoch 538| loss: 0.19815 | val_0_rmse: 0.50851 |  0:23:01s\n",
      "epoch 539| loss: 0.19794 | val_0_rmse: 0.51053 |  0:23:04s\n",
      "epoch 540| loss: 0.19748 | val_0_rmse: 0.50767 |  0:23:07s\n",
      "epoch 541| loss: 0.19798 | val_0_rmse: 0.50573 |  0:23:09s\n",
      "epoch 542| loss: 0.19698 | val_0_rmse: 0.53488 |  0:23:12s\n",
      "epoch 543| loss: 0.20018 | val_0_rmse: 0.52265 |  0:23:15s\n",
      "epoch 544| loss: 0.19752 | val_0_rmse: 0.52113 |  0:23:18s\n",
      "epoch 545| loss: 0.19762 | val_0_rmse: 0.52176 |  0:23:20s\n",
      "epoch 546| loss: 0.19772 | val_0_rmse: 0.50655 |  0:23:23s\n",
      "epoch 547| loss: 0.1993  | val_0_rmse: 0.51076 |  0:23:26s\n",
      "epoch 548| loss: 0.19719 | val_0_rmse: 0.50612 |  0:23:29s\n",
      "epoch 549| loss: 0.19805 | val_0_rmse: 0.50717 |  0:23:32s\n",
      "epoch 550| loss: 0.19837 | val_0_rmse: 0.50727 |  0:23:34s\n",
      "epoch 551| loss: 0.19727 | val_0_rmse: 0.50908 |  0:23:37s\n",
      "epoch 552| loss: 0.19754 | val_0_rmse: 0.50951 |  0:23:40s\n",
      "epoch 553| loss: 0.1975  | val_0_rmse: 0.50621 |  0:23:42s\n",
      "epoch 554| loss: 0.19782 | val_0_rmse: 0.51085 |  0:23:45s\n",
      "epoch 555| loss: 0.19799 | val_0_rmse: 0.51195 |  0:23:47s\n"
     ]
    },
    {
     "name": "stdout",
     "output_type": "stream",
     "text": [
      "epoch 556| loss: 0.19808 | val_0_rmse: 0.50918 |  0:23:50s\n",
      "epoch 557| loss: 0.19605 | val_0_rmse: 0.50861 |  0:23:52s\n",
      "epoch 558| loss: 0.19677 | val_0_rmse: 0.51715 |  0:23:55s\n",
      "epoch 559| loss: 0.19928 | val_0_rmse: 0.5223  |  0:23:57s\n",
      "epoch 560| loss: 0.19764 | val_0_rmse: 0.51861 |  0:24:00s\n",
      "epoch 561| loss: 0.19689 | val_0_rmse: 0.5168  |  0:24:02s\n",
      "epoch 562| loss: 0.19824 | val_0_rmse: 0.50845 |  0:24:05s\n",
      "epoch 563| loss: 0.19717 | val_0_rmse: 0.52874 |  0:24:07s\n",
      "epoch 564| loss: 0.19796 | val_0_rmse: 0.53199 |  0:24:09s\n",
      "epoch 565| loss: 0.19759 | val_0_rmse: 0.52374 |  0:24:12s\n",
      "epoch 566| loss: 0.19719 | val_0_rmse: 0.50719 |  0:24:15s\n",
      "epoch 567| loss: 0.19807 | val_0_rmse: 0.51721 |  0:24:17s\n",
      "epoch 568| loss: 0.19903 | val_0_rmse: 0.50812 |  0:24:20s\n",
      "epoch 569| loss: 0.19793 | val_0_rmse: 0.51707 |  0:24:23s\n",
      "epoch 570| loss: 0.19862 | val_0_rmse: 0.51211 |  0:24:25s\n",
      "epoch 571| loss: 0.19633 | val_0_rmse: 0.5124  |  0:24:28s\n",
      "epoch 572| loss: 0.19667 | val_0_rmse: 0.52423 |  0:24:30s\n",
      "epoch 573| loss: 0.19723 | val_0_rmse: 0.51448 |  0:24:33s\n",
      "epoch 574| loss: 0.19654 | val_0_rmse: 0.61989 |  0:24:37s\n",
      "epoch 575| loss: 0.19931 | val_0_rmse: 0.63501 |  0:24:41s\n",
      "epoch 576| loss: 0.19804 | val_0_rmse: 0.52863 |  0:24:45s\n",
      "epoch 577| loss: 0.19557 | val_0_rmse: 0.52831 |  0:24:49s\n",
      "epoch 578| loss: 0.19711 | val_0_rmse: 0.59547 |  0:24:53s\n",
      "epoch 579| loss: 0.19705 | val_0_rmse: 0.5782  |  0:24:57s\n",
      "epoch 580| loss: 0.1998  | val_0_rmse: 0.58821 |  0:25:01s\n",
      "epoch 581| loss: 0.19668 | val_0_rmse: 0.64347 |  0:25:05s\n",
      "epoch 582| loss: 0.19766 | val_0_rmse: 0.66342 |  0:25:09s\n",
      "epoch 583| loss: 0.1981  | val_0_rmse: 0.6089  |  0:25:13s\n",
      "epoch 584| loss: 0.19614 | val_0_rmse: 0.63628 |  0:25:17s\n",
      "epoch 585| loss: 0.19849 | val_0_rmse: 0.62325 |  0:25:21s\n",
      "epoch 586| loss: 0.19841 | val_0_rmse: 0.76262 |  0:25:25s\n",
      "epoch 587| loss: 0.1964  | val_0_rmse: 0.84782 |  0:25:29s\n",
      "epoch 588| loss: 0.19821 | val_0_rmse: 0.84671 |  0:25:34s\n",
      "epoch 589| loss: 0.19742 | val_0_rmse: 0.69388 |  0:25:37s\n",
      "epoch 590| loss: 0.19684 | val_0_rmse: 0.82879 |  0:25:41s\n",
      "epoch 591| loss: 0.19711 | val_0_rmse: 0.76833 |  0:25:45s\n",
      "epoch 592| loss: 0.19747 | val_0_rmse: 0.70527 |  0:25:49s\n",
      "epoch 593| loss: 0.1987  | val_0_rmse: 0.52782 |  0:25:53s\n",
      "epoch 594| loss: 0.19787 | val_0_rmse: 0.66589 |  0:25:57s\n",
      "epoch 595| loss: 0.19866 | val_0_rmse: 0.55356 |  0:26:02s\n",
      "epoch 596| loss: 0.19734 | val_0_rmse: 0.54704 |  0:26:06s\n",
      "epoch 597| loss: 0.19755 | val_0_rmse: 0.52415 |  0:26:10s\n",
      "epoch 598| loss: 0.19814 | val_0_rmse: 0.53218 |  0:26:15s\n",
      "epoch 599| loss: 0.19673 | val_0_rmse: 0.51968 |  0:26:19s\n",
      "epoch 600| loss: 0.19674 | val_0_rmse: 0.50982 |  0:26:23s\n",
      "epoch 601| loss: 0.19776 | val_0_rmse: 0.50592 |  0:26:26s\n",
      "epoch 602| loss: 0.1982  | val_0_rmse: 0.51255 |  0:26:30s\n",
      "epoch 603| loss: 0.1981  | val_0_rmse: 0.75241 |  0:26:34s\n",
      "epoch 604| loss: 0.19929 | val_0_rmse: 1.28177 |  0:26:38s\n",
      "epoch 605| loss: 0.19831 | val_0_rmse: 1.18749 |  0:26:42s\n",
      "epoch 606| loss: 0.19808 | val_0_rmse: 1.19708 |  0:26:45s\n",
      "epoch 607| loss: 0.19635 | val_0_rmse: 1.2841  |  0:26:48s\n",
      "epoch 608| loss: 0.19667 | val_0_rmse: 1.16044 |  0:26:50s\n",
      "epoch 609| loss: 0.19861 | val_0_rmse: 1.25837 |  0:26:53s\n",
      "epoch 610| loss: 0.1968  | val_0_rmse: 5.66093 |  0:26:55s\n",
      "epoch 611| loss: 0.1982  | val_0_rmse: 6.53947 |  0:26:58s\n",
      "epoch 612| loss: 0.19814 | val_0_rmse: 7.33887 |  0:27:01s\n",
      "epoch 613| loss: 0.19943 | val_0_rmse: 5.25785 |  0:27:03s\n",
      "epoch 614| loss: 0.19888 | val_0_rmse: 1.62429 |  0:27:06s\n",
      "epoch 615| loss: 0.19818 | val_0_rmse: 1.31184 |  0:27:09s\n",
      "epoch 616| loss: 0.19773 | val_0_rmse: 1.19834 |  0:27:11s\n",
      "epoch 617| loss: 0.19854 | val_0_rmse: 1.91722 |  0:27:14s\n"
     ]
    }
   ],
   "source": [
    "import torch.nn as nn\n",
    "\n",
    "# Start clock\n",
    "#\n",
    "start = time.time()\n",
    "\n",
    "# Train model\n",
    "#\n",
    "model.fit(X_train = trainX, \n",
    "          y_train = trainY,\n",
    "          loss_fn = nn.MSELoss(), # nn.L1Loss(), nn.MSELoss()\n",
    "          #\n",
    "          eval_set    = [(testX, testY)],\n",
    "          batch_size  = 32,\n",
    "          num_workers = 0,\n",
    "          patience    = 100, \n",
    "          max_epochs  = 2000,\n",
    "          eval_metric = ['rmse'])\n",
    "\n",
    "# Terminate clock\n",
    "#\n",
    "stop = time.time()\n",
    "\n",
    "print('[INFO] Time %.2f' % (stop - start))"
   ]
  },
  {
   "cell_type": "markdown",
   "metadata": {},
   "source": [
    "## Evaluation"
   ]
  },
  {
   "cell_type": "markdown",
   "metadata": {},
   "source": [
    "### Get predictions"
   ]
  },
  {
   "cell_type": "code",
   "execution_count": null,
   "metadata": {},
   "outputs": [],
   "source": [
    "# Get predictions\n",
    "#\n",
    "pred = model.predict( testX )\n",
    "\n",
    "\n",
    "# # Get prediction of each component tree\n",
    "# #\n",
    "# predictions = []\n",
    "# for Tree in model.estimators_:\n",
    "#     predictions += [ Tree.predict( testX ) ]\n",
    "    \n",
    "# predictions = np.array( predictions )"
   ]
  },
  {
   "cell_type": "markdown",
   "metadata": {},
   "source": [
    "### Inverse \"Lag-d Diff\" transformation"
   ]
  },
  {
   "cell_type": "code",
   "execution_count": null,
   "metadata": {},
   "outputs": [],
   "source": [
    "for i in range( Horizon ):\n",
    "    testY[:, i] = testX[:, -1] - testY[:, i]\n",
    "    pred[:, i]  = testX[:, -1] - pred[:, i]"
   ]
  },
  {
   "cell_type": "markdown",
   "metadata": {},
   "source": [
    "### Apply inverse scaling/transformation"
   ]
  },
  {
   "cell_type": "code",
   "execution_count": null,
   "metadata": {},
   "outputs": [],
   "source": [
    "# Apply inverse scaling\n",
    "#\n",
    "for i in range( Horizon ):\n",
    "    testY[:,  i] = scaler.inverse_transform( testY[:,  i].reshape(-1,1) ).squeeze(-1)\n",
    "    pred[:, i]   = scaler.inverse_transform( pred[:, i].reshape(-1,1) ).squeeze(-1)\n",
    "\n",
    "\n",
    "# Apply inverse transformation   \n",
    "#\n",
    "if (Transformation == True):\n",
    "    testY = np.exp( testY ) - VALUE\n",
    "    pred = np.exp( pred )   - VALUE"
   ]
  },
  {
   "cell_type": "markdown",
   "metadata": {},
   "source": [
    "### Calculate Performance on Testing set - Prediction visualization\n"
   ]
  },
  {
   "cell_type": "code",
   "execution_count": null,
   "metadata": {},
   "outputs": [],
   "source": [
    "print('[INFO] Feature: ', targetSeries)\n",
    "print('------------------------------------------------')\n",
    "Performance_Foresting_Model = {'RMSE': [], 'MAE': [], 'SMAPE': [], 'R2' : []}\n",
    "\n",
    "for i in range( Horizon ):\n",
    "\n",
    "    Prices = pd.DataFrame([])        \n",
    "\n",
    "    Prices['Real']       = testY[:,  i] \n",
    "    Prices['Prediction'] = pred[:, i]   \n",
    "\n",
    "\n",
    "\n",
    "    # Evaluation\n",
    "    #\n",
    "    MAE, RMSE, MAPE, SMAPE, R2 = RegressionEvaluation( Prices )\n",
    "\n",
    "    # Store results\n",
    "    #\n",
    "    Performance_Foresting_Model['RMSE']    += [ RMSE    ]\n",
    "    Performance_Foresting_Model['MAE']     += [ MAE     ]\n",
    "    Performance_Foresting_Model['SMAPE']   += [ SMAPE   ]\n",
    "    Performance_Foresting_Model['R2']      += [ R2      ]\n",
    "\n",
    "#     # Present results\n",
    "#     #\n",
    "#     print('Horizon: ', i)\n",
    "#     print('> MAE:   ', MAE)\n",
    "#     print('> RMSE:  ', RMSE)\n",
    "#     print('> SMAPE: ', SMAPE)\n",
    "#     print('> R2:    ', R2)\n",
    "#     print()\n",
    "    \n",
    "    print('Horizon: %2i MAE %5.2f SMAPE: %5.2f R2: %.2f' %(i+1, MAE, SMAPE, R2) )"
   ]
  },
  {
   "cell_type": "markdown",
   "metadata": {},
   "source": [
    "## Visualization"
   ]
  },
  {
   "cell_type": "code",
   "execution_count": null,
   "metadata": {},
   "outputs": [],
   "source": [
    "print('[INFO] Feature: ', targetSeries)\n",
    "print('------------------------------------------------')\n",
    "Performance_Foresting_Model = {'RMSE': [], 'MAE': [], 'SMAPE': [], 'R2' : []}\n",
    "\n",
    "for i in range( Horizon ):\n",
    "\n",
    "    Prices = pd.DataFrame([])        \n",
    "\n",
    "    Prices['Real']       = testY[:,  i] \n",
    "    Prices['Prediction'] = pred[:, i] \n",
    "            \n",
    "            \n",
    "    # Plot Real & Predicted values\n",
    "    #\n",
    "    Prices[:100].plot( figsize = (20, 3), marker = 'o' )\n",
    "    #\n",
    "    plt.title('Feature: {} - Horizon = {}'.format(targetSeries, i+1))\n",
    "    plt.legend( frameon = False, fontsize = 14)\n",
    "    plt.xticks(size = 12)\n",
    "    plt.yticks(size = 12)\n",
    "    plt.show()        "
   ]
  },
  {
   "cell_type": "markdown",
   "metadata": {},
   "source": [
    "## Examples"
   ]
  },
  {
   "cell_type": "code",
   "execution_count": null,
   "metadata": {},
   "outputs": [],
   "source": [
    "subplots = [331, 332, 333, 334, 335, 336,  337, 338, 339]\n",
    "plt.figure( figsize = (20, 8) )\n",
    "RandomInstances = [random.randint(1, testY.shape[0]) for i in range(0, 9)]\n",
    "\n",
    "for plot_id, i in enumerate(RandomInstances):\n",
    "\n",
    "    plt.subplot(subplots[plot_id])\n",
    "    #\n",
    "    plt.plot(range(Lag, Lag + Horizon), testY[i], color='g', marker = 'o', linewidth = 2)\n",
    "    plt.plot(range(Lag, Lag + Horizon), pred[i],  color='r', marker = 'o', linewidth = 2)\n",
    "\n",
    "    plt.legend(['Future values', 'Prediction'], frameon = False, fontsize = 12)\n",
    "plt.show()"
   ]
  },
  {
   "cell_type": "markdown",
   "metadata": {},
   "source": [
    "# Store predictions"
   ]
  },
  {
   "cell_type": "code",
   "execution_count": null,
   "metadata": {},
   "outputs": [],
   "source": [
    "Outputs = pd.DataFrame([])\n",
    "#\n",
    "#\n",
    "Outputs[targetSeries] = testY.flatten()\n",
    "Outputs['TabNet_diff']    = pred.flatten()\n",
    "#\n",
    "Outputs.to_csv('Predictions/TabNet_diff.csv')"
   ]
  },
  {
   "cell_type": "code",
   "execution_count": null,
   "metadata": {},
   "outputs": [],
   "source": []
  }
 ],
 "metadata": {
  "kernelspec": {
   "display_name": "Python [conda env:pytorch]",
   "language": "python",
   "name": "conda-env-pytorch-py"
  },
  "language_info": {
   "codemirror_mode": {
    "name": "ipython",
    "version": 3
   },
   "file_extension": ".py",
   "mimetype": "text/x-python",
   "name": "python",
   "nbconvert_exporter": "python",
   "pygments_lexer": "ipython3",
   "version": "3.7.12"
  },
  "toc": {
   "base_numbering": 1,
   "nav_menu": {},
   "number_sections": true,
   "sideBar": true,
   "skip_h1_title": false,
   "title_cell": "Table of Contents",
   "title_sidebar": "Contents",
   "toc_cell": false,
   "toc_position": {
    "height": "calc(100% - 180px)",
    "left": "10px",
    "top": "150px",
    "width": "307.1964416503906px"
   },
   "toc_section_display": true,
   "toc_window_display": true
  }
 },
 "nbformat": 4,
 "nbformat_minor": 5
}
