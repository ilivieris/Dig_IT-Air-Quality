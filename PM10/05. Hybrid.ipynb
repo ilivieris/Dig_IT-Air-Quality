{
 "cells": [
  {
   "cell_type": "markdown",
   "metadata": {},
   "source": [
    "# Libraries"
   ]
  },
  {
   "cell_type": "code",
   "execution_count": null,
   "metadata": {},
   "outputs": [],
   "source": [
    "import warnings\n",
    "warnings.filterwarnings(\"ignore\")\n",
    "\n",
    "# import tensorflow as tf\n",
    "# tf.config.experimental_run_functions_eagerly(True)\n",
    "# tf.keras.backend.set_floatx('float64')\n",
    "\n",
    "# import tensorflow.python.util.deprecation as deprecation\n",
    "# deprecation._PRINT_DEPRECATION_WARNINGS = False"
   ]
  },
  {
   "cell_type": "code",
   "execution_count": null,
   "metadata": {},
   "outputs": [],
   "source": [
    "%matplotlib inline\n",
    "%load_ext autoreload\n",
    "%autoreload 2\n",
    "\n",
    "# =-=-=-=-=-=-=-=-=-=-=-=-=-=-=-=-=-=-=-=-=-=-=-=-=-=-=-=-=-=-=-=-=-=-=-=-=-=\n",
    "# Basic libraries\n",
    "#\n",
    "import math\n",
    "import time\n",
    "import timeit\n",
    "from   tqdm    import tqdm\n",
    "import pandas  as pd\n",
    "import numpy   as np\n",
    "\n",
    "\n",
    "# =-=-=-=-=-=-=-=-=-=-=-=-=-=-=-=-=-=-=-=-=-=-=-=-=-=-=-=-=-=-=-=-=-=-=-=-=-=\n",
    "# Visualization library\n",
    "#\n",
    "import matplotlib.pyplot                        as plt \n",
    "\n",
    "\n",
    "# =-=-=-=-=-=-=-=-=-=-=-=-=-=-=-=-=-=-=-=-=-=-=-=-=-=-=-=-=-=-=-=-=-=-=-=-=-=\n",
    "# Sklearn library\n",
    "#\n",
    "from sklearn.preprocessing import MinMaxScaler\n",
    "from sklearn.preprocessing import RobustScaler\n",
    "from sklearn.preprocessing import StandardScaler\n",
    "from sklearn.preprocessing import PowerTransformer\n",
    "\n",
    "\n",
    "# =-=-=-=-=-=-=-=-=-=-=-=-=-=-=-=-=-=-=-=-=-=-=-=-=-=-=-=-=-=-=-=-=-=-=-=-=-=\n",
    "# Tensorflow library\n",
    "#\n",
    "import tensorflow\n",
    "from   tensorflow.keras.models                  import *\n",
    "from   tensorflow.keras.layers                  import *\n",
    "from   tensorflow.keras.callbacks               import EarlyStopping\n",
    "from   tensorflow.keras.callbacks               import ModelCheckpoint\n",
    "from   tensorflow.keras.callbacks               import ReduceLROnPlateau\n",
    "from   tensorflow.keras.metrics                 import *\n",
    "from   tensorflow.keras.optimizers              import *\n",
    "\n",
    "\n",
    "# =-=-=-=-=-=-=-=-=-=-=-=-=-=-=-=-=-=-=-=-=-=-=-=-=-=-=-=-=-=-=-=-=-=-=-=-=-=\n",
    "# User library\n",
    "#\n",
    "from utils.PerformanceMetrics import RegressionEvaluation\n",
    "\n",
    "\n",
    "print('[INFO] Libraries imported')"
   ]
  },
  {
   "cell_type": "markdown",
   "metadata": {},
   "source": [
    "# Parameters"
   ]
  },
  {
   "cell_type": "code",
   "execution_count": null,
   "metadata": {},
   "outputs": [],
   "source": [
    "import random, os\n",
    "seed = 42\n",
    "    \n",
    "random.seed(seed)\n",
    "os.environ[\"PYTHONHASHSEED\"] = str(seed)\n",
    "np.random.seed(seed)\n",
    "tensorflow.random.set_seed(seed)"
   ]
  },
  {
   "cell_type": "markdown",
   "metadata": {},
   "source": [
    "## CUDA"
   ]
  },
  {
   "cell_type": "code",
   "execution_count": null,
   "metadata": {},
   "outputs": [],
   "source": [
    "try:\n",
    "    gpus = tensorflow.config.list_physical_devices('GPU')\n",
    "    if gpus:\n",
    "        try:\n",
    "            # Currently, memory growth needs to be the same across GPUs\n",
    "            for gpu in gpus:\n",
    "                tensorflow.config.experimental.set_memory_growth(gpu, True)\n",
    "\n",
    "            logical_gpus = tensorflow.config.list_logical_devices('GPU')\n",
    "            print(len(gpus), \"Physical GPUs,\", len(logical_gpus), \"Logical GPUs\")\n",
    "\n",
    "        except RuntimeError as e:\n",
    "\n",
    "            # Memory growth must be set before GPUs have been initialized\n",
    "            print(e)\n",
    "except:\n",
    "    print('[INFO] Not GPU found')"
   ]
  },
  {
   "cell_type": "markdown",
   "metadata": {},
   "source": [
    "## Training paramers"
   ]
  },
  {
   "cell_type": "code",
   "execution_count": 5,
   "metadata": {},
   "outputs": [],
   "source": [
    "Lag        =   12\n",
    "Horizon    =   4\n",
    "#\n",
    "epochs     =  200\n",
    "batch_size =   32\n",
    "\n",
    "Transformation = True"
   ]
  },
  {
   "cell_type": "markdown",
   "metadata": {},
   "source": [
    "# Importing data"
   ]
  },
  {
   "cell_type": "code",
   "execution_count": 6,
   "metadata": {},
   "outputs": [],
   "source": [
    "# Parameters\n",
    "#\n",
    "filename   = '../metadata/7-kanal-1.csv'\n",
    "\n",
    "Transformation  = True\n",
    "Scaling         = 'Standard'"
   ]
  },
  {
   "cell_type": "code",
   "execution_count": 7,
   "metadata": {},
   "outputs": [
    {
     "name": "stdout",
     "output_type": "stream",
     "text": [
      "[INFO] Data imported\n",
      "[INFO] Time: 0.33 seconds\n"
     ]
    },
    {
     "data": {
      "text/html": [
       "<div>\n",
       "<style scoped>\n",
       "    .dataframe tbody tr th:only-of-type {\n",
       "        vertical-align: middle;\n",
       "    }\n",
       "\n",
       "    .dataframe tbody tr th {\n",
       "        vertical-align: top;\n",
       "    }\n",
       "\n",
       "    .dataframe thead th {\n",
       "        text-align: right;\n",
       "    }\n",
       "</style>\n",
       "<table border=\"1\" class=\"dataframe\">\n",
       "  <thead>\n",
       "    <tr style=\"text-align: right;\">\n",
       "      <th></th>\n",
       "      <th>Date</th>\n",
       "      <th>Temperature</th>\n",
       "      <th>Humidity</th>\n",
       "      <th>PM2.5</th>\n",
       "      <th>PM10</th>\n",
       "      <th>NO2</th>\n",
       "      <th>CO</th>\n",
       "    </tr>\n",
       "  </thead>\n",
       "  <tbody>\n",
       "    <tr>\n",
       "      <th>0</th>\n",
       "      <td>2022-02-19 00:00:09</td>\n",
       "      <td>-2.4</td>\n",
       "      <td>86.0</td>\n",
       "      <td>2.7</td>\n",
       "      <td>4.9</td>\n",
       "      <td>212.0</td>\n",
       "      <td>263.0</td>\n",
       "    </tr>\n",
       "    <tr>\n",
       "      <th>1</th>\n",
       "      <td>2022-02-19 00:00:25</td>\n",
       "      <td>-2.4</td>\n",
       "      <td>86.0</td>\n",
       "      <td>2.7</td>\n",
       "      <td>7.6</td>\n",
       "      <td>209.0</td>\n",
       "      <td>261.0</td>\n",
       "    </tr>\n",
       "    <tr>\n",
       "      <th>2</th>\n",
       "      <td>2022-02-19 00:00:41</td>\n",
       "      <td>-2.4</td>\n",
       "      <td>86.0</td>\n",
       "      <td>2.6</td>\n",
       "      <td>7.3</td>\n",
       "      <td>204.0</td>\n",
       "      <td>258.0</td>\n",
       "    </tr>\n",
       "  </tbody>\n",
       "</table>\n",
       "</div>"
      ],
      "text/plain": [
       "                  Date  Temperature  Humidity  PM2.5  PM10    NO2     CO\n",
       "0  2022-02-19 00:00:09         -2.4      86.0    2.7   4.9  212.0  263.0\n",
       "1  2022-02-19 00:00:25         -2.4      86.0    2.7   7.6  209.0  261.0\n",
       "2  2022-02-19 00:00:41         -2.4      86.0    2.6   7.3  204.0  258.0"
      ]
     },
     "execution_count": 7,
     "metadata": {},
     "output_type": "execute_result"
    }
   ],
   "source": [
    "# Start timer\n",
    "#\n",
    "start = time.time()\n",
    "\n",
    "# Load data\n",
    "#\n",
    "df = pd.read_csv( filename )\n",
    "\n",
    "print('[INFO] Data imported')\n",
    "print('[INFO] Time: %.2f seconds' % (time.time() - start))\n",
    "\n",
    "df.head(3)"
   ]
  },
  {
   "cell_type": "markdown",
   "metadata": {},
   "source": [
    "## Preprocess"
   ]
  },
  {
   "cell_type": "code",
   "execution_count": 9,
   "metadata": {},
   "outputs": [
    {
     "data": {
      "text/html": [
       "<div>\n",
       "<style scoped>\n",
       "    .dataframe tbody tr th:only-of-type {\n",
       "        vertical-align: middle;\n",
       "    }\n",
       "\n",
       "    .dataframe tbody tr th {\n",
       "        vertical-align: top;\n",
       "    }\n",
       "\n",
       "    .dataframe thead th {\n",
       "        text-align: right;\n",
       "    }\n",
       "</style>\n",
       "<table border=\"1\" class=\"dataframe\">\n",
       "  <thead>\n",
       "    <tr style=\"text-align: right;\">\n",
       "      <th></th>\n",
       "      <th>PM2.5</th>\n",
       "    </tr>\n",
       "    <tr>\n",
       "      <th>Date</th>\n",
       "      <th></th>\n",
       "    </tr>\n",
       "  </thead>\n",
       "  <tbody>\n",
       "    <tr>\n",
       "      <th>2022-02-19 00:00:00</th>\n",
       "      <td>2.457895</td>\n",
       "    </tr>\n",
       "    <tr>\n",
       "      <th>2022-02-19 00:05:00</th>\n",
       "      <td>2.494737</td>\n",
       "    </tr>\n",
       "    <tr>\n",
       "      <th>2022-02-19 00:10:00</th>\n",
       "      <td>2.494737</td>\n",
       "    </tr>\n",
       "  </tbody>\n",
       "</table>\n",
       "</div>"
      ],
      "text/plain": [
       "                        PM2.5\n",
       "Date                         \n",
       "2022-02-19 00:00:00  2.457895\n",
       "2022-02-19 00:05:00  2.494737\n",
       "2022-02-19 00:10:00  2.494737"
      ]
     },
     "execution_count": 9,
     "metadata": {},
     "output_type": "execute_result"
    }
   ],
   "source": [
    "# Convert Date to 'datetime64'\n",
    "#\n",
    "df['Date'] = df['Date'].astype('datetime64')\n",
    "\n",
    "# Set index\n",
    "#\n",
    "df.set_index('Date', inplace=True)\n",
    "\n",
    "\n",
    "df = df.resample('5min').mean().interpolate()\n",
    "\n",
    "# df = pd.DataFrame( df[ ['Temperature', 'Humidity', 'PM10', 'PM2.5'] ] )\n",
    "df = pd.DataFrame( df['PM2.5'] )\n",
    "df.head(3)"
   ]
  },
  {
   "cell_type": "code",
   "execution_count": 10,
   "metadata": {},
   "outputs": [],
   "source": [
    "targetSeries = df.columns[-1]"
   ]
  },
  {
   "cell_type": "markdown",
   "metadata": {},
   "source": [
    "## Include MA-based features"
   ]
  },
  {
   "cell_type": "code",
   "execution_count": 11,
   "metadata": {},
   "outputs": [],
   "source": [
    "# df['MA6']  = df[ targetSeries ].rolling(6).mean()\n",
    "# df['MA12'] = df[ targetSeries ].rolling(12).mean()\n",
    "#\n",
    "# df['MA5'] = df[ targetSeries ].rolling(5).mean()\n",
    "# df['MA9'] = df[ targetSeries ].rolling(9).mean()"
   ]
  },
  {
   "cell_type": "markdown",
   "metadata": {},
   "source": [
    "## Split Training/Testing set"
   ]
  },
  {
   "cell_type": "code",
   "execution_count": 12,
   "metadata": {},
   "outputs": [],
   "source": [
    "idx = int( df.shape[0] * 0.8 )\n",
    "\n",
    "df_train = df[ :idx ].dropna()\n",
    "df_test  = df[ idx: ].dropna()"
   ]
  },
  {
   "cell_type": "code",
   "execution_count": 13,
   "metadata": {},
   "outputs": [
    {
     "name": "stdout",
     "output_type": "stream",
     "text": [
      "Training:  17116\n",
      "Testing:   4280\n"
     ]
    }
   ],
   "source": [
    "print('Training: ', df_train.shape[0])\n",
    "print('Testing:  ', df_test.shape[0])"
   ]
  },
  {
   "cell_type": "markdown",
   "metadata": {},
   "source": [
    "## Visualize Training & Testing data"
   ]
  },
  {
   "cell_type": "code",
   "execution_count": 14,
   "metadata": {},
   "outputs": [
    {
     "data": {
      "image/png": "[encoded data removed]",
      "text/plain": [
       "<Figure size 1440x288 with 1 Axes>"
      ]
     },
     "metadata": {
      "needs_background": "light"
     },
     "output_type": "display_data"
    }
   ],
   "source": [
    "plt.figure( figsize = (20, 4) );\n",
    "#\n",
    "df_train[ targetSeries ].plot()\n",
    "df_test[ targetSeries ].plot()\n",
    "#\n",
    "plt.legend(['Training', 'Validation', 'Testing'], fontsize = 12);\n",
    "plt.ylabel( targetSeries, size = 12);\n",
    "plt.xlabel( 'Time', size = 12);"
   ]
  },
  {
   "cell_type": "markdown",
   "metadata": {},
   "source": [
    "## Fix lag"
   ]
  },
  {
   "cell_type": "code",
   "execution_count": 15,
   "metadata": {},
   "outputs": [],
   "source": [
    "df_test = pd.concat([df_train.iloc[-Lag:], df_test])"
   ]
  },
  {
   "cell_type": "markdown",
   "metadata": {},
   "source": [
    "## Contruction of fitting data for training a forecasting model"
   ]
  },
  {
   "cell_type": "markdown",
   "metadata": {},
   "source": [
    "### Data Transformation"
   ]
  },
  {
   "cell_type": "code",
   "execution_count": 16,
   "metadata": {},
   "outputs": [
    {
     "name": "stdout",
     "output_type": "stream",
     "text": [
      "[INFO] Data transformation applied\n"
     ]
    }
   ],
   "source": [
    "if (Transformation == True):\n",
    "    \n",
    "    print('[INFO] Data transformation applied')\n",
    "    \n",
    "    VALUE = np.ceil( max(-df.min().min(), 1.0) )\n",
    "    \n",
    "    df_train = np.log( df_train + VALUE)\n",
    "    df_test  = np.log( df_test  + VALUE)\n",
    "    \n",
    "else:\n",
    "    print('[INFO] No data transformation applied.')  "
   ]
  },
  {
   "cell_type": "markdown",
   "metadata": {},
   "source": [
    "### Data scaling "
   ]
  },
  {
   "cell_type": "code",
   "execution_count": 17,
   "metadata": {},
   "outputs": [],
   "source": [
    "for feature in df_train.columns:\n",
    "    if (feature == targetSeries): continue\n",
    "\n",
    "    # Setup scaler\n",
    "    #\n",
    "    scaler = StandardScaler()\n",
    "\n",
    "    # Performing Scaling - for each feature\n",
    "    df_train[feature] = scaler.fit_transform( df_train[feature].to_numpy().reshape(-1,1) )\n",
    "    df_test[feature]  = scaler.transform( df_test[feature].to_numpy().reshape(-1,1) )\n",
    "\n",
    "\n",
    "# Setup scaler\n",
    "#\n",
    "scaler = StandardScaler()\n",
    "\n",
    "df_train[targetSeries] = scaler.fit_transform( df_train[targetSeries].to_numpy().reshape(-1,1) )\n",
    "df_test[targetSeries]  = scaler.transform( df_test[targetSeries].to_numpy().reshape(-1,1) )"
   ]
  },
  {
   "cell_type": "markdown",
   "metadata": {},
   "source": [
    "### Create fitting data "
   ]
  },
  {
   "cell_type": "code",
   "execution_count": 18,
   "metadata": {},
   "outputs": [],
   "source": [
    "def create_dataset(df = None, Lag = 1, Horizon = 12, targetSeries = None, includeLagData = False, includeDate = False, overlap = 1):\n",
    "    \n",
    "    if (targetSeries is None):\n",
    "        targetSeries = df.columns[-1]\n",
    "    \n",
    "    dataX, dataY = [], []\n",
    "    for i in tqdm( range(0, df.shape[0] + 1  - Lag - Horizon, overlap) ):\n",
    "        \n",
    "        # Original data\n",
    "        data       = df.to_numpy()[i+1:(i+Lag)]        \n",
    "        \n",
    "        # Include date info\n",
    "        if (includeDate):            \n",
    "            myDate = [ np.sin(df[i+1:(i+Lag)].index.hour + df[i+1:(i+Lag)].index.minute / 60 ).tolist(), \n",
    "                       np.cos(df[i+1:(i+Lag)].index.hour + df[i+1:(i+Lag)].index.minute / 60 ).tolist() ]\n",
    "            myDate = np.asarray( myDate ).T\n",
    "            #\n",
    "            # Concatenate data            \n",
    "            data = np.concatenate([data, myDate], axis = -1)\n",
    "\n",
    "        # data_diff: Lag-d differences\n",
    "        if (includeLagData):\n",
    "            data_diff  = (df.iloc[i+Lag-1] - df.iloc[i:(i+Lag-1)]).to_numpy()\n",
    "            #\n",
    "            # Concatenate data\n",
    "            data = np.concatenate([data, data_diff], axis = -1)\n",
    "                \n",
    "        \n",
    "        # Concatenate data\n",
    "        dataX.append( data )\n",
    "        \n",
    "        # Targets\n",
    "        dataY.append( df[ targetSeries ].to_numpy()[i + Lag : i + Lag + Horizon] )\n",
    "        \n",
    "        \n",
    "    return ( np.array(dataX), np.array(dataY) )"
   ]
  },
  {
   "cell_type": "code",
   "execution_count": 19,
   "metadata": {},
   "outputs": [
    {
     "name": "stderr",
     "output_type": "stream",
     "text": [
      "100%|████████████████████████████████████████████████████████████████████████████████████████████████████████████████████████████████████████████████████████████████████████████████████| 4276/4276 [00:01<00:00, 2591.52it/s]\n",
      "100%|████████████████████████████████████████████████████████████████████████████████████████████████████████████████████████████████████████████████████████████████████████████████████| 4277/4277 [00:01<00:00, 2612.52it/s]"
     ]
    },
    {
     "name": "stdout",
     "output_type": "stream",
     "text": [
      "Training instances:     4276\n",
      "Testing instances:      4277\n"
     ]
    },
    {
     "name": "stderr",
     "output_type": "stream",
     "text": [
      "\n"
     ]
    }
   ],
   "source": [
    "trainX, trainY = create_dataset(df             = df_train, \n",
    "                                Lag            = Lag, \n",
    "                                Horizon        = Horizon, \n",
    "                                targetSeries   = targetSeries,\n",
    "                                includeLagData = True,\n",
    "                                includeDate    = False,\n",
    "                                overlap        = Horizon)\n",
    "                               \n",
    "\n",
    "testX,  testY  = create_dataset(df             = df_test, \n",
    "                                Lag            = Lag, \n",
    "                                Horizon        = Horizon, \n",
    "                                targetSeries   = targetSeries,\n",
    "                                includeLagData = True,\n",
    "                                includeDate    = False,\n",
    "                                overlap        = 1)\n",
    "\n",
    "\n",
    "print('Training instances:   %6i' % trainX.shape[0])\n",
    "print('Testing instances:    %6i' % testX.shape[0] )"
   ]
  },
  {
   "cell_type": "code",
   "execution_count": 20,
   "metadata": {},
   "outputs": [
    {
     "data": {
      "text/plain": [
       "((4276, 11, 2), (4276, 4))"
      ]
     },
     "execution_count": 20,
     "metadata": {},
     "output_type": "execute_result"
    }
   ],
   "source": [
    "trainX.shape, trainY.shape"
   ]
  },
  {
   "cell_type": "markdown",
   "metadata": {},
   "source": [
    "# Forecasting model"
   ]
  },
  {
   "cell_type": "code",
   "execution_count": 21,
   "metadata": {},
   "outputs": [],
   "source": [
    "import random, os\n",
    "seed = 42\n",
    "    \n",
    "random.seed(seed)\n",
    "os.environ[\"PYTHONHASHSEED\"] = str(seed)\n",
    "np.random.seed(seed)\n",
    "tensorflow.random.set_seed(seed)"
   ]
  },
  {
   "cell_type": "markdown",
   "metadata": {},
   "source": [
    "## Setup model"
   ]
  },
  {
   "cell_type": "code",
   "execution_count": 22,
   "metadata": {},
   "outputs": [
    {
     "name": "stderr",
     "output_type": "stream",
     "text": [
      "2022-05-04 15:23:34.861837: I tensorflow/core/platform/cpu_feature_guard.cc:151] This TensorFlow binary is optimized with oneAPI Deep Neural Network Library (oneDNN) to use the following CPU instructions in performance-critical operations:  SSE4.1 SSE4.2 AVX AVX2 FMA\n",
      "To enable them in other operations, rebuild TensorFlow with the appropriate compiler flags.\n"
     ]
    }
   ],
   "source": [
    "from   tensorflow.keras.layers                  import *\n",
    "from   tensorflow.keras.models                  import *\n",
    "# Inputs\n",
    "#\n",
    "Inputs = Input(shape = (trainX.shape[1], trainX.shape[2]))\n",
    "\n",
    "\n",
    "# Encoder\n",
    "#\n",
    "Encoder = LSTM(units = 100, activation='relu')( Inputs )\n",
    "# Decoder\n",
    "#\n",
    "Decoder = RepeatVector( Horizon )(Encoder)\n",
    "#\n",
    "Decoder = LSTM(units = 100, activation='relu')(Decoder)\n",
    "#\n",
    "# Output\n",
    "#\n",
    "Outputs =  Dense( Horizon, activation='linear' )( Decoder )\n",
    "\n",
    "\n",
    "# Create model\n",
    "#\n",
    "model = Model(inputs = Inputs, outputs = Outputs)"
   ]
  },
  {
   "cell_type": "markdown",
   "metadata": {},
   "source": [
    "## Training forecasting model"
   ]
  },
  {
   "cell_type": "code",
   "execution_count": 23,
   "metadata": {},
   "outputs": [],
   "source": [
    "# Define metrics\n",
    "#\n",
    "metrics = [\n",
    "            MeanAbsoluteError(name = \"MAE\", dtype = None),\n",
    "            RootMeanSquaredError(name = 'RMSE', dtype = None),\n",
    "          ]\n",
    "\n",
    "\n",
    "model.compile(loss      = 'mse', \n",
    "              optimizer = Adam(learning_rate = 5.e-4), \n",
    "              metrics   = metrics)"
   ]
  },
  {
   "cell_type": "code",
   "execution_count": 24,
   "metadata": {},
   "outputs": [],
   "source": [
    "# Checkpoint\n",
    "#\n",
    "checkpoint = ModelCheckpoint(\"models/Hybrid.hdf5\", \n",
    "                              monitor        = 'val_loss', \n",
    "                              verbose        = 0, \n",
    "                              save_best_only = True, \n",
    "                              mode           = 'min')\n",
    "\n",
    "# Earlystopping\n",
    "earlystopping = EarlyStopping(monitor       = 'val_loss', \n",
    "                              mode          = 'min', \n",
    "                              verbose       = 1, \n",
    "                              patience      = 40)\n",
    "\n",
    "# Learning rate adjustment\n",
    "#\n",
    "lrs_scheduler  = ReduceLROnPlateau(monitor     = 'val_loss', \n",
    "                                   factor      = 0.5,\n",
    "                                   patience    = 20)"
   ]
  },
  {
   "cell_type": "code",
   "execution_count": null,
   "metadata": {
    "scrolled": true
   },
   "outputs": [
    {
     "name": "stdout",
     "output_type": "stream",
     "text": [
      "Epoch 1/200\n",
      "134/134 [==============================] - 3s 11ms/step - loss: 0.3678 - MAE: 0.4301 - RMSE: 0.6065 - val_loss: 0.2712 - val_MAE: 0.3510 - val_RMSE: 0.5207 - lr: 5.0000e-04\n",
      "Epoch 2/200\n",
      "134/134 [==============================] - 1s 10ms/step - loss: 0.2096 - MAE: 0.3028 - RMSE: 0.4578 - val_loss: 0.2609 - val_MAE: 0.3382 - val_RMSE: 0.5108 - lr: 5.0000e-04\n",
      "Epoch 3/200\n",
      "134/134 [==============================] - 1s 9ms/step - loss: 0.2073 - MAE: 0.2984 - RMSE: 0.4552 - val_loss: 0.2599 - val_MAE: 0.3306 - val_RMSE: 0.5098 - lr: 5.0000e-04\n",
      "Epoch 4/200\n",
      "134/134 [==============================] - 1s 9ms/step - loss: 0.2022 - MAE: 0.2929 - RMSE: 0.4497 - val_loss: 0.2599 - val_MAE: 0.3347 - val_RMSE: 0.5098 - lr: 5.0000e-04\n",
      "Epoch 5/200\n",
      "134/134 [==============================] - 1s 9ms/step - loss: 0.2036 - MAE: 0.2949 - RMSE: 0.4512 - val_loss: 0.2657 - val_MAE: 0.3529 - val_RMSE: 0.5155 - lr: 5.0000e-04\n",
      "Epoch 6/200\n",
      "134/134 [==============================] - 1s 9ms/step - loss: 0.2002 - MAE: 0.2901 - RMSE: 0.4474 - val_loss: 0.2553 - val_MAE: 0.3371 - val_RMSE: 0.5052 - lr: 5.0000e-04\n",
      "Epoch 7/200\n",
      "134/134 [==============================] - 1s 9ms/step - loss: 0.1996 - MAE: 0.2894 - RMSE: 0.4468 - val_loss: 0.2544 - val_MAE: 0.3345 - val_RMSE: 0.5043 - lr: 5.0000e-04\n",
      "Epoch 8/200\n",
      "134/134 [==============================] - 1s 9ms/step - loss: 0.1994 - MAE: 0.2903 - RMSE: 0.4465 - val_loss: 0.2550 - val_MAE: 0.3449 - val_RMSE: 0.5049 - lr: 5.0000e-04\n",
      "Epoch 9/200\n",
      "134/134 [==============================] - 1s 10ms/step - loss: 0.1994 - MAE: 0.2919 - RMSE: 0.4466 - val_loss: 0.2527 - val_MAE: 0.3364 - val_RMSE: 0.5027 - lr: 5.0000e-04\n",
      "Epoch 10/200\n",
      "134/134 [==============================] - 1s 11ms/step - loss: 0.1983 - MAE: 0.2887 - RMSE: 0.4453 - val_loss: 0.2517 - val_MAE: 0.3339 - val_RMSE: 0.5017 - lr: 5.0000e-04\n",
      "Epoch 11/200\n",
      "134/134 [==============================] - 1s 10ms/step - loss: 0.1981 - MAE: 0.2885 - RMSE: 0.4451 - val_loss: 0.2551 - val_MAE: 0.3514 - val_RMSE: 0.5050 - lr: 5.0000e-04\n",
      "Epoch 12/200\n",
      "134/134 [==============================] - 1s 11ms/step - loss: 0.1978 - MAE: 0.2899 - RMSE: 0.4448 - val_loss: 0.2502 - val_MAE: 0.3236 - val_RMSE: 0.5002 - lr: 5.0000e-04\n",
      "Epoch 13/200\n",
      "134/134 [==============================] - 1s 9ms/step - loss: 0.1978 - MAE: 0.2902 - RMSE: 0.4447 - val_loss: 0.2511 - val_MAE: 0.3300 - val_RMSE: 0.5011 - lr: 5.0000e-04\n",
      "Epoch 14/200\n",
      "134/134 [==============================] - 1s 10ms/step - loss: 0.1962 - MAE: 0.2881 - RMSE: 0.4429 - val_loss: 0.2536 - val_MAE: 0.3375 - val_RMSE: 0.5036 - lr: 5.0000e-04\n",
      "Epoch 15/200\n",
      "134/134 [==============================] - 1s 10ms/step - loss: 0.1959 - MAE: 0.2879 - RMSE: 0.4426 - val_loss: 0.2525 - val_MAE: 0.3518 - val_RMSE: 0.5025 - lr: 5.0000e-04\n",
      "Epoch 16/200\n",
      "134/134 [==============================] - 1s 10ms/step - loss: 0.1953 - MAE: 0.2882 - RMSE: 0.4419 - val_loss: 0.2485 - val_MAE: 0.3229 - val_RMSE: 0.4985 - lr: 5.0000e-04\n",
      "Epoch 17/200\n",
      "134/134 [==============================] - 1s 10ms/step - loss: 0.1947 - MAE: 0.2858 - RMSE: 0.4413 - val_loss: 0.2486 - val_MAE: 0.3240 - val_RMSE: 0.4986 - lr: 5.0000e-04\n",
      "Epoch 18/200\n",
      "134/134 [==============================] - 1s 11ms/step - loss: 0.1946 - MAE: 0.2863 - RMSE: 0.4411 - val_loss: 0.2472 - val_MAE: 0.3263 - val_RMSE: 0.4972 - lr: 5.0000e-04\n",
      "Epoch 19/200\n",
      "134/134 [==============================] - 1s 10ms/step - loss: 0.1938 - MAE: 0.2853 - RMSE: 0.4403 - val_loss: 0.2477 - val_MAE: 0.3202 - val_RMSE: 0.4977 - lr: 5.0000e-04\n",
      "Epoch 20/200\n",
      "134/134 [==============================] - 1s 11ms/step - loss: 0.1942 - MAE: 0.2866 - RMSE: 0.4407 - val_loss: 0.2475 - val_MAE: 0.3223 - val_RMSE: 0.4975 - lr: 5.0000e-04\n",
      "Epoch 21/200\n",
      "134/134 [==============================] - 1s 9ms/step - loss: 0.1941 - MAE: 0.2865 - RMSE: 0.4406 - val_loss: 0.2505 - val_MAE: 0.3381 - val_RMSE: 0.5005 - lr: 5.0000e-04\n",
      "Epoch 22/200\n",
      "134/134 [==============================] - 1s 9ms/step - loss: 0.1926 - MAE: 0.2849 - RMSE: 0.4389 - val_loss: 0.2496 - val_MAE: 0.3228 - val_RMSE: 0.4996 - lr: 5.0000e-04\n",
      "Epoch 23/200\n",
      "134/134 [==============================] - 1s 9ms/step - loss: 0.1922 - MAE: 0.2854 - RMSE: 0.4384 - val_loss: 0.2480 - val_MAE: 0.3300 - val_RMSE: 0.4980 - lr: 5.0000e-04\n",
      "Epoch 24/200\n",
      "134/134 [==============================] - 1s 9ms/step - loss: 0.1922 - MAE: 0.2856 - RMSE: 0.4384 - val_loss: 0.2459 - val_MAE: 0.3202 - val_RMSE: 0.4958 - lr: 5.0000e-04\n",
      "Epoch 25/200\n",
      "134/134 [==============================] - 1s 9ms/step - loss: 0.1917 - MAE: 0.2835 - RMSE: 0.4378 - val_loss: 0.2508 - val_MAE: 0.3492 - val_RMSE: 0.5008 - lr: 5.0000e-04\n",
      "Epoch 26/200\n",
      "134/134 [==============================] - 1s 9ms/step - loss: 0.1924 - MAE: 0.2858 - RMSE: 0.4386 - val_loss: 0.2505 - val_MAE: 0.3193 - val_RMSE: 0.5005 - lr: 5.0000e-04\n",
      "Epoch 27/200\n",
      "134/134 [==============================] - 1s 9ms/step - loss: 0.1933 - MAE: 0.2865 - RMSE: 0.4397 - val_loss: 0.2465 - val_MAE: 0.3328 - val_RMSE: 0.4965 - lr: 5.0000e-04\n",
      "Epoch 28/200\n",
      "134/134 [==============================] - 1s 9ms/step - loss: 0.1921 - MAE: 0.2850 - RMSE: 0.4383 - val_loss: 0.2464 - val_MAE: 0.3243 - val_RMSE: 0.4964 - lr: 5.0000e-04\n",
      "Epoch 29/200\n",
      "134/134 [==============================] - 1s 11ms/step - loss: 0.1914 - MAE: 0.2838 - RMSE: 0.4375 - val_loss: 0.2463 - val_MAE: 0.3267 - val_RMSE: 0.4963 - lr: 5.0000e-04\n",
      "Epoch 30/200\n",
      "134/134 [==============================] - 1s 11ms/step - loss: 0.1909 - MAE: 0.2821 - RMSE: 0.4370 - val_loss: 0.2478 - val_MAE: 0.3495 - val_RMSE: 0.4978 - lr: 5.0000e-04\n",
      "Epoch 31/200\n",
      "134/134 [==============================] - 1s 11ms/step - loss: 0.1924 - MAE: 0.2857 - RMSE: 0.4387 - val_loss: 0.2454 - val_MAE: 0.3255 - val_RMSE: 0.4954 - lr: 5.0000e-04\n",
      "Epoch 32/200\n",
      "134/134 [==============================] - 2s 11ms/step - loss: 0.1892 - MAE: 0.2814 - RMSE: 0.4350 - val_loss: 0.2452 - val_MAE: 0.3210 - val_RMSE: 0.4952 - lr: 5.0000e-04\n",
      "Epoch 33/200\n",
      "134/134 [==============================] - 1s 10ms/step - loss: 0.1920 - MAE: 0.2865 - RMSE: 0.4382 - val_loss: 0.2482 - val_MAE: 0.3222 - val_RMSE: 0.4982 - lr: 5.0000e-04\n",
      "Epoch 34/200\n",
      "134/134 [==============================] - 1s 10ms/step - loss: 0.1897 - MAE: 0.2822 - RMSE: 0.4355 - val_loss: 0.2472 - val_MAE: 0.3325 - val_RMSE: 0.4972 - lr: 5.0000e-04\n",
      "Epoch 35/200\n",
      "134/134 [==============================] - 1s 10ms/step - loss: 0.1903 - MAE: 0.2823 - RMSE: 0.4362 - val_loss: 0.2453 - val_MAE: 0.3200 - val_RMSE: 0.4953 - lr: 5.0000e-04\n",
      "Epoch 36/200\n",
      "134/134 [==============================] - 1s 11ms/step - loss: 0.1890 - MAE: 0.2807 - RMSE: 0.4347 - val_loss: 0.2563 - val_MAE: 0.3525 - val_RMSE: 0.5062 - lr: 5.0000e-04\n",
      "Epoch 37/200\n",
      "134/134 [==============================] - 1s 10ms/step - loss: 0.1911 - MAE: 0.2853 - RMSE: 0.4371 - val_loss: 0.2485 - val_MAE: 0.3216 - val_RMSE: 0.4985 - lr: 5.0000e-04\n",
      "Epoch 38/200\n",
      "134/134 [==============================] - 1s 9ms/step - loss: 0.1880 - MAE: 0.2808 - RMSE: 0.4336 - val_loss: 0.2480 - val_MAE: 0.3165 - val_RMSE: 0.4980 - lr: 5.0000e-04\n",
      "Epoch 39/200\n",
      "134/134 [==============================] - 1s 9ms/step - loss: 0.1882 - MAE: 0.2804 - RMSE: 0.4339 - val_loss: 0.2440 - val_MAE: 0.3299 - val_RMSE: 0.4940 - lr: 5.0000e-04\n",
      "Epoch 40/200\n",
      "134/134 [==============================] - 1s 9ms/step - loss: 0.1901 - MAE: 0.2850 - RMSE: 0.4360 - val_loss: 0.2464 - val_MAE: 0.3238 - val_RMSE: 0.4964 - lr: 5.0000e-04\n",
      "Epoch 41/200\n",
      "134/134 [==============================] - 1s 11ms/step - loss: 0.1887 - MAE: 0.2815 - RMSE: 0.4343 - val_loss: 0.2430 - val_MAE: 0.3211 - val_RMSE: 0.4930 - lr: 5.0000e-04\n",
      "Epoch 42/200\n",
      "134/134 [==============================] - 1s 10ms/step - loss: 0.1873 - MAE: 0.2798 - RMSE: 0.4328 - val_loss: 0.2442 - val_MAE: 0.3211 - val_RMSE: 0.4942 - lr: 5.0000e-04\n",
      "Epoch 43/200\n",
      "134/134 [==============================] - 1s 10ms/step - loss: 0.1881 - MAE: 0.2808 - RMSE: 0.4338 - val_loss: 0.2488 - val_MAE: 0.3514 - val_RMSE: 0.4988 - lr: 5.0000e-04\n",
      "Epoch 44/200\n",
      "134/134 [==============================] - 1s 10ms/step - loss: 0.1913 - MAE: 0.2881 - RMSE: 0.4374 - val_loss: 0.2440 - val_MAE: 0.3284 - val_RMSE: 0.4939 - lr: 5.0000e-04\n",
      "Epoch 45/200\n"
     ]
    },
    {
     "name": "stdout",
     "output_type": "stream",
     "text": [
      "134/134 [==============================] - 1s 9ms/step - loss: 0.1887 - MAE: 0.2832 - RMSE: 0.4343 - val_loss: 0.2451 - val_MAE: 0.3374 - val_RMSE: 0.4950 - lr: 5.0000e-04\n",
      "Epoch 46/200\n",
      "134/134 [==============================] - 1s 10ms/step - loss: 0.1884 - MAE: 0.2827 - RMSE: 0.4341 - val_loss: 0.2526 - val_MAE: 0.3233 - val_RMSE: 0.5026 - lr: 5.0000e-04\n",
      "Epoch 47/200\n",
      "134/134 [==============================] - 1s 11ms/step - loss: 0.1882 - MAE: 0.2838 - RMSE: 0.4339 - val_loss: 0.2418 - val_MAE: 0.3233 - val_RMSE: 0.4917 - lr: 5.0000e-04\n",
      "Epoch 48/200\n",
      "134/134 [==============================] - 1s 10ms/step - loss: 0.1868 - MAE: 0.2819 - RMSE: 0.4322 - val_loss: 0.2485 - val_MAE: 0.3358 - val_RMSE: 0.4985 - lr: 5.0000e-04\n",
      "Epoch 49/200\n",
      "134/134 [==============================] - 1s 9ms/step - loss: 0.1872 - MAE: 0.2804 - RMSE: 0.4327 - val_loss: 0.2466 - val_MAE: 0.3380 - val_RMSE: 0.4965 - lr: 5.0000e-04\n",
      "Epoch 50/200\n",
      "134/134 [==============================] - 1s 8ms/step - loss: 0.1860 - MAE: 0.2808 - RMSE: 0.4312 - val_loss: 0.2506 - val_MAE: 0.3230 - val_RMSE: 0.5006 - lr: 5.0000e-04\n",
      "Epoch 51/200\n",
      "134/134 [==============================] - 1s 9ms/step - loss: 0.1878 - MAE: 0.2826 - RMSE: 0.4333 - val_loss: 0.2424 - val_MAE: 0.3236 - val_RMSE: 0.4924 - lr: 5.0000e-04\n",
      "Epoch 52/200\n",
      "134/134 [==============================] - 1s 9ms/step - loss: 0.1859 - MAE: 0.2786 - RMSE: 0.4312 - val_loss: 0.2424 - val_MAE: 0.3278 - val_RMSE: 0.4924 - lr: 5.0000e-04\n",
      "Epoch 53/200\n",
      "134/134 [==============================] - 1s 9ms/step - loss: 0.1859 - MAE: 0.2802 - RMSE: 0.4312 - val_loss: 0.2426 - val_MAE: 0.3333 - val_RMSE: 0.4926 - lr: 5.0000e-04\n",
      "Epoch 54/200\n",
      "134/134 [==============================] - 1s 11ms/step - loss: 0.1852 - MAE: 0.2797 - RMSE: 0.4303 - val_loss: 0.2415 - val_MAE: 0.3267 - val_RMSE: 0.4915 - lr: 5.0000e-04\n",
      "Epoch 55/200\n",
      "134/134 [==============================] - 1s 10ms/step - loss: 0.1853 - MAE: 0.2805 - RMSE: 0.4305 - val_loss: 0.2426 - val_MAE: 0.3229 - val_RMSE: 0.4926 - lr: 5.0000e-04\n",
      "Epoch 56/200\n",
      "134/134 [==============================] - 1s 9ms/step - loss: 0.1849 - MAE: 0.2793 - RMSE: 0.4300 - val_loss: 0.2424 - val_MAE: 0.3215 - val_RMSE: 0.4924 - lr: 5.0000e-04\n",
      "Epoch 57/200\n",
      "134/134 [==============================] - 1s 9ms/step - loss: 0.1849 - MAE: 0.2803 - RMSE: 0.4300 - val_loss: 0.2428 - val_MAE: 0.3198 - val_RMSE: 0.4928 - lr: 5.0000e-04\n",
      "Epoch 58/200\n",
      "134/134 [==============================] - 1s 9ms/step - loss: 0.1844 - MAE: 0.2794 - RMSE: 0.4294 - val_loss: 0.2455 - val_MAE: 0.3209 - val_RMSE: 0.4955 - lr: 5.0000e-04\n",
      "Epoch 59/200\n",
      "134/134 [==============================] - 1s 9ms/step - loss: 0.1842 - MAE: 0.2780 - RMSE: 0.4292 - val_loss: 0.2434 - val_MAE: 0.3252 - val_RMSE: 0.4934 - lr: 5.0000e-04\n",
      "Epoch 60/200\n",
      "134/134 [==============================] - 1s 9ms/step - loss: 0.1837 - MAE: 0.2776 - RMSE: 0.4286 - val_loss: 0.2409 - val_MAE: 0.3253 - val_RMSE: 0.4909 - lr: 5.0000e-04\n",
      "Epoch 61/200\n",
      "134/134 [==============================] - 1s 9ms/step - loss: 0.1837 - MAE: 0.2791 - RMSE: 0.4286 - val_loss: 0.2457 - val_MAE: 0.3180 - val_RMSE: 0.4957 - lr: 5.0000e-04\n",
      "Epoch 62/200\n",
      "134/134 [==============================] - 1s 9ms/step - loss: 0.1854 - MAE: 0.2807 - RMSE: 0.4306 - val_loss: 0.2485 - val_MAE: 0.3248 - val_RMSE: 0.4985 - lr: 5.0000e-04\n",
      "Epoch 63/200\n",
      "134/134 [==============================] - 1s 9ms/step - loss: 0.1836 - MAE: 0.2787 - RMSE: 0.4285 - val_loss: 0.2434 - val_MAE: 0.3280 - val_RMSE: 0.4934 - lr: 5.0000e-04\n",
      "Epoch 64/200\n",
      "134/134 [==============================] - 1s 10ms/step - loss: 0.1839 - MAE: 0.2799 - RMSE: 0.4288 - val_loss: 0.2436 - val_MAE: 0.3258 - val_RMSE: 0.4935 - lr: 5.0000e-04\n",
      "Epoch 65/200\n",
      "134/134 [==============================] - 1s 9ms/step - loss: 0.1832 - MAE: 0.2772 - RMSE: 0.4280 - val_loss: 0.2431 - val_MAE: 0.3278 - val_RMSE: 0.4931 - lr: 5.0000e-04\n",
      "Epoch 66/200\n",
      "134/134 [==============================] - 1s 10ms/step - loss: 0.1822 - MAE: 0.2770 - RMSE: 0.4269 - val_loss: 0.2424 - val_MAE: 0.3283 - val_RMSE: 0.4924 - lr: 5.0000e-04\n",
      "Epoch 67/200\n",
      "134/134 [==============================] - 2s 12ms/step - loss: 0.1828 - MAE: 0.2787 - RMSE: 0.4275 - val_loss: 0.2456 - val_MAE: 0.3213 - val_RMSE: 0.4956 - lr: 5.0000e-04\n",
      "Epoch 68/200\n",
      "134/134 [==============================] - 1s 11ms/step - loss: 0.1828 - MAE: 0.2782 - RMSE: 0.4275 - val_loss: 0.2469 - val_MAE: 0.3208 - val_RMSE: 0.4969 - lr: 5.0000e-04\n",
      "Epoch 69/200\n",
      "134/134 [==============================] - 2s 12ms/step - loss: 0.1820 - MAE: 0.2767 - RMSE: 0.4266 - val_loss: 0.2454 - val_MAE: 0.3211 - val_RMSE: 0.4954 - lr: 5.0000e-04\n",
      "Epoch 70/200\n",
      "134/134 [==============================] - 2s 12ms/step - loss: 0.1824 - MAE: 0.2779 - RMSE: 0.4270 - val_loss: 0.2430 - val_MAE: 0.3322 - val_RMSE: 0.4929 - lr: 5.0000e-04\n",
      "Epoch 71/200\n",
      "134/134 [==============================] - 2s 12ms/step - loss: 0.1809 - MAE: 0.2773 - RMSE: 0.4253 - val_loss: 0.2442 - val_MAE: 0.3251 - val_RMSE: 0.4942 - lr: 5.0000e-04\n",
      "Epoch 72/200\n",
      "134/134 [==============================] - 1s 10ms/step - loss: 0.1800 - MAE: 0.2756 - RMSE: 0.4243 - val_loss: 0.2446 - val_MAE: 0.3245 - val_RMSE: 0.4946 - lr: 5.0000e-04\n",
      "Epoch 73/200\n",
      "134/134 [==============================] - 1s 9ms/step - loss: 0.1809 - MAE: 0.2763 - RMSE: 0.4253 - val_loss: 0.2442 - val_MAE: 0.3283 - val_RMSE: 0.4941 - lr: 5.0000e-04\n",
      "Epoch 74/200\n",
      "134/134 [==============================] - 1s 11ms/step - loss: 0.1804 - MAE: 0.2759 - RMSE: 0.4248 - val_loss: 0.2428 - val_MAE: 0.3263 - val_RMSE: 0.4927 - lr: 5.0000e-04\n",
      "Epoch 75/200\n",
      "134/134 [==============================] - 1s 11ms/step - loss: 0.1823 - MAE: 0.2790 - RMSE: 0.4270 - val_loss: 0.2433 - val_MAE: 0.3224 - val_RMSE: 0.4933 - lr: 5.0000e-04\n",
      "Epoch 76/200\n",
      "134/134 [==============================] - 2s 12ms/step - loss: 0.1793 - MAE: 0.2742 - RMSE: 0.4235 - val_loss: 0.2457 - val_MAE: 0.3358 - val_RMSE: 0.4957 - lr: 5.0000e-04\n",
      "Epoch 77/200\n",
      "134/134 [==============================] - 2s 12ms/step - loss: 0.1794 - MAE: 0.2769 - RMSE: 0.4236 - val_loss: 0.2478 - val_MAE: 0.3219 - val_RMSE: 0.4978 - lr: 5.0000e-04\n",
      "Epoch 78/200\n",
      "134/134 [==============================] - 1s 10ms/step - loss: 0.1811 - MAE: 0.2776 - RMSE: 0.4255 - val_loss: 0.2472 - val_MAE: 0.3378 - val_RMSE: 0.4972 - lr: 5.0000e-04\n",
      "Epoch 79/200\n",
      "134/134 [==============================] - 1s 10ms/step - loss: 0.1798 - MAE: 0.2759 - RMSE: 0.4241 - val_loss: 0.2453 - val_MAE: 0.3349 - val_RMSE: 0.4953 - lr: 5.0000e-04\n",
      "Epoch 80/200\n",
      "134/134 [==============================] - 1s 9ms/step - loss: 0.1795 - MAE: 0.2764 - RMSE: 0.4236 - val_loss: 0.2450 - val_MAE: 0.3205 - val_RMSE: 0.4949 - lr: 5.0000e-04\n",
      "Epoch 81/200\n",
      "134/134 [==============================] - 1s 9ms/step - loss: 0.1761 - MAE: 0.2715 - RMSE: 0.4197 - val_loss: 0.2462 - val_MAE: 0.3246 - val_RMSE: 0.4962 - lr: 2.5000e-04\n",
      "Epoch 82/200\n",
      "134/134 [==============================] - 1s 9ms/step - loss: 0.1766 - MAE: 0.2719 - RMSE: 0.4202 - val_loss: 0.2444 - val_MAE: 0.3262 - val_RMSE: 0.4943 - lr: 2.5000e-04\n",
      "Epoch 83/200\n",
      "134/134 [==============================] - 1s 9ms/step - loss: 0.1762 - MAE: 0.2728 - RMSE: 0.4197 - val_loss: 0.2491 - val_MAE: 0.3303 - val_RMSE: 0.4991 - lr: 2.5000e-04\n",
      "Epoch 84/200\n",
      "134/134 [==============================] - 1s 9ms/step - loss: 0.1758 - MAE: 0.2714 - RMSE: 0.4193 - val_loss: 0.2457 - val_MAE: 0.3245 - val_RMSE: 0.4957 - lr: 2.5000e-04\n",
      "Epoch 85/200\n",
      "134/134 [==============================] - 1s 9ms/step - loss: 0.1750 - MAE: 0.2709 - RMSE: 0.4184 - val_loss: 0.2454 - val_MAE: 0.3252 - val_RMSE: 0.4953 - lr: 2.5000e-04\n",
      "Epoch 86/200\n",
      "134/134 [==============================] - 1s 9ms/step - loss: 0.1754 - MAE: 0.2715 - RMSE: 0.4188 - val_loss: 0.2464 - val_MAE: 0.3212 - val_RMSE: 0.4964 - lr: 2.5000e-04\n",
      "Epoch 87/200\n",
      "134/134 [==============================] - 1s 9ms/step - loss: 0.1747 - MAE: 0.2720 - RMSE: 0.4179 - val_loss: 0.2450 - val_MAE: 0.3299 - val_RMSE: 0.4950 - lr: 2.5000e-04\n",
      "Epoch 88/200\n",
      "134/134 [==============================] - 1s 9ms/step - loss: 0.1742 - MAE: 0.2711 - RMSE: 0.4173 - val_loss: 0.2476 - val_MAE: 0.3263 - val_RMSE: 0.4976 - lr: 2.5000e-04\n",
      "Epoch 89/200\n"
     ]
    },
    {
     "name": "stdout",
     "output_type": "stream",
     "text": [
      "134/134 [==============================] - 1s 9ms/step - loss: 0.1745 - MAE: 0.2710 - RMSE: 0.4177 - val_loss: 0.2472 - val_MAE: 0.3235 - val_RMSE: 0.4971 - lr: 2.5000e-04\n",
      "Epoch 90/200\n",
      "134/134 [==============================] - 1s 9ms/step - loss: 0.1739 - MAE: 0.2698 - RMSE: 0.4170 - val_loss: 0.2496 - val_MAE: 0.3230 - val_RMSE: 0.4996 - lr: 2.5000e-04\n",
      "Epoch 91/200\n",
      "134/134 [==============================] - 1s 9ms/step - loss: 0.1745 - MAE: 0.2712 - RMSE: 0.4177 - val_loss: 0.2463 - val_MAE: 0.3333 - val_RMSE: 0.4963 - lr: 2.5000e-04\n",
      "Epoch 92/200\n",
      "134/134 [==============================] - 1s 9ms/step - loss: 0.1734 - MAE: 0.2698 - RMSE: 0.4164 - val_loss: 0.2471 - val_MAE: 0.3274 - val_RMSE: 0.4971 - lr: 2.5000e-04\n",
      "Epoch 93/200\n",
      "134/134 [==============================] - 1s 9ms/step - loss: 0.1731 - MAE: 0.2705 - RMSE: 0.4161 - val_loss: 0.2473 - val_MAE: 0.3259 - val_RMSE: 0.4973 - lr: 2.5000e-04\n",
      "Epoch 94/200\n",
      "134/134 [==============================] - 1s 9ms/step - loss: 0.1742 - MAE: 0.2715 - RMSE: 0.4174 - val_loss: 0.2485 - val_MAE: 0.3239 - val_RMSE: 0.4985 - lr: 2.5000e-04\n",
      "Epoch 95/200\n",
      "134/134 [==============================] - 1s 10ms/step - loss: 0.1731 - MAE: 0.2698 - RMSE: 0.4160 - val_loss: 0.2500 - val_MAE: 0.3303 - val_RMSE: 0.5000 - lr: 2.5000e-04\n",
      "Epoch 96/200\n",
      "127/134 [===========================>..] - ETA: 0s - loss: 0.1730 - MAE: 0.2702 - RMSE: 0.4160"
     ]
    }
   ],
   "source": [
    "# Start clock\n",
    "#\n",
    "start = timeit.default_timer()\n",
    "\n",
    "\n",
    "score = model.fit(trainX, trainY, \n",
    "                  epochs          = epochs, \n",
    "                  batch_size      = batch_size, \n",
    "                  callbacks       = [checkpoint, earlystopping, lrs_scheduler],\n",
    "                  verbose         = True, \n",
    "                  shuffle         = True,\n",
    "                  validation_data = (testX, testY))\n",
    "\n",
    "\n",
    "# Terminate clock\n",
    "#\n",
    "stop = timeit.default_timer()"
   ]
  },
  {
   "cell_type": "code",
   "execution_count": null,
   "metadata": {},
   "outputs": [],
   "source": [
    "# Create figure\n",
    "#\n",
    "fig, ax = plt.subplots(nrows = 1, ncols = 2, figsize = (20, 3) )\n",
    "\n",
    "# Plot RMSE\n",
    "#\n",
    "ax[0].plot( score.history['RMSE'], marker = 'o');\n",
    "ax[0].plot( score.history['val_RMSE'], marker = 'o');\n",
    "ax[0].legend(['Training', 'Validation'], frameon = False, fontsize = 14);\n",
    "ax[0].set_title('RMSE');\n",
    "\n",
    "# Plot RMSE\n",
    "#\n",
    "ax[1].plot( score.history['MAE'], marker = 'o');\n",
    "ax[1].plot( score.history['val_MAE'], marker = 'o');\n",
    "ax[1].legend(['Training', 'Validation'], frameon = False, fontsize = 14);\n",
    "ax[1].set_title('MAE');"
   ]
  },
  {
   "cell_type": "markdown",
   "metadata": {},
   "source": [
    "## Load optimized forecasting model"
   ]
  },
  {
   "cell_type": "code",
   "execution_count": null,
   "metadata": {},
   "outputs": [],
   "source": [
    "# Load the best model\n",
    "#\n",
    "model.load_weights('models/Hybrid.hdf5')"
   ]
  },
  {
   "cell_type": "markdown",
   "metadata": {},
   "source": [
    "# Evaluation"
   ]
  },
  {
   "cell_type": "markdown",
   "metadata": {},
   "source": [
    "## Get predictions"
   ]
  },
  {
   "cell_type": "code",
   "execution_count": null,
   "metadata": {},
   "outputs": [],
   "source": [
    "# Get predictions\n",
    "#\n",
    "pred = model.predict( testX )"
   ]
  },
  {
   "cell_type": "markdown",
   "metadata": {},
   "source": [
    "## Apply inverse scaling/transformation"
   ]
  },
  {
   "cell_type": "code",
   "execution_count": null,
   "metadata": {},
   "outputs": [],
   "source": [
    "# Apply inverse scaling\n",
    "#\n",
    "for i in range( Horizon ):\n",
    "    testY[:,  i] = scaler.inverse_transform( testY[:,  i].reshape(-1,1) ).squeeze(-1)\n",
    "    pred[:, i]   = scaler.inverse_transform( pred[:, i].reshape(-1,1) ).squeeze(-1)\n",
    "\n",
    "\n",
    "# Apply inverse transformation   \n",
    "#\n",
    "if (Transformation == True):\n",
    "    testY = np.exp( testY ) - VALUE\n",
    "    pred = np.exp( pred )   - VALUE"
   ]
  },
  {
   "cell_type": "markdown",
   "metadata": {},
   "source": [
    "## Visualization of predictions"
   ]
  },
  {
   "cell_type": "code",
   "execution_count": null,
   "metadata": {},
   "outputs": [],
   "source": [
    "Results = dict()\n",
    "\n",
    "for i in range( Horizon ):\n",
    "    Prices = pd.DataFrame( [] )\n",
    "\n",
    "    Prices[targetSeries] = testY[:,i]\n",
    "    Prices['Prediction'] = pred[:,i]\n",
    "    \n",
    "\n",
    "        \n",
    "    # Store results\n",
    "    #\n",
    "    Results[ 'Horizon {}'.format(i+1) ] = Prices\n",
    "\n",
    "    \n",
    "    \n",
    "    \n",
    "    # Plot results\n",
    "    #\n",
    "    plt.figure( figsize = (20, 4) );\n",
    "    #\n",
    "    Prices[ targetSeries ][:100].plot(color = 'tab:blue', marker = 'o')\n",
    "    Prices[ 'Prediction' ][:100].plot(color = 'tab:orange', marker = 'o')\n",
    "    \n",
    "    #\n",
    "    #\n",
    "    plt.legend([targetSeries, 'Prediction'], fontsize = 12, frameon=False);\n",
    "    plt.ylabel(targetSeries, size = 12 );\n",
    "    plt.xlabel('Time', size = 12);\n",
    "    plt.show()"
   ]
  },
  {
   "cell_type": "markdown",
   "metadata": {},
   "source": [
    "## Regression evaluation"
   ]
  },
  {
   "cell_type": "code",
   "execution_count": null,
   "metadata": {
    "scrolled": true
   },
   "outputs": [],
   "source": [
    "sResults = {'MAE': [], 'RMSE': [], 'MAPE': [], 'SMAPE': [], 'R2': []}\n",
    "\n",
    "for i in range(Horizon):\n",
    "    MAE, RMSE, MAPE, SMAPE, R2 = RegressionEvaluation( Results['Horizon {}'.format(i+1)] )\n",
    "    \n",
    "    sResults['MAE']   += [MAE]\n",
    "    sResults['RMSE']  += [RMSE]\n",
    "    sResults['MAPE']  += [MAPE]\n",
    "    sResults['SMAPE'] += [SMAPE]\n",
    "    sResults['R2']    += [R2]\n",
    "    \n",
    "    \n",
    "#     print('Horizon -%i-' % (i+1))\n",
    "#     print('--------------')\n",
    "#     print('MAE   = %.3f' % MAE)\n",
    "#     print('RMSE  = %.3f' % RMSE)\n",
    "#     print('MAPE  = %.3f' % MAPE)\n",
    "#     print('SMAPE = %.3f' % SMAPE)\n",
    "#     print('R2    = %.3f' % R2)\n",
    "#     print()\n",
    "    print('Horizon: %2i MAE %5.2f SMAPE: %5.2f R2: %.2f' %(i+1, MAE, SMAPE, R2) )"
   ]
  },
  {
   "cell_type": "code",
   "execution_count": null,
   "metadata": {},
   "outputs": [],
   "source": [
    "# PM2.5+d-Lag\n",
    "# --------------------------------------------------"
   ]
  },
  {
   "cell_type": "code",
   "execution_count": null,
   "metadata": {
    "scrolled": true
   },
   "outputs": [],
   "source": [
    "# print('[INFO] Feature: ', targetSeries)\n",
    "# print('------------------------------------------------')\n",
    "# Performance_Foresting_Model = {'RMSE': [], 'MAE': [], 'SMAPE': [], 'R2' : []}\n",
    "\n",
    "# for i in range( Horizon ):\n",
    "\n",
    "#     Prices[targetSeries] = testY[:,i]\n",
    "#     Prices['Prediction'] = pred[:,i]\n",
    "    \n",
    "            \n",
    "#     from scipy import stats\n",
    "#     from statsmodels.graphics.tsaplots import plot_acf\n",
    "    \n",
    "#     res = (Prices[targetSeries] - Prices['Prediction']).to_numpy()\n",
    "    \n",
    "#     fig, ax = plt.subplots(nrows = 1, ncols = 2, figsize = (15, 2) )\n",
    "\n",
    "#     ax[0].hist( res, bins = 100 )    \n",
    "#     plot_acf( res, ax=ax[1] )       "
   ]
  },
  {
   "cell_type": "markdown",
   "metadata": {},
   "source": [
    "## Examples"
   ]
  },
  {
   "cell_type": "code",
   "execution_count": null,
   "metadata": {},
   "outputs": [],
   "source": [
    "subplots = [331, 332, 333, 334, 335, 336,  337, 338, 339]\n",
    "plt.figure( figsize = (20, 8) )  \n",
    "RandomInstances = [random.randint(1, testY.shape[0]) for i in range(0, 9)]\n",
    "\n",
    "for plot_id, i in enumerate(RandomInstances):\n",
    "\n",
    "    plt.subplot(subplots[plot_id])\n",
    "    #\n",
    "    plt.plot(range(Lag, Lag + Horizon), testY[i], color='g', marker = 'o', linewidth = 2)\n",
    "    plt.plot(range(Lag, Lag + Horizon), pred[i],  color='r', marker = 'o', linewidth = 2)\n",
    "\n",
    "    plt.legend(['Instance', 'Future values', 'Prediction'], frameon = False, fontsize = 12)\n",
    "plt.show()"
   ]
  },
  {
   "cell_type": "markdown",
   "metadata": {},
   "source": [
    "# Store predictions"
   ]
  },
  {
   "cell_type": "code",
   "execution_count": null,
   "metadata": {},
   "outputs": [],
   "source": [
    "Outputs = pd.DataFrame( [] )\n",
    "\n",
    "\n",
    "Outputs[ targetSeries ] = testY.flatten()\n",
    "Outputs['Hybrid']       = pred.flatten()\n",
    "\n",
    "Outputs.to_csv('Predictions/Hybrid.csv')"
   ]
  },
  {
   "cell_type": "code",
   "execution_count": null,
   "metadata": {},
   "outputs": [],
   "source": []
  }
 ],
 "metadata": {
  "kernelspec": {
   "display_name": "Python [conda env:tensorflow]",
   "language": "python",
   "name": "conda-env-tensorflow-py"
  },
  "language_info": {
   "codemirror_mode": {
    "name": "ipython",
    "version": 3
   },
   "file_extension": ".py",
   "mimetype": "text/x-python",
   "name": "python",
   "nbconvert_exporter": "python",
   "pygments_lexer": "ipython3",
   "version": "3.7.12"
  },
  "toc": {
   "base_numbering": 1,
   "nav_menu": {},
   "number_sections": true,
   "sideBar": true,
   "skip_h1_title": false,
   "title_cell": "Table of Contents",
   "title_sidebar": "Contents",
   "toc_cell": false,
   "toc_position": {
    "height": "calc(100% - 180px)",
    "left": "10px",
    "top": "150px",
    "width": "307.1964416503906px"
   },
   "toc_section_display": true,
   "toc_window_display": true
  }
 },
 "nbformat": 4,
 "nbformat_minor": 4
}
