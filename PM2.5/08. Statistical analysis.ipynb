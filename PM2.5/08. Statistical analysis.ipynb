{
 "cells": [
  {
   "cell_type": "markdown",
   "metadata": {},
   "source": [
    "# Libraries"
   ]
  },
  {
   "cell_type": "code",
   "execution_count": 1,
   "metadata": {},
   "outputs": [],
   "source": [
    "import warnings\n",
    "warnings.filterwarnings(\"ignore\")"
   ]
  },
  {
   "cell_type": "code",
   "execution_count": 2,
   "metadata": {},
   "outputs": [],
   "source": [
    "# =-=-=-=-=-=-=-=-=-=-=-=-=-=-=-=-=-=-=-=-=-=-=-=-=-=-=-=-=-=-=-=-=-=-=-=-=-=\n",
    "# Basic libraries\n",
    "#\n",
    "import time\n",
    "import pandas    as pd\n",
    "import numpy     as np\n",
    "from   tqdm      import tqdm\n",
    "\n",
    "\n",
    "# =-=-=-=-=-=-=-=-=-=-=-=-=-=-=-=-=-=-=-=-=-=-=-=-=-=-=-=-=-=-=-=-=-=-=-=-=-=\n",
    "# Visualization library\n",
    "#\n",
    "import matplotlib.pyplot   as plt \n",
    "\n",
    "\n",
    "\n",
    "# =-=-=-=-=-=-=-=-=-=-=-=-=-=-=-=-=-=-=-=-=-=-=-=-=-=-=-=-=-=-=-=-=-=-=-=-=-=-=-=-=-=-=-=-=-=-=-=-=-=-=-=-=-=-=-=-=-=-=-=-=-=-=-=-=-=-=-=-=-=-=-=-=-=-=-=-=\n",
    "#\n",
    "# User libraries\n",
    "#\n",
    "from utils.non_parametric_tests import *\n",
    "from utils.PerformanceProfiles  import *\n",
    "from utils.PerformanceMetrics   import RegressionEvaluation"
   ]
  },
  {
   "cell_type": "markdown",
   "metadata": {},
   "source": [
    "# Import data"
   ]
  },
  {
   "cell_type": "code",
   "execution_count": 3,
   "metadata": {},
   "outputs": [
    {
     "name": "stdout",
     "output_type": "stream",
     "text": [
      "[INFO] Number of methods:  8\n"
     ]
    }
   ],
   "source": [
    "from os import listdir\n",
    "from os.path import isfile, join\n",
    "\n",
    "path = 'Predictions/'\n",
    "Files = [f for f in listdir( path ) if isfile(join(path, f))]\n",
    "\n",
    "print('[INFO] Number of methods: ', len(Files) )"
   ]
  },
  {
   "cell_type": "code",
   "execution_count": 4,
   "metadata": {},
   "outputs": [
    {
     "name": "stdout",
     "output_type": "stream",
     "text": [
      "Model:  NBeats\n",
      "Model:  Hybrid\n",
      "Model:  RF\n",
      "Model:  RF_diff\n",
      "Model:  NBeats_diff\n",
      "Model:  Seq2Seq_LSTM_diff\n",
      "Model:  Seq2Seq_LSTM\n",
      "Model:  TabNet_diff\n"
     ]
    }
   ],
   "source": [
    "Results = []\n",
    "df      = None\n",
    "for file in Files:\n",
    "    # Get method\n",
    "    Method = file.split('.')[0] \n",
    "    print('Model: ', Method)\n",
    "    # Load data\n",
    "    temp = pd.read_csv(path + file, index_col = 0)\n",
    "    \n",
    "    # Evaluation\n",
    "    #\n",
    "    MAE, RMSE, MAPE, SMAPE, R2 = RegressionEvaluation( temp )\n",
    "    Results.append( [Method, MAE, RMSE, MAPE, SMAPE, 100*R2] )\n",
    "    \n",
    "    # Calculate Absolute Errors\n",
    "    temp[ Method ] = (temp.iloc[:,0] - temp.iloc[:,1]).abs().round(4)\n",
    "    # Keep only errors\n",
    "    temp = temp[ Method ]\n",
    "    \n",
    "    if (df is None):\n",
    "        df = temp\n",
    "    else:\n",
    "        df = pd.concat([df, temp], axis=1)\n",
    "        \n",
    "\n",
    "# df.head( 3 )"
   ]
  },
  {
   "cell_type": "markdown",
   "metadata": {},
   "source": [
    "# Performance evaluation based on metrics"
   ]
  },
  {
   "cell_type": "code",
   "execution_count": 5,
   "metadata": {},
   "outputs": [
    {
     "data": {
      "text/html": [
       "<div>\n",
       "<style scoped>\n",
       "    .dataframe tbody tr th:only-of-type {\n",
       "        vertical-align: middle;\n",
       "    }\n",
       "\n",
       "    .dataframe tbody tr th {\n",
       "        vertical-align: top;\n",
       "    }\n",
       "\n",
       "    .dataframe thead th {\n",
       "        text-align: right;\n",
       "    }\n",
       "</style>\n",
       "<table border=\"1\" class=\"dataframe\">\n",
       "  <thead>\n",
       "    <tr style=\"text-align: right;\">\n",
       "      <th></th>\n",
       "      <th>Method</th>\n",
       "      <th>MAE</th>\n",
       "      <th>RMSE</th>\n",
       "      <th>MAPE</th>\n",
       "      <th>SMAPE</th>\n",
       "      <th>R2</th>\n",
       "    </tr>\n",
       "  </thead>\n",
       "  <tbody>\n",
       "    <tr>\n",
       "      <th>0</th>\n",
       "      <td>Hybrid</td>\n",
       "      <td>0.810</td>\n",
       "      <td>1.536</td>\n",
       "      <td>28.979</td>\n",
       "      <td>27.127</td>\n",
       "      <td>50.02</td>\n",
       "    </tr>\n",
       "    <tr>\n",
       "      <th>1</th>\n",
       "      <td>NBeats</td>\n",
       "      <td>0.859</td>\n",
       "      <td>1.543</td>\n",
       "      <td>34.790</td>\n",
       "      <td>30.081</td>\n",
       "      <td>49.55</td>\n",
       "    </tr>\n",
       "    <tr>\n",
       "      <th>2</th>\n",
       "      <td>NBeats_diff</td>\n",
       "      <td>0.819</td>\n",
       "      <td>1.560</td>\n",
       "      <td>28.991</td>\n",
       "      <td>27.015</td>\n",
       "      <td>48.43</td>\n",
       "    </tr>\n",
       "    <tr>\n",
       "      <th>3</th>\n",
       "      <td>RF</td>\n",
       "      <td>0.856</td>\n",
       "      <td>1.565</td>\n",
       "      <td>32.786</td>\n",
       "      <td>28.808</td>\n",
       "      <td>48.14</td>\n",
       "    </tr>\n",
       "    <tr>\n",
       "      <th>4</th>\n",
       "      <td>RF_diff</td>\n",
       "      <td>0.849</td>\n",
       "      <td>1.556</td>\n",
       "      <td>32.637</td>\n",
       "      <td>28.589</td>\n",
       "      <td>48.75</td>\n",
       "    </tr>\n",
       "    <tr>\n",
       "      <th>5</th>\n",
       "      <td>Seq2Seq_LSTM</td>\n",
       "      <td>0.814</td>\n",
       "      <td>1.542</td>\n",
       "      <td>29.546</td>\n",
       "      <td>27.305</td>\n",
       "      <td>49.67</td>\n",
       "    </tr>\n",
       "    <tr>\n",
       "      <th>6</th>\n",
       "      <td>Seq2Seq_LSTM_diff</td>\n",
       "      <td>0.815</td>\n",
       "      <td>1.534</td>\n",
       "      <td>28.905</td>\n",
       "      <td>27.082</td>\n",
       "      <td>50.14</td>\n",
       "    </tr>\n",
       "    <tr>\n",
       "      <th>7</th>\n",
       "      <td>TabNet_diff</td>\n",
       "      <td>0.822</td>\n",
       "      <td>1.555</td>\n",
       "      <td>30.085</td>\n",
       "      <td>27.304</td>\n",
       "      <td>48.77</td>\n",
       "    </tr>\n",
       "  </tbody>\n",
       "</table>\n",
       "</div>"
      ],
      "text/plain": [
       "              Method    MAE   RMSE    MAPE   SMAPE     R2\n",
       "0             Hybrid  0.810  1.536  28.979  27.127  50.02\n",
       "1             NBeats  0.859  1.543  34.790  30.081  49.55\n",
       "2        NBeats_diff  0.819  1.560  28.991  27.015  48.43\n",
       "3                 RF  0.856  1.565  32.786  28.808  48.14\n",
       "4            RF_diff  0.849  1.556  32.637  28.589  48.75\n",
       "5       Seq2Seq_LSTM  0.814  1.542  29.546  27.305  49.67\n",
       "6  Seq2Seq_LSTM_diff  0.815  1.534  28.905  27.082  50.14\n",
       "7        TabNet_diff  0.822  1.555  30.085  27.304  48.77"
      ]
     },
     "execution_count": 5,
     "metadata": {},
     "output_type": "execute_result"
    }
   ],
   "source": [
    "Results = pd.DataFrame(data = Results, columns = ['Method', 'MAE', 'RMSE', 'MAPE', 'SMAPE', 'R2'] )\n",
    "\n",
    "Results['MAE']   = Results['MAE'].apply(lambda x: np.round(x,3))\n",
    "Results['RMSE']  = Results['RMSE'].apply(lambda x: np.round(x,3))\n",
    "Results['MAPE']  = Results['MAPE'].apply(lambda x: np.round(x,3))\n",
    "Results['SMAPE'] = Results['SMAPE'].apply(lambda x: np.round(x,3))\n",
    "Results['R2']    = Results['R2'].apply(lambda x: np.round(x,2))\n",
    "\n",
    "\n",
    "Results.sort_values(by = 'Method', ignore_index = True)"
   ]
  },
  {
   "cell_type": "code",
   "execution_count": 6,
   "metadata": {},
   "outputs": [],
   "source": [
    "for x in df.columns:\n",
    "    df[x] = df[x].apply(lambda x: np.round(x, 1))"
   ]
  },
  {
   "cell_type": "markdown",
   "metadata": {},
   "source": [
    "# Performance profiles\n",
    "\n",
    "- Dolan, E. D., & Moré, J. J. (2002). Benchmarking optimization software with performance profiles. Mathematical programming, 91(2), 201-213.\n",
    "ISO 690\t\n"
   ]
  },
  {
   "cell_type": "code",
   "execution_count": 7,
   "metadata": {},
   "outputs": [
    {
     "name": "stdout",
     "output_type": "stream",
     "text": [
      "              NBeats solved 15.02% of cases with the best (least) score\n",
      "              Hybrid solved 20.20% of cases with the best (least) score\n",
      "                  RF solved 19.70% of cases with the best (least) score\n",
      "             RF_diff solved 18.00% of cases with the best (least) score\n",
      "         NBeats_diff solved 21.42% of cases with the best (least) score\n",
      "   Seq2Seq_LSTM_diff solved 17.08% of cases with the best (least) score\n",
      "        Seq2Seq_LSTM solved 13.35% of cases with the best (least) score\n",
      "         TabNet_diff solved 15.37% of cases with the best (least) score\n"
     ]
    },
    {
     "data": {
      "image/png": "[encoded data removed]",
      "text/plain": [
       "<Figure size 1080x432 with 1 Axes>"
      ]
     },
     "metadata": {
      "needs_background": "light"
     },
     "output_type": "display_data"
    }
   ],
   "source": [
    "perfprof(df, \n",
    "#          linespecs = ['r-', 'b-', 'g--', 'c-.', 'm-.', 'y--'], \n",
    "         digit       = 3,\n",
    "         legendnames = df.columns,\n",
    "         thmax       = 10, \n",
    "         figsize     = (15, 6))\n",
    "\n",
    "# plt.xscale('log')\n",
    "\n",
    "# plt.ylim([0.1, 0.5])"
   ]
  },
  {
   "cell_type": "markdown",
   "metadata": {},
   "source": [
    "# Statistical analysis\n",
    "\n",
    "- Derrac, J., García, S., Molina, D., & Herrera, F. (2011). A practical tutorial on the use of nonparametric statistical tests as a methodology for comparing evolutionary and swarm intelligence algorithms. Swarm and Evolutionary Computation, 1(1), 3-18.\n",
    "\n",
    "- García, S., Fernández, A., Luengo, J., & Herrera, F. (2010). Advanced nonparametric tests for multiple comparisons in the design of experiments in computational intelligence and data mining: Experimental analysis of power. Information sciences, 180(10), 2044-2064."
   ]
  },
  {
   "cell_type": "code",
   "execution_count": 8,
   "metadata": {},
   "outputs": [],
   "source": [
    "# df = df[:1000]"
   ]
  },
  {
   "cell_type": "markdown",
   "metadata": {},
   "source": [
    "## Friedman Aligned Ranking (FAR)"
   ]
  },
  {
   "cell_type": "code",
   "execution_count": 9,
   "metadata": {},
   "outputs": [
    {
     "name": "stdout",
     "output_type": "stream",
     "text": [
      "[INFO] Number of methods:   8\n",
      "[INFO] Number of problems:  1000\n",
      "\n",
      "\n",
      "[INFO] H0: {All methods exhibited similar results with no statistical differences}\n",
      "[INFO] FAR: 24.906 (p-value: 0.00079)\n",
      "\t> H0 is rejected\n"
     ]
    }
   ],
   "source": [
    "T, p_value, rankings_avg, rankings_cmp = friedman_aligned_ranks_test( df )\n",
    "\n",
    "\n",
    "# Summary\n",
    "#\n",
    "print('\\n')\n",
    "print('[INFO] H0: {All methods exhibited similar results with no statistical differences}')\n",
    "print('[INFO] FAR: %.3f (p-value: %.5f)' % (T, p_value))\n",
    "if (p_value < 0.05):\n",
    "    print('\\t> H0 is rejected')\n",
    "else:\n",
    "    print('\\t> H0 is failed to be rejected')"
   ]
  },
  {
   "cell_type": "markdown",
   "metadata": {},
   "source": [
    "### FAR ranking"
   ]
  },
  {
   "cell_type": "code",
   "execution_count": 10,
   "metadata": {},
   "outputs": [
    {
     "data": {
      "text/html": [
       "<div>\n",
       "<style scoped>\n",
       "    .dataframe tbody tr th:only-of-type {\n",
       "        vertical-align: middle;\n",
       "    }\n",
       "\n",
       "    .dataframe tbody tr th {\n",
       "        vertical-align: top;\n",
       "    }\n",
       "\n",
       "    .dataframe thead th {\n",
       "        text-align: right;\n",
       "    }\n",
       "</style>\n",
       "<table border=\"1\" class=\"dataframe\">\n",
       "  <thead>\n",
       "    <tr style=\"text-align: right;\">\n",
       "      <th></th>\n",
       "      <th>Methods</th>\n",
       "      <th>FAR</th>\n",
       "    </tr>\n",
       "  </thead>\n",
       "  <tbody>\n",
       "    <tr>\n",
       "      <th>0</th>\n",
       "      <td>TabNet_diff</td>\n",
       "      <td>3807.4775</td>\n",
       "    </tr>\n",
       "    <tr>\n",
       "      <th>1</th>\n",
       "      <td>Seq2Seq_LSTM_diff</td>\n",
       "      <td>3867.7140</td>\n",
       "    </tr>\n",
       "    <tr>\n",
       "      <th>2</th>\n",
       "      <td>NBeats_diff</td>\n",
       "      <td>3873.3225</td>\n",
       "    </tr>\n",
       "    <tr>\n",
       "      <th>3</th>\n",
       "      <td>RF_diff</td>\n",
       "      <td>4010.2090</td>\n",
       "    </tr>\n",
       "    <tr>\n",
       "      <th>4</th>\n",
       "      <td>Seq2Seq_LSTM</td>\n",
       "      <td>4032.5980</td>\n",
       "    </tr>\n",
       "    <tr>\n",
       "      <th>5</th>\n",
       "      <td>NBeats</td>\n",
       "      <td>4074.2440</td>\n",
       "    </tr>\n",
       "    <tr>\n",
       "      <th>6</th>\n",
       "      <td>RF</td>\n",
       "      <td>4083.9710</td>\n",
       "    </tr>\n",
       "    <tr>\n",
       "      <th>7</th>\n",
       "      <td>Hybrid</td>\n",
       "      <td>4254.4640</td>\n",
       "    </tr>\n",
       "  </tbody>\n",
       "</table>\n",
       "</div>"
      ],
      "text/plain": [
       "             Methods        FAR\n",
       "0        TabNet_diff  3807.4775\n",
       "1  Seq2Seq_LSTM_diff  3867.7140\n",
       "2        NBeats_diff  3873.3225\n",
       "3            RF_diff  4010.2090\n",
       "4       Seq2Seq_LSTM  4032.5980\n",
       "5             NBeats  4074.2440\n",
       "6                 RF  4083.9710\n",
       "7             Hybrid  4254.4640"
      ]
     },
     "execution_count": 10,
     "metadata": {},
     "output_type": "execute_result"
    }
   ],
   "source": [
    "Ranking            = pd.DataFrame( [] )\n",
    "Ranking['Methods'] = df.columns\n",
    "Ranking['FAR']     = rankings_avg\n",
    "\n",
    "Ranking = Ranking.sort_values(by           = 'FAR', \n",
    "                              ignore_index = True)\n",
    "Ranking"
   ]
  },
  {
   "cell_type": "markdown",
   "metadata": {},
   "source": [
    "## Finner post-hoc test"
   ]
  },
  {
   "cell_type": "code",
   "execution_count": 11,
   "metadata": {},
   "outputs": [],
   "source": [
    "# Create dictionary with rankings\n",
    "#\n",
    "d = {}\n",
    "for i, feature in enumerate( df.columns ):\n",
    "    d[ feature ] = rankings_cmp[i] "
   ]
  },
  {
   "cell_type": "markdown",
   "metadata": {},
   "source": [
    "### Multiple comparisons ($1 \\times N$)\n",
    "\n",
    "**Finner post-hoc test**"
   ]
  },
  {
   "cell_type": "code",
   "execution_count": 12,
   "metadata": {},
   "outputs": [
    {
     "name": "stdout",
     "output_type": "stream",
     "text": [
      "[INFO] Control method:  TabNet_diff\n"
     ]
    },
    {
     "data": {
      "text/html": [
       "<div>\n",
       "<style scoped>\n",
       "    .dataframe tbody tr th:only-of-type {\n",
       "        vertical-align: middle;\n",
       "    }\n",
       "\n",
       "    .dataframe tbody tr th {\n",
       "        vertical-align: top;\n",
       "    }\n",
       "\n",
       "    .dataframe thead th {\n",
       "        text-align: right;\n",
       "    }\n",
       "</style>\n",
       "<table border=\"1\" class=\"dataframe\">\n",
       "  <thead>\n",
       "    <tr style=\"text-align: right;\">\n",
       "      <th></th>\n",
       "      <th>Comparisons</th>\n",
       "      <th>APV</th>\n",
       "      <th>Null hypothesis</th>\n",
       "    </tr>\n",
       "  </thead>\n",
       "  <tbody>\n",
       "    <tr>\n",
       "      <th>0</th>\n",
       "      <td>TabNet_diff vs NBeats_diff</td>\n",
       "      <td>0.579187</td>\n",
       "      <td>Failed to reject</td>\n",
       "    </tr>\n",
       "    <tr>\n",
       "      <th>1</th>\n",
       "      <td>TabNet_diff vs Seq2Seq_LSTM_diff</td>\n",
       "      <td>0.579187</td>\n",
       "      <td>Failed to reject</td>\n",
       "    </tr>\n",
       "    <tr>\n",
       "      <th>2</th>\n",
       "      <td>TabNet_diff vs RF_diff</td>\n",
       "      <td>0.068837</td>\n",
       "      <td>Failed to reject</td>\n",
       "    </tr>\n",
       "    <tr>\n",
       "      <th>3</th>\n",
       "      <td>TabNet_diff vs Seq2Seq_LSTM</td>\n",
       "      <td>0.050690</td>\n",
       "      <td>Failed to reject</td>\n",
       "    </tr>\n",
       "    <tr>\n",
       "      <th>4</th>\n",
       "      <td>TabNet_diff vs RF</td>\n",
       "      <td>0.025761</td>\n",
       "      <td>Rejected</td>\n",
       "    </tr>\n",
       "    <tr>\n",
       "      <th>5</th>\n",
       "      <td>TabNet_diff vs NBeats</td>\n",
       "      <td>0.025761</td>\n",
       "      <td>Rejected</td>\n",
       "    </tr>\n",
       "    <tr>\n",
       "      <th>6</th>\n",
       "      <td>TabNet_diff vs Hybrid</td>\n",
       "      <td>0.000105</td>\n",
       "      <td>Rejected</td>\n",
       "    </tr>\n",
       "  </tbody>\n",
       "</table>\n",
       "</div>"
      ],
      "text/plain": [
       "                        Comparisons       APV   Null hypothesis\n",
       "0        TabNet_diff vs NBeats_diff  0.579187  Failed to reject\n",
       "1  TabNet_diff vs Seq2Seq_LSTM_diff  0.579187  Failed to reject\n",
       "2            TabNet_diff vs RF_diff  0.068837  Failed to reject\n",
       "3       TabNet_diff vs Seq2Seq_LSTM  0.050690  Failed to reject\n",
       "4                 TabNet_diff vs RF  0.025761          Rejected\n",
       "5             TabNet_diff vs NBeats  0.025761          Rejected\n",
       "6             TabNet_diff vs Hybrid  0.000105          Rejected"
      ]
     },
     "execution_count": 12,
     "metadata": {},
     "output_type": "execute_result"
    }
   ],
   "source": [
    "comparisons, z_values, p_values, adj_p_values = finner_test( d )\n",
    "\n",
    "Finner = pd.DataFrame( [] )\n",
    "Finner['Comparisons']     = comparisons\n",
    "Finner['APV']             = adj_p_values\n",
    "Finner['Null hypothesis'] = Finner['APV'].apply(lambda x: 'Rejected' if x < 0.05 else 'Failed to reject')\n",
    "\n",
    "Finner = Finner.sort_values(by = 'APV', ascending = False, ignore_index = True)\n",
    "Finner"
   ]
  },
  {
   "cell_type": "code",
   "execution_count": 13,
   "metadata": {},
   "outputs": [],
   "source": [
    "# Ranking['Methods'] = ['Seq2Seq LSTM (Hybrid)', 'Seq2Seq LSTM + (d-diff)', 'NBeats', 'NBeats + (d-diff)', 'RF + (d-diff)', 'Seq2Seq LSTM', 'RF']\n",
    "# #\n",
    "# Ranking = Ranking.sort_values(by = 'FAR', ignore_index = True)\n",
    "# Ranking['APV'] = '-'\n",
    "# Ranking['APV'][1:] = Finner['APV']\n",
    "# Ranking['Null hypothesis'] = '-'\n",
    "# Ranking['Null hypothesis'][1:] = Finner['Null hypothesis']\n",
    "# Ranking\n"
   ]
  },
  {
   "cell_type": "markdown",
   "metadata": {},
   "source": [
    "### Multiple comparisons ($N \\times N$)\n",
    "\n",
    "**Finner-multitest post-hoc test**"
   ]
  },
  {
   "cell_type": "code",
   "execution_count": 14,
   "metadata": {},
   "outputs": [],
   "source": [
    "# comparisons, z_values, p_values, adj_p_values = finner_multitest(d)\n",
    "\n",
    "# Finner = pd.DataFrame( [] )\n",
    "# Finner['Comparisons']     = comparisons\n",
    "# Finner['APV']             = adj_p_values\n",
    "# Finner['Null hypothesis'] = Finner['APV'].apply(lambda x: 'Rejected' if x < 0.05 else 'Failed to reject')\n",
    "\n",
    "# Finner"
   ]
  },
  {
   "cell_type": "code",
   "execution_count": null,
   "metadata": {},
   "outputs": [],
   "source": []
  }
 ],
 "metadata": {
  "kernelspec": {
   "display_name": "Python [conda env:tensorflow]",
   "language": "python",
   "name": "conda-env-tensorflow-py"
  },
  "language_info": {
   "codemirror_mode": {
    "name": "ipython",
    "version": 3
   },
   "file_extension": ".py",
   "mimetype": "text/x-python",
   "name": "python",
   "nbconvert_exporter": "python",
   "pygments_lexer": "ipython3",
   "version": "3.7.12"
  },
  "toc": {
   "base_numbering": 1,
   "nav_menu": {},
   "number_sections": true,
   "sideBar": true,
   "skip_h1_title": false,
   "title_cell": "Table of Contents",
   "title_sidebar": "Contents",
   "toc_cell": false,
   "toc_position": {
    "height": "calc(100% - 180px)",
    "left": "10px",
    "top": "150px",
    "width": "180.50892639160156px"
   },
   "toc_section_display": true,
   "toc_window_display": true
  }
 },
 "nbformat": 4,
 "nbformat_minor": 4
}
