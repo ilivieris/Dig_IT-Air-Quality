{
 "cells": [
  {
   "cell_type": "markdown",
   "metadata": {},
   "source": [
    "# Libraries"
   ]
  },
  {
   "cell_type": "code",
   "execution_count": 1,
   "metadata": {},
   "outputs": [],
   "source": [
    "import warnings\n",
    "warnings.filterwarnings(\"ignore\")\n",
    "\n",
    "# import tensorflow as tf\n",
    "# tf.config.experimental_run_functions_eagerly(True)\n",
    "# tf.keras.backend.set_floatx('float64')\n",
    "\n",
    "# import tensorflow.python.util.deprecation as deprecation\n",
    "# deprecation._PRINT_DEPRECATION_WARNINGS = False"
   ]
  },
  {
   "cell_type": "code",
   "execution_count": 2,
   "metadata": {},
   "outputs": [
    {
     "name": "stdout",
     "output_type": "stream",
     "text": [
      "[INFO] Libraries imported\n"
     ]
    }
   ],
   "source": [
    "# %matplotlib inline\n",
    "%load_ext autoreload\n",
    "%autoreload 2\n",
    "\n",
    "# =-=-=-=-=-=-=-=-=-=-=-=-=-=-=-=-=-=-=-=-=-=-=-=-=-=-=-=-=-=-=-=-=-=-=-=-=-=\n",
    "# Basic libraries\n",
    "#\n",
    "import math\n",
    "import time\n",
    "import timeit\n",
    "import pickle\n",
    "from   tqdm    import tqdm\n",
    "import pandas  as pd\n",
    "import numpy   as np\n",
    "\n",
    "\n",
    "# =-=-=-=-=-=-=-=-=-=-=-=-=-=-=-=-=-=-=-=-=-=-=-=-=-=-=-=-=-=-=-=-=-=-=-=-=-=\n",
    "# Visualization library\n",
    "#\n",
    "import matplotlib.pyplot                        as plt \n",
    "\n",
    "\n",
    "# =-=-=-=-=-=-=-=-=-=-=-=-=-=-=-=-=-=-=-=-=-=-=-=-=-=-=-=-=-=-=-=-=-=-=-=-=-=\n",
    "# Sklearn library\n",
    "#\n",
    "from sklearn.preprocessing import MinMaxScaler\n",
    "from sklearn.preprocessing import RobustScaler\n",
    "from sklearn.preprocessing import StandardScaler\n",
    "from sklearn.preprocessing import PowerTransformer\n",
    "\n",
    "\n",
    "# =-=-=-=-=-=-=-=-=-=-=-=-=-=-=-=-=-=-=-=-=-=-=-=-=-=-=-=-=-=-=-=-=-=-=-=-=-=\n",
    "# Tensorflow library\n",
    "#\n",
    "import tensorflow\n",
    "from   tensorflow.keras.models                  import *\n",
    "from   tensorflow.keras.layers                  import *\n",
    "from   tensorflow.keras.callbacks               import *\n",
    "from   tensorflow.keras.metrics                 import *\n",
    "from   tensorflow.keras.optimizers              import *\n",
    "\n",
    "\n",
    "# =-=-=-=-=-=-=-=-=-=-=-=-=-=-=-=-=-=-=-=-=-=-=-=-=-=-=-=-=-=-=-=-=-=-=-=-=-=\n",
    "# User library\n",
    "#\n",
    "from utils.PerformanceMetrics import RegressionEvaluation\n",
    "\n",
    "\n",
    "print('[INFO] Libraries imported')"
   ]
  },
  {
   "cell_type": "code",
   "execution_count": 3,
   "metadata": {},
   "outputs": [],
   "source": [
    "from tensorflow.python.keras.utils.generic_utils import get_custom_objects\n",
    "from tensorflow.keras.layers import Activation\n",
    "\n",
    "def swish(x, beta = 1):\n",
    "    return (x * sigmoid(beta * x))\n",
    "\n",
    "        \n",
    "get_custom_objects().update({'swish': Activation(swish)})\n",
    "\n",
    "\n",
    "\n",
    "# from tensorflow.keras.utils  import get_custom_objects\n",
    "\n",
    "def gelu(x):\n",
    "    return 0.5 * x * (1 + tensorflow.tanh(tensorflow.sqrt(2 / np.pi) * (x + 0.044715 * x**3)))\n",
    "    # return tf.keras.backend.hard_sigmoid(1.702 * x) * x\n",
    "\n",
    "get_custom_objects().update({'gelu':  Activation(gelu)})"
   ]
  },
  {
   "cell_type": "markdown",
   "metadata": {},
   "source": [
    "# Parameters"
   ]
  },
  {
   "cell_type": "code",
   "execution_count": 4,
   "metadata": {},
   "outputs": [],
   "source": [
    "import random, os\n",
    "seed = 42\n",
    "    \n",
    "random.seed(seed)\n",
    "os.environ[\"PYTHONHASHSEED\"] = str(seed)\n",
    "np.random.seed(seed)\n",
    "tensorflow.random.set_seed(seed)"
   ]
  },
  {
   "cell_type": "markdown",
   "metadata": {},
   "source": [
    "## CUDA"
   ]
  },
  {
   "cell_type": "code",
   "execution_count": 5,
   "metadata": {},
   "outputs": [],
   "source": [
    "try:\n",
    "    gpus = tensorflow.config.list_physical_devices('GPU')\n",
    "    if gpus:\n",
    "        try:\n",
    "            # Currently, memory growth needs to be the same across GPUs\n",
    "            for gpu in gpus:\n",
    "                tensorflow.config.experimental.set_memory_growth(gpu, True)\n",
    "\n",
    "            logical_gpus = tensorflow.config.list_logical_devices('GPU')\n",
    "            print(len(gpus), \"Physical GPUs,\", len(logical_gpus), \"Logical GPUs\")\n",
    "\n",
    "        except RuntimeError as e:\n",
    "\n",
    "            # Memory growth must be set before GPUs have been initialized\n",
    "            print(e)\n",
    "except:\n",
    "    print('[INFO] Not GPU found')"
   ]
  },
  {
   "cell_type": "markdown",
   "metadata": {},
   "source": [
    "## Training paramers"
   ]
  },
  {
   "cell_type": "code",
   "execution_count": 6,
   "metadata": {},
   "outputs": [],
   "source": [
    "Lag        =   12\n",
    "Horizon    =    2\n",
    "#\n",
    "epochs     =  500\n",
    "batch_size =  256\n",
    "\n",
    "Transformation = True"
   ]
  },
  {
   "cell_type": "markdown",
   "metadata": {},
   "source": [
    "# Importing data"
   ]
  },
  {
   "cell_type": "code",
   "execution_count": 7,
   "metadata": {},
   "outputs": [
    {
     "name": "stdout",
     "output_type": "stream",
     "text": [
      "[INFO] Data imported\n",
      "[INFO] Time: 0.29 seconds\n"
     ]
    },
    {
     "data": {
      "text/html": [
       "<div>\n",
       "<style scoped>\n",
       "    .dataframe tbody tr th:only-of-type {\n",
       "        vertical-align: middle;\n",
       "    }\n",
       "\n",
       "    .dataframe tbody tr th {\n",
       "        vertical-align: top;\n",
       "    }\n",
       "\n",
       "    .dataframe thead th {\n",
       "        text-align: right;\n",
       "    }\n",
       "</style>\n",
       "<table border=\"1\" class=\"dataframe\">\n",
       "  <thead>\n",
       "    <tr style=\"text-align: right;\">\n",
       "      <th></th>\n",
       "      <th>Date</th>\n",
       "      <th>Temperature</th>\n",
       "      <th>Humidity</th>\n",
       "      <th>PM2.5</th>\n",
       "      <th>PM10</th>\n",
       "      <th>NO2</th>\n",
       "      <th>CO</th>\n",
       "    </tr>\n",
       "  </thead>\n",
       "  <tbody>\n",
       "    <tr>\n",
       "      <th>0</th>\n",
       "      <td>2022-02-19 00:00:09</td>\n",
       "      <td>-2.4</td>\n",
       "      <td>86.0</td>\n",
       "      <td>2.7</td>\n",
       "      <td>4.9</td>\n",
       "      <td>212.0</td>\n",
       "      <td>263.0</td>\n",
       "    </tr>\n",
       "    <tr>\n",
       "      <th>1</th>\n",
       "      <td>2022-02-19 00:00:25</td>\n",
       "      <td>-2.4</td>\n",
       "      <td>86.0</td>\n",
       "      <td>2.7</td>\n",
       "      <td>7.6</td>\n",
       "      <td>209.0</td>\n",
       "      <td>261.0</td>\n",
       "    </tr>\n",
       "    <tr>\n",
       "      <th>2</th>\n",
       "      <td>2022-02-19 00:00:41</td>\n",
       "      <td>-2.4</td>\n",
       "      <td>86.0</td>\n",
       "      <td>2.6</td>\n",
       "      <td>7.3</td>\n",
       "      <td>204.0</td>\n",
       "      <td>258.0</td>\n",
       "    </tr>\n",
       "  </tbody>\n",
       "</table>\n",
       "</div>"
      ],
      "text/plain": [
       "                  Date  Temperature  Humidity  PM2.5  PM10    NO2     CO\n",
       "0  2022-02-19 00:00:09         -2.4      86.0    2.7   4.9  212.0  263.0\n",
       "1  2022-02-19 00:00:25         -2.4      86.0    2.7   7.6  209.0  261.0\n",
       "2  2022-02-19 00:00:41         -2.4      86.0    2.6   7.3  204.0  258.0"
      ]
     },
     "execution_count": 7,
     "metadata": {},
     "output_type": "execute_result"
    }
   ],
   "source": [
    "# =-=-=-=-=-=-=-=-=-=-=-=-=-=-=-=-=-=-=-=-=-=-=-=-=-=-=-=-=-=-=-=-=-=-=-=-=-=-=-=-=-=\n",
    "# Data concern the concentration from a mine in Norway\n",
    "# =-=-=-=-=-=-=-=-=-=-=-=-=-=-=-=-=-=-=-=-=-=-=-=-=-=-=-=-=-=-=-=-=-=-=-=-=-=-=-=-=-=\n",
    "\n",
    " \n",
    "\n",
    "# # Parameters\n",
    "#\n",
    "filename   = '../metadata/7-kanal-1.csv'\n",
    "\n",
    "Transformation  = True\n",
    "Scaling         = 'Standard'\n",
    "\n",
    "\n",
    "\n",
    "# Start timer\n",
    "#\n",
    "start = time.time()\n",
    "\n",
    "# Load data\n",
    "#\n",
    "df = pd.read_csv( filename )\n",
    "\n",
    "print('[INFO] Data imported')\n",
    "print('[INFO] Time: %.2f seconds' % (time.time() - start))\n",
    "\n",
    "df.head(3)"
   ]
  },
  {
   "cell_type": "code",
   "execution_count": 8,
   "metadata": {},
   "outputs": [],
   "source": [
    "# # Parameters\n",
    "# #\n",
    "# filename   = '../Data/D-6-It.csv'\n",
    "\n",
    "# Transformation  = True\n",
    "# Scaling         = 'Standard'\n",
    "\n",
    "\n",
    "\n",
    "\n",
    "# # Start timer\n",
    "# #\n",
    "# start = time.time()\n",
    "\n",
    "# # Load data\n",
    "# #\n",
    "# df = pd.read_csv(filename, \n",
    "#                  sep = ',')\n",
    "\n",
    "\n",
    "# # Rename columns\n",
    "# #\n",
    "# df = df.rename(columns = {'created_at' : 'Date',\n",
    "#                           'field1' : 'Temperature',\n",
    "#                           'field2' : 'Humidity',\n",
    "#                           'field3' : 'PM2.5',\n",
    "#                           'field4' : 'PM10',\n",
    "#                           'field5' : 'NO2',\n",
    "#                           'field6' : 'CO',\n",
    "#                           'field7' : 'NH4',})\n",
    "\n",
    "\n",
    "\n",
    "# # End timer\n",
    "# #\n",
    "# print('[INFO] Time: %.2f' % (time.time() - start))\n",
    "\n",
    "# df.head( 3 )"
   ]
  },
  {
   "cell_type": "markdown",
   "metadata": {},
   "source": [
    "## Preprocess"
   ]
  },
  {
   "cell_type": "code",
   "execution_count": 9,
   "metadata": {},
   "outputs": [
    {
     "data": {
      "text/html": [
       "<div>\n",
       "<style scoped>\n",
       "    .dataframe tbody tr th:only-of-type {\n",
       "        vertical-align: middle;\n",
       "    }\n",
       "\n",
       "    .dataframe tbody tr th {\n",
       "        vertical-align: top;\n",
       "    }\n",
       "\n",
       "    .dataframe thead th {\n",
       "        text-align: right;\n",
       "    }\n",
       "</style>\n",
       "<table border=\"1\" class=\"dataframe\">\n",
       "  <thead>\n",
       "    <tr style=\"text-align: right;\">\n",
       "      <th></th>\n",
       "      <th>NO2</th>\n",
       "      <th>CO</th>\n",
       "    </tr>\n",
       "    <tr>\n",
       "      <th>Date</th>\n",
       "      <th></th>\n",
       "      <th></th>\n",
       "    </tr>\n",
       "  </thead>\n",
       "  <tbody>\n",
       "    <tr>\n",
       "      <th>2022-02-19 00:00:00</th>\n",
       "      <td>168.631579</td>\n",
       "      <td>240.710526</td>\n",
       "    </tr>\n",
       "    <tr>\n",
       "      <th>2022-02-19 00:10:00</th>\n",
       "      <td>135.394737</td>\n",
       "      <td>227.473684</td>\n",
       "    </tr>\n",
       "    <tr>\n",
       "      <th>2022-02-19 00:20:00</th>\n",
       "      <td>141.447368</td>\n",
       "      <td>229.526316</td>\n",
       "    </tr>\n",
       "  </tbody>\n",
       "</table>\n",
       "</div>"
      ],
      "text/plain": [
       "                            NO2          CO\n",
       "Date                                       \n",
       "2022-02-19 00:00:00  168.631579  240.710526\n",
       "2022-02-19 00:10:00  135.394737  227.473684\n",
       "2022-02-19 00:20:00  141.447368  229.526316"
      ]
     },
     "execution_count": 9,
     "metadata": {},
     "output_type": "execute_result"
    }
   ],
   "source": [
    "# Convert Date to 'datetime64'\n",
    "#\n",
    "df['Date'] = df['Date'].astype('datetime64')\n",
    "\n",
    "# Set index\n",
    "#\n",
    "df.set_index('Date', inplace=True)\n",
    "\n",
    "\n",
    "\n",
    "df = df.resample('10min').mean()#.interpolate()\n",
    "# df = pd.DataFrame( df[ ['CO'] ] )\n",
    "\n",
    "# The last feature is the target variable\n",
    "df = pd.DataFrame( df[ ['NO2', 'CO'] ] )\n",
    "# df = pd.DataFrame( df[ ['Temperature', 'Humidity', 'NO2', 'CO'] ] )\n",
    "\n",
    "\n",
    "df.head(3)"
   ]
  },
  {
   "cell_type": "code",
   "execution_count": 10,
   "metadata": {},
   "outputs": [],
   "source": [
    "# Set target series/Series which will be forecasted\n",
    "# \n",
    "targetSeries = df.columns[-1]\n",
    "\n",
    "# Set all other utilized features\n",
    "Features = df.columns[:-1]"
   ]
  },
  {
   "cell_type": "markdown",
   "metadata": {},
   "source": [
    "## Split Training/Testing set"
   ]
  },
  {
   "cell_type": "code",
   "execution_count": 11,
   "metadata": {},
   "outputs": [],
   "source": [
    "idx = int( df.shape[0] * 0.8 )\n",
    "\n",
    "df_train = df[ :idx ]\n",
    "df_test  = df[ idx: ]"
   ]
  },
  {
   "cell_type": "code",
   "execution_count": 12,
   "metadata": {},
   "outputs": [
    {
     "name": "stdout",
     "output_type": "stream",
     "text": [
      "Training:  8558\n",
      "Testing:   2140\n"
     ]
    }
   ],
   "source": [
    "print('Training: ', df_train.shape[0])\n",
    "print('Testing:  ', df_test.shape[0])"
   ]
  },
  {
   "cell_type": "markdown",
   "metadata": {},
   "source": [
    "## Visualize Training & Testing data"
   ]
  },
  {
   "cell_type": "code",
   "execution_count": 13,
   "metadata": {},
   "outputs": [
    {
     "data": {
      "image/png": "[encoded data removed]",
      "text/plain": [
       "<Figure size 1440x288 with 1 Axes>"
      ]
     },
     "metadata": {
      "needs_background": "light"
     },
     "output_type": "display_data"
    }
   ],
   "source": [
    "plt.figure( figsize = (20, 4) );\n",
    "#\n",
    "df_train[ targetSeries ].plot()\n",
    "df_test[ targetSeries ].plot()\n",
    "#\n",
    "plt.legend(['Training', 'Testing'], fontsize = 12, frameon = False);\n",
    "plt.ylabel( targetSeries, size = 12);\n",
    "plt.xlabel( 'Time', size = 12);"
   ]
  },
  {
   "cell_type": "markdown",
   "metadata": {},
   "source": [
    "## Fix lag"
   ]
  },
  {
   "cell_type": "code",
   "execution_count": 14,
   "metadata": {},
   "outputs": [],
   "source": [
    "df_test = pd.concat([df_train.iloc[-Lag:], df_test])"
   ]
  },
  {
   "cell_type": "markdown",
   "metadata": {},
   "source": [
    "## Contruction of fitting data for training a forecasting model"
   ]
  },
  {
   "cell_type": "markdown",
   "metadata": {},
   "source": [
    "### Data Transformation"
   ]
  },
  {
   "cell_type": "code",
   "execution_count": 15,
   "metadata": {},
   "outputs": [
    {
     "name": "stdout",
     "output_type": "stream",
     "text": [
      "[INFO] Data transformation applied\n"
     ]
    }
   ],
   "source": [
    "if (Transformation == True):\n",
    "    \n",
    "    print('[INFO] Data transformation applied')\n",
    "    \n",
    "    VALUE = np.ceil( max(abs( -df.min().min() ) + 1.0, 1.0) )\n",
    "    \n",
    "    df_train = np.log( df_train + VALUE)\n",
    "    df_test  = np.log( df_test  + VALUE)\n",
    "\n",
    "    # # Transformation parameter\n",
    "    # #\n",
    "    # d = {'parameter': VALUE}\n",
    "\n",
    "    # import json\n",
    "    # with open('checkpoints/Transformation.json', 'w') as fp:\n",
    "    #     json.dump(d, fp)\n",
    "    # print('[INFO] Parameters saved')\n",
    "\n",
    "else:\n",
    "    print('[INFO] No data transformation applied.')  "
   ]
  },
  {
   "cell_type": "markdown",
   "metadata": {},
   "source": [
    "### Data scaling "
   ]
  },
  {
   "cell_type": "code",
   "execution_count": 16,
   "metadata": {},
   "outputs": [
    {
     "name": "stdout",
     "output_type": "stream",
     "text": [
      "[INFO] Scaling: Standard\n"
     ]
    }
   ],
   "source": [
    "import pickle\n",
    "\n",
    "if (Scaling == 'MinMax'):\n",
    "    print('[INFO] Scaling: MinMax')\n",
    "    \n",
    "    # Set scaler\n",
    "    #\n",
    "    scaler = MinMaxScaler()\n",
    "    \n",
    "    df_train[ Features ] = scaler.fit_transform( df_train[ Features ].to_numpy().reshape(-1,1) )\n",
    "    df_test[ Features ]  = scaler.transform( df_test[ Features ].to_numpy().reshape(-1,1) )\n",
    "\n",
    "    # # Save Scaler\n",
    "    # #\n",
    "    # filename = 'checkpoints/Feature_scaler.pkl'\n",
    "    # pickle.dump(scaler, open(filename, 'wb'))\n",
    "    # print('[INFO] Feature scaler saved in ', filename)\n",
    "\n",
    "\n",
    "    # Scaling of Target Series\n",
    "    #\n",
    "    scaler = MinMaxScaler()\n",
    "    df_train[targetSeries] = scaler.fit_transform( df_train[ targetSeries ].to_numpy().reshape(-1,1) )\n",
    "    df_test[targetSeries]  = scaler.transform( df_test[ targetSeries ].to_numpy().reshape(-1,1) )\n",
    "            \n",
    "    # # Save Scaler\n",
    "    # #\n",
    "    # filename = 'checkpoints/Target_scaler.pkl'\n",
    "    # pickle.dump(scaler, open(filename, 'wb'))\n",
    "    # print('[INFO] Target scaler saved in ', filename)\n",
    "\n",
    "    \n",
    "elif (Scaling == 'Robust'):\n",
    "    print('[INFO] Scaling: Robust')\n",
    "    \n",
    "    # Set scaler\n",
    "    #\n",
    "    scaler = RobustScaler()\n",
    "    \n",
    "    df_train[ Features ] = scaler.fit_transform( df_train[ Features ].to_numpy().reshape(-1,1) )\n",
    "    df_test[ Features ]  = scaler.transform( df_test[ Features ].to_numpy().reshape(-1,1) )\n",
    "\n",
    "    # # Save Scaler\n",
    "    # #\n",
    "    # filename = 'checkpoints/Feature_scaler.pkl'\n",
    "    # pickle.dump(scaler, open(filename, 'wb'))\n",
    "    # print('[INFO] Feature scaler saved in ', filename)\n",
    "\n",
    "\n",
    "    # Scaling of Target Series\n",
    "    #\n",
    "    scaler = RobustScaler()\n",
    "    df_train[targetSeries] = scaler.fit_transform( df_train[ targetSeries ].to_numpy().reshape(-1,1) )\n",
    "    df_test[targetSeries]  = scaler.transform( df_test[ targetSeries ].to_numpy().reshape(-1,1) )\n",
    "            \n",
    "    # # Save Scaler\n",
    "    # #\n",
    "    # filename = 'checkpoints/Target_scaler.pkl'\n",
    "    # pickle.dump(scaler, open(filename, 'wb'))\n",
    "    # print('[INFO] Target scaler saved in ', filename)\n",
    "        \n",
    "elif (Scaling == 'Standard'):\n",
    "    print('[INFO] Scaling: Standard')\n",
    "\n",
    "    # Set scaler\n",
    "    #\n",
    "    scaler = StandardScaler()\n",
    "    \n",
    "    df_train[ Features ] = scaler.fit_transform( df_train[ Features ].to_numpy().reshape(-1,1) )\n",
    "    df_test[ Features ]  = scaler.transform( df_test[ Features ].to_numpy().reshape(-1,1) )\n",
    "\n",
    "    # # Save Scaler\n",
    "    # #\n",
    "    # filename = 'checkpoints/Feature_scaler.pkl'\n",
    "    # pickle.dump(scaler, open(filename, 'wb'))\n",
    "    # print('[INFO] Feature scaler saved in ', filename)\n",
    "\n",
    "\n",
    "    # Scaling of Target Series\n",
    "    #\n",
    "    scaler = StandardScaler()\n",
    "    df_train[targetSeries] = scaler.fit_transform( df_train[ targetSeries ].to_numpy().reshape(-1,1) )\n",
    "    df_test[targetSeries]  = scaler.transform( df_test[ targetSeries ].to_numpy().reshape(-1,1) )\n",
    "            \n",
    "    # # Save Scaler\n",
    "    # #\n",
    "    # filename = 'checkpoints/Target_scaler.pkl'\n",
    "    # pickle.dump(scaler, open(filename, 'wb'))\n",
    "    # print('[INFO] Target scaler saved in ', filename)       \n",
    "else:\n",
    "    print('[WARNING] Unknown data scaling. Standar scaling was selected')   "
   ]
  },
  {
   "cell_type": "markdown",
   "metadata": {},
   "source": [
    "### Include date/time features"
   ]
  },
  {
   "cell_type": "code",
   "execution_count": 17,
   "metadata": {},
   "outputs": [],
   "source": [
    "# df_train['Time (sin)'] = np.sin( df_train.index.hour + df_train.index.minute / 60 )\n",
    "# df_train['Time (cos)'] = np.cos( df_train.index.hour + df_train.index.minute / 60 )\n",
    "# #\n",
    "# df_test['Time (sin)']  = np.sin( df_test.index.hour + df_test.index.minute / 60 )\n",
    "# df_test['Time (cos)']  = np.cos( df_test.index.hour + df_test.index.minute / 60 )"
   ]
  },
  {
   "cell_type": "markdown",
   "metadata": {},
   "source": [
    "### Create fitting data "
   ]
  },
  {
   "cell_type": "code",
   "execution_count": 18,
   "metadata": {},
   "outputs": [],
   "source": [
    "def create_dataset(df = None, Lag = 1, Horizon = 12, targetSeries = None, overlap = 1):\n",
    "    \n",
    "    if (targetSeries is None):\n",
    "        targetSeries = df.columns[-1]\n",
    "    \n",
    "    dataX, dataY = [], []\n",
    "    for i in tqdm( range(0, df.shape[0] + 1  - Lag - Horizon, overlap) ):\n",
    "\n",
    "        # Check for NaN values\n",
    "        if (df[i:i + Lag + Horizon].dropna().shape[0] != df[i:i + Lag + Horizon].shape[0]): continue\n",
    "\n",
    "        dataX.append( df.to_numpy()[i:(i+Lag)] )        \n",
    "        dataY.append( df[ targetSeries ].to_numpy()[i + Lag : i + Lag + Horizon] )\n",
    "        \n",
    "        \n",
    "    return ( np.array(dataX), np.array(dataY) )"
   ]
  },
  {
   "cell_type": "code",
   "execution_count": 19,
   "metadata": {},
   "outputs": [
    {
     "name": "stderr",
     "output_type": "stream",
     "text": [
      "100%|██████████| 8545/8545 [00:06<00:00, 1252.67it/s]\n",
      "100%|██████████| 1070/1070 [00:00<00:00, 1233.86it/s]"
     ]
    },
    {
     "name": "stdout",
     "output_type": "stream",
     "text": [
      "Training instances:     8545\n",
      "Testing instances:      1070\n"
     ]
    },
    {
     "name": "stderr",
     "output_type": "stream",
     "text": [
      "\n"
     ]
    }
   ],
   "source": [
    "trainX, trainY = create_dataset(df           = df_train, \n",
    "                                Lag          = Lag, \n",
    "                                Horizon      = Horizon, \n",
    "                                targetSeries = targetSeries,\n",
    "                                overlap      = 1)\n",
    "                               \n",
    "\n",
    "testX,  testY  = create_dataset(df           = df_test, \n",
    "                                Lag          = Lag, \n",
    "                                Horizon      = Horizon, \n",
    "                                targetSeries = targetSeries,\n",
    "                                overlap      = Horizon)\n",
    "\n",
    "\n",
    "print('Training instances:   %6i' % trainX.shape[0])\n",
    "print('Testing instances:    %6i' % testX.shape[0])"
   ]
  },
  {
   "cell_type": "markdown",
   "metadata": {},
   "source": [
    "# Forecasting model"
   ]
  },
  {
   "cell_type": "code",
   "execution_count": 20,
   "metadata": {},
   "outputs": [
    {
     "name": "stderr",
     "output_type": "stream",
     "text": [
      "2022-10-12 09:39:53.236114: I tensorflow/core/platform/cpu_feature_guard.cc:151] This TensorFlow binary is optimized with oneAPI Deep Neural Network Library (oneDNN) to use the following CPU instructions in performance-critical operations:  SSE4.1 SSE4.2 AVX AVX2 FMA\n",
      "To enable them in other operations, rebuild TensorFlow with the appropriate compiler flags.\n"
     ]
    }
   ],
   "source": [
    "# Define metrics\n",
    "#\n",
    "metrics = [\n",
    "            MeanAbsolutePercentageError(name = \"MAPE\", dtype = None),\n",
    "            RootMeanSquaredError(name = 'RMSE', dtype = None),\n",
    "          ]"
   ]
  },
  {
   "cell_type": "code",
   "execution_count": 21,
   "metadata": {},
   "outputs": [],
   "source": [
    "from utils.Attention import *\n",
    "# https://github.com/philipperemy/keras-attention-mechanism\n",
    "\n",
    "\n",
    "model_input = Input(shape=( trainX.shape[1], trainX.shape[2]) )   \n",
    "\n",
    "\n",
    "x = Conv1D(filters=32, kernel_size=2, padding='same', activation='gelu' )(model_input)\n",
    "x = MaxPool1D(2)(x)\n",
    "\n",
    "x = Attention(100)(x)\n",
    "#\n",
    "x = Dense(32)(x)\n",
    "x = BatchNormalization()(x)\n",
    "# x = Dropout(0.2)(x)\n",
    "  \n",
    "x = Dense(Horizon, activation='linear')(x)\n",
    "\n",
    "\n",
    "model = Model(model_input, x)"
   ]
  },
  {
   "cell_type": "markdown",
   "metadata": {},
   "source": [
    "## Training forecasting model"
   ]
  },
  {
   "cell_type": "code",
   "execution_count": 22,
   "metadata": {},
   "outputs": [],
   "source": [
    "# Define metrics\n",
    "#\n",
    "metrics = [\n",
    "            MeanAbsoluteError(name = \"MAE\", dtype = None),\n",
    "            RootMeanSquaredError(name = 'RMSE', dtype = None),\n",
    "          ]\n",
    "\n",
    "\n",
    "model.compile(loss      = 'mse', \n",
    "              optimizer = Adam(learning_rate = 0.00005), \n",
    "              metrics   = metrics)"
   ]
  },
  {
   "cell_type": "code",
   "execution_count": 23,
   "metadata": {},
   "outputs": [],
   "source": [
    "# Checkpoint\n",
    "#\n",
    "checkpoint = ModelCheckpoint(\"checkpoints/Convolutional.hdf5\", \n",
    "                              monitor        = 'val_loss', \n",
    "                              verbose        = 0, \n",
    "                              save_best_only = True, \n",
    "                              mode           = 'min')\n",
    "\n",
    "# Earlystopping\n",
    "earlystopping = EarlyStopping(monitor       = 'val_loss', \n",
    "                              mode          = 'min', \n",
    "                              verbose       = 1, \n",
    "                              patience      = 20)\n",
    "\n",
    "# Learning rate adjustment\n",
    "#\n",
    "lrs_scheduler  = ReduceLROnPlateau(monitor     = 'val_loss', \n",
    "                                   factor      = 0.5,\n",
    "                                   patience    = 10)"
   ]
  },
  {
   "cell_type": "code",
   "execution_count": 24,
   "metadata": {
    "scrolled": true
   },
   "outputs": [
    {
     "name": "stdout",
     "output_type": "stream",
     "text": [
      "Epoch 1/500\n",
      "27/27 [==============================] - 1s 11ms/step - loss: 2.1312 - MAE: 1.1500 - RMSE: 1.4599 - val_loss: 1.2876 - val_MAE: 0.9548 - val_RMSE: 1.1347 - lr: 5.0000e-05\n",
      "Epoch 2/500\n",
      "27/27 [==============================] - 0s 5ms/step - loss: 1.1214 - MAE: 0.8441 - RMSE: 1.0590 - val_loss: 1.1186 - val_MAE: 0.8983 - val_RMSE: 1.0576 - lr: 5.0000e-05\n",
      "Epoch 3/500\n",
      "27/27 [==============================] - 0s 5ms/step - loss: 0.6717 - MAE: 0.6545 - RMSE: 0.8196 - val_loss: 0.9765 - val_MAE: 0.8431 - val_RMSE: 0.9882 - lr: 5.0000e-05\n",
      "Epoch 4/500\n",
      "27/27 [==============================] - 0s 5ms/step - loss: 0.4421 - MAE: 0.5226 - RMSE: 0.6649 - val_loss: 0.8618 - val_MAE: 0.7918 - val_RMSE: 0.9283 - lr: 5.0000e-05\n",
      "Epoch 5/500\n",
      "27/27 [==============================] - 0s 6ms/step - loss: 0.3218 - MAE: 0.4321 - RMSE: 0.5673 - val_loss: 0.7672 - val_MAE: 0.7453 - val_RMSE: 0.8759 - lr: 5.0000e-05\n",
      "Epoch 6/500\n",
      "27/27 [==============================] - 0s 7ms/step - loss: 0.2576 - MAE: 0.3732 - RMSE: 0.5076 - val_loss: 0.6953 - val_MAE: 0.7062 - val_RMSE: 0.8338 - lr: 5.0000e-05\n",
      "Epoch 7/500\n",
      "27/27 [==============================] - 0s 5ms/step - loss: 0.2335 - MAE: 0.3442 - RMSE: 0.4832 - val_loss: 0.6604 - val_MAE: 0.6843 - val_RMSE: 0.8126 - lr: 5.0000e-05\n",
      "Epoch 8/500\n",
      "27/27 [==============================] - 0s 7ms/step - loss: 0.2268 - MAE: 0.3417 - RMSE: 0.4763 - val_loss: 0.6187 - val_MAE: 0.6565 - val_RMSE: 0.7866 - lr: 5.0000e-05\n",
      "Epoch 9/500\n",
      "27/27 [==============================] - 0s 6ms/step - loss: 0.2208 - MAE: 0.3336 - RMSE: 0.4698 - val_loss: 0.5875 - val_MAE: 0.6342 - val_RMSE: 0.7665 - lr: 5.0000e-05\n",
      "Epoch 10/500\n",
      "27/27 [==============================] - 0s 5ms/step - loss: 0.2185 - MAE: 0.3305 - RMSE: 0.4675 - val_loss: 0.5620 - val_MAE: 0.6149 - val_RMSE: 0.7497 - lr: 5.0000e-05\n",
      "Epoch 11/500\n",
      "27/27 [==============================] - 0s 5ms/step - loss: 0.2145 - MAE: 0.3274 - RMSE: 0.4632 - val_loss: 0.5334 - val_MAE: 0.5939 - val_RMSE: 0.7304 - lr: 5.0000e-05\n",
      "Epoch 12/500\n",
      "27/27 [==============================] - 0s 6ms/step - loss: 0.2144 - MAE: 0.3259 - RMSE: 0.4630 - val_loss: 0.5126 - val_MAE: 0.5773 - val_RMSE: 0.7160 - lr: 5.0000e-05\n",
      "Epoch 13/500\n",
      "27/27 [==============================] - 0s 7ms/step - loss: 0.2121 - MAE: 0.3258 - RMSE: 0.4605 - val_loss: 0.4823 - val_MAE: 0.5534 - val_RMSE: 0.6945 - lr: 5.0000e-05\n",
      "Epoch 14/500\n",
      "27/27 [==============================] - 0s 5ms/step - loss: 0.2082 - MAE: 0.3226 - RMSE: 0.4563 - val_loss: 0.4560 - val_MAE: 0.5327 - val_RMSE: 0.6753 - lr: 5.0000e-05\n",
      "Epoch 15/500\n",
      "27/27 [==============================] - 0s 5ms/step - loss: 0.2072 - MAE: 0.3229 - RMSE: 0.4552 - val_loss: 0.4320 - val_MAE: 0.5152 - val_RMSE: 0.6573 - lr: 5.0000e-05\n",
      "Epoch 16/500\n",
      "27/27 [==============================] - 0s 5ms/step - loss: 0.2054 - MAE: 0.3210 - RMSE: 0.4532 - val_loss: 0.4078 - val_MAE: 0.4967 - val_RMSE: 0.6386 - lr: 5.0000e-05\n",
      "Epoch 17/500\n",
      "27/27 [==============================] - 0s 5ms/step - loss: 0.2043 - MAE: 0.3186 - RMSE: 0.4520 - val_loss: 0.3837 - val_MAE: 0.4773 - val_RMSE: 0.6194 - lr: 5.0000e-05\n",
      "Epoch 18/500\n",
      "27/27 [==============================] - 0s 5ms/step - loss: 0.2020 - MAE: 0.3183 - RMSE: 0.4495 - val_loss: 0.3648 - val_MAE: 0.4639 - val_RMSE: 0.6040 - lr: 5.0000e-05\n",
      "Epoch 19/500\n",
      "27/27 [==============================] - 0s 5ms/step - loss: 0.2021 - MAE: 0.3186 - RMSE: 0.4496 - val_loss: 0.3438 - val_MAE: 0.4473 - val_RMSE: 0.5864 - lr: 5.0000e-05\n",
      "Epoch 20/500\n",
      "27/27 [==============================] - 0s 5ms/step - loss: 0.1993 - MAE: 0.3165 - RMSE: 0.4464 - val_loss: 0.3265 - val_MAE: 0.4301 - val_RMSE: 0.5714 - lr: 5.0000e-05\n",
      "Epoch 21/500\n",
      "27/27 [==============================] - 0s 5ms/step - loss: 0.1974 - MAE: 0.3141 - RMSE: 0.4443 - val_loss: 0.3120 - val_MAE: 0.4165 - val_RMSE: 0.5586 - lr: 5.0000e-05\n",
      "Epoch 22/500\n",
      "27/27 [==============================] - 0s 5ms/step - loss: 0.1966 - MAE: 0.3126 - RMSE: 0.4434 - val_loss: 0.3004 - val_MAE: 0.4065 - val_RMSE: 0.5481 - lr: 5.0000e-05\n",
      "Epoch 23/500\n",
      "27/27 [==============================] - 0s 5ms/step - loss: 0.1947 - MAE: 0.3125 - RMSE: 0.4413 - val_loss: 0.2906 - val_MAE: 0.3937 - val_RMSE: 0.5391 - lr: 5.0000e-05\n",
      "Epoch 24/500\n",
      "27/27 [==============================] - 0s 5ms/step - loss: 0.1929 - MAE: 0.3088 - RMSE: 0.4393 - val_loss: 0.2840 - val_MAE: 0.3836 - val_RMSE: 0.5329 - lr: 5.0000e-05\n",
      "Epoch 25/500\n",
      "27/27 [==============================] - 0s 5ms/step - loss: 0.1944 - MAE: 0.3121 - RMSE: 0.4409 - val_loss: 0.2791 - val_MAE: 0.3788 - val_RMSE: 0.5283 - lr: 5.0000e-05\n",
      "Epoch 26/500\n",
      "27/27 [==============================] - 0s 5ms/step - loss: 0.1933 - MAE: 0.3097 - RMSE: 0.4397 - val_loss: 0.2734 - val_MAE: 0.3741 - val_RMSE: 0.5229 - lr: 5.0000e-05\n",
      "Epoch 27/500\n",
      "27/27 [==============================] - 0s 5ms/step - loss: 0.1897 - MAE: 0.3071 - RMSE: 0.4356 - val_loss: 0.2701 - val_MAE: 0.3681 - val_RMSE: 0.5197 - lr: 5.0000e-05\n",
      "Epoch 28/500\n",
      "27/27 [==============================] - 0s 5ms/step - loss: 0.1910 - MAE: 0.3091 - RMSE: 0.4370 - val_loss: 0.2673 - val_MAE: 0.3654 - val_RMSE: 0.5170 - lr: 5.0000e-05\n",
      "Epoch 29/500\n",
      "27/27 [==============================] - 0s 5ms/step - loss: 0.1894 - MAE: 0.3056 - RMSE: 0.4352 - val_loss: 0.2654 - val_MAE: 0.3636 - val_RMSE: 0.5152 - lr: 5.0000e-05\n",
      "Epoch 30/500\n",
      "27/27 [==============================] - 0s 5ms/step - loss: 0.1876 - MAE: 0.3053 - RMSE: 0.4331 - val_loss: 0.2613 - val_MAE: 0.3626 - val_RMSE: 0.5112 - lr: 5.0000e-05\n",
      "Epoch 31/500\n",
      "27/27 [==============================] - 0s 5ms/step - loss: 0.1885 - MAE: 0.3052 - RMSE: 0.4342 - val_loss: 0.2597 - val_MAE: 0.3599 - val_RMSE: 0.5096 - lr: 5.0000e-05\n",
      "Epoch 32/500\n",
      "27/27 [==============================] - 0s 5ms/step - loss: 0.1883 - MAE: 0.3070 - RMSE: 0.4339 - val_loss: 0.2590 - val_MAE: 0.3579 - val_RMSE: 0.5090 - lr: 5.0000e-05\n",
      "Epoch 33/500\n",
      "27/27 [==============================] - 0s 6ms/step - loss: 0.1855 - MAE: 0.3027 - RMSE: 0.4307 - val_loss: 0.2562 - val_MAE: 0.3573 - val_RMSE: 0.5061 - lr: 5.0000e-05\n",
      "Epoch 34/500\n",
      "27/27 [==============================] - 0s 8ms/step - loss: 0.1846 - MAE: 0.3010 - RMSE: 0.4296 - val_loss: 0.2547 - val_MAE: 0.3592 - val_RMSE: 0.5047 - lr: 5.0000e-05\n",
      "Epoch 35/500\n",
      "27/27 [==============================] - 0s 5ms/step - loss: 0.1853 - MAE: 0.3028 - RMSE: 0.4304 - val_loss: 0.2554 - val_MAE: 0.3539 - val_RMSE: 0.5054 - lr: 5.0000e-05\n",
      "Epoch 36/500\n",
      "27/27 [==============================] - 0s 6ms/step - loss: 0.1820 - MAE: 0.2999 - RMSE: 0.4266 - val_loss: 0.2530 - val_MAE: 0.3537 - val_RMSE: 0.5030 - lr: 5.0000e-05\n",
      "Epoch 37/500\n",
      "27/27 [==============================] - 0s 6ms/step - loss: 0.1839 - MAE: 0.3017 - RMSE: 0.4289 - val_loss: 0.2512 - val_MAE: 0.3556 - val_RMSE: 0.5012 - lr: 5.0000e-05\n",
      "Epoch 38/500\n",
      "27/27 [==============================] - 0s 6ms/step - loss: 0.1816 - MAE: 0.2973 - RMSE: 0.4262 - val_loss: 0.2518 - val_MAE: 0.3502 - val_RMSE: 0.5018 - lr: 5.0000e-05\n",
      "Epoch 39/500\n",
      "27/27 [==============================] - 0s 7ms/step - loss: 0.1831 - MAE: 0.3006 - RMSE: 0.4279 - val_loss: 0.2507 - val_MAE: 0.3493 - val_RMSE: 0.5007 - lr: 5.0000e-05\n",
      "Epoch 40/500\n",
      "27/27 [==============================] - 0s 6ms/step - loss: 0.1816 - MAE: 0.2992 - RMSE: 0.4262 - val_loss: 0.2503 - val_MAE: 0.3484 - val_RMSE: 0.5003 - lr: 5.0000e-05\n",
      "Epoch 41/500\n",
      "27/27 [==============================] - 0s 5ms/step - loss: 0.1805 - MAE: 0.2970 - RMSE: 0.4248 - val_loss: 0.2487 - val_MAE: 0.3501 - val_RMSE: 0.4987 - lr: 5.0000e-05\n",
      "Epoch 42/500\n",
      "27/27 [==============================] - 0s 8ms/step - loss: 0.1791 - MAE: 0.2968 - RMSE: 0.4232 - val_loss: 0.2469 - val_MAE: 0.3503 - val_RMSE: 0.4969 - lr: 5.0000e-05\n",
      "Epoch 43/500\n",
      "27/27 [==============================] - 0s 8ms/step - loss: 0.1796 - MAE: 0.2979 - RMSE: 0.4238 - val_loss: 0.2467 - val_MAE: 0.3487 - val_RMSE: 0.4967 - lr: 5.0000e-05\n",
      "Epoch 44/500\n",
      "27/27 [==============================] - 0s 6ms/step - loss: 0.1801 - MAE: 0.2973 - RMSE: 0.4244 - val_loss: 0.2454 - val_MAE: 0.3469 - val_RMSE: 0.4953 - lr: 5.0000e-05\n",
      "Epoch 45/500\n",
      "27/27 [==============================] - 0s 7ms/step - loss: 0.1827 - MAE: 0.3017 - RMSE: 0.4274 - val_loss: 0.2445 - val_MAE: 0.3514 - val_RMSE: 0.4944 - lr: 5.0000e-05\n",
      "Epoch 46/500\n",
      "27/27 [==============================] - 0s 5ms/step - loss: 0.1785 - MAE: 0.2958 - RMSE: 0.4224 - val_loss: 0.2466 - val_MAE: 0.3434 - val_RMSE: 0.4966 - lr: 5.0000e-05\n",
      "Epoch 47/500\n",
      "27/27 [==============================] - 0s 6ms/step - loss: 0.1788 - MAE: 0.2968 - RMSE: 0.4228 - val_loss: 0.2435 - val_MAE: 0.3455 - val_RMSE: 0.4935 - lr: 5.0000e-05\n",
      "Epoch 48/500\n",
      "27/27 [==============================] - 0s 5ms/step - loss: 0.1801 - MAE: 0.2995 - RMSE: 0.4244 - val_loss: 0.2443 - val_MAE: 0.3432 - val_RMSE: 0.4942 - lr: 5.0000e-05\n",
      "Epoch 49/500\n",
      "27/27 [==============================] - 0s 5ms/step - loss: 0.1769 - MAE: 0.2939 - RMSE: 0.4206 - val_loss: 0.2423 - val_MAE: 0.3449 - val_RMSE: 0.4922 - lr: 5.0000e-05\n",
      "Epoch 50/500\n",
      "27/27 [==============================] - 0s 5ms/step - loss: 0.1760 - MAE: 0.2934 - RMSE: 0.4195 - val_loss: 0.2418 - val_MAE: 0.3490 - val_RMSE: 0.4917 - lr: 5.0000e-05\n",
      "Epoch 51/500\n",
      "27/27 [==============================] - 0s 4ms/step - loss: 0.1763 - MAE: 0.2943 - RMSE: 0.4199 - val_loss: 0.2423 - val_MAE: 0.3420 - val_RMSE: 0.4922 - lr: 5.0000e-05\n",
      "Epoch 52/500\n",
      "27/27 [==============================] - 0s 7ms/step - loss: 0.1756 - MAE: 0.2927 - RMSE: 0.4190 - val_loss: 0.2409 - val_MAE: 0.3464 - val_RMSE: 0.4908 - lr: 5.0000e-05\n",
      "Epoch 53/500\n",
      "27/27 [==============================] - 0s 5ms/step - loss: 0.1767 - MAE: 0.2954 - RMSE: 0.4203 - val_loss: 0.2420 - val_MAE: 0.3404 - val_RMSE: 0.4919 - lr: 5.0000e-05\n",
      "Epoch 54/500\n",
      "27/27 [==============================] - 0s 7ms/step - loss: 0.1769 - MAE: 0.2937 - RMSE: 0.4206 - val_loss: 0.2417 - val_MAE: 0.3408 - val_RMSE: 0.4916 - lr: 5.0000e-05\n",
      "Epoch 55/500\n",
      "27/27 [==============================] - 0s 6ms/step - loss: 0.1749 - MAE: 0.2925 - RMSE: 0.4182 - val_loss: 0.2392 - val_MAE: 0.3435 - val_RMSE: 0.4891 - lr: 5.0000e-05\n",
      "Epoch 56/500\n",
      "27/27 [==============================] - 0s 6ms/step - loss: 0.1747 - MAE: 0.2915 - RMSE: 0.4180 - val_loss: 0.2386 - val_MAE: 0.3438 - val_RMSE: 0.4885 - lr: 5.0000e-05\n",
      "Epoch 57/500\n",
      "27/27 [==============================] - 0s 6ms/step - loss: 0.1765 - MAE: 0.2940 - RMSE: 0.4202 - val_loss: 0.2387 - val_MAE: 0.3439 - val_RMSE: 0.4886 - lr: 5.0000e-05\n",
      "Epoch 58/500\n",
      "27/27 [==============================] - 0s 5ms/step - loss: 0.1760 - MAE: 0.2957 - RMSE: 0.4195 - val_loss: 0.2406 - val_MAE: 0.3386 - val_RMSE: 0.4905 - lr: 5.0000e-05\n",
      "Epoch 59/500\n",
      "27/27 [==============================] - 0s 4ms/step - loss: 0.1742 - MAE: 0.2909 - RMSE: 0.4174 - val_loss: 0.2398 - val_MAE: 0.3393 - val_RMSE: 0.4897 - lr: 5.0000e-05\n",
      "Epoch 60/500\n",
      "27/27 [==============================] - 0s 7ms/step - loss: 0.1727 - MAE: 0.2903 - RMSE: 0.4156 - val_loss: 0.2371 - val_MAE: 0.3395 - val_RMSE: 0.4870 - lr: 5.0000e-05\n",
      "Epoch 61/500\n",
      "27/27 [==============================] - 0s 6ms/step - loss: 0.1737 - MAE: 0.2932 - RMSE: 0.4167 - val_loss: 0.2369 - val_MAE: 0.3420 - val_RMSE: 0.4867 - lr: 5.0000e-05\n",
      "Epoch 62/500\n",
      "27/27 [==============================] - 0s 5ms/step - loss: 0.1736 - MAE: 0.2902 - RMSE: 0.4166 - val_loss: 0.2368 - val_MAE: 0.3384 - val_RMSE: 0.4867 - lr: 5.0000e-05\n",
      "Epoch 63/500\n",
      "27/27 [==============================] - 0s 7ms/step - loss: 0.1735 - MAE: 0.2909 - RMSE: 0.4165 - val_loss: 0.2365 - val_MAE: 0.3406 - val_RMSE: 0.4863 - lr: 5.0000e-05\n",
      "Epoch 64/500\n",
      "27/27 [==============================] - 0s 7ms/step - loss: 0.1715 - MAE: 0.2893 - RMSE: 0.4141 - val_loss: 0.2355 - val_MAE: 0.3428 - val_RMSE: 0.4853 - lr: 5.0000e-05\n",
      "Epoch 65/500\n",
      "27/27 [==============================] - 0s 5ms/step - loss: 0.1713 - MAE: 0.2879 - RMSE: 0.4139 - val_loss: 0.2373 - val_MAE: 0.3380 - val_RMSE: 0.4871 - lr: 5.0000e-05\n",
      "Epoch 66/500\n",
      "27/27 [==============================] - 0s 4ms/step - loss: 0.1727 - MAE: 0.2905 - RMSE: 0.4156 - val_loss: 0.2356 - val_MAE: 0.3374 - val_RMSE: 0.4854 - lr: 5.0000e-05\n",
      "Epoch 67/500\n",
      "27/27 [==============================] - 0s 5ms/step - loss: 0.1705 - MAE: 0.2873 - RMSE: 0.4129 - val_loss: 0.2348 - val_MAE: 0.3373 - val_RMSE: 0.4846 - lr: 5.0000e-05\n",
      "Epoch 68/500\n",
      "27/27 [==============================] - 0s 4ms/step - loss: 0.1708 - MAE: 0.2871 - RMSE: 0.4133 - val_loss: 0.2372 - val_MAE: 0.3345 - val_RMSE: 0.4870 - lr: 5.0000e-05\n",
      "Epoch 69/500\n",
      "27/27 [==============================] - 0s 8ms/step - loss: 0.1724 - MAE: 0.2898 - RMSE: 0.4152 - val_loss: 0.2349 - val_MAE: 0.3368 - val_RMSE: 0.4846 - lr: 5.0000e-05\n",
      "Epoch 70/500\n",
      "27/27 [==============================] - 0s 5ms/step - loss: 0.1706 - MAE: 0.2877 - RMSE: 0.4130 - val_loss: 0.2361 - val_MAE: 0.3338 - val_RMSE: 0.4859 - lr: 5.0000e-05\n",
      "Epoch 71/500\n",
      "27/27 [==============================] - 0s 5ms/step - loss: 0.1714 - MAE: 0.2872 - RMSE: 0.4140 - val_loss: 0.2339 - val_MAE: 0.3368 - val_RMSE: 0.4836 - lr: 5.0000e-05\n",
      "Epoch 72/500\n",
      "27/27 [==============================] - 0s 5ms/step - loss: 0.1713 - MAE: 0.2881 - RMSE: 0.4138 - val_loss: 0.2354 - val_MAE: 0.3348 - val_RMSE: 0.4851 - lr: 5.0000e-05\n",
      "Epoch 73/500\n",
      "27/27 [==============================] - 0s 7ms/step - loss: 0.1728 - MAE: 0.2897 - RMSE: 0.4157 - val_loss: 0.2337 - val_MAE: 0.3454 - val_RMSE: 0.4835 - lr: 5.0000e-05\n",
      "Epoch 74/500\n",
      "27/27 [==============================] - 0s 5ms/step - loss: 0.1708 - MAE: 0.2895 - RMSE: 0.4133 - val_loss: 0.2332 - val_MAE: 0.3367 - val_RMSE: 0.4829 - lr: 5.0000e-05\n",
      "Epoch 75/500\n",
      "27/27 [==============================] - 0s 5ms/step - loss: 0.1707 - MAE: 0.2863 - RMSE: 0.4131 - val_loss: 0.2328 - val_MAE: 0.3350 - val_RMSE: 0.4825 - lr: 5.0000e-05\n",
      "Epoch 76/500\n",
      "27/27 [==============================] - 0s 5ms/step - loss: 0.1700 - MAE: 0.2859 - RMSE: 0.4123 - val_loss: 0.2325 - val_MAE: 0.3340 - val_RMSE: 0.4822 - lr: 5.0000e-05\n",
      "Epoch 77/500\n",
      "27/27 [==============================] - 0s 4ms/step - loss: 0.1690 - MAE: 0.2873 - RMSE: 0.4111 - val_loss: 0.2330 - val_MAE: 0.3337 - val_RMSE: 0.4828 - lr: 5.0000e-05\n",
      "Epoch 78/500\n",
      "27/27 [==============================] - 0s 6ms/step - loss: 0.1697 - MAE: 0.2863 - RMSE: 0.4119 - val_loss: 0.2322 - val_MAE: 0.3411 - val_RMSE: 0.4819 - lr: 5.0000e-05\n",
      "Epoch 79/500\n",
      "27/27 [==============================] - 0s 5ms/step - loss: 0.1689 - MAE: 0.2868 - RMSE: 0.4110 - val_loss: 0.2328 - val_MAE: 0.3336 - val_RMSE: 0.4825 - lr: 5.0000e-05\n",
      "Epoch 80/500\n",
      "27/27 [==============================] - 0s 5ms/step - loss: 0.1706 - MAE: 0.2870 - RMSE: 0.4130 - val_loss: 0.2314 - val_MAE: 0.3368 - val_RMSE: 0.4811 - lr: 5.0000e-05\n",
      "Epoch 81/500\n",
      "27/27 [==============================] - 0s 4ms/step - loss: 0.1694 - MAE: 0.2863 - RMSE: 0.4116 - val_loss: 0.2320 - val_MAE: 0.3403 - val_RMSE: 0.4816 - lr: 5.0000e-05\n",
      "Epoch 82/500\n",
      "27/27 [==============================] - 0s 4ms/step - loss: 0.1707 - MAE: 0.2881 - RMSE: 0.4131 - val_loss: 0.2323 - val_MAE: 0.3309 - val_RMSE: 0.4820 - lr: 5.0000e-05\n",
      "Epoch 83/500\n",
      "27/27 [==============================] - 0s 4ms/step - loss: 0.1685 - MAE: 0.2860 - RMSE: 0.4105 - val_loss: 0.2318 - val_MAE: 0.3358 - val_RMSE: 0.4815 - lr: 5.0000e-05\n",
      "Epoch 84/500\n",
      "27/27 [==============================] - 0s 4ms/step - loss: 0.1706 - MAE: 0.2875 - RMSE: 0.4130 - val_loss: 0.2320 - val_MAE: 0.3317 - val_RMSE: 0.4817 - lr: 5.0000e-05\n",
      "Epoch 85/500\n",
      "27/27 [==============================] - 0s 5ms/step - loss: 0.1682 - MAE: 0.2834 - RMSE: 0.4101 - val_loss: 0.2304 - val_MAE: 0.3373 - val_RMSE: 0.4800 - lr: 5.0000e-05\n",
      "Epoch 86/500\n",
      "27/27 [==============================] - 0s 5ms/step - loss: 0.1680 - MAE: 0.2850 - RMSE: 0.4099 - val_loss: 0.2298 - val_MAE: 0.3337 - val_RMSE: 0.4794 - lr: 5.0000e-05\n",
      "Epoch 87/500\n",
      "27/27 [==============================] - 0s 6ms/step - loss: 0.1696 - MAE: 0.2863 - RMSE: 0.4119 - val_loss: 0.2308 - val_MAE: 0.3338 - val_RMSE: 0.4805 - lr: 5.0000e-05\n",
      "Epoch 88/500\n",
      "27/27 [==============================] - 0s 5ms/step - loss: 0.1685 - MAE: 0.2861 - RMSE: 0.4105 - val_loss: 0.2309 - val_MAE: 0.3436 - val_RMSE: 0.4805 - lr: 5.0000e-05\n",
      "Epoch 89/500\n",
      "27/27 [==============================] - 0s 5ms/step - loss: 0.1718 - MAE: 0.2904 - RMSE: 0.4145 - val_loss: 0.2297 - val_MAE: 0.3348 - val_RMSE: 0.4793 - lr: 5.0000e-05\n",
      "Epoch 90/500\n",
      "27/27 [==============================] - 0s 5ms/step - loss: 0.1702 - MAE: 0.2864 - RMSE: 0.4126 - val_loss: 0.2297 - val_MAE: 0.3385 - val_RMSE: 0.4793 - lr: 5.0000e-05\n",
      "Epoch 91/500\n",
      "27/27 [==============================] - 0s 6ms/step - loss: 0.1669 - MAE: 0.2833 - RMSE: 0.4085 - val_loss: 0.2299 - val_MAE: 0.3393 - val_RMSE: 0.4794 - lr: 5.0000e-05\n",
      "Epoch 92/500\n",
      "27/27 [==============================] - 0s 4ms/step - loss: 0.1682 - MAE: 0.2854 - RMSE: 0.4101 - val_loss: 0.2305 - val_MAE: 0.3300 - val_RMSE: 0.4801 - lr: 5.0000e-05\n",
      "Epoch 93/500\n",
      "27/27 [==============================] - 0s 5ms/step - loss: 0.1658 - MAE: 0.2809 - RMSE: 0.4072 - val_loss: 0.2289 - val_MAE: 0.3332 - val_RMSE: 0.4785 - lr: 5.0000e-05\n",
      "Epoch 94/500\n",
      "27/27 [==============================] - 0s 4ms/step - loss: 0.1694 - MAE: 0.2878 - RMSE: 0.4116 - val_loss: 0.2293 - val_MAE: 0.3387 - val_RMSE: 0.4789 - lr: 5.0000e-05\n",
      "Epoch 95/500\n",
      "27/27 [==============================] - 0s 7ms/step - loss: 0.1668 - MAE: 0.2826 - RMSE: 0.4084 - val_loss: 0.2288 - val_MAE: 0.3322 - val_RMSE: 0.4783 - lr: 5.0000e-05\n",
      "Epoch 96/500\n",
      "27/27 [==============================] - 0s 5ms/step - loss: 0.1680 - MAE: 0.2850 - RMSE: 0.4099 - val_loss: 0.2292 - val_MAE: 0.3361 - val_RMSE: 0.4788 - lr: 5.0000e-05\n",
      "Epoch 97/500\n",
      "27/27 [==============================] - 0s 5ms/step - loss: 0.1679 - MAE: 0.2839 - RMSE: 0.4098 - val_loss: 0.2292 - val_MAE: 0.3351 - val_RMSE: 0.4787 - lr: 5.0000e-05\n",
      "Epoch 98/500\n",
      "27/27 [==============================] - 0s 4ms/step - loss: 0.1693 - MAE: 0.2856 - RMSE: 0.4114 - val_loss: 0.2317 - val_MAE: 0.3483 - val_RMSE: 0.4813 - lr: 5.0000e-05\n",
      "Epoch 99/500\n",
      "27/27 [==============================] - 0s 7ms/step - loss: 0.1682 - MAE: 0.2857 - RMSE: 0.4101 - val_loss: 0.2278 - val_MAE: 0.3326 - val_RMSE: 0.4773 - lr: 5.0000e-05\n",
      "Epoch 100/500\n",
      "27/27 [==============================] - 0s 5ms/step - loss: 0.1672 - MAE: 0.2833 - RMSE: 0.4088 - val_loss: 0.2299 - val_MAE: 0.3299 - val_RMSE: 0.4795 - lr: 5.0000e-05\n",
      "Epoch 101/500\n",
      "27/27 [==============================] - 0s 4ms/step - loss: 0.1658 - MAE: 0.2823 - RMSE: 0.4072 - val_loss: 0.2282 - val_MAE: 0.3298 - val_RMSE: 0.4777 - lr: 5.0000e-05\n",
      "Epoch 102/500\n",
      "27/27 [==============================] - 0s 4ms/step - loss: 0.1667 - MAE: 0.2836 - RMSE: 0.4083 - val_loss: 0.2286 - val_MAE: 0.3380 - val_RMSE: 0.4782 - lr: 5.0000e-05\n",
      "Epoch 103/500\n",
      "27/27 [==============================] - 0s 5ms/step - loss: 0.1669 - MAE: 0.2832 - RMSE: 0.4085 - val_loss: 0.2277 - val_MAE: 0.3352 - val_RMSE: 0.4772 - lr: 5.0000e-05\n",
      "Epoch 104/500\n",
      "27/27 [==============================] - 0s 6ms/step - loss: 0.1679 - MAE: 0.2844 - RMSE: 0.4098 - val_loss: 0.2279 - val_MAE: 0.3297 - val_RMSE: 0.4774 - lr: 5.0000e-05\n",
      "Epoch 105/500\n",
      "27/27 [==============================] - 0s 5ms/step - loss: 0.1675 - MAE: 0.2839 - RMSE: 0.4092 - val_loss: 0.2292 - val_MAE: 0.3364 - val_RMSE: 0.4788 - lr: 5.0000e-05\n",
      "Epoch 106/500\n",
      "27/27 [==============================] - 0s 5ms/step - loss: 0.1665 - MAE: 0.2827 - RMSE: 0.4080 - val_loss: 0.2286 - val_MAE: 0.3298 - val_RMSE: 0.4781 - lr: 5.0000e-05\n",
      "Epoch 107/500\n",
      "27/27 [==============================] - 0s 4ms/step - loss: 0.1665 - MAE: 0.2827 - RMSE: 0.4080 - val_loss: 0.2278 - val_MAE: 0.3317 - val_RMSE: 0.4772 - lr: 5.0000e-05\n",
      "Epoch 108/500\n",
      "27/27 [==============================] - 0s 4ms/step - loss: 0.1668 - MAE: 0.2834 - RMSE: 0.4084 - val_loss: 0.2280 - val_MAE: 0.3287 - val_RMSE: 0.4774 - lr: 5.0000e-05\n",
      "Epoch 109/500\n",
      "27/27 [==============================] - 0s 5ms/step - loss: 0.1695 - MAE: 0.2874 - RMSE: 0.4117 - val_loss: 0.2269 - val_MAE: 0.3328 - val_RMSE: 0.4763 - lr: 5.0000e-05\n",
      "Epoch 110/500\n",
      "27/27 [==============================] - 0s 4ms/step - loss: 0.1683 - MAE: 0.2863 - RMSE: 0.4102 - val_loss: 0.2273 - val_MAE: 0.3303 - val_RMSE: 0.4767 - lr: 5.0000e-05\n",
      "Epoch 111/500\n",
      "27/27 [==============================] - 0s 4ms/step - loss: 0.1685 - MAE: 0.2866 - RMSE: 0.4105 - val_loss: 0.2314 - val_MAE: 0.3273 - val_RMSE: 0.4810 - lr: 5.0000e-05\n",
      "Epoch 112/500\n",
      "27/27 [==============================] - 0s 4ms/step - loss: 0.1679 - MAE: 0.2848 - RMSE: 0.4098 - val_loss: 0.2295 - val_MAE: 0.3271 - val_RMSE: 0.4790 - lr: 5.0000e-05\n",
      "Epoch 113/500\n",
      "27/27 [==============================] - 0s 4ms/step - loss: 0.1676 - MAE: 0.2850 - RMSE: 0.4094 - val_loss: 0.2285 - val_MAE: 0.3368 - val_RMSE: 0.4781 - lr: 5.0000e-05\n",
      "Epoch 114/500\n",
      "27/27 [==============================] - 0s 4ms/step - loss: 0.1650 - MAE: 0.2812 - RMSE: 0.4062 - val_loss: 0.2270 - val_MAE: 0.3292 - val_RMSE: 0.4764 - lr: 5.0000e-05\n",
      "Epoch 115/500\n",
      "27/27 [==============================] - 0s 4ms/step - loss: 0.1664 - MAE: 0.2825 - RMSE: 0.4080 - val_loss: 0.2277 - val_MAE: 0.3389 - val_RMSE: 0.4772 - lr: 5.0000e-05\n",
      "Epoch 116/500\n",
      "27/27 [==============================] - 0s 5ms/step - loss: 0.1653 - MAE: 0.2840 - RMSE: 0.4066 - val_loss: 0.2269 - val_MAE: 0.3335 - val_RMSE: 0.4763 - lr: 5.0000e-05\n",
      "Epoch 117/500\n",
      "27/27 [==============================] - 0s 4ms/step - loss: 0.1659 - MAE: 0.2823 - RMSE: 0.4073 - val_loss: 0.2274 - val_MAE: 0.3376 - val_RMSE: 0.4769 - lr: 5.0000e-05\n",
      "Epoch 118/500\n",
      "27/27 [==============================] - 0s 7ms/step - loss: 0.1674 - MAE: 0.2829 - RMSE: 0.4092 - val_loss: 0.2270 - val_MAE: 0.3279 - val_RMSE: 0.4765 - lr: 5.0000e-05\n",
      "Epoch 119/500\n",
      "27/27 [==============================] - 0s 5ms/step - loss: 0.1655 - MAE: 0.2822 - RMSE: 0.4068 - val_loss: 0.2302 - val_MAE: 0.3457 - val_RMSE: 0.4798 - lr: 5.0000e-05\n",
      "Epoch 120/500\n",
      "27/27 [==============================] - 0s 7ms/step - loss: 0.1662 - MAE: 0.2830 - RMSE: 0.4076 - val_loss: 0.2265 - val_MAE: 0.3318 - val_RMSE: 0.4760 - lr: 2.5000e-05\n",
      "Epoch 121/500\n",
      "27/27 [==============================] - 0s 6ms/step - loss: 0.1659 - MAE: 0.2823 - RMSE: 0.4073 - val_loss: 0.2266 - val_MAE: 0.3325 - val_RMSE: 0.4761 - lr: 2.5000e-05\n",
      "Epoch 122/500\n",
      "27/27 [==============================] - 0s 6ms/step - loss: 0.1668 - MAE: 0.2834 - RMSE: 0.4085 - val_loss: 0.2268 - val_MAE: 0.3360 - val_RMSE: 0.4762 - lr: 2.5000e-05\n",
      "Epoch 123/500\n",
      "27/27 [==============================] - 0s 6ms/step - loss: 0.1652 - MAE: 0.2824 - RMSE: 0.4064 - val_loss: 0.2268 - val_MAE: 0.3364 - val_RMSE: 0.4763 - lr: 2.5000e-05\n",
      "Epoch 124/500\n",
      "27/27 [==============================] - 0s 6ms/step - loss: 0.1663 - MAE: 0.2831 - RMSE: 0.4077 - val_loss: 0.2266 - val_MAE: 0.3324 - val_RMSE: 0.4760 - lr: 2.5000e-05\n",
      "Epoch 125/500\n",
      "27/27 [==============================] - 0s 6ms/step - loss: 0.1659 - MAE: 0.2830 - RMSE: 0.4073 - val_loss: 0.2283 - val_MAE: 0.3279 - val_RMSE: 0.4778 - lr: 2.5000e-05\n",
      "Epoch 126/500\n",
      "27/27 [==============================] - 0s 7ms/step - loss: 0.1655 - MAE: 0.2813 - RMSE: 0.4068 - val_loss: 0.2262 - val_MAE: 0.3325 - val_RMSE: 0.4757 - lr: 2.5000e-05\n",
      "Epoch 127/500\n",
      "27/27 [==============================] - 0s 6ms/step - loss: 0.1652 - MAE: 0.2820 - RMSE: 0.4064 - val_loss: 0.2260 - val_MAE: 0.3310 - val_RMSE: 0.4754 - lr: 2.5000e-05\n",
      "Epoch 128/500\n",
      "27/27 [==============================] - 0s 4ms/step - loss: 0.1664 - MAE: 0.2820 - RMSE: 0.4080 - val_loss: 0.2261 - val_MAE: 0.3322 - val_RMSE: 0.4755 - lr: 2.5000e-05\n",
      "Epoch 129/500\n",
      "27/27 [==============================] - 0s 4ms/step - loss: 0.1663 - MAE: 0.2829 - RMSE: 0.4079 - val_loss: 0.2264 - val_MAE: 0.3309 - val_RMSE: 0.4758 - lr: 2.5000e-05\n",
      "Epoch 130/500\n",
      "27/27 [==============================] - 0s 4ms/step - loss: 0.1661 - MAE: 0.2834 - RMSE: 0.4075 - val_loss: 0.2265 - val_MAE: 0.3283 - val_RMSE: 0.4759 - lr: 2.5000e-05\n",
      "Epoch 131/500\n",
      "27/27 [==============================] - 0s 4ms/step - loss: 0.1667 - MAE: 0.2834 - RMSE: 0.4083 - val_loss: 0.2266 - val_MAE: 0.3324 - val_RMSE: 0.4761 - lr: 2.5000e-05\n",
      "Epoch 132/500\n",
      "27/27 [==============================] - 0s 4ms/step - loss: 0.1654 - MAE: 0.2820 - RMSE: 0.4067 - val_loss: 0.2264 - val_MAE: 0.3289 - val_RMSE: 0.4758 - lr: 2.5000e-05\n",
      "Epoch 133/500\n",
      "27/27 [==============================] - 0s 4ms/step - loss: 0.1658 - MAE: 0.2828 - RMSE: 0.4072 - val_loss: 0.2276 - val_MAE: 0.3284 - val_RMSE: 0.4771 - lr: 2.5000e-05\n",
      "Epoch 134/500\n",
      "27/27 [==============================] - 0s 4ms/step - loss: 0.1651 - MAE: 0.2800 - RMSE: 0.4064 - val_loss: 0.2266 - val_MAE: 0.3296 - val_RMSE: 0.4760 - lr: 2.5000e-05\n",
      "Epoch 135/500\n",
      "27/27 [==============================] - 0s 5ms/step - loss: 0.1658 - MAE: 0.2828 - RMSE: 0.4072 - val_loss: 0.2258 - val_MAE: 0.3310 - val_RMSE: 0.4752 - lr: 2.5000e-05\n",
      "Epoch 136/500\n",
      "27/27 [==============================] - 0s 4ms/step - loss: 0.1654 - MAE: 0.2827 - RMSE: 0.4067 - val_loss: 0.2265 - val_MAE: 0.3291 - val_RMSE: 0.4759 - lr: 2.5000e-05\n",
      "Epoch 137/500\n",
      "27/27 [==============================] - 0s 4ms/step - loss: 0.1648 - MAE: 0.2818 - RMSE: 0.4059 - val_loss: 0.2262 - val_MAE: 0.3290 - val_RMSE: 0.4756 - lr: 2.5000e-05\n",
      "Epoch 138/500\n",
      "27/27 [==============================] - 0s 4ms/step - loss: 0.1661 - MAE: 0.2822 - RMSE: 0.4075 - val_loss: 0.2268 - val_MAE: 0.3302 - val_RMSE: 0.4762 - lr: 2.5000e-05\n",
      "Epoch 139/500\n",
      "27/27 [==============================] - 0s 4ms/step - loss: 0.1661 - MAE: 0.2824 - RMSE: 0.4075 - val_loss: 0.2261 - val_MAE: 0.3290 - val_RMSE: 0.4755 - lr: 2.5000e-05\n",
      "Epoch 140/500\n",
      "27/27 [==============================] - 0s 4ms/step - loss: 0.1632 - MAE: 0.2797 - RMSE: 0.4040 - val_loss: 0.2262 - val_MAE: 0.3330 - val_RMSE: 0.4756 - lr: 2.5000e-05\n",
      "Epoch 141/500\n",
      "27/27 [==============================] - 0s 4ms/step - loss: 0.1653 - MAE: 0.2822 - RMSE: 0.4065 - val_loss: 0.2264 - val_MAE: 0.3304 - val_RMSE: 0.4758 - lr: 2.5000e-05\n",
      "Epoch 142/500\n",
      "27/27 [==============================] - 0s 4ms/step - loss: 0.1644 - MAE: 0.2805 - RMSE: 0.4054 - val_loss: 0.2258 - val_MAE: 0.3311 - val_RMSE: 0.4752 - lr: 2.5000e-05\n",
      "Epoch 143/500\n",
      "27/27 [==============================] - 0s 4ms/step - loss: 0.1650 - MAE: 0.2825 - RMSE: 0.4062 - val_loss: 0.2261 - val_MAE: 0.3294 - val_RMSE: 0.4755 - lr: 2.5000e-05\n",
      "Epoch 144/500\n",
      "27/27 [==============================] - 0s 4ms/step - loss: 0.1666 - MAE: 0.2833 - RMSE: 0.4082 - val_loss: 0.2260 - val_MAE: 0.3325 - val_RMSE: 0.4754 - lr: 2.5000e-05\n",
      "Epoch 145/500\n",
      "27/27 [==============================] - 0s 5ms/step - loss: 0.1646 - MAE: 0.2810 - RMSE: 0.4057 - val_loss: 0.2259 - val_MAE: 0.3297 - val_RMSE: 0.4753 - lr: 2.5000e-05\n",
      "Epoch 146/500\n",
      "27/27 [==============================] - 0s 5ms/step - loss: 0.1652 - MAE: 0.2809 - RMSE: 0.4065 - val_loss: 0.2256 - val_MAE: 0.3323 - val_RMSE: 0.4750 - lr: 1.2500e-05\n",
      "Epoch 147/500\n",
      "27/27 [==============================] - 0s 4ms/step - loss: 0.1664 - MAE: 0.2828 - RMSE: 0.4079 - val_loss: 0.2257 - val_MAE: 0.3318 - val_RMSE: 0.4751 - lr: 1.2500e-05\n",
      "Epoch 148/500\n",
      "27/27 [==============================] - 0s 4ms/step - loss: 0.1664 - MAE: 0.2837 - RMSE: 0.4079 - val_loss: 0.2261 - val_MAE: 0.3359 - val_RMSE: 0.4755 - lr: 1.2500e-05\n",
      "Epoch 149/500\n",
      "27/27 [==============================] - 0s 5ms/step - loss: 0.1663 - MAE: 0.2834 - RMSE: 0.4078 - val_loss: 0.2257 - val_MAE: 0.3326 - val_RMSE: 0.4751 - lr: 1.2500e-05\n",
      "Epoch 150/500\n",
      "27/27 [==============================] - 0s 5ms/step - loss: 0.1676 - MAE: 0.2856 - RMSE: 0.4094 - val_loss: 0.2259 - val_MAE: 0.3312 - val_RMSE: 0.4753 - lr: 1.2500e-05\n",
      "Epoch 151/500\n",
      "27/27 [==============================] - 0s 5ms/step - loss: 0.1646 - MAE: 0.2810 - RMSE: 0.4058 - val_loss: 0.2257 - val_MAE: 0.3329 - val_RMSE: 0.4751 - lr: 1.2500e-05\n",
      "Epoch 152/500\n",
      "27/27 [==============================] - 0s 5ms/step - loss: 0.1675 - MAE: 0.2857 - RMSE: 0.4093 - val_loss: 0.2258 - val_MAE: 0.3319 - val_RMSE: 0.4752 - lr: 1.2500e-05\n",
      "Epoch 153/500\n",
      "27/27 [==============================] - 0s 5ms/step - loss: 0.1653 - MAE: 0.2826 - RMSE: 0.4065 - val_loss: 0.2258 - val_MAE: 0.3288 - val_RMSE: 0.4752 - lr: 1.2500e-05\n",
      "Epoch 154/500\n",
      "27/27 [==============================] - 0s 4ms/step - loss: 0.1661 - MAE: 0.2820 - RMSE: 0.4075 - val_loss: 0.2258 - val_MAE: 0.3328 - val_RMSE: 0.4752 - lr: 1.2500e-05\n",
      "Epoch 155/500\n",
      "27/27 [==============================] - 0s 5ms/step - loss: 0.1654 - MAE: 0.2830 - RMSE: 0.4066 - val_loss: 0.2255 - val_MAE: 0.3289 - val_RMSE: 0.4749 - lr: 1.2500e-05\n",
      "Epoch 156/500\n",
      "27/27 [==============================] - 0s 4ms/step - loss: 0.1644 - MAE: 0.2805 - RMSE: 0.4054 - val_loss: 0.2256 - val_MAE: 0.3321 - val_RMSE: 0.4750 - lr: 1.2500e-05\n",
      "Epoch 157/500\n",
      "27/27 [==============================] - 0s 4ms/step - loss: 0.1651 - MAE: 0.2830 - RMSE: 0.4063 - val_loss: 0.2257 - val_MAE: 0.3307 - val_RMSE: 0.4751 - lr: 1.2500e-05\n",
      "Epoch 158/500\n",
      "27/27 [==============================] - 0s 5ms/step - loss: 0.1647 - MAE: 0.2808 - RMSE: 0.4059 - val_loss: 0.2257 - val_MAE: 0.3342 - val_RMSE: 0.4751 - lr: 1.2500e-05\n",
      "Epoch 159/500\n",
      "27/27 [==============================] - 0s 6ms/step - loss: 0.1657 - MAE: 0.2813 - RMSE: 0.4070 - val_loss: 0.2253 - val_MAE: 0.3318 - val_RMSE: 0.4746 - lr: 1.2500e-05\n",
      "Epoch 160/500\n",
      "27/27 [==============================] - 0s 5ms/step - loss: 0.1642 - MAE: 0.2809 - RMSE: 0.4052 - val_loss: 0.2258 - val_MAE: 0.3292 - val_RMSE: 0.4752 - lr: 1.2500e-05\n",
      "Epoch 161/500\n",
      "27/27 [==============================] - 0s 5ms/step - loss: 0.1651 - MAE: 0.2806 - RMSE: 0.4064 - val_loss: 0.2257 - val_MAE: 0.3323 - val_RMSE: 0.4751 - lr: 1.2500e-05\n",
      "Epoch 162/500\n",
      "27/27 [==============================] - 0s 5ms/step - loss: 0.1651 - MAE: 0.2815 - RMSE: 0.4064 - val_loss: 0.2259 - val_MAE: 0.3290 - val_RMSE: 0.4753 - lr: 1.2500e-05\n",
      "Epoch 163/500\n",
      "27/27 [==============================] - 0s 5ms/step - loss: 0.1654 - MAE: 0.2822 - RMSE: 0.4066 - val_loss: 0.2253 - val_MAE: 0.3295 - val_RMSE: 0.4747 - lr: 1.2500e-05\n",
      "Epoch 164/500\n",
      "27/27 [==============================] - 0s 5ms/step - loss: 0.1651 - MAE: 0.2805 - RMSE: 0.4063 - val_loss: 0.2258 - val_MAE: 0.3349 - val_RMSE: 0.4752 - lr: 1.2500e-05\n",
      "Epoch 165/500\n",
      "27/27 [==============================] - 0s 5ms/step - loss: 0.1660 - MAE: 0.2823 - RMSE: 0.4074 - val_loss: 0.2255 - val_MAE: 0.3313 - val_RMSE: 0.4749 - lr: 1.2500e-05\n",
      "Epoch 166/500\n",
      "27/27 [==============================] - 0s 4ms/step - loss: 0.1641 - MAE: 0.2812 - RMSE: 0.4051 - val_loss: 0.2256 - val_MAE: 0.3287 - val_RMSE: 0.4750 - lr: 1.2500e-05\n",
      "Epoch 167/500\n",
      "27/27 [==============================] - 0s 4ms/step - loss: 0.1637 - MAE: 0.2784 - RMSE: 0.4046 - val_loss: 0.2259 - val_MAE: 0.3337 - val_RMSE: 0.4753 - lr: 1.2500e-05\n",
      "Epoch 168/500\n",
      "27/27 [==============================] - 0s 4ms/step - loss: 0.1662 - MAE: 0.2826 - RMSE: 0.4077 - val_loss: 0.2254 - val_MAE: 0.3315 - val_RMSE: 0.4748 - lr: 1.2500e-05\n",
      "Epoch 169/500\n",
      "27/27 [==============================] - 0s 4ms/step - loss: 0.1646 - MAE: 0.2819 - RMSE: 0.4057 - val_loss: 0.2255 - val_MAE: 0.3305 - val_RMSE: 0.4749 - lr: 1.2500e-05\n",
      "Epoch 170/500\n",
      "27/27 [==============================] - 0s 5ms/step - loss: 0.1644 - MAE: 0.2801 - RMSE: 0.4055 - val_loss: 0.2253 - val_MAE: 0.3313 - val_RMSE: 0.4747 - lr: 6.2500e-06\n",
      "Epoch 171/500\n",
      "27/27 [==============================] - 0s 5ms/step - loss: 0.1650 - MAE: 0.2816 - RMSE: 0.4063 - val_loss: 0.2254 - val_MAE: 0.3325 - val_RMSE: 0.4747 - lr: 6.2500e-06\n",
      "Epoch 172/500\n",
      "27/27 [==============================] - 0s 4ms/step - loss: 0.1648 - MAE: 0.2808 - RMSE: 0.4059 - val_loss: 0.2255 - val_MAE: 0.3319 - val_RMSE: 0.4749 - lr: 6.2500e-06\n",
      "Epoch 173/500\n",
      "27/27 [==============================] - 0s 4ms/step - loss: 0.1666 - MAE: 0.2853 - RMSE: 0.4081 - val_loss: 0.2255 - val_MAE: 0.3311 - val_RMSE: 0.4748 - lr: 6.2500e-06\n",
      "Epoch 174/500\n",
      "27/27 [==============================] - 0s 5ms/step - loss: 0.1638 - MAE: 0.2809 - RMSE: 0.4048 - val_loss: 0.2254 - val_MAE: 0.3311 - val_RMSE: 0.4748 - lr: 6.2500e-06\n",
      "Epoch 175/500\n",
      "27/27 [==============================] - 0s 4ms/step - loss: 0.1652 - MAE: 0.2807 - RMSE: 0.4065 - val_loss: 0.2254 - val_MAE: 0.3315 - val_RMSE: 0.4747 - lr: 6.2500e-06\n",
      "Epoch 176/500\n",
      "27/27 [==============================] - 0s 4ms/step - loss: 0.1665 - MAE: 0.2836 - RMSE: 0.4080 - val_loss: 0.2254 - val_MAE: 0.3314 - val_RMSE: 0.4748 - lr: 6.2500e-06\n",
      "Epoch 177/500\n",
      "27/27 [==============================] - 0s 8ms/step - loss: 0.1634 - MAE: 0.2797 - RMSE: 0.4042 - val_loss: 0.2253 - val_MAE: 0.3318 - val_RMSE: 0.4746 - lr: 6.2500e-06\n",
      "Epoch 178/500\n",
      "27/27 [==============================] - 0s 5ms/step - loss: 0.1653 - MAE: 0.2813 - RMSE: 0.4065 - val_loss: 0.2254 - val_MAE: 0.3301 - val_RMSE: 0.4748 - lr: 6.2500e-06\n",
      "Epoch 179/500\n",
      "27/27 [==============================] - 0s 4ms/step - loss: 0.1657 - MAE: 0.2832 - RMSE: 0.4071 - val_loss: 0.2256 - val_MAE: 0.3322 - val_RMSE: 0.4749 - lr: 6.2500e-06\n",
      "Epoch 180/500\n",
      "27/27 [==============================] - 0s 4ms/step - loss: 0.1633 - MAE: 0.2795 - RMSE: 0.4042 - val_loss: 0.2256 - val_MAE: 0.3317 - val_RMSE: 0.4750 - lr: 3.1250e-06\n",
      "Epoch 181/500\n",
      "27/27 [==============================] - 0s 5ms/step - loss: 0.1641 - MAE: 0.2804 - RMSE: 0.4051 - val_loss: 0.2254 - val_MAE: 0.3305 - val_RMSE: 0.4748 - lr: 3.1250e-06\n",
      "Epoch 182/500\n",
      "27/27 [==============================] - 0s 4ms/step - loss: 0.1669 - MAE: 0.2853 - RMSE: 0.4085 - val_loss: 0.2253 - val_MAE: 0.3314 - val_RMSE: 0.4746 - lr: 3.1250e-06\n",
      "Epoch 183/500\n",
      "27/27 [==============================] - 0s 4ms/step - loss: 0.1658 - MAE: 0.2836 - RMSE: 0.4072 - val_loss: 0.2253 - val_MAE: 0.3310 - val_RMSE: 0.4747 - lr: 3.1250e-06\n",
      "Epoch 184/500\n",
      "27/27 [==============================] - 0s 5ms/step - loss: 0.1650 - MAE: 0.2832 - RMSE: 0.4062 - val_loss: 0.2253 - val_MAE: 0.3311 - val_RMSE: 0.4747 - lr: 3.1250e-06\n",
      "Epoch 185/500\n",
      "27/27 [==============================] - 0s 5ms/step - loss: 0.1645 - MAE: 0.2814 - RMSE: 0.4056 - val_loss: 0.2254 - val_MAE: 0.3311 - val_RMSE: 0.4747 - lr: 3.1250e-06\n",
      "Epoch 186/500\n",
      "27/27 [==============================] - 0s 6ms/step - loss: 0.1647 - MAE: 0.2814 - RMSE: 0.4058 - val_loss: 0.2254 - val_MAE: 0.3315 - val_RMSE: 0.4748 - lr: 3.1250e-06\n",
      "Epoch 187/500\n",
      "27/27 [==============================] - 0s 5ms/step - loss: 0.1643 - MAE: 0.2797 - RMSE: 0.4053 - val_loss: 0.2254 - val_MAE: 0.3315 - val_RMSE: 0.4748 - lr: 3.1250e-06\n",
      "Epoch 188/500\n",
      "27/27 [==============================] - 0s 4ms/step - loss: 0.1634 - MAE: 0.2793 - RMSE: 0.4042 - val_loss: 0.2254 - val_MAE: 0.3314 - val_RMSE: 0.4748 - lr: 3.1250e-06\n",
      "Epoch 189/500\n",
      "27/27 [==============================] - 0s 4ms/step - loss: 0.1657 - MAE: 0.2824 - RMSE: 0.4071 - val_loss: 0.2254 - val_MAE: 0.3317 - val_RMSE: 0.4748 - lr: 3.1250e-06\n",
      "Epoch 190/500\n",
      "27/27 [==============================] - 0s 4ms/step - loss: 0.1646 - MAE: 0.2814 - RMSE: 0.4058 - val_loss: 0.2254 - val_MAE: 0.3313 - val_RMSE: 0.4748 - lr: 1.5625e-06\n",
      "Epoch 191/500\n",
      "27/27 [==============================] - 0s 4ms/step - loss: 0.1665 - MAE: 0.2824 - RMSE: 0.4081 - val_loss: 0.2254 - val_MAE: 0.3317 - val_RMSE: 0.4747 - lr: 1.5625e-06\n",
      "Epoch 192/500\n",
      "27/27 [==============================] - 0s 4ms/step - loss: 0.1641 - MAE: 0.2804 - RMSE: 0.4051 - val_loss: 0.2254 - val_MAE: 0.3315 - val_RMSE: 0.4748 - lr: 1.5625e-06\n",
      "Epoch 193/500\n",
      "27/27 [==============================] - 0s 4ms/step - loss: 0.1647 - MAE: 0.2815 - RMSE: 0.4059 - val_loss: 0.2254 - val_MAE: 0.3317 - val_RMSE: 0.4748 - lr: 1.5625e-06\n",
      "Epoch 194/500\n",
      "27/27 [==============================] - 0s 5ms/step - loss: 0.1639 - MAE: 0.2804 - RMSE: 0.4048 - val_loss: 0.2254 - val_MAE: 0.3312 - val_RMSE: 0.4747 - lr: 1.5625e-06\n",
      "Epoch 195/500\n",
      "27/27 [==============================] - 0s 5ms/step - loss: 0.1647 - MAE: 0.2815 - RMSE: 0.4059 - val_loss: 0.2254 - val_MAE: 0.3312 - val_RMSE: 0.4748 - lr: 1.5625e-06\n",
      "Epoch 196/500\n",
      "27/27 [==============================] - 0s 5ms/step - loss: 0.1663 - MAE: 0.2829 - RMSE: 0.4078 - val_loss: 0.2253 - val_MAE: 0.3320 - val_RMSE: 0.4747 - lr: 1.5625e-06\n",
      "Epoch 197/500\n",
      "27/27 [==============================] - 0s 8ms/step - loss: 0.1638 - MAE: 0.2801 - RMSE: 0.4047 - val_loss: 0.2254 - val_MAE: 0.3313 - val_RMSE: 0.4747 - lr: 1.5625e-06\n",
      "Epoch 00197: early stopping\n"
     ]
    }
   ],
   "source": [
    "# Start clock\n",
    "#\n",
    "start = timeit.default_timer()\n",
    "\n",
    "\n",
    "score = model.fit(trainX, trainY, \n",
    "                  epochs           = epochs, \n",
    "                  batch_size       = batch_size, \n",
    "                  callbacks        = [checkpoint, earlystopping, lrs_scheduler],\n",
    "                  verbose          = 1, \n",
    "                  shuffle          = True,\n",
    "                  validation_split = 0.2)\n",
    "\n",
    "\n",
    "# Terminate clock\n",
    "#\n",
    "stop = timeit.default_timer()"
   ]
  },
  {
   "cell_type": "code",
   "execution_count": 25,
   "metadata": {},
   "outputs": [
    {
     "data": {
      "image/png": "[encoded data removed]",
      "text/plain": [
       "<Figure size 1440x216 with 2 Axes>"
      ]
     },
     "metadata": {
      "needs_background": "light"
     },
     "output_type": "display_data"
    }
   ],
   "source": [
    "# Create figure\n",
    "#\n",
    "fig, ax = plt.subplots(nrows = 1, ncols = 2, figsize = (20, 3) )\n",
    "\n",
    "# Plot RMSE\n",
    "#\n",
    "ax[0].plot( score.history['RMSE'], marker = 'o');\n",
    "ax[0].plot( score.history['val_RMSE'], marker = 'o');\n",
    "ax[0].legend(['Training', 'Validation'], frameon = False, fontsize = 14);\n",
    "ax[0].set_title('RMSE');\n",
    "\n",
    "# Plot RMSE\n",
    "#\n",
    "ax[1].plot( score.history['MAE'], marker = 'o');\n",
    "ax[1].plot( score.history['val_MAE'], marker = 'o');\n",
    "ax[1].legend(['Training', 'Validation'], frameon = False, fontsize = 14);\n",
    "ax[1].set_title('MAE');"
   ]
  },
  {
   "cell_type": "markdown",
   "metadata": {},
   "source": [
    "## Load optimized forecasting model"
   ]
  },
  {
   "cell_type": "code",
   "execution_count": 26,
   "metadata": {},
   "outputs": [],
   "source": [
    "# Load the best model\n",
    "#\n",
    "model.load_weights('checkpoints/Convolutional.hdf5')"
   ]
  },
  {
   "cell_type": "markdown",
   "metadata": {},
   "source": [
    "# Evaluation"
   ]
  },
  {
   "cell_type": "markdown",
   "metadata": {},
   "source": [
    "## Get predictions"
   ]
  },
  {
   "cell_type": "code",
   "execution_count": 27,
   "metadata": {},
   "outputs": [],
   "source": [
    "# Get predictions\n",
    "#\n",
    "pred = model.predict( testX )"
   ]
  },
  {
   "cell_type": "markdown",
   "metadata": {},
   "source": [
    "## Apply inverse scaling/transformation"
   ]
  },
  {
   "cell_type": "code",
   "execution_count": 28,
   "metadata": {},
   "outputs": [],
   "source": [
    "# Apply inverse scaling\n",
    "#\n",
    "for i in range( Horizon ):\n",
    "    testY[:,  i] = scaler.inverse_transform( testY[:,  i].reshape(-1,1) ).squeeze(-1)\n",
    "    pred[:, i]   = scaler.inverse_transform( pred[:, i].reshape(-1,1) ).squeeze(-1)\n",
    "\n",
    "\n",
    "# Apply inverse transformation   \n",
    "#\n",
    "if (Transformation == True):\n",
    "    testY = np.exp( testY ) - VALUE\n",
    "    pred = np.exp( pred )   - VALUE"
   ]
  },
  {
   "cell_type": "markdown",
   "metadata": {},
   "source": [
    "## Regression evaluation"
   ]
  },
  {
   "cell_type": "code",
   "execution_count": 29,
   "metadata": {
    "scrolled": true
   },
   "outputs": [
    {
     "name": "stdout",
     "output_type": "stream",
     "text": [
      "Horizon:  1 MAE 15.69 RMSE 23.70 SMAPE:  7.73 R2: 0.85\n",
      "Horizon:  2 MAE 25.91 RMSE 37.17 SMAPE: 12.89 R2: 0.64\n"
     ]
    }
   ],
   "source": [
    "Results = dict()\n",
    "\n",
    "for i in range( Horizon ):\n",
    "    Prices = pd.DataFrame( [] )\n",
    "\n",
    "    Prices[targetSeries] = testY[:,i]\n",
    "    Prices['Prediction'] = pred[:,i]\n",
    "    \n",
    "\n",
    "        \n",
    "    # Store results\n",
    "    #\n",
    "    Results[ 'Horizon {}'.format(i+1) ] = Prices\n",
    "\n",
    "\n",
    "\n",
    "sResults = {'MAE': [], 'RMSE': [], 'MAPE': [], 'SMAPE': [], 'R2': []}\n",
    "\n",
    "for i in range(Horizon):\n",
    "    MAE, RMSE, MAPE, SMAPE, R2 = RegressionEvaluation( Results['Horizon {}'.format(i+1)] )\n",
    "    \n",
    "    sResults['MAE']   += [MAE]\n",
    "    sResults['RMSE']  += [RMSE]\n",
    "    sResults['MAPE']  += [MAPE]\n",
    "    sResults['SMAPE'] += [SMAPE]\n",
    "    sResults['R2']    += [R2]\n",
    "    \n",
    "    \n",
    "#     print('Horizon -%i-' % (i+1))\n",
    "#     print('--------------')\n",
    "#     print('MAE   = %.3f' % MAE)\n",
    "#     print('RMSE  = %.3f' % RMSE)\n",
    "#     print('MAPE  = %.3f' % MAPE)\n",
    "#     print('SMAPE = %.3f' % SMAPE)\n",
    "#     print('R2    = %.3f' % R2)\n",
    "#     print()\n",
    "    print('Horizon: %2i MAE %5.2f RMSE %5.2f SMAPE: %5.2f R2: %.2f' % (i+1, MAE, RMSE, SMAPE, R2) )"
   ]
  },
  {
   "cell_type": "markdown",
   "metadata": {},
   "source": [
    "### Reliability evaluation"
   ]
  },
  {
   "cell_type": "code",
   "execution_count": 30,
   "metadata": {},
   "outputs": [
    {
     "name": "stdout",
     "output_type": "stream",
     "text": [
      "[INFO] Feature:  CO\n",
      "------------------------------------------------\n"
     ]
    },
    {
     "data": {
      "image/png": "[encoded data removed]",
      "text/plain": [
       "<Figure size 1080x144 with 2 Axes>"
      ]
     },
     "metadata": {
      "needs_background": "light"
     },
     "output_type": "display_data"
    },
    {
     "data": {
      "image/png": "[encoded data removed]",
      "text/plain": [
       "<Figure size 1080x144 with 2 Axes>"
      ]
     },
     "metadata": {
      "needs_background": "light"
     },
     "output_type": "display_data"
    }
   ],
   "source": [
    "print('[INFO] Feature: ', targetSeries)\n",
    "print('------------------------------------------------')\n",
    "Performance_Foresting_Model = {'RMSE': [], 'MAE': [], 'SMAPE': [], 'R2' : []}\n",
    "\n",
    "for i in range( Horizon ):\n",
    "\n",
    "    Prices[targetSeries] = testY[:,i]\n",
    "    Prices['Prediction'] = pred[:,i]\n",
    "    \n",
    "            \n",
    "    from scipy import stats\n",
    "    from statsmodels.graphics.tsaplots import plot_acf\n",
    "    \n",
    "    res = (Prices[targetSeries] - Prices['Prediction']).to_numpy()\n",
    "    \n",
    "    fig, ax = plt.subplots(nrows = 1, ncols = 2, figsize = (15, 2) )\n",
    "\n",
    "    ax[0].hist( res, bins = 100 )    \n",
    "    plot_acf( res, ax=ax[1] )       "
   ]
  },
  {
   "cell_type": "markdown",
   "metadata": {},
   "source": [
    "## Visualization of predictions"
   ]
  },
  {
   "cell_type": "code",
   "execution_count": 31,
   "metadata": {},
   "outputs": [
    {
     "data": {
      "image/png": "[encoded data removed]",
      "text/plain": [
       "<Figure size 1440x288 with 1 Axes>"
      ]
     },
     "metadata": {
      "needs_background": "light"
     },
     "output_type": "display_data"
    }
   ],
   "source": [
    "Prices = pd.DataFrame( [] )\n",
    "\n",
    "Prices[targetSeries] = testY.flatten()\n",
    "Prices['Prediction'] = pred.flatten()\n",
    "\n",
    "\n",
    "# Plot results\n",
    "#\n",
    "plt.figure( figsize = (20, 4) );\n",
    "#\n",
    "Prices[ targetSeries ][:200].plot(color = 'tab:blue', marker = 'o')\n",
    "Prices[ 'Prediction' ][:200].plot(color = 'tab:orange', marker = 'o')\n",
    "plt.show();\n"
   ]
  },
  {
   "cell_type": "markdown",
   "metadata": {},
   "source": [
    "### Examples"
   ]
  },
  {
   "cell_type": "code",
   "execution_count": 32,
   "metadata": {},
   "outputs": [],
   "source": [
    "# subplots = [331, 332, 333, 334, 335, 336,  337, 338, 339]\n",
    "# plt.figure( figsize = (20, 8) )\n",
    "# RandomInstances = [random.randint(1, testY.shape[0]) for i in range(0, 9)]\n",
    "\n",
    "# for plot_id, i in enumerate(RandomInstances):\n",
    "\n",
    "#     plt.subplot(subplots[plot_id])\n",
    "#     plt.grid()\n",
    "\n",
    "#     plt.plot(testY[i], color='g', marker = 'o', linewidth = 2)\n",
    "#     plt.plot(pred[i],  color='r', marker = 'o', linewidth = 2)\n",
    "\n",
    "#     plt.legend(['Future values', 'Prediction'], frameon = False, fontsize = 12)\n",
    "#     plt.ylim([90, 260])\n",
    "# plt.show()"
   ]
  },
  {
   "cell_type": "markdown",
   "metadata": {},
   "source": [
    "# Store predictions"
   ]
  },
  {
   "cell_type": "code",
   "execution_count": 33,
   "metadata": {},
   "outputs": [],
   "source": [
    "Outputs = pd.DataFrame( [] )\n",
    "\n",
    "\n",
    "Outputs[ targetSeries ] = testY.flatten()\n",
    "Outputs['Convolutional'] = pred.flatten()\n",
    "\n",
    "Outputs.to_csv('Predictions/Convolutional.csv')"
   ]
  },
  {
   "cell_type": "code",
   "execution_count": null,
   "metadata": {},
   "outputs": [],
   "source": []
  }
 ],
 "metadata": {
  "kernelspec": {
   "display_name": "Python 3.7.12 ('tensorflow')",
   "language": "python",
   "name": "python3"
  },
  "language_info": {
   "codemirror_mode": {
    "name": "ipython",
    "version": 3
   },
   "file_extension": ".py",
   "mimetype": "text/x-python",
   "name": "python",
   "nbconvert_exporter": "python",
   "pygments_lexer": "ipython3",
   "version": "3.7.12"
  },
  "toc": {
   "base_numbering": 1,
   "nav_menu": {},
   "number_sections": true,
   "sideBar": true,
   "skip_h1_title": false,
   "title_cell": "Table of Contents",
   "title_sidebar": "Contents",
   "toc_cell": false,
   "toc_position": {
    "height": "calc(100% - 180px)",
    "left": "10px",
    "top": "150px",
    "width": "307.1964416503906px"
   },
   "toc_section_display": true,
   "toc_window_display": true
  },
  "vscode": {
   "interpreter": {
    "hash": "7428b380d083f99fc04fcc5ca6fbebec3e7c66e9e3f92621c0f3007db81c1bd7"
   }
  }
 },
 "nbformat": 4,
 "nbformat_minor": 4
}
