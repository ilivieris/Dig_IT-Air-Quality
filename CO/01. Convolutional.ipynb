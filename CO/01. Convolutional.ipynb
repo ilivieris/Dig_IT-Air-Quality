{
 "cells": [
  {
   "cell_type": "markdown",
   "metadata": {},
   "source": [
    "# Libraries"
   ]
  },
  {
   "cell_type": "code",
   "execution_count": 65,
   "metadata": {},
   "outputs": [],
   "source": [
    "import warnings\n",
    "warnings.filterwarnings(\"ignore\")\n",
    "\n",
    "# import tensorflow as tf\n",
    "# tf.config.experimental_run_functions_eagerly(True)\n",
    "# tf.keras.backend.set_floatx('float64')\n",
    "\n",
    "# import tensorflow.python.util.deprecation as deprecation\n",
    "# deprecation._PRINT_DEPRECATION_WARNINGS = False"
   ]
  },
  {
   "cell_type": "code",
   "execution_count": 66,
   "metadata": {},
   "outputs": [
    {
     "name": "stdout",
     "output_type": "stream",
     "text": [
      "The autoreload extension is already loaded. To reload it, use:\n",
      "  %reload_ext autoreload\n",
      "[INFO] Libraries imported\n"
     ]
    }
   ],
   "source": [
    "# %matplotlib inline\n",
    "%load_ext autoreload\n",
    "%autoreload 2\n",
    "\n",
    "# =-=-=-=-=-=-=-=-=-=-=-=-=-=-=-=-=-=-=-=-=-=-=-=-=-=-=-=-=-=-=-=-=-=-=-=-=-=\n",
    "# Basic libraries\n",
    "#\n",
    "import math\n",
    "import time\n",
    "import timeit\n",
    "import pickle\n",
    "from   tqdm    import tqdm\n",
    "import pandas  as pd\n",
    "import numpy   as np\n",
    "\n",
    "\n",
    "# =-=-=-=-=-=-=-=-=-=-=-=-=-=-=-=-=-=-=-=-=-=-=-=-=-=-=-=-=-=-=-=-=-=-=-=-=-=\n",
    "# Visualization library\n",
    "#\n",
    "import matplotlib.pyplot                        as plt \n",
    "\n",
    "\n",
    "# =-=-=-=-=-=-=-=-=-=-=-=-=-=-=-=-=-=-=-=-=-=-=-=-=-=-=-=-=-=-=-=-=-=-=-=-=-=\n",
    "# Sklearn library\n",
    "#\n",
    "from sklearn.preprocessing import MinMaxScaler\n",
    "from sklearn.preprocessing import RobustScaler\n",
    "from sklearn.preprocessing import StandardScaler\n",
    "from sklearn.preprocessing import PowerTransformer\n",
    "\n",
    "\n",
    "# =-=-=-=-=-=-=-=-=-=-=-=-=-=-=-=-=-=-=-=-=-=-=-=-=-=-=-=-=-=-=-=-=-=-=-=-=-=\n",
    "# Tensorflow library\n",
    "#\n",
    "import tensorflow\n",
    "from   tensorflow.keras.models                  import *\n",
    "from   tensorflow.keras.layers                  import *\n",
    "from   tensorflow.keras.callbacks               import *\n",
    "from   tensorflow.keras.metrics                 import *\n",
    "from   tensorflow.keras.optimizers              import *\n",
    "\n",
    "\n",
    "# =-=-=-=-=-=-=-=-=-=-=-=-=-=-=-=-=-=-=-=-=-=-=-=-=-=-=-=-=-=-=-=-=-=-=-=-=-=\n",
    "# User library\n",
    "#\n",
    "from utils.PerformanceMetrics import RegressionEvaluation\n",
    "\n",
    "\n",
    "print('[INFO] Libraries imported')"
   ]
  },
  {
   "cell_type": "markdown",
   "metadata": {},
   "source": [
    "# Parameters"
   ]
  },
  {
   "cell_type": "code",
   "execution_count": 67,
   "metadata": {},
   "outputs": [],
   "source": [
    "import random, os\n",
    "seed = 42\n",
    "    \n",
    "random.seed(seed)\n",
    "os.environ[\"PYTHONHASHSEED\"] = str(seed)\n",
    "np.random.seed(seed)\n",
    "tensorflow.random.set_seed(seed)"
   ]
  },
  {
   "cell_type": "markdown",
   "metadata": {},
   "source": [
    "## CUDA"
   ]
  },
  {
   "cell_type": "code",
   "execution_count": 68,
   "metadata": {},
   "outputs": [],
   "source": [
    "try:\n",
    "    gpus = tensorflow.config.list_physical_devices('GPU')\n",
    "    if gpus:\n",
    "        try:\n",
    "            # Currently, memory growth needs to be the same across GPUs\n",
    "            for gpu in gpus:\n",
    "                tensorflow.config.experimental.set_memory_growth(gpu, True)\n",
    "\n",
    "            logical_gpus = tensorflow.config.list_logical_devices('GPU')\n",
    "            print(len(gpus), \"Physical GPUs,\", len(logical_gpus), \"Logical GPUs\")\n",
    "\n",
    "        except RuntimeError as e:\n",
    "\n",
    "            # Memory growth must be set before GPUs have been initialized\n",
    "            print(e)\n",
    "except:\n",
    "    print('[INFO] Not GPU found')"
   ]
  },
  {
   "cell_type": "markdown",
   "metadata": {},
   "source": [
    "## Training paramers"
   ]
  },
  {
   "cell_type": "code",
   "execution_count": 69,
   "metadata": {},
   "outputs": [],
   "source": [
    "Lag        =   12\n",
    "Horizon    =    2\n",
    "#\n",
    "epochs     =  500\n",
    "batch_size =   64\n",
    "\n",
    "Transformation = True"
   ]
  },
  {
   "cell_type": "markdown",
   "metadata": {},
   "source": [
    "# Importing data"
   ]
  },
  {
   "cell_type": "code",
   "execution_count": 70,
   "metadata": {},
   "outputs": [
    {
     "name": "stdout",
     "output_type": "stream",
     "text": [
      "[INFO] Data imported\n",
      "[INFO] Time: 0.35 seconds\n"
     ]
    },
    {
     "data": {
      "text/html": [
       "<div>\n",
       "<style scoped>\n",
       "    .dataframe tbody tr th:only-of-type {\n",
       "        vertical-align: middle;\n",
       "    }\n",
       "\n",
       "    .dataframe tbody tr th {\n",
       "        vertical-align: top;\n",
       "    }\n",
       "\n",
       "    .dataframe thead th {\n",
       "        text-align: right;\n",
       "    }\n",
       "</style>\n",
       "<table border=\"1\" class=\"dataframe\">\n",
       "  <thead>\n",
       "    <tr style=\"text-align: right;\">\n",
       "      <th></th>\n",
       "      <th>Date</th>\n",
       "      <th>Temperature</th>\n",
       "      <th>Humidity</th>\n",
       "      <th>PM2.5</th>\n",
       "      <th>PM10</th>\n",
       "      <th>NO2</th>\n",
       "      <th>CO</th>\n",
       "    </tr>\n",
       "  </thead>\n",
       "  <tbody>\n",
       "    <tr>\n",
       "      <th>0</th>\n",
       "      <td>2022-02-19 00:00:09</td>\n",
       "      <td>-2.4</td>\n",
       "      <td>86.0</td>\n",
       "      <td>2.7</td>\n",
       "      <td>4.9</td>\n",
       "      <td>212.0</td>\n",
       "      <td>263.0</td>\n",
       "    </tr>\n",
       "    <tr>\n",
       "      <th>1</th>\n",
       "      <td>2022-02-19 00:00:25</td>\n",
       "      <td>-2.4</td>\n",
       "      <td>86.0</td>\n",
       "      <td>2.7</td>\n",
       "      <td>7.6</td>\n",
       "      <td>209.0</td>\n",
       "      <td>261.0</td>\n",
       "    </tr>\n",
       "    <tr>\n",
       "      <th>2</th>\n",
       "      <td>2022-02-19 00:00:41</td>\n",
       "      <td>-2.4</td>\n",
       "      <td>86.0</td>\n",
       "      <td>2.6</td>\n",
       "      <td>7.3</td>\n",
       "      <td>204.0</td>\n",
       "      <td>258.0</td>\n",
       "    </tr>\n",
       "  </tbody>\n",
       "</table>\n",
       "</div>"
      ],
      "text/plain": [
       "                  Date  Temperature  Humidity  PM2.5  PM10    NO2     CO\n",
       "0  2022-02-19 00:00:09         -2.4      86.0    2.7   4.9  212.0  263.0\n",
       "1  2022-02-19 00:00:25         -2.4      86.0    2.7   7.6  209.0  261.0\n",
       "2  2022-02-19 00:00:41         -2.4      86.0    2.6   7.3  204.0  258.0"
      ]
     },
     "execution_count": 70,
     "metadata": {},
     "output_type": "execute_result"
    }
   ],
   "source": [
    "# =-=-=-=-=-=-=-=-=-=-=-=-=-=-=-=-=-=-=-=-=-=-=-=-=-=-=-=-=-=-=-=-=-=-=-=-=-=-=-=-=-=\n",
    "# Data concern the concentration from a mine in Norway\n",
    "# =-=-=-=-=-=-=-=-=-=-=-=-=-=-=-=-=-=-=-=-=-=-=-=-=-=-=-=-=-=-=-=-=-=-=-=-=-=-=-=-=-=\n",
    "\n",
    " \n",
    "\n",
    "# # Parameters\n",
    "#\n",
    "filename   = '../metadata/7-kanal-1.csv'\n",
    "\n",
    "Transformation  = True\n",
    "Scaling         = 'Standard'\n",
    "\n",
    "\n",
    "\n",
    "# Start timer\n",
    "#\n",
    "start = time.time()\n",
    "\n",
    "# Load data\n",
    "#\n",
    "df = pd.read_csv( filename )\n",
    "\n",
    "print('[INFO] Data imported')\n",
    "print('[INFO] Time: %.2f seconds' % (time.time() - start))\n",
    "\n",
    "df.head(3)"
   ]
  },
  {
   "cell_type": "code",
   "execution_count": 71,
   "metadata": {},
   "outputs": [],
   "source": [
    "# # Parameters\n",
    "# #\n",
    "# filename   = '../Data/D-6-It.csv'\n",
    "\n",
    "# Transformation  = True\n",
    "# Scaling         = 'Standard'\n",
    "\n",
    "\n",
    "\n",
    "\n",
    "# # Start timer\n",
    "# #\n",
    "# start = time.time()\n",
    "\n",
    "# # Load data\n",
    "# #\n",
    "# df = pd.read_csv(filename, \n",
    "#                  sep = ',')\n",
    "\n",
    "\n",
    "# # Rename columns\n",
    "# #\n",
    "# df = df.rename(columns = {'created_at' : 'Date',\n",
    "#                           'field1' : 'Temperature',\n",
    "#                           'field2' : 'Humidity',\n",
    "#                           'field3' : 'PM2.5',\n",
    "#                           'field4' : 'PM10',\n",
    "#                           'field5' : 'NO2',\n",
    "#                           'field6' : 'CO',\n",
    "#                           'field7' : 'NH4',})\n",
    "\n",
    "\n",
    "\n",
    "# # End timer\n",
    "# #\n",
    "# print('[INFO] Time: %.2f' % (time.time() - start))\n",
    "\n",
    "# df.head( 3 )"
   ]
  },
  {
   "cell_type": "markdown",
   "metadata": {},
   "source": [
    "## Preprocess"
   ]
  },
  {
   "cell_type": "code",
   "execution_count": 72,
   "metadata": {},
   "outputs": [
    {
     "data": {
      "text/html": [
       "<div>\n",
       "<style scoped>\n",
       "    .dataframe tbody tr th:only-of-type {\n",
       "        vertical-align: middle;\n",
       "    }\n",
       "\n",
       "    .dataframe tbody tr th {\n",
       "        vertical-align: top;\n",
       "    }\n",
       "\n",
       "    .dataframe thead th {\n",
       "        text-align: right;\n",
       "    }\n",
       "</style>\n",
       "<table border=\"1\" class=\"dataframe\">\n",
       "  <thead>\n",
       "    <tr style=\"text-align: right;\">\n",
       "      <th></th>\n",
       "      <th>NO2</th>\n",
       "      <th>CO</th>\n",
       "    </tr>\n",
       "    <tr>\n",
       "      <th>Date</th>\n",
       "      <th></th>\n",
       "      <th></th>\n",
       "    </tr>\n",
       "  </thead>\n",
       "  <tbody>\n",
       "    <tr>\n",
       "      <th>2022-02-19 00:00:00</th>\n",
       "      <td>168.631579</td>\n",
       "      <td>240.710526</td>\n",
       "    </tr>\n",
       "    <tr>\n",
       "      <th>2022-02-19 00:10:00</th>\n",
       "      <td>135.394737</td>\n",
       "      <td>227.473684</td>\n",
       "    </tr>\n",
       "    <tr>\n",
       "      <th>2022-02-19 00:20:00</th>\n",
       "      <td>141.447368</td>\n",
       "      <td>229.526316</td>\n",
       "    </tr>\n",
       "  </tbody>\n",
       "</table>\n",
       "</div>"
      ],
      "text/plain": [
       "                            NO2          CO\n",
       "Date                                       \n",
       "2022-02-19 00:00:00  168.631579  240.710526\n",
       "2022-02-19 00:10:00  135.394737  227.473684\n",
       "2022-02-19 00:20:00  141.447368  229.526316"
      ]
     },
     "execution_count": 72,
     "metadata": {},
     "output_type": "execute_result"
    }
   ],
   "source": [
    "# Convert Date to 'datetime64'\n",
    "#\n",
    "df['Date'] = df['Date'].astype('datetime64')\n",
    "\n",
    "# Set index\n",
    "#\n",
    "df.set_index('Date', inplace=True)\n",
    "\n",
    "\n",
    "\n",
    "df = df.resample('10min').mean()#.interpolate()\n",
    "# df = pd.DataFrame( df[ ['CO'] ] )\n",
    "\n",
    "# The last feature is the target variable\n",
    "df = pd.DataFrame( df[ ['NO2', 'CO'] ] )\n",
    "# df = pd.DataFrame( df[ ['Temperature', 'Humidity', 'NO2', 'CO'] ] )\n",
    "\n",
    "\n",
    "df.head(3)"
   ]
  },
  {
   "cell_type": "code",
   "execution_count": 73,
   "metadata": {},
   "outputs": [],
   "source": [
    "# Set target series/Series which will be forecasted\n",
    "# \n",
    "targetSeries = df.columns[-1]\n",
    "\n",
    "# Set all other utilized features\n",
    "Features = df.columns[:-1]"
   ]
  },
  {
   "cell_type": "markdown",
   "metadata": {},
   "source": [
    "## Split Training/Testing set"
   ]
  },
  {
   "cell_type": "code",
   "execution_count": 74,
   "metadata": {},
   "outputs": [],
   "source": [
    "idx = int( df.shape[0] * 0.8 )\n",
    "\n",
    "df_train = df[ :idx ]\n",
    "df_test  = df[ idx: ]"
   ]
  },
  {
   "cell_type": "code",
   "execution_count": 75,
   "metadata": {},
   "outputs": [
    {
     "name": "stdout",
     "output_type": "stream",
     "text": [
      "Training:  8558\n",
      "Testing:   2140\n"
     ]
    }
   ],
   "source": [
    "print('Training: ', df_train.shape[0])\n",
    "print('Testing:  ', df_test.shape[0])"
   ]
  },
  {
   "cell_type": "markdown",
   "metadata": {},
   "source": [
    "## Visualize Training & Testing data"
   ]
  },
  {
   "cell_type": "code",
   "execution_count": 76,
   "metadata": {},
   "outputs": [
    {
     "data": {
      "image/png": "[encoded data removed]",
      "text/plain": [
       "<Figure size 1440x288 with 1 Axes>"
      ]
     },
     "metadata": {
      "needs_background": "light"
     },
     "output_type": "display_data"
    }
   ],
   "source": [
    "plt.figure( figsize = (20, 4) );\n",
    "#\n",
    "df_train[ targetSeries ].plot()\n",
    "df_test[ targetSeries ].plot()\n",
    "#\n",
    "plt.legend(['Training', 'Testing'], fontsize = 12, frameon = False);\n",
    "plt.ylabel( targetSeries, size = 12);\n",
    "plt.xlabel( 'Time', size = 12);"
   ]
  },
  {
   "cell_type": "markdown",
   "metadata": {},
   "source": [
    "## Fix lag"
   ]
  },
  {
   "cell_type": "code",
   "execution_count": 77,
   "metadata": {},
   "outputs": [],
   "source": [
    "df_test = pd.concat([df_train.iloc[-Lag:], df_test])"
   ]
  },
  {
   "cell_type": "markdown",
   "metadata": {},
   "source": [
    "## Contruction of fitting data for training a forecasting model"
   ]
  },
  {
   "cell_type": "markdown",
   "metadata": {},
   "source": [
    "### Data Transformation"
   ]
  },
  {
   "cell_type": "code",
   "execution_count": 78,
   "metadata": {},
   "outputs": [
    {
     "name": "stdout",
     "output_type": "stream",
     "text": [
      "[INFO] Data transformation applied\n"
     ]
    }
   ],
   "source": [
    "if (Transformation == True):\n",
    "    \n",
    "    print('[INFO] Data transformation applied')\n",
    "    \n",
    "    VALUE = np.ceil( max(abs( -df.min().min() ) + 1.0, 1.0) )\n",
    "    \n",
    "    df_train = np.log( df_train + VALUE)\n",
    "    df_test  = np.log( df_test  + VALUE)\n",
    "\n",
    "    # # Transformation parameter\n",
    "    # #\n",
    "    # d = {'parameter': VALUE}\n",
    "\n",
    "    # import json\n",
    "    # with open('checkpoints/Transformation.json', 'w') as fp:\n",
    "    #     json.dump(d, fp)\n",
    "    # print('[INFO] Parameters saved')\n",
    "\n",
    "else:\n",
    "    print('[INFO] No data transformation applied.')  "
   ]
  },
  {
   "cell_type": "markdown",
   "metadata": {},
   "source": [
    "### Data scaling "
   ]
  },
  {
   "cell_type": "code",
   "execution_count": 79,
   "metadata": {},
   "outputs": [
    {
     "name": "stdout",
     "output_type": "stream",
     "text": [
      "[INFO] Scaling: Standard\n"
     ]
    }
   ],
   "source": [
    "import pickle\n",
    "\n",
    "if (Scaling == 'MinMax'):\n",
    "    print('[INFO] Scaling: MinMax')\n",
    "    \n",
    "    # Set scaler\n",
    "    #\n",
    "    scaler = MinMaxScaler()\n",
    "    \n",
    "    df_train[ Features ] = scaler.fit_transform( df_train[ Features ].to_numpy().reshape(-1,1) )\n",
    "    df_test[ Features ]  = scaler.transform( df_test[ Features ].to_numpy().reshape(-1,1) )\n",
    "\n",
    "    # # Save Scaler\n",
    "    # #\n",
    "    # filename = 'checkpoints/Feature_scaler.pkl'\n",
    "    # pickle.dump(scaler, open(filename, 'wb'))\n",
    "    # print('[INFO] Feature scaler saved in ', filename)\n",
    "\n",
    "\n",
    "    # Scaling of Target Series\n",
    "    #\n",
    "    scaler = MinMaxScaler()\n",
    "    df_train[targetSeries] = scaler.fit_transform( df_train[ targetSeries ].to_numpy().reshape(-1,1) )\n",
    "    df_test[targetSeries]  = scaler.transform( df_test[ targetSeries ].to_numpy().reshape(-1,1) )\n",
    "            \n",
    "    # # Save Scaler\n",
    "    # #\n",
    "    # filename = 'checkpoints/Target_scaler.pkl'\n",
    "    # pickle.dump(scaler, open(filename, 'wb'))\n",
    "    # print('[INFO] Target scaler saved in ', filename)\n",
    "\n",
    "    \n",
    "elif (Scaling == 'Robust'):\n",
    "    print('[INFO] Scaling: Robust')\n",
    "    \n",
    "    # Set scaler\n",
    "    #\n",
    "    scaler = RobustScaler()\n",
    "    \n",
    "    df_train[ Features ] = scaler.fit_transform( df_train[ Features ].to_numpy().reshape(-1,1) )\n",
    "    df_test[ Features ]  = scaler.transform( df_test[ Features ].to_numpy().reshape(-1,1) )\n",
    "\n",
    "    # # Save Scaler\n",
    "    # #\n",
    "    # filename = 'checkpoints/Feature_scaler.pkl'\n",
    "    # pickle.dump(scaler, open(filename, 'wb'))\n",
    "    # print('[INFO] Feature scaler saved in ', filename)\n",
    "\n",
    "\n",
    "    # Scaling of Target Series\n",
    "    #\n",
    "    scaler = RobustScaler()\n",
    "    df_train[targetSeries] = scaler.fit_transform( df_train[ targetSeries ].to_numpy().reshape(-1,1) )\n",
    "    df_test[targetSeries]  = scaler.transform( df_test[ targetSeries ].to_numpy().reshape(-1,1) )\n",
    "            \n",
    "    # # Save Scaler\n",
    "    # #\n",
    "    # filename = 'checkpoints/Target_scaler.pkl'\n",
    "    # pickle.dump(scaler, open(filename, 'wb'))\n",
    "    # print('[INFO] Target scaler saved in ', filename)\n",
    "        \n",
    "elif (Scaling == 'Standard'):\n",
    "    print('[INFO] Scaling: Standard')\n",
    "\n",
    "    # Set scaler\n",
    "    #\n",
    "    scaler = StandardScaler()\n",
    "    \n",
    "    df_train[ Features ] = scaler.fit_transform( df_train[ Features ].to_numpy().reshape(-1,1) )\n",
    "    df_test[ Features ]  = scaler.transform( df_test[ Features ].to_numpy().reshape(-1,1) )\n",
    "\n",
    "    # # Save Scaler\n",
    "    # #\n",
    "    # filename = 'checkpoints/Feature_scaler.pkl'\n",
    "    # pickle.dump(scaler, open(filename, 'wb'))\n",
    "    # print('[INFO] Feature scaler saved in ', filename)\n",
    "\n",
    "\n",
    "    # Scaling of Target Series\n",
    "    #\n",
    "    scaler = StandardScaler()\n",
    "    df_train[targetSeries] = scaler.fit_transform( df_train[ targetSeries ].to_numpy().reshape(-1,1) )\n",
    "    df_test[targetSeries]  = scaler.transform( df_test[ targetSeries ].to_numpy().reshape(-1,1) )\n",
    "            \n",
    "    # # Save Scaler\n",
    "    # #\n",
    "    # filename = 'checkpoints/Target_scaler.pkl'\n",
    "    # pickle.dump(scaler, open(filename, 'wb'))\n",
    "    # print('[INFO] Target scaler saved in ', filename)       \n",
    "else:\n",
    "    print('[WARNING] Unknown data scaling. Standar scaling was selected')   "
   ]
  },
  {
   "cell_type": "markdown",
   "metadata": {},
   "source": [
    "### Include date/time features"
   ]
  },
  {
   "cell_type": "code",
   "execution_count": 80,
   "metadata": {},
   "outputs": [],
   "source": [
    "# df_train['Time (sin)'] = np.sin( df_train.index.hour + df_train.index.minute / 60 )\n",
    "# df_train['Time (cos)'] = np.cos( df_train.index.hour + df_train.index.minute / 60 )\n",
    "# #\n",
    "# df_test['Time (sin)']  = np.sin( df_test.index.hour + df_test.index.minute / 60 )\n",
    "# df_test['Time (cos)']  = np.cos( df_test.index.hour + df_test.index.minute / 60 )"
   ]
  },
  {
   "cell_type": "markdown",
   "metadata": {},
   "source": [
    "### Create fitting data "
   ]
  },
  {
   "cell_type": "code",
   "execution_count": 81,
   "metadata": {},
   "outputs": [],
   "source": [
    "def create_dataset(df = None, Lag = 1, Horizon = 12, targetSeries = None, overlap = 1):\n",
    "    \n",
    "    if (targetSeries is None):\n",
    "        targetSeries = df.columns[-1]\n",
    "    \n",
    "    dataX, dataY = [], []\n",
    "    for i in tqdm( range(0, df.shape[0] + 1  - Lag - Horizon, overlap) ):\n",
    "\n",
    "        # Check for NaN values\n",
    "        if (df[i:i + Lag + Horizon].dropna().shape[0] != df[i:i + Lag + Horizon].shape[0]): continue\n",
    "\n",
    "        dataX.append( df.to_numpy()[i:(i+Lag)] )        \n",
    "        dataY.append( df[ targetSeries ].to_numpy()[i + Lag : i + Lag + Horizon] )\n",
    "        \n",
    "        \n",
    "    return ( np.array(dataX), np.array(dataY) )"
   ]
  },
  {
   "cell_type": "code",
   "execution_count": 82,
   "metadata": {},
   "outputs": [
    {
     "name": "stderr",
     "output_type": "stream",
     "text": [
      "100%|██████████| 8545/8545 [00:06<00:00, 1270.05it/s]\n",
      "100%|██████████| 1070/1070 [00:00<00:00, 1317.13it/s]\n"
     ]
    },
    {
     "name": "stdout",
     "output_type": "stream",
     "text": [
      "Training instances:     8545\n",
      "Testing instances:      1070\n"
     ]
    }
   ],
   "source": [
    "trainX, trainY = create_dataset(df           = df_train, \n",
    "                                Lag          = Lag, \n",
    "                                Horizon      = Horizon, \n",
    "                                targetSeries = targetSeries,\n",
    "                                overlap      = 1)\n",
    "                               \n",
    "\n",
    "testX,  testY  = create_dataset(df           = df_test, \n",
    "                                Lag          = Lag, \n",
    "                                Horizon      = Horizon, \n",
    "                                targetSeries = targetSeries,\n",
    "                                overlap      = Horizon)\n",
    "\n",
    "\n",
    "print('Training instances:   %6i' % trainX.shape[0])\n",
    "print('Testing instances:    %6i' % testX.shape[0])"
   ]
  },
  {
   "cell_type": "markdown",
   "metadata": {},
   "source": [
    "# Forecasting model"
   ]
  },
  {
   "cell_type": "code",
   "execution_count": 83,
   "metadata": {},
   "outputs": [],
   "source": [
    "# Define metrics\n",
    "#\n",
    "metrics = [\n",
    "            MeanAbsolutePercentageError(name = \"MAPE\", dtype = None),\n",
    "            RootMeanSquaredError(name = 'RMSE', dtype = None),\n",
    "          ]"
   ]
  },
  {
   "cell_type": "code",
   "execution_count": 84,
   "metadata": {},
   "outputs": [],
   "source": [
    "from utils.Attention import *\n",
    "# https://github.com/philipperemy/keras-attention-mechanism\n",
    "\n",
    "\n",
    "model_input = Input(shape=( trainX.shape[1], trainX.shape[2]) )   \n",
    "\n",
    "\n",
    "x = Conv1D(filters=32, kernel_size=2, padding='same', activation='relu' )(model_input)\n",
    "x = MaxPool1D(2)(x)\n",
    "\n",
    "x = Attention(100)(x)\n",
    "#\n",
    "x = Dense(32)(x)\n",
    "x = BatchNormalization()(x)\n",
    "x = Dropout(0.2)(x)\n",
    "  \n",
    "x = Dense(Horizon, activation='linear')(x)\n",
    "\n",
    "\n",
    "model = Model(model_input, x)"
   ]
  },
  {
   "cell_type": "markdown",
   "metadata": {},
   "source": [
    "## Training forecasting model"
   ]
  },
  {
   "cell_type": "code",
   "execution_count": 85,
   "metadata": {},
   "outputs": [],
   "source": [
    "# Define metrics\n",
    "#\n",
    "metrics = [\n",
    "            MeanAbsoluteError(name = \"MAE\", dtype = None),\n",
    "            RootMeanSquaredError(name = 'RMSE', dtype = None),\n",
    "          ]\n",
    "\n",
    "\n",
    "model.compile(loss      = 'mse', \n",
    "              optimizer = Adam(learning_rate = 5.e-4), \n",
    "              metrics   = metrics)"
   ]
  },
  {
   "cell_type": "code",
   "execution_count": 86,
   "metadata": {},
   "outputs": [],
   "source": [
    "# Checkpoint\n",
    "#\n",
    "checkpoint = ModelCheckpoint(\"checkpoints/Convolutional.hdf5\", \n",
    "                              monitor        = 'val_loss', \n",
    "                              verbose        = 0, \n",
    "                              save_best_only = True, \n",
    "                              mode           = 'min')\n",
    "\n",
    "# Earlystopping\n",
    "earlystopping = EarlyStopping(monitor       = 'val_loss', \n",
    "                              mode          = 'min', \n",
    "                              verbose       = 1, \n",
    "                              patience      = 20)\n",
    "\n",
    "# Learning rate adjustment\n",
    "#\n",
    "lrs_scheduler  = ReduceLROnPlateau(monitor     = 'val_loss', \n",
    "                                   factor      = 0.5,\n",
    "                                   patience    = 10)"
   ]
  },
  {
   "cell_type": "code",
   "execution_count": 87,
   "metadata": {
    "scrolled": true
   },
   "outputs": [
    {
     "name": "stdout",
     "output_type": "stream",
     "text": [
      "Epoch 1/500\n",
      "107/107 [==============================] - 1s 3ms/step - loss: 0.8295 - MAE: 0.6683 - RMSE: 0.9108 - val_loss: 0.6246 - val_MAE: 0.6697 - val_RMSE: 0.7903 - lr: 5.0000e-04\n",
      "Epoch 2/500\n",
      "107/107 [==============================] - 0s 2ms/step - loss: 0.5865 - MAE: 0.5716 - RMSE: 0.7658 - val_loss: 0.5457 - val_MAE: 0.6120 - val_RMSE: 0.7387 - lr: 5.0000e-04\n",
      "Epoch 3/500\n",
      "107/107 [==============================] - 0s 2ms/step - loss: 0.5195 - MAE: 0.5355 - RMSE: 0.7208 - val_loss: 0.3704 - val_MAE: 0.4892 - val_RMSE: 0.6086 - lr: 5.0000e-04\n",
      "Epoch 4/500\n",
      "107/107 [==============================] - 0s 3ms/step - loss: 0.4764 - MAE: 0.5096 - RMSE: 0.6902 - val_loss: 0.2928 - val_MAE: 0.4179 - val_RMSE: 0.5411 - lr: 5.0000e-04\n",
      "Epoch 5/500\n",
      "107/107 [==============================] - 0s 2ms/step - loss: 0.4231 - MAE: 0.4823 - RMSE: 0.6505 - val_loss: 0.2937 - val_MAE: 0.4080 - val_RMSE: 0.5420 - lr: 5.0000e-04\n",
      "Epoch 6/500\n",
      "107/107 [==============================] - 0s 2ms/step - loss: 0.3821 - MAE: 0.4597 - RMSE: 0.6181 - val_loss: 0.2772 - val_MAE: 0.4122 - val_RMSE: 0.5265 - lr: 5.0000e-04\n",
      "Epoch 7/500\n",
      "107/107 [==============================] - 0s 2ms/step - loss: 0.3544 - MAE: 0.4396 - RMSE: 0.5954 - val_loss: 0.2502 - val_MAE: 0.3784 - val_RMSE: 0.5002 - lr: 5.0000e-04\n",
      "Epoch 8/500\n",
      "107/107 [==============================] - 0s 2ms/step - loss: 0.3292 - MAE: 0.4232 - RMSE: 0.5737 - val_loss: 0.2418 - val_MAE: 0.3435 - val_RMSE: 0.4917 - lr: 5.0000e-04\n",
      "Epoch 9/500\n",
      "107/107 [==============================] - 0s 2ms/step - loss: 0.3098 - MAE: 0.4114 - RMSE: 0.5566 - val_loss: 0.2385 - val_MAE: 0.3252 - val_RMSE: 0.4884 - lr: 5.0000e-04\n",
      "Epoch 10/500\n",
      "107/107 [==============================] - 0s 2ms/step - loss: 0.2881 - MAE: 0.3980 - RMSE: 0.5367 - val_loss: 0.2322 - val_MAE: 0.3358 - val_RMSE: 0.4818 - lr: 5.0000e-04\n",
      "Epoch 11/500\n",
      "107/107 [==============================] - 0s 2ms/step - loss: 0.2672 - MAE: 0.3844 - RMSE: 0.5169 - val_loss: 0.2454 - val_MAE: 0.3400 - val_RMSE: 0.4954 - lr: 5.0000e-04\n",
      "Epoch 12/500\n",
      "107/107 [==============================] - 0s 2ms/step - loss: 0.2583 - MAE: 0.3764 - RMSE: 0.5082 - val_loss: 0.2375 - val_MAE: 0.3608 - val_RMSE: 0.4874 - lr: 5.0000e-04\n",
      "Epoch 13/500\n",
      "107/107 [==============================] - 0s 2ms/step - loss: 0.2488 - MAE: 0.3670 - RMSE: 0.4988 - val_loss: 0.2508 - val_MAE: 0.3694 - val_RMSE: 0.5008 - lr: 5.0000e-04\n",
      "Epoch 14/500\n",
      "107/107 [==============================] - 0s 2ms/step - loss: 0.2375 - MAE: 0.3588 - RMSE: 0.4874 - val_loss: 0.2315 - val_MAE: 0.3463 - val_RMSE: 0.4811 - lr: 5.0000e-04\n",
      "Epoch 15/500\n",
      "107/107 [==============================] - 0s 3ms/step - loss: 0.2300 - MAE: 0.3522 - RMSE: 0.4795 - val_loss: 0.2298 - val_MAE: 0.3363 - val_RMSE: 0.4794 - lr: 5.0000e-04\n",
      "Epoch 16/500\n",
      "107/107 [==============================] - 0s 2ms/step - loss: 0.2247 - MAE: 0.3461 - RMSE: 0.4741 - val_loss: 0.2394 - val_MAE: 0.3324 - val_RMSE: 0.4893 - lr: 5.0000e-04\n",
      "Epoch 17/500\n",
      "107/107 [==============================] - 0s 2ms/step - loss: 0.2140 - MAE: 0.3393 - RMSE: 0.4626 - val_loss: 0.2330 - val_MAE: 0.3333 - val_RMSE: 0.4827 - lr: 5.0000e-04\n",
      "Epoch 18/500\n",
      "107/107 [==============================] - 0s 2ms/step - loss: 0.2120 - MAE: 0.3371 - RMSE: 0.4604 - val_loss: 0.2322 - val_MAE: 0.3547 - val_RMSE: 0.4818 - lr: 5.0000e-04\n",
      "Epoch 19/500\n",
      "107/107 [==============================] - 0s 2ms/step - loss: 0.2092 - MAE: 0.3332 - RMSE: 0.4574 - val_loss: 0.2393 - val_MAE: 0.3671 - val_RMSE: 0.4891 - lr: 5.0000e-04\n",
      "Epoch 20/500\n",
      "107/107 [==============================] - 0s 3ms/step - loss: 0.2037 - MAE: 0.3297 - RMSE: 0.4514 - val_loss: 0.2272 - val_MAE: 0.3435 - val_RMSE: 0.4766 - lr: 5.0000e-04\n",
      "Epoch 21/500\n",
      "107/107 [==============================] - 0s 3ms/step - loss: 0.1995 - MAE: 0.3229 - RMSE: 0.4467 - val_loss: 0.2253 - val_MAE: 0.3298 - val_RMSE: 0.4747 - lr: 5.0000e-04\n",
      "Epoch 22/500\n",
      "107/107 [==============================] - 0s 2ms/step - loss: 0.1954 - MAE: 0.3199 - RMSE: 0.4421 - val_loss: 0.2258 - val_MAE: 0.3321 - val_RMSE: 0.4752 - lr: 5.0000e-04\n",
      "Epoch 23/500\n",
      "107/107 [==============================] - 0s 3ms/step - loss: 0.1993 - MAE: 0.3256 - RMSE: 0.4464 - val_loss: 0.2313 - val_MAE: 0.3543 - val_RMSE: 0.4810 - lr: 5.0000e-04\n",
      "Epoch 24/500\n",
      "107/107 [==============================] - 0s 3ms/step - loss: 0.1918 - MAE: 0.3179 - RMSE: 0.4379 - val_loss: 0.2311 - val_MAE: 0.3261 - val_RMSE: 0.4807 - lr: 5.0000e-04\n",
      "Epoch 25/500\n",
      "107/107 [==============================] - 0s 3ms/step - loss: 0.1928 - MAE: 0.3185 - RMSE: 0.4391 - val_loss: 0.2228 - val_MAE: 0.3280 - val_RMSE: 0.4720 - lr: 5.0000e-04\n",
      "Epoch 26/500\n",
      "107/107 [==============================] - 0s 2ms/step - loss: 0.1913 - MAE: 0.3160 - RMSE: 0.4374 - val_loss: 0.2391 - val_MAE: 0.3559 - val_RMSE: 0.4890 - lr: 5.0000e-04\n",
      "Epoch 27/500\n",
      "107/107 [==============================] - 0s 2ms/step - loss: 0.1877 - MAE: 0.3138 - RMSE: 0.4333 - val_loss: 0.2248 - val_MAE: 0.3375 - val_RMSE: 0.4741 - lr: 5.0000e-04\n",
      "Epoch 28/500\n",
      "107/107 [==============================] - 0s 3ms/step - loss: 0.1894 - MAE: 0.3165 - RMSE: 0.4352 - val_loss: 0.2226 - val_MAE: 0.3283 - val_RMSE: 0.4718 - lr: 5.0000e-04\n",
      "Epoch 29/500\n",
      "107/107 [==============================] - 0s 3ms/step - loss: 0.1889 - MAE: 0.3157 - RMSE: 0.4347 - val_loss: 0.2410 - val_MAE: 0.3728 - val_RMSE: 0.4909 - lr: 5.0000e-04\n",
      "Epoch 30/500\n",
      "107/107 [==============================] - 0s 2ms/step - loss: 0.1875 - MAE: 0.3133 - RMSE: 0.4330 - val_loss: 0.2271 - val_MAE: 0.3454 - val_RMSE: 0.4766 - lr: 5.0000e-04\n",
      "Epoch 31/500\n",
      "107/107 [==============================] - 0s 2ms/step - loss: 0.1841 - MAE: 0.3105 - RMSE: 0.4291 - val_loss: 0.2273 - val_MAE: 0.3318 - val_RMSE: 0.4767 - lr: 5.0000e-04\n",
      "Epoch 32/500\n",
      "107/107 [==============================] - 0s 2ms/step - loss: 0.1859 - MAE: 0.3116 - RMSE: 0.4312 - val_loss: 0.2229 - val_MAE: 0.3318 - val_RMSE: 0.4721 - lr: 5.0000e-04\n",
      "Epoch 33/500\n",
      "107/107 [==============================] - 0s 2ms/step - loss: 0.1835 - MAE: 0.3087 - RMSE: 0.4283 - val_loss: 0.2256 - val_MAE: 0.3344 - val_RMSE: 0.4750 - lr: 5.0000e-04\n",
      "Epoch 34/500\n",
      "107/107 [==============================] - 0s 2ms/step - loss: 0.1865 - MAE: 0.3114 - RMSE: 0.4318 - val_loss: 0.2416 - val_MAE: 0.3719 - val_RMSE: 0.4915 - lr: 5.0000e-04\n",
      "Epoch 35/500\n",
      "107/107 [==============================] - 0s 2ms/step - loss: 0.1868 - MAE: 0.3126 - RMSE: 0.4323 - val_loss: 0.2318 - val_MAE: 0.3215 - val_RMSE: 0.4814 - lr: 5.0000e-04\n",
      "Epoch 36/500\n",
      "107/107 [==============================] - 0s 2ms/step - loss: 0.1806 - MAE: 0.3058 - RMSE: 0.4249 - val_loss: 0.2290 - val_MAE: 0.3289 - val_RMSE: 0.4785 - lr: 5.0000e-04\n",
      "Epoch 37/500\n",
      "107/107 [==============================] - 0s 3ms/step - loss: 0.1860 - MAE: 0.3122 - RMSE: 0.4313 - val_loss: 0.2205 - val_MAE: 0.3227 - val_RMSE: 0.4696 - lr: 5.0000e-04\n",
      "Epoch 38/500\n",
      "107/107 [==============================] - 0s 2ms/step - loss: 0.1795 - MAE: 0.3021 - RMSE: 0.4237 - val_loss: 0.2282 - val_MAE: 0.3392 - val_RMSE: 0.4777 - lr: 5.0000e-04\n",
      "Epoch 39/500\n",
      "107/107 [==============================] - 0s 2ms/step - loss: 0.1793 - MAE: 0.3054 - RMSE: 0.4235 - val_loss: 0.2191 - val_MAE: 0.3290 - val_RMSE: 0.4681 - lr: 5.0000e-04\n",
      "Epoch 40/500\n",
      "107/107 [==============================] - 0s 2ms/step - loss: 0.1825 - MAE: 0.3095 - RMSE: 0.4272 - val_loss: 0.2227 - val_MAE: 0.3354 - val_RMSE: 0.4719 - lr: 5.0000e-04\n",
      "Epoch 41/500\n",
      "107/107 [==============================] - 0s 3ms/step - loss: 0.1809 - MAE: 0.3042 - RMSE: 0.4253 - val_loss: 0.2258 - val_MAE: 0.3279 - val_RMSE: 0.4752 - lr: 5.0000e-04\n",
      "Epoch 42/500\n",
      "107/107 [==============================] - 0s 3ms/step - loss: 0.1813 - MAE: 0.3071 - RMSE: 0.4258 - val_loss: 0.2231 - val_MAE: 0.3354 - val_RMSE: 0.4723 - lr: 5.0000e-04\n",
      "Epoch 43/500\n",
      "107/107 [==============================] - 0s 4ms/step - loss: 0.1776 - MAE: 0.3031 - RMSE: 0.4215 - val_loss: 0.2210 - val_MAE: 0.3368 - val_RMSE: 0.4701 - lr: 5.0000e-04\n",
      "Epoch 44/500\n",
      "107/107 [==============================] - 0s 3ms/step - loss: 0.1820 - MAE: 0.3086 - RMSE: 0.4266 - val_loss: 0.2260 - val_MAE: 0.3455 - val_RMSE: 0.4754 - lr: 5.0000e-04\n",
      "Epoch 45/500\n",
      "107/107 [==============================] - 0s 2ms/step - loss: 0.1803 - MAE: 0.3065 - RMSE: 0.4247 - val_loss: 0.2206 - val_MAE: 0.3359 - val_RMSE: 0.4697 - lr: 5.0000e-04\n",
      "Epoch 46/500\n",
      "107/107 [==============================] - 0s 2ms/step - loss: 0.1788 - MAE: 0.3060 - RMSE: 0.4229 - val_loss: 0.2243 - val_MAE: 0.3341 - val_RMSE: 0.4736 - lr: 5.0000e-04\n",
      "Epoch 47/500\n",
      "107/107 [==============================] - 0s 3ms/step - loss: 0.1808 - MAE: 0.3094 - RMSE: 0.4252 - val_loss: 0.2240 - val_MAE: 0.3242 - val_RMSE: 0.4733 - lr: 5.0000e-04\n",
      "Epoch 48/500\n",
      "107/107 [==============================] - 0s 3ms/step - loss: 0.1836 - MAE: 0.3103 - RMSE: 0.4285 - val_loss: 0.2239 - val_MAE: 0.3334 - val_RMSE: 0.4732 - lr: 5.0000e-04\n",
      "Epoch 49/500\n",
      "107/107 [==============================] - 0s 3ms/step - loss: 0.1792 - MAE: 0.3058 - RMSE: 0.4233 - val_loss: 0.2226 - val_MAE: 0.3393 - val_RMSE: 0.4718 - lr: 5.0000e-04\n",
      "Epoch 50/500\n",
      "107/107 [==============================] - 0s 2ms/step - loss: 0.1764 - MAE: 0.3036 - RMSE: 0.4201 - val_loss: 0.2212 - val_MAE: 0.3316 - val_RMSE: 0.4703 - lr: 2.5000e-04\n",
      "Epoch 51/500\n",
      "107/107 [==============================] - 0s 2ms/step - loss: 0.1810 - MAE: 0.3094 - RMSE: 0.4254 - val_loss: 0.2240 - val_MAE: 0.3201 - val_RMSE: 0.4733 - lr: 2.5000e-04\n",
      "Epoch 52/500\n",
      "107/107 [==============================] - 0s 3ms/step - loss: 0.1798 - MAE: 0.3055 - RMSE: 0.4240 - val_loss: 0.2255 - val_MAE: 0.3518 - val_RMSE: 0.4748 - lr: 2.5000e-04\n",
      "Epoch 53/500\n",
      "107/107 [==============================] - 0s 3ms/step - loss: 0.1788 - MAE: 0.3064 - RMSE: 0.4229 - val_loss: 0.2235 - val_MAE: 0.3271 - val_RMSE: 0.4728 - lr: 2.5000e-04\n",
      "Epoch 54/500\n",
      "107/107 [==============================] - 0s 3ms/step - loss: 0.1791 - MAE: 0.3052 - RMSE: 0.4233 - val_loss: 0.2252 - val_MAE: 0.3507 - val_RMSE: 0.4746 - lr: 2.5000e-04\n",
      "Epoch 55/500\n",
      "107/107 [==============================] - 1s 5ms/step - loss: 0.1779 - MAE: 0.3046 - RMSE: 0.4218 - val_loss: 0.2282 - val_MAE: 0.3341 - val_RMSE: 0.4777 - lr: 2.5000e-04\n",
      "Epoch 56/500\n",
      "107/107 [==============================] - 0s 2ms/step - loss: 0.1797 - MAE: 0.3072 - RMSE: 0.4239 - val_loss: 0.2211 - val_MAE: 0.3180 - val_RMSE: 0.4702 - lr: 2.5000e-04\n",
      "Epoch 57/500\n",
      "107/107 [==============================] - 0s 2ms/step - loss: 0.1814 - MAE: 0.3070 - RMSE: 0.4259 - val_loss: 0.2182 - val_MAE: 0.3339 - val_RMSE: 0.4671 - lr: 2.5000e-04\n",
      "Epoch 58/500\n",
      "107/107 [==============================] - 0s 4ms/step - loss: 0.1808 - MAE: 0.3078 - RMSE: 0.4252 - val_loss: 0.2246 - val_MAE: 0.3372 - val_RMSE: 0.4739 - lr: 2.5000e-04\n",
      "Epoch 59/500\n",
      "107/107 [==============================] - 0s 3ms/step - loss: 0.1785 - MAE: 0.3055 - RMSE: 0.4225 - val_loss: 0.2178 - val_MAE: 0.3269 - val_RMSE: 0.4667 - lr: 2.5000e-04\n",
      "Epoch 60/500\n",
      "107/107 [==============================] - 0s 4ms/step - loss: 0.1788 - MAE: 0.3051 - RMSE: 0.4228 - val_loss: 0.2255 - val_MAE: 0.3408 - val_RMSE: 0.4749 - lr: 2.5000e-04\n",
      "Epoch 61/500\n",
      "107/107 [==============================] - 1s 5ms/step - loss: 0.1769 - MAE: 0.3032 - RMSE: 0.4205 - val_loss: 0.2180 - val_MAE: 0.3326 - val_RMSE: 0.4669 - lr: 2.5000e-04\n",
      "Epoch 62/500\n",
      "107/107 [==============================] - 0s 3ms/step - loss: 0.1806 - MAE: 0.3071 - RMSE: 0.4250 - val_loss: 0.2187 - val_MAE: 0.3257 - val_RMSE: 0.4677 - lr: 2.5000e-04\n",
      "Epoch 63/500\n",
      "107/107 [==============================] - 0s 2ms/step - loss: 0.1770 - MAE: 0.3033 - RMSE: 0.4207 - val_loss: 0.2189 - val_MAE: 0.3330 - val_RMSE: 0.4678 - lr: 2.5000e-04\n",
      "Epoch 64/500\n",
      "107/107 [==============================] - 0s 2ms/step - loss: 0.1760 - MAE: 0.3027 - RMSE: 0.4195 - val_loss: 0.2211 - val_MAE: 0.3297 - val_RMSE: 0.4702 - lr: 2.5000e-04\n",
      "Epoch 65/500\n",
      "107/107 [==============================] - 0s 3ms/step - loss: 0.1759 - MAE: 0.3005 - RMSE: 0.4194 - val_loss: 0.2178 - val_MAE: 0.3295 - val_RMSE: 0.4667 - lr: 2.5000e-04\n",
      "Epoch 66/500\n",
      "107/107 [==============================] - 0s 4ms/step - loss: 0.1767 - MAE: 0.3031 - RMSE: 0.4203 - val_loss: 0.2207 - val_MAE: 0.3301 - val_RMSE: 0.4698 - lr: 2.5000e-04\n",
      "Epoch 67/500\n",
      "107/107 [==============================] - 0s 2ms/step - loss: 0.1760 - MAE: 0.3018 - RMSE: 0.4195 - val_loss: 0.2214 - val_MAE: 0.3322 - val_RMSE: 0.4705 - lr: 2.5000e-04\n",
      "Epoch 68/500\n",
      "107/107 [==============================] - 0s 2ms/step - loss: 0.1763 - MAE: 0.3010 - RMSE: 0.4199 - val_loss: 0.2181 - val_MAE: 0.3311 - val_RMSE: 0.4670 - lr: 2.5000e-04\n",
      "Epoch 69/500\n",
      "107/107 [==============================] - 0s 2ms/step - loss: 0.1778 - MAE: 0.3040 - RMSE: 0.4217 - val_loss: 0.2190 - val_MAE: 0.3359 - val_RMSE: 0.4680 - lr: 2.5000e-04\n",
      "Epoch 70/500\n",
      "107/107 [==============================] - 0s 3ms/step - loss: 0.1787 - MAE: 0.3066 - RMSE: 0.4228 - val_loss: 0.2172 - val_MAE: 0.3238 - val_RMSE: 0.4661 - lr: 1.2500e-04\n",
      "Epoch 71/500\n",
      "107/107 [==============================] - 0s 3ms/step - loss: 0.1808 - MAE: 0.3058 - RMSE: 0.4252 - val_loss: 0.2179 - val_MAE: 0.3263 - val_RMSE: 0.4668 - lr: 1.2500e-04\n",
      "Epoch 72/500\n",
      "107/107 [==============================] - 0s 2ms/step - loss: 0.1771 - MAE: 0.3056 - RMSE: 0.4209 - val_loss: 0.2179 - val_MAE: 0.3284 - val_RMSE: 0.4668 - lr: 1.2500e-04\n",
      "Epoch 73/500\n",
      "107/107 [==============================] - 0s 2ms/step - loss: 0.1764 - MAE: 0.3033 - RMSE: 0.4200 - val_loss: 0.2187 - val_MAE: 0.3367 - val_RMSE: 0.4676 - lr: 1.2500e-04\n",
      "Epoch 74/500\n",
      "107/107 [==============================] - 0s 3ms/step - loss: 0.1747 - MAE: 0.3011 - RMSE: 0.4179 - val_loss: 0.2198 - val_MAE: 0.3383 - val_RMSE: 0.4688 - lr: 1.2500e-04\n",
      "Epoch 75/500\n",
      "107/107 [==============================] - 0s 4ms/step - loss: 0.1768 - MAE: 0.3033 - RMSE: 0.4205 - val_loss: 0.2175 - val_MAE: 0.3243 - val_RMSE: 0.4664 - lr: 1.2500e-04\n",
      "Epoch 76/500\n",
      "107/107 [==============================] - 0s 2ms/step - loss: 0.1821 - MAE: 0.3090 - RMSE: 0.4268 - val_loss: 0.2193 - val_MAE: 0.3384 - val_RMSE: 0.4683 - lr: 1.2500e-04\n",
      "Epoch 77/500\n",
      "107/107 [==============================] - 0s 3ms/step - loss: 0.1758 - MAE: 0.3022 - RMSE: 0.4193 - val_loss: 0.2163 - val_MAE: 0.3284 - val_RMSE: 0.4651 - lr: 1.2500e-04\n",
      "Epoch 78/500\n",
      "107/107 [==============================] - 0s 3ms/step - loss: 0.1775 - MAE: 0.3031 - RMSE: 0.4213 - val_loss: 0.2183 - val_MAE: 0.3363 - val_RMSE: 0.4673 - lr: 1.2500e-04\n",
      "Epoch 79/500\n",
      "107/107 [==============================] - 0s 4ms/step - loss: 0.1763 - MAE: 0.3046 - RMSE: 0.4199 - val_loss: 0.2182 - val_MAE: 0.3310 - val_RMSE: 0.4672 - lr: 1.2500e-04\n",
      "Epoch 80/500\n",
      "107/107 [==============================] - 0s 2ms/step - loss: 0.1756 - MAE: 0.3035 - RMSE: 0.4191 - val_loss: 0.2202 - val_MAE: 0.3413 - val_RMSE: 0.4692 - lr: 1.2500e-04\n",
      "Epoch 81/500\n",
      "107/107 [==============================] - 0s 2ms/step - loss: 0.1768 - MAE: 0.3041 - RMSE: 0.4205 - val_loss: 0.2172 - val_MAE: 0.3336 - val_RMSE: 0.4660 - lr: 1.2500e-04\n",
      "Epoch 82/500\n",
      "107/107 [==============================] - 0s 2ms/step - loss: 0.1759 - MAE: 0.3045 - RMSE: 0.4194 - val_loss: 0.2162 - val_MAE: 0.3259 - val_RMSE: 0.4650 - lr: 1.2500e-04\n",
      "Epoch 83/500\n",
      "107/107 [==============================] - 0s 3ms/step - loss: 0.1752 - MAE: 0.3022 - RMSE: 0.4185 - val_loss: 0.2170 - val_MAE: 0.3278 - val_RMSE: 0.4658 - lr: 1.2500e-04\n",
      "Epoch 84/500\n",
      "107/107 [==============================] - 0s 2ms/step - loss: 0.1778 - MAE: 0.3042 - RMSE: 0.4217 - val_loss: 0.2195 - val_MAE: 0.3223 - val_RMSE: 0.4686 - lr: 1.2500e-04\n",
      "Epoch 85/500\n",
      "107/107 [==============================] - 0s 2ms/step - loss: 0.1768 - MAE: 0.3020 - RMSE: 0.4205 - val_loss: 0.2163 - val_MAE: 0.3297 - val_RMSE: 0.4651 - lr: 1.2500e-04\n",
      "Epoch 86/500\n",
      "107/107 [==============================] - 0s 2ms/step - loss: 0.1761 - MAE: 0.3028 - RMSE: 0.4196 - val_loss: 0.2193 - val_MAE: 0.3367 - val_RMSE: 0.4682 - lr: 1.2500e-04\n",
      "Epoch 87/500\n",
      "107/107 [==============================] - 0s 2ms/step - loss: 0.1776 - MAE: 0.3061 - RMSE: 0.4214 - val_loss: 0.2245 - val_MAE: 0.3538 - val_RMSE: 0.4738 - lr: 1.2500e-04\n",
      "Epoch 88/500\n",
      "107/107 [==============================] - 0s 2ms/step - loss: 0.1748 - MAE: 0.3031 - RMSE: 0.4181 - val_loss: 0.2192 - val_MAE: 0.3405 - val_RMSE: 0.4681 - lr: 1.2500e-04\n",
      "Epoch 89/500\n",
      "107/107 [==============================] - 0s 2ms/step - loss: 0.1786 - MAE: 0.3058 - RMSE: 0.4226 - val_loss: 0.2178 - val_MAE: 0.3288 - val_RMSE: 0.4667 - lr: 1.2500e-04\n",
      "Epoch 90/500\n",
      "107/107 [==============================] - 0s 2ms/step - loss: 0.1790 - MAE: 0.3056 - RMSE: 0.4231 - val_loss: 0.2225 - val_MAE: 0.3480 - val_RMSE: 0.4717 - lr: 1.2500e-04\n",
      "Epoch 91/500\n",
      "107/107 [==============================] - 0s 2ms/step - loss: 0.1758 - MAE: 0.3013 - RMSE: 0.4192 - val_loss: 0.2176 - val_MAE: 0.3348 - val_RMSE: 0.4664 - lr: 1.2500e-04\n",
      "Epoch 92/500\n",
      "107/107 [==============================] - 0s 3ms/step - loss: 0.1739 - MAE: 0.3002 - RMSE: 0.4170 - val_loss: 0.2157 - val_MAE: 0.3231 - val_RMSE: 0.4645 - lr: 1.2500e-04\n",
      "Epoch 93/500\n",
      "107/107 [==============================] - 0s 2ms/step - loss: 0.1749 - MAE: 0.3010 - RMSE: 0.4182 - val_loss: 0.2172 - val_MAE: 0.3247 - val_RMSE: 0.4661 - lr: 1.2500e-04\n",
      "Epoch 94/500\n",
      "107/107 [==============================] - 0s 3ms/step - loss: 0.1799 - MAE: 0.3081 - RMSE: 0.4242 - val_loss: 0.2235 - val_MAE: 0.3468 - val_RMSE: 0.4727 - lr: 1.2500e-04\n",
      "Epoch 95/500\n",
      "107/107 [==============================] - 0s 2ms/step - loss: 0.1733 - MAE: 0.2996 - RMSE: 0.4163 - val_loss: 0.2193 - val_MAE: 0.3386 - val_RMSE: 0.4683 - lr: 1.2500e-04\n",
      "Epoch 96/500\n",
      "107/107 [==============================] - 0s 3ms/step - loss: 0.1770 - MAE: 0.3029 - RMSE: 0.4207 - val_loss: 0.2201 - val_MAE: 0.3376 - val_RMSE: 0.4691 - lr: 1.2500e-04\n",
      "Epoch 97/500\n",
      "107/107 [==============================] - 0s 2ms/step - loss: 0.1755 - MAE: 0.3023 - RMSE: 0.4189 - val_loss: 0.2157 - val_MAE: 0.3241 - val_RMSE: 0.4644 - lr: 1.2500e-04\n",
      "Epoch 98/500\n",
      "107/107 [==============================] - 0s 2ms/step - loss: 0.1762 - MAE: 0.3036 - RMSE: 0.4197 - val_loss: 0.2167 - val_MAE: 0.3308 - val_RMSE: 0.4655 - lr: 1.2500e-04\n",
      "Epoch 99/500\n",
      "107/107 [==============================] - 0s 2ms/step - loss: 0.1748 - MAE: 0.3021 - RMSE: 0.4181 - val_loss: 0.2269 - val_MAE: 0.3542 - val_RMSE: 0.4763 - lr: 1.2500e-04\n",
      "Epoch 100/500\n",
      "107/107 [==============================] - 0s 2ms/step - loss: 0.1748 - MAE: 0.3017 - RMSE: 0.4181 - val_loss: 0.2195 - val_MAE: 0.3342 - val_RMSE: 0.4685 - lr: 1.2500e-04\n",
      "Epoch 101/500\n",
      "107/107 [==============================] - 0s 2ms/step - loss: 0.1745 - MAE: 0.3019 - RMSE: 0.4178 - val_loss: 0.2222 - val_MAE: 0.3374 - val_RMSE: 0.4714 - lr: 1.2500e-04\n",
      "Epoch 102/500\n",
      "107/107 [==============================] - 0s 2ms/step - loss: 0.1807 - MAE: 0.3082 - RMSE: 0.4251 - val_loss: 0.2163 - val_MAE: 0.3305 - val_RMSE: 0.4651 - lr: 1.2500e-04\n",
      "Epoch 103/500\n",
      "107/107 [==============================] - 0s 2ms/step - loss: 0.1760 - MAE: 0.3026 - RMSE: 0.4195 - val_loss: 0.2165 - val_MAE: 0.3272 - val_RMSE: 0.4653 - lr: 6.2500e-05\n",
      "Epoch 104/500\n",
      "107/107 [==============================] - 0s 2ms/step - loss: 0.1734 - MAE: 0.3001 - RMSE: 0.4164 - val_loss: 0.2171 - val_MAE: 0.3297 - val_RMSE: 0.4660 - lr: 6.2500e-05\n",
      "Epoch 105/500\n",
      "107/107 [==============================] - 0s 2ms/step - loss: 0.1757 - MAE: 0.3026 - RMSE: 0.4192 - val_loss: 0.2192 - val_MAE: 0.3405 - val_RMSE: 0.4682 - lr: 6.2500e-05\n",
      "Epoch 106/500\n",
      "107/107 [==============================] - 0s 4ms/step - loss: 0.1776 - MAE: 0.3053 - RMSE: 0.4214 - val_loss: 0.2166 - val_MAE: 0.3283 - val_RMSE: 0.4654 - lr: 6.2500e-05\n",
      "Epoch 107/500\n",
      "107/107 [==============================] - 0s 4ms/step - loss: 0.1759 - MAE: 0.3014 - RMSE: 0.4194 - val_loss: 0.2168 - val_MAE: 0.3326 - val_RMSE: 0.4656 - lr: 6.2500e-05\n",
      "Epoch 108/500\n",
      "107/107 [==============================] - 0s 5ms/step - loss: 0.1772 - MAE: 0.3044 - RMSE: 0.4210 - val_loss: 0.2196 - val_MAE: 0.3293 - val_RMSE: 0.4686 - lr: 6.2500e-05\n",
      "Epoch 109/500\n",
      "107/107 [==============================] - 0s 4ms/step - loss: 0.1762 - MAE: 0.3034 - RMSE: 0.4197 - val_loss: 0.2181 - val_MAE: 0.3370 - val_RMSE: 0.4670 - lr: 6.2500e-05\n",
      "Epoch 110/500\n",
      "107/107 [==============================] - 0s 3ms/step - loss: 0.1763 - MAE: 0.3029 - RMSE: 0.4199 - val_loss: 0.2178 - val_MAE: 0.3355 - val_RMSE: 0.4667 - lr: 6.2500e-05\n",
      "Epoch 111/500\n",
      "107/107 [==============================] - 0s 3ms/step - loss: 0.1792 - MAE: 0.3067 - RMSE: 0.4234 - val_loss: 0.2173 - val_MAE: 0.3307 - val_RMSE: 0.4661 - lr: 6.2500e-05\n",
      "Epoch 112/500\n",
      "107/107 [==============================] - 0s 2ms/step - loss: 0.1742 - MAE: 0.3006 - RMSE: 0.4174 - val_loss: 0.2182 - val_MAE: 0.3307 - val_RMSE: 0.4671 - lr: 6.2500e-05\n",
      "Epoch 113/500\n",
      "107/107 [==============================] - 0s 3ms/step - loss: 0.1781 - MAE: 0.3055 - RMSE: 0.4221 - val_loss: 0.2178 - val_MAE: 0.3349 - val_RMSE: 0.4667 - lr: 3.1250e-05\n",
      "Epoch 114/500\n",
      "107/107 [==============================] - 0s 3ms/step - loss: 0.1726 - MAE: 0.2984 - RMSE: 0.4154 - val_loss: 0.2157 - val_MAE: 0.3255 - val_RMSE: 0.4645 - lr: 3.1250e-05\n",
      "Epoch 115/500\n",
      "107/107 [==============================] - 0s 2ms/step - loss: 0.1738 - MAE: 0.2988 - RMSE: 0.4168 - val_loss: 0.2177 - val_MAE: 0.3344 - val_RMSE: 0.4666 - lr: 3.1250e-05\n",
      "Epoch 116/500\n",
      "107/107 [==============================] - 0s 2ms/step - loss: 0.1745 - MAE: 0.3005 - RMSE: 0.4178 - val_loss: 0.2171 - val_MAE: 0.3329 - val_RMSE: 0.4659 - lr: 3.1250e-05\n",
      "Epoch 117/500\n",
      "107/107 [==============================] - 0s 2ms/step - loss: 0.1710 - MAE: 0.2988 - RMSE: 0.4135 - val_loss: 0.2164 - val_MAE: 0.3312 - val_RMSE: 0.4652 - lr: 3.1250e-05\n",
      "Epoch 00117: early stopping\n"
     ]
    }
   ],
   "source": [
    "# Start clock\n",
    "#\n",
    "start = timeit.default_timer()\n",
    "\n",
    "\n",
    "score = model.fit(trainX, trainY, \n",
    "                  epochs           = epochs, \n",
    "                  batch_size       = batch_size, \n",
    "                  callbacks        = [checkpoint, earlystopping, lrs_scheduler],\n",
    "                  verbose          = 1, \n",
    "                  shuffle          = True,\n",
    "                  validation_split = 0.2)\n",
    "\n",
    "\n",
    "# Terminate clock\n",
    "#\n",
    "stop = timeit.default_timer()"
   ]
  },
  {
   "cell_type": "code",
   "execution_count": 88,
   "metadata": {},
   "outputs": [
    {
     "data": {
      "image/png": "[encoded data removed]",
      "text/plain": [
       "<Figure size 1440x216 with 2 Axes>"
      ]
     },
     "metadata": {
      "needs_background": "light"
     },
     "output_type": "display_data"
    }
   ],
   "source": [
    "# Create figure\n",
    "#\n",
    "fig, ax = plt.subplots(nrows = 1, ncols = 2, figsize = (20, 3) )\n",
    "\n",
    "# Plot RMSE\n",
    "#\n",
    "ax[0].plot( score.history['RMSE'], marker = 'o');\n",
    "ax[0].plot( score.history['val_RMSE'], marker = 'o');\n",
    "ax[0].legend(['Training', 'Validation'], frameon = False, fontsize = 14);\n",
    "ax[0].set_title('RMSE');\n",
    "\n",
    "# Plot RMSE\n",
    "#\n",
    "ax[1].plot( score.history['MAE'], marker = 'o');\n",
    "ax[1].plot( score.history['val_MAE'], marker = 'o');\n",
    "ax[1].legend(['Training', 'Validation'], frameon = False, fontsize = 14);\n",
    "ax[1].set_title('MAE');"
   ]
  },
  {
   "cell_type": "markdown",
   "metadata": {},
   "source": [
    "## Load optimized forecasting model"
   ]
  },
  {
   "cell_type": "code",
   "execution_count": 89,
   "metadata": {},
   "outputs": [],
   "source": [
    "# Load the best model\n",
    "#\n",
    "model.load_weights('checkpoints/Convolutional.hdf5')"
   ]
  },
  {
   "cell_type": "markdown",
   "metadata": {},
   "source": [
    "# Evaluation"
   ]
  },
  {
   "cell_type": "markdown",
   "metadata": {},
   "source": [
    "## Get predictions"
   ]
  },
  {
   "cell_type": "code",
   "execution_count": 90,
   "metadata": {},
   "outputs": [],
   "source": [
    "# Get predictions\n",
    "#\n",
    "pred = model.predict( testX )"
   ]
  },
  {
   "cell_type": "markdown",
   "metadata": {},
   "source": [
    "## Apply inverse scaling/transformation"
   ]
  },
  {
   "cell_type": "code",
   "execution_count": 91,
   "metadata": {},
   "outputs": [],
   "source": [
    "# Apply inverse scaling\n",
    "#\n",
    "for i in range( Horizon ):\n",
    "    testY[:,  i] = scaler.inverse_transform( testY[:,  i].reshape(-1,1) ).squeeze(-1)\n",
    "    pred[:, i]   = scaler.inverse_transform( pred[:, i].reshape(-1,1) ).squeeze(-1)\n",
    "\n",
    "\n",
    "# Apply inverse transformation   \n",
    "#\n",
    "if (Transformation == True):\n",
    "    testY = np.exp( testY ) - VALUE\n",
    "    pred = np.exp( pred )   - VALUE"
   ]
  },
  {
   "cell_type": "markdown",
   "metadata": {},
   "source": [
    "## Regression evaluation"
   ]
  },
  {
   "cell_type": "code",
   "execution_count": 97,
   "metadata": {
    "scrolled": true
   },
   "outputs": [
    {
     "name": "stdout",
     "output_type": "stream",
     "text": [
      "Horizon:  1 MAE 15.30 RMSE 23.46 SMAPE:  7.44 R2: 0.85\n",
      "Horizon:  2 MAE 25.40 RMSE 36.97 SMAPE: 12.50 R2: 0.65\n"
     ]
    }
   ],
   "source": [
    "Results = dict()\n",
    "\n",
    "for i in range( Horizon ):\n",
    "    Prices = pd.DataFrame( [] )\n",
    "\n",
    "    Prices[targetSeries] = testY[:,i]\n",
    "    Prices['Prediction'] = pred[:,i]\n",
    "    \n",
    "\n",
    "        \n",
    "    # Store results\n",
    "    #\n",
    "    Results[ 'Horizon {}'.format(i+1) ] = Prices\n",
    "\n",
    "\n",
    "\n",
    "sResults = {'MAE': [], 'RMSE': [], 'MAPE': [], 'SMAPE': [], 'R2': []}\n",
    "\n",
    "for i in range(Horizon):\n",
    "    MAE, RMSE, MAPE, SMAPE, R2 = RegressionEvaluation( Results['Horizon {}'.format(i+1)] )\n",
    "    \n",
    "    sResults['MAE']   += [MAE]\n",
    "    sResults['RMSE']  += [RMSE]\n",
    "    sResults['MAPE']  += [MAPE]\n",
    "    sResults['SMAPE'] += [SMAPE]\n",
    "    sResults['R2']    += [R2]\n",
    "    \n",
    "    \n",
    "#     print('Horizon -%i-' % (i+1))\n",
    "#     print('--------------')\n",
    "#     print('MAE   = %.3f' % MAE)\n",
    "#     print('RMSE  = %.3f' % RMSE)\n",
    "#     print('MAPE  = %.3f' % MAPE)\n",
    "#     print('SMAPE = %.3f' % SMAPE)\n",
    "#     print('R2    = %.3f' % R2)\n",
    "#     print()\n",
    "    print('Horizon: %2i MAE %5.2f RMSE %5.2f SMAPE: %5.2f R2: %.2f' % (i+1, MAE, RMSE, SMAPE, R2) )"
   ]
  },
  {
   "cell_type": "markdown",
   "metadata": {},
   "source": [
    "### Reliability evaluation"
   ]
  },
  {
   "cell_type": "code",
   "execution_count": 93,
   "metadata": {},
   "outputs": [
    {
     "name": "stdout",
     "output_type": "stream",
     "text": [
      "[INFO] Feature:  CO\n",
      "------------------------------------------------\n"
     ]
    },
    {
     "data": {
      "image/png": "[encoded data removed]",
      "text/plain": [
       "<Figure size 1080x144 with 2 Axes>"
      ]
     },
     "metadata": {
      "needs_background": "light"
     },
     "output_type": "display_data"
    },
    {
     "data": {
      "image/png": "[encoded data removed]",
      "text/plain": [
       "<Figure size 1080x144 with 2 Axes>"
      ]
     },
     "metadata": {
      "needs_background": "light"
     },
     "output_type": "display_data"
    }
   ],
   "source": [
    "print('[INFO] Feature: ', targetSeries)\n",
    "print('------------------------------------------------')\n",
    "Performance_Foresting_Model = {'RMSE': [], 'MAE': [], 'SMAPE': [], 'R2' : []}\n",
    "\n",
    "for i in range( Horizon ):\n",
    "\n",
    "    Prices[targetSeries] = testY[:,i]\n",
    "    Prices['Prediction'] = pred[:,i]\n",
    "    \n",
    "            \n",
    "    from scipy import stats\n",
    "    from statsmodels.graphics.tsaplots import plot_acf\n",
    "    \n",
    "    res = (Prices[targetSeries] - Prices['Prediction']).to_numpy()\n",
    "    \n",
    "    fig, ax = plt.subplots(nrows = 1, ncols = 2, figsize = (15, 2) )\n",
    "\n",
    "    ax[0].hist( res, bins = 100 )    \n",
    "    plot_acf( res, ax=ax[1] )       "
   ]
  },
  {
   "cell_type": "markdown",
   "metadata": {},
   "source": [
    "## Visualization of predictions"
   ]
  },
  {
   "cell_type": "code",
   "execution_count": 94,
   "metadata": {},
   "outputs": [
    {
     "data": {
      "image/png": "[encoded data removed]",
      "text/plain": [
       "<Figure size 1440x288 with 1 Axes>"
      ]
     },
     "metadata": {
      "needs_background": "light"
     },
     "output_type": "display_data"
    }
   ],
   "source": [
    "Prices = pd.DataFrame( [] )\n",
    "\n",
    "Prices[targetSeries] = testY.flatten()\n",
    "Prices['Prediction'] = pred.flatten()\n",
    "\n",
    "\n",
    "# Plot results\n",
    "#\n",
    "plt.figure( figsize = (20, 4) );\n",
    "#\n",
    "Prices[ targetSeries ][:200].plot(color = 'tab:blue', marker = 'o')\n",
    "Prices[ 'Prediction' ][:200].plot(color = 'tab:orange', marker = 'o')\n",
    "plt.show();\n"
   ]
  },
  {
   "cell_type": "markdown",
   "metadata": {},
   "source": [
    "### Examples"
   ]
  },
  {
   "cell_type": "code",
   "execution_count": 95,
   "metadata": {},
   "outputs": [],
   "source": [
    "# subplots = [331, 332, 333, 334, 335, 336,  337, 338, 339]\n",
    "# plt.figure( figsize = (20, 8) )\n",
    "# RandomInstances = [random.randint(1, testY.shape[0]) for i in range(0, 9)]\n",
    "\n",
    "# for plot_id, i in enumerate(RandomInstances):\n",
    "\n",
    "#     plt.subplot(subplots[plot_id])\n",
    "#     plt.grid()\n",
    "\n",
    "#     plt.plot(testY[i], color='g', marker = 'o', linewidth = 2)\n",
    "#     plt.plot(pred[i],  color='r', marker = 'o', linewidth = 2)\n",
    "\n",
    "#     plt.legend(['Future values', 'Prediction'], frameon = False, fontsize = 12)\n",
    "#     plt.ylim([90, 260])\n",
    "# plt.show()"
   ]
  },
  {
   "cell_type": "markdown",
   "metadata": {},
   "source": [
    "# Store predictions"
   ]
  },
  {
   "cell_type": "code",
   "execution_count": 96,
   "metadata": {},
   "outputs": [],
   "source": [
    "Outputs = pd.DataFrame( [] )\n",
    "\n",
    "\n",
    "Outputs[ targetSeries ] = testY.flatten()\n",
    "Outputs['Convolutional'] = pred.flatten()\n",
    "\n",
    "Outputs.to_csv('Predictions/Convolutional.csv')"
   ]
  },
  {
   "cell_type": "code",
   "execution_count": null,
   "metadata": {},
   "outputs": [],
   "source": []
  }
 ],
 "metadata": {
  "kernelspec": {
   "display_name": "Python 3.7.12 ('tensorflow')",
   "language": "python",
   "name": "python3"
  },
  "language_info": {
   "codemirror_mode": {
    "name": "ipython",
    "version": 3
   },
   "file_extension": ".py",
   "mimetype": "text/x-python",
   "name": "python",
   "nbconvert_exporter": "python",
   "pygments_lexer": "ipython3",
   "version": "3.7.12"
  },
  "toc": {
   "base_numbering": 1,
   "nav_menu": {},
   "number_sections": true,
   "sideBar": true,
   "skip_h1_title": false,
   "title_cell": "Table of Contents",
   "title_sidebar": "Contents",
   "toc_cell": false,
   "toc_position": {
    "height": "calc(100% - 180px)",
    "left": "10px",
    "top": "150px",
    "width": "307.1964416503906px"
   },
   "toc_section_display": true,
   "toc_window_display": true
  },
  "vscode": {
   "interpreter": {
    "hash": "7428b380d083f99fc04fcc5ca6fbebec3e7c66e9e3f92621c0f3007db81c1bd7"
   }
  }
 },
 "nbformat": 4,
 "nbformat_minor": 4
}
