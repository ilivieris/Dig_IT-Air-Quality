{
 "cells": [
  {
   "cell_type": "markdown",
   "id": "16e7275c",
   "metadata": {},
   "source": [
    "# Libraries"
   ]
  },
  {
   "cell_type": "markdown",
   "id": "cf2f568a",
   "metadata": {},
   "source": [
    "##  Remove warnings"
   ]
  },
  {
   "cell_type": "code",
   "execution_count": 1,
   "id": "7b35d543",
   "metadata": {},
   "outputs": [],
   "source": [
    "import warnings\n",
    "warnings.filterwarnings(\"ignore\")"
   ]
  },
  {
   "cell_type": "markdown",
   "id": "c104f268",
   "metadata": {},
   "source": [
    "## Import libraries"
   ]
  },
  {
   "cell_type": "code",
   "execution_count": 2,
   "id": "1847e7d6",
   "metadata": {},
   "outputs": [],
   "source": [
    "# =-=-=-=-=-=-=-=-=-=-=-=-=-=-=-=-=-=-=-=-=-=-=-=-=-=-=-=-=-=-=-=-=-=-=-=-=-=\n",
    "# Basic libraries\n",
    "#\n",
    "import time\n",
    "import pandas    as pd\n",
    "import numpy     as np\n",
    "from   tqdm      import tqdm\n",
    "\n",
    "\n",
    "# =-=-=-=-=-=-=-=-=-=-=-=-=-=-=-=-=-=-=-=-=-=-=-=-=-=-=-=-=-=-=-=-=-=-=-=-=-=\n",
    "# Visualization library\n",
    "#\n",
    "import matplotlib.pyplot   as plt \n",
    "\n",
    "\n",
    "# =-=-=-=-=-=-=-=-=-=-=-=-=-=-=-=-=-=-=-=-=-=-=-=-=-=-=-=-=-=-=-=-=-=-=-=-=-=\n",
    "# Sklearn library\n",
    "#\n",
    "from sklearn.preprocessing import StandardScaler, MinMaxScaler, RobustScaler\n",
    "\n",
    "\n",
    "# =-=-=-=-=-=-=-=-=-=-=-=-=-=-=-=-=-=-=-=-=-=-=-=-=-=-=-=-=-=-=-=-=-=-=-=-=-=\n",
    "# Tensorflow library\n",
    "#\n",
    "import tensorflow \n",
    "from   tensorflow.keras.models                  import *\n",
    "from   tensorflow.keras.layers                  import *\n",
    "from   tensorflow.keras.metrics                 import *\n",
    "from   tensorflow.keras.optimizers              import *\n",
    "from   tensorflow.keras.callbacks               import EarlyStopping\n",
    "from   tensorflow.keras.callbacks               import ModelCheckpoint\n",
    "from   tensorflow.keras.callbacks               import ReduceLROnPlateau\n",
    "\n",
    "\n",
    "# =-=-=-=-=-=-=-=-=-=-=-=-=-=-=-=-=-=-=-=-=-=-=-=-=-=-=-=-=-=-=-=-=-=-=-=-=-=-=-=-=-=-=-=-=-=-=-=-=-=-=-=-=-=-=-=-=-=-=-=-=-=-=-=-=-=-=-=-=-=-=-=-=-=-=-=-=\n",
    "#\n",
    "# User libraries\n",
    "#\n",
    "from utils.PerformanceMetrics import RegressionEvaluation\n",
    "from utils.plot_scatter       import *"
   ]
  },
  {
   "cell_type": "markdown",
   "id": "725ffa9a",
   "metadata": {},
   "source": [
    "# Parameters"
   ]
  },
  {
   "cell_type": "markdown",
   "id": "19bf21a7",
   "metadata": {},
   "source": [
    "## CUDA"
   ]
  },
  {
   "cell_type": "code",
   "execution_count": 3,
   "id": "4a6e8856",
   "metadata": {},
   "outputs": [],
   "source": [
    "try:\n",
    "    gpus = tensorflow.config.list_physical_devices('GPU')\n",
    "    if gpus:\n",
    "        try:\n",
    "            # Currently, memory growth needs to be the same across GPUs\n",
    "            for gpu in gpus:\n",
    "                tensorflow.config.experimental.set_memory_growth(gpu, True)\n",
    "\n",
    "            logical_gpus = tensorflow.config.list_logical_devices('GPU')\n",
    "            print(len(gpus), \"Physical GPUs,\", len(logical_gpus), \"Logical GPUs\")\n",
    "\n",
    "        except RuntimeError as e:\n",
    "\n",
    "            # Memory growth must be set before GPUs have been initialized\n",
    "            print(e)\n",
    "except:\n",
    "    print('[INFO] Not GPU found')"
   ]
  },
  {
   "cell_type": "markdown",
   "id": "7cbe8c03",
   "metadata": {},
   "source": [
    "## Neural networks parameters"
   ]
  },
  {
   "cell_type": "code",
   "execution_count": 4,
   "id": "6a87b6c7",
   "metadata": {},
   "outputs": [],
   "source": [
    "Lag        =   12\n",
    "Horizon    =    2\n",
    "#\n",
    "epochs     =  200\n",
    "batch_size =  128"
   ]
  },
  {
   "cell_type": "markdown",
   "id": "8485247a",
   "metadata": {},
   "source": [
    "# Data handling"
   ]
  },
  {
   "cell_type": "markdown",
   "id": "33f7e490",
   "metadata": {},
   "source": [
    "## Import data\n"
   ]
  },
  {
   "cell_type": "code",
   "execution_count": 5,
   "id": "df04f61b",
   "metadata": {},
   "outputs": [],
   "source": [
    "# # Parameters\n",
    "# #\n",
    "# filename   = '../metadata/7-kanal-1.csv'\n",
    "\n",
    "# Transformation  = True\n",
    "# Scaling         = 'Standard'\n",
    "\n",
    "\n",
    "\n",
    "# # Start timer\n",
    "# #\n",
    "# start = time.time()\n",
    "\n",
    "# # Load data\n",
    "# #\n",
    "# df = pd.read_csv( filename )\n",
    "\n",
    "# print('[INFO] Data imported')\n",
    "# print('[INFO] Time: %.2f seconds' % (time.time() - start))\n",
    "\n",
    "# df.head(3)"
   ]
  },
  {
   "cell_type": "code",
   "execution_count": 6,
   "id": "811cd2b3",
   "metadata": {},
   "outputs": [
    {
     "name": "stdout",
     "output_type": "stream",
     "text": [
      "[INFO] Time: 0.61\n"
     ]
    },
    {
     "data": {
      "text/html": [
       "<div>\n",
       "<style scoped>\n",
       "    .dataframe tbody tr th:only-of-type {\n",
       "        vertical-align: middle;\n",
       "    }\n",
       "\n",
       "    .dataframe tbody tr th {\n",
       "        vertical-align: top;\n",
       "    }\n",
       "\n",
       "    .dataframe thead th {\n",
       "        text-align: right;\n",
       "    }\n",
       "</style>\n",
       "<table border=\"1\" class=\"dataframe\">\n",
       "  <thead>\n",
       "    <tr style=\"text-align: right;\">\n",
       "      <th></th>\n",
       "      <th>Date</th>\n",
       "      <th>entry_id</th>\n",
       "      <th>Temperature</th>\n",
       "      <th>Humidity</th>\n",
       "      <th>PM2.5</th>\n",
       "      <th>PM10</th>\n",
       "      <th>NO2</th>\n",
       "      <th>CO</th>\n",
       "      <th>NH4</th>\n",
       "      <th>field8</th>\n",
       "      <th>latitude</th>\n",
       "      <th>longitude</th>\n",
       "      <th>elevation</th>\n",
       "      <th>status</th>\n",
       "    </tr>\n",
       "  </thead>\n",
       "  <tbody>\n",
       "    <tr>\n",
       "      <th>0</th>\n",
       "      <td>2022-07-21T13:46:57+00:00</td>\n",
       "      <td>1</td>\n",
       "      <td>26.89</td>\n",
       "      <td>48.0</td>\n",
       "      <td>180.3</td>\n",
       "      <td>938.29999</td>\n",
       "      <td>161.0</td>\n",
       "      <td>180.0</td>\n",
       "      <td>167.0</td>\n",
       "      <td>4.0</td>\n",
       "      <td>NaN</td>\n",
       "      <td>NaN</td>\n",
       "      <td>NaN</td>\n",
       "      <td>NaN</td>\n",
       "    </tr>\n",
       "    <tr>\n",
       "      <th>1</th>\n",
       "      <td>2022-07-21T13:46:58+00:00</td>\n",
       "      <td>2</td>\n",
       "      <td>26.89</td>\n",
       "      <td>48.0</td>\n",
       "      <td>178.0</td>\n",
       "      <td>925.70001</td>\n",
       "      <td>162.0</td>\n",
       "      <td>180.0</td>\n",
       "      <td>167.0</td>\n",
       "      <td>3.0</td>\n",
       "      <td>NaN</td>\n",
       "      <td>NaN</td>\n",
       "      <td>NaN</td>\n",
       "      <td>NaN</td>\n",
       "    </tr>\n",
       "    <tr>\n",
       "      <th>2</th>\n",
       "      <td>2022-07-21T13:47:00+00:00</td>\n",
       "      <td>3</td>\n",
       "      <td>26.89</td>\n",
       "      <td>48.0</td>\n",
       "      <td>175.0</td>\n",
       "      <td>922.29999</td>\n",
       "      <td>160.0</td>\n",
       "      <td>180.0</td>\n",
       "      <td>167.0</td>\n",
       "      <td>4.0</td>\n",
       "      <td>NaN</td>\n",
       "      <td>NaN</td>\n",
       "      <td>NaN</td>\n",
       "      <td>NaN</td>\n",
       "    </tr>\n",
       "  </tbody>\n",
       "</table>\n",
       "</div>"
      ],
      "text/plain": [
       "                        Date  entry_id  Temperature  Humidity  PM2.5  \\\n",
       "0  2022-07-21T13:46:57+00:00         1        26.89      48.0  180.3   \n",
       "1  2022-07-21T13:46:58+00:00         2        26.89      48.0  178.0   \n",
       "2  2022-07-21T13:47:00+00:00         3        26.89      48.0  175.0   \n",
       "\n",
       "        PM10    NO2     CO    NH4  field8  latitude  longitude  elevation  \\\n",
       "0  938.29999  161.0  180.0  167.0     4.0       NaN        NaN        NaN   \n",
       "1  925.70001  162.0  180.0  167.0     3.0       NaN        NaN        NaN   \n",
       "2  922.29999  160.0  180.0  167.0     4.0       NaN        NaN        NaN   \n",
       "\n",
       "   status  \n",
       "0     NaN  \n",
       "1     NaN  \n",
       "2     NaN  "
      ]
     },
     "execution_count": 6,
     "metadata": {},
     "output_type": "execute_result"
    }
   ],
   "source": [
    "# Parameters\n",
    "#\n",
    "filename   = '../Data/D-6-It.csv'\n",
    "\n",
    "Transformation  = True\n",
    "Scaling         = 'Standard'\n",
    "\n",
    "\n",
    "\n",
    "\n",
    "# Start timer\n",
    "#\n",
    "start = time.time()\n",
    "\n",
    "# Load data\n",
    "#\n",
    "df = pd.read_csv(filename, \n",
    "                 sep = ',')\n",
    "\n",
    "\n",
    "# Rename columns\n",
    "#\n",
    "df = df.rename(columns = {'created_at' : 'Date',\n",
    "                          'field1' : 'Temperature',\n",
    "                          'field2' : 'Humidity',\n",
    "                          'field3' : 'PM2.5',\n",
    "                          'field4' : 'PM10',\n",
    "                          'field5' : 'NO2',\n",
    "                          'field6' : 'CO',\n",
    "                          'field7' : 'NH4',})\n",
    "\n",
    "\n",
    "\n",
    "# End timer\n",
    "#\n",
    "print('[INFO] Time: %.2f' % (time.time() - start))\n",
    "\n",
    "df.head( 3 )"
   ]
  },
  {
   "cell_type": "markdown",
   "id": "ba460ca4",
   "metadata": {},
   "source": [
    "## Preprocess data"
   ]
  },
  {
   "cell_type": "markdown",
   "id": "468ea623",
   "metadata": {},
   "source": [
    "### Set index"
   ]
  },
  {
   "cell_type": "code",
   "execution_count": 7,
   "id": "b31b7ff7",
   "metadata": {},
   "outputs": [
    {
     "data": {
      "text/html": [
       "<div>\n",
       "<style scoped>\n",
       "    .dataframe tbody tr th:only-of-type {\n",
       "        vertical-align: middle;\n",
       "    }\n",
       "\n",
       "    .dataframe tbody tr th {\n",
       "        vertical-align: top;\n",
       "    }\n",
       "\n",
       "    .dataframe thead th {\n",
       "        text-align: right;\n",
       "    }\n",
       "</style>\n",
       "<table border=\"1\" class=\"dataframe\">\n",
       "  <thead>\n",
       "    <tr style=\"text-align: right;\">\n",
       "      <th></th>\n",
       "      <th>NO2</th>\n",
       "      <th>CO</th>\n",
       "    </tr>\n",
       "    <tr>\n",
       "      <th>Date</th>\n",
       "      <th></th>\n",
       "      <th></th>\n",
       "    </tr>\n",
       "  </thead>\n",
       "  <tbody>\n",
       "    <tr>\n",
       "      <th>2022-07-21 13:40:00</th>\n",
       "      <td>155.666667</td>\n",
       "      <td>177.555556</td>\n",
       "    </tr>\n",
       "    <tr>\n",
       "      <th>2022-07-21 13:50:00</th>\n",
       "      <td>134.845890</td>\n",
       "      <td>165.821918</td>\n",
       "    </tr>\n",
       "    <tr>\n",
       "      <th>2022-07-21 14:00:00</th>\n",
       "      <td>116.583618</td>\n",
       "      <td>157.201365</td>\n",
       "    </tr>\n",
       "  </tbody>\n",
       "</table>\n",
       "</div>"
      ],
      "text/plain": [
       "                            NO2          CO\n",
       "Date                                       \n",
       "2022-07-21 13:40:00  155.666667  177.555556\n",
       "2022-07-21 13:50:00  134.845890  165.821918\n",
       "2022-07-21 14:00:00  116.583618  157.201365"
      ]
     },
     "execution_count": 7,
     "metadata": {},
     "output_type": "execute_result"
    }
   ],
   "source": [
    "# Convert Date to 'datetime64'\n",
    "#\n",
    "df['Date'] = df['Date'].astype('datetime64')\n",
    "\n",
    "# Set index\n",
    "#\n",
    "df.set_index('Date', inplace=True)\n",
    "\n",
    "\n",
    "df = df.resample('10min').mean() \n",
    "\n",
    "# The last feature is the target variable\n",
    "df = pd.DataFrame( df[ ['NO2', 'CO'] ] )\n",
    "\n",
    "df.head(3)"
   ]
  },
  {
   "cell_type": "code",
   "execution_count": 8,
   "id": "8d652763",
   "metadata": {},
   "outputs": [],
   "source": [
    "# Set target series/Series which will be forecasted\n",
    "# \n",
    "targetSeries = df.columns[-1]\n",
    "\n",
    "# Set all other utilized features\n",
    "Features = df.columns[:-1]"
   ]
  },
  {
   "cell_type": "markdown",
   "id": "8f20b41d",
   "metadata": {},
   "source": [
    "### Split Training/Testing"
   ]
  },
  {
   "cell_type": "code",
   "execution_count": 9,
   "id": "f5862c46",
   "metadata": {},
   "outputs": [],
   "source": [
    "idx = int( df.shape[0] * 0.8 )\n",
    "\n",
    "df_train = df[ :idx ]\n",
    "df_test  = df[ idx: ]"
   ]
  },
  {
   "cell_type": "markdown",
   "id": "a5a8f2a8",
   "metadata": {},
   "source": [
    "### Visualization"
   ]
  },
  {
   "cell_type": "code",
   "execution_count": 10,
   "id": "4a430ed1",
   "metadata": {},
   "outputs": [
    {
     "data": {
      "image/png": "[encoded data removed]",
      "text/plain": [
       "<Figure size 1440x288 with 1 Axes>"
      ]
     },
     "metadata": {
      "needs_background": "light"
     },
     "output_type": "display_data"
    }
   ],
   "source": [
    "plt.figure( figsize = (20, 4) );\n",
    "#\n",
    "df_train[ targetSeries ].plot()\n",
    "df_test[ targetSeries ].plot()\n",
    "#\n",
    "plt.legend(['Training', 'Testing'], fontsize = 12, frameon = False);\n",
    "plt.ylabel( targetSeries, size = 12);\n",
    "plt.xlabel( 'Time', size = 12);"
   ]
  },
  {
   "cell_type": "markdown",
   "id": "f33df646",
   "metadata": {},
   "source": [
    "### Fixing Lag"
   ]
  },
  {
   "cell_type": "code",
   "execution_count": 11,
   "id": "575d56b9",
   "metadata": {},
   "outputs": [],
   "source": [
    "df_test = pd.concat([df_train.iloc[-Lag:], df_test])"
   ]
  },
  {
   "cell_type": "markdown",
   "id": "f9dfd7c7",
   "metadata": {},
   "source": [
    "## Preprocessing"
   ]
  },
  {
   "cell_type": "markdown",
   "id": "3a819d0b",
   "metadata": {},
   "source": [
    "## Data Transformation"
   ]
  },
  {
   "cell_type": "code",
   "execution_count": 12,
   "id": "65b6ec7c",
   "metadata": {},
   "outputs": [
    {
     "name": "stdout",
     "output_type": "stream",
     "text": [
      "[INFO] Data transformation applied\n",
      "[INFO] Parameters saved\n"
     ]
    }
   ],
   "source": [
    "if (Transformation == True):\n",
    "    \n",
    "    print('[INFO] Data transformation applied')\n",
    "    \n",
    "    VALUE = np.ceil( max(abs( -df.min().min() ) + 1.0, 1.0) )\n",
    "    \n",
    "    df_train = np.log( df_train + VALUE)\n",
    "    df_test  = np.log( df_test  + VALUE)\n",
    "    \n",
    "    \n",
    "\n",
    "    # Transformation parameter\n",
    "    #\n",
    "    d = {'parameter': VALUE}\n",
    "\n",
    "    import json\n",
    "    with open('model/Transformation.json', 'w') as fp:\n",
    "        json.dump(d, fp)\n",
    "    print('[INFO] Parameters saved')\n",
    "\n",
    "else:\n",
    "    print('[INFO] No data transformation applied.')  "
   ]
  },
  {
   "cell_type": "code",
   "execution_count": 13,
   "id": "9e7249f5",
   "metadata": {},
   "outputs": [
    {
     "name": "stdout",
     "output_type": "stream",
     "text": [
      "[INFO] Scaling: Standard\n",
      "[INFO] Feature scaler saved in  model/Feature_scaler.pkl\n",
      "[INFO] Target scaler saved in  model/Target_scaler.pkl\n"
     ]
    }
   ],
   "source": [
    "import pickle\n",
    "\n",
    "if (Scaling == 'MinMax'):\n",
    "    print('[INFO] Scaling: MinMax')\n",
    "    \n",
    "    # Set scaler\n",
    "    #\n",
    "    scaler = MinMaxScaler()\n",
    "    \n",
    "    df_train[ Features ] = scaler.fit_transform( df_train[ Features ].to_numpy().reshape(-1,1) )\n",
    "    df_test[ Features ]  = scaler.transform( df_test[ Features ].to_numpy().reshape(-1,1) )\n",
    "\n",
    "    # Save Encoder\n",
    "    #\n",
    "    filename = 'model/Feature_scaler.pkl'\n",
    "    pickle.dump(scaler, open(filename, 'wb'))\n",
    "    print('[INFO] Feature scaler saved in ', filename)\n",
    "\n",
    "\n",
    "    # Scaling of Target Series\n",
    "    #\n",
    "    scaler = MinMaxScaler()\n",
    "    df_train[targetSeries] = scaler.fit_transform( df_train[ targetSeries ].to_numpy().reshape(-1,1) )\n",
    "    df_test[targetSeries]  = scaler.transform( df_test[ targetSeries ].to_numpy().reshape(-1,1) )\n",
    "            \n",
    "    # Save Encoder\n",
    "    #\n",
    "    filename = 'model/Target_scaler.pkl'\n",
    "    pickle.dump(scaler, open(filename, 'wb'))\n",
    "    print('[INFO] Target scaler saved in ', filename)\n",
    "\n",
    "    \n",
    "elif (Scaling == 'Robust'):\n",
    "    print('[INFO] Scaling: Robust')\n",
    "    \n",
    "    # Set scaler\n",
    "    #\n",
    "    scaler = RobustScaler()\n",
    "    \n",
    "    df_train[ Features ] = scaler.fit_transform( df_train[ Features ].to_numpy().reshape(-1,1) )\n",
    "    df_test[ Features ]  = scaler.transform( df_test[ Features ].to_numpy().reshape(-1,1) )\n",
    "\n",
    "    # Save Encoder\n",
    "    #\n",
    "    filename = 'model/Feature_scaler.pkl'\n",
    "    pickle.dump(scaler, open(filename, 'wb'))\n",
    "    print('[INFO] Feature scaler saved in ', filename)\n",
    "\n",
    "\n",
    "    # Scaling of Target Series\n",
    "    #\n",
    "    scaler = RobustScaler()\n",
    "    df_train[targetSeries] = scaler.fit_transform( df_train[ targetSeries ].to_numpy().reshape(-1,1) )\n",
    "    df_test[targetSeries]  = scaler.transform( df_test[ targetSeries ].to_numpy().reshape(-1,1) )\n",
    "            \n",
    "    # Save Encoder\n",
    "    #\n",
    "    filename = 'model/Target_scaler.pkl'\n",
    "    pickle.dump(scaler, open(filename, 'wb'))\n",
    "    print('[INFO] Target scaler saved in ', filename)\n",
    "        \n",
    "elif (Scaling == 'Standard'):\n",
    "    print('[INFO] Scaling: Standard')\n",
    "\n",
    "    # Set scaler\n",
    "    #\n",
    "    scaler = StandardScaler()\n",
    "    \n",
    "    df_train[ Features ] = scaler.fit_transform( df_train[ Features ].to_numpy().reshape(-1,1) )\n",
    "    df_test[ Features ]  = scaler.transform( df_test[ Features ].to_numpy().reshape(-1,1) )\n",
    "\n",
    "    # Save Encoder\n",
    "    #\n",
    "    filename = 'model/Feature_scaler.pkl'\n",
    "    pickle.dump(scaler, open(filename, 'wb'))\n",
    "    print('[INFO] Feature scaler saved in ', filename)\n",
    "\n",
    "\n",
    "    # Scaling of Target Series\n",
    "    #\n",
    "    scaler = StandardScaler()\n",
    "    df_train[targetSeries] = scaler.fit_transform( df_train[ targetSeries ].to_numpy().reshape(-1,1) )\n",
    "    df_test[targetSeries]  = scaler.transform( df_test[ targetSeries ].to_numpy().reshape(-1,1) )\n",
    "            \n",
    "    # Save Encoder\n",
    "    #\n",
    "    filename = 'model/Target_scaler.pkl'\n",
    "    pickle.dump(scaler, open(filename, 'wb'))\n",
    "    print('[INFO] Target scaler saved in ', filename)       \n",
    "else:\n",
    "    print('[WARNING] Unknown data scaling. Standar scaling was selected')   "
   ]
  },
  {
   "cell_type": "markdown",
   "id": "ec5ae958",
   "metadata": {},
   "source": [
    "## Create Training/Testing data"
   ]
  },
  {
   "cell_type": "code",
   "execution_count": 14,
   "id": "1833a5b2",
   "metadata": {},
   "outputs": [],
   "source": [
    "def create_dataset(df = None, Lag = 1, Horizon = 12, targetSeries = None, overlap = 1):\n",
    "    \n",
    "    if (targetSeries is None):\n",
    "        targetSeries = df.columns[-1]\n",
    "    \n",
    "    dataX, dataY = [], []\n",
    "    \n",
    "    for i in tqdm( range(0, df.shape[0] + 1  - Lag - Horizon, overlap) ):\n",
    "\n",
    "        # Check for NaN values\n",
    "        if (df[i:i + Lag + Horizon].dropna().shape[0] != df[i:i + Lag + Horizon].shape[0]): continue\n",
    "                \n",
    "        dataX.append( df.to_numpy()[i:(i+Lag)] )        \n",
    "        dataY.append( df[ targetSeries ].to_numpy()[i + Lag : i + Lag + Horizon] )\n",
    "        \n",
    "        \n",
    "    return ( np.array(dataX), np.array(dataY) )\n"
   ]
  },
  {
   "cell_type": "code",
   "execution_count": 15,
   "id": "57c34801",
   "metadata": {},
   "outputs": [
    {
     "name": "stderr",
     "output_type": "stream",
     "text": [
      "100%|██████████| 8844/8844 [00:06<00:00, 1355.78it/s]\n",
      "100%|██████████| 1107/1107 [00:00<00:00, 1463.52it/s]"
     ]
    },
    {
     "name": "stdout",
     "output_type": "stream",
     "text": [
      "Training instances:     5941\n",
      "Testing instances:       318\n"
     ]
    },
    {
     "name": "stderr",
     "output_type": "stream",
     "text": [
      "\n"
     ]
    }
   ],
   "source": [
    "trainX, trainY = create_dataset(df           = df_train, \n",
    "                                Lag          = Lag, \n",
    "                                Horizon      = Horizon, \n",
    "                                targetSeries = targetSeries,\n",
    "                                overlap      = 1,)\n",
    "                               \n",
    "\n",
    "testX,  testY  = create_dataset(df           = df_test, \n",
    "                                Lag          = Lag, \n",
    "                                Horizon      = Horizon, \n",
    "                                targetSeries = targetSeries,\n",
    "                                overlap      = Horizon,)\n",
    "\n",
    "\n",
    "print('Training instances:   %6i' % trainX.shape[0])\n",
    "print('Testing instances:    %6i' % testX.shape[0])"
   ]
  },
  {
   "cell_type": "markdown",
   "id": "eef72318",
   "metadata": {},
   "source": [
    "# Forecasting model"
   ]
  },
  {
   "cell_type": "code",
   "execution_count": 16,
   "id": "6bccce38",
   "metadata": {},
   "outputs": [],
   "source": [
    "import random, os\n",
    "seed = 42\n",
    "    \n",
    "random.seed(seed)\n",
    "os.environ[\"PYTHONHASHSEED\"] = str(seed)\n",
    "np.random.seed(seed)\n",
    "tensorflow.random.set_seed(seed)"
   ]
  },
  {
   "cell_type": "markdown",
   "id": "ab689efe",
   "metadata": {},
   "source": [
    "## Setup model"
   ]
  },
  {
   "cell_type": "code",
   "execution_count": 17,
   "id": "b8545a72",
   "metadata": {},
   "outputs": [
    {
     "name": "stderr",
     "output_type": "stream",
     "text": [
      "2022-10-10 20:55:18.958071: I tensorflow/core/platform/cpu_feature_guard.cc:151] This TensorFlow binary is optimized with oneAPI Deep Neural Network Library (oneDNN) to use the following CPU instructions in performance-critical operations:  SSE4.1 SSE4.2 AVX AVX2 FMA\n",
      "To enable them in other operations, rebuild TensorFlow with the appropriate compiler flags.\n"
     ]
    }
   ],
   "source": [
    "from utils.Attention import *\n",
    "# https://github.com/philipperemy/keras-attention-mechanism\n",
    "\n",
    "\n",
    "model_input = Input(shape=( trainX.shape[1], trainX.shape[2]) )   \n",
    "\n",
    "\n",
    "x = Conv1D(filters=32, kernel_size=2, padding='same', activation='relu' )(model_input)\n",
    "x = MaxPool1D(2)(x)\n",
    "\n",
    "x = Attention(100)(x)\n",
    "#\n",
    "x = Dense(32)(x)\n",
    "x = BatchNormalization()(x)\n",
    "x = Dropout(0.2)(x)\n",
    "  \n",
    "x = Dense(Horizon, activation='linear')(x)\n",
    "\n",
    "\n",
    "model = Model(model_input, x)"
   ]
  },
  {
   "cell_type": "markdown",
   "id": "9d0d37bb",
   "metadata": {},
   "source": [
    "## Training parameters"
   ]
  },
  {
   "cell_type": "code",
   "execution_count": 18,
   "id": "26f8eb13",
   "metadata": {},
   "outputs": [],
   "source": [
    "# Define metrics\n",
    "#\n",
    "metrics = [\n",
    "            MeanAbsoluteError(name = \"MAE\", dtype = None),\n",
    "            RootMeanSquaredError(name = 'RMSE', dtype = None),\n",
    "          ]\n",
    "\n",
    "model.compile(loss = 'mse', optimizer = Adam(learning_rate = 5.e-4), metrics = metrics)\n",
    "# "
   ]
  },
  {
   "cell_type": "code",
   "execution_count": 19,
   "id": "13218a26",
   "metadata": {},
   "outputs": [],
   "source": [
    "# Checkpoint\n",
    "#\n",
    "checkpoint = ModelCheckpoint(\"model/CO_model.hdf5\", \n",
    "                              monitor        = 'val_loss', \n",
    "                              verbose        = 0, \n",
    "                              save_best_only = True, \n",
    "                              mode           = 'min')\n",
    "\n",
    "# Earlystopping\n",
    "earlystopping = EarlyStopping(monitor       = 'val_loss', \n",
    "                              mode          = 'min', \n",
    "                              verbose       = 1, \n",
    "                              patience      = 20)\n",
    "\n",
    "# Learning rate adjustment\n",
    "#\n",
    "lrs_scheduler  = ReduceLROnPlateau(monitor     = 'val_loss', \n",
    "                                   factor      = 0.5,\n",
    "                                   patience    = 10)"
   ]
  },
  {
   "cell_type": "markdown",
   "id": "b494ba8e",
   "metadata": {},
   "source": [
    "## Training process"
   ]
  },
  {
   "cell_type": "code",
   "execution_count": 20,
   "id": "cac499ee",
   "metadata": {
    "scrolled": true
   },
   "outputs": [
    {
     "name": "stdout",
     "output_type": "stream",
     "text": [
      "Epoch 1/200\n",
      "38/38 [==============================] - 1s 7ms/step - loss: 1.1366 - MAE: 0.7729 - RMSE: 1.0661 - val_loss: 0.4647 - val_MAE: 0.5985 - val_RMSE: 0.6817 - lr: 5.0000e-04\n",
      "Epoch 2/200\n",
      "38/38 [==============================] - 0s 3ms/step - loss: 0.5821 - MAE: 0.5769 - RMSE: 0.7629 - val_loss: 0.4359 - val_MAE: 0.5794 - val_RMSE: 0.6602 - lr: 5.0000e-04\n",
      "Epoch 3/200\n",
      "38/38 [==============================] - 0s 3ms/step - loss: 0.5803 - MAE: 0.5714 - RMSE: 0.7618 - val_loss: 0.3390 - val_MAE: 0.5048 - val_RMSE: 0.5823 - lr: 5.0000e-04\n",
      "Epoch 4/200\n",
      "38/38 [==============================] - 0s 3ms/step - loss: 0.5436 - MAE: 0.5539 - RMSE: 0.7373 - val_loss: 0.3167 - val_MAE: 0.4861 - val_RMSE: 0.5628 - lr: 5.0000e-04\n",
      "Epoch 5/200\n",
      "38/38 [==============================] - 0s 3ms/step - loss: 0.4995 - MAE: 0.5299 - RMSE: 0.7068 - val_loss: 0.2297 - val_MAE: 0.3969 - val_RMSE: 0.4793 - lr: 5.0000e-04\n",
      "Epoch 6/200\n",
      "38/38 [==============================] - 0s 3ms/step - loss: 0.4825 - MAE: 0.5203 - RMSE: 0.6946 - val_loss: 0.2107 - val_MAE: 0.3696 - val_RMSE: 0.4590 - lr: 5.0000e-04\n",
      "Epoch 7/200\n",
      "38/38 [==============================] - 0s 4ms/step - loss: 0.4708 - MAE: 0.5132 - RMSE: 0.6861 - val_loss: 0.1981 - val_MAE: 0.3584 - val_RMSE: 0.4451 - lr: 5.0000e-04\n",
      "Epoch 8/200\n",
      "38/38 [==============================] - 0s 3ms/step - loss: 0.4362 - MAE: 0.4956 - RMSE: 0.6604 - val_loss: 0.1813 - val_MAE: 0.3382 - val_RMSE: 0.4258 - lr: 5.0000e-04\n",
      "Epoch 9/200\n",
      "38/38 [==============================] - 0s 3ms/step - loss: 0.4257 - MAE: 0.4883 - RMSE: 0.6524 - val_loss: 0.1589 - val_MAE: 0.3005 - val_RMSE: 0.3987 - lr: 5.0000e-04\n",
      "Epoch 10/200\n",
      "38/38 [==============================] - 0s 3ms/step - loss: 0.3910 - MAE: 0.4667 - RMSE: 0.6253 - val_loss: 0.1824 - val_MAE: 0.3265 - val_RMSE: 0.4271 - lr: 5.0000e-04\n",
      "Epoch 11/200\n",
      "38/38 [==============================] - 0s 3ms/step - loss: 0.3854 - MAE: 0.4617 - RMSE: 0.6208 - val_loss: 0.1537 - val_MAE: 0.2961 - val_RMSE: 0.3921 - lr: 5.0000e-04\n",
      "Epoch 12/200\n",
      "38/38 [==============================] - 0s 3ms/step - loss: 0.3577 - MAE: 0.4450 - RMSE: 0.5981 - val_loss: 0.1275 - val_MAE: 0.2467 - val_RMSE: 0.3570 - lr: 5.0000e-04\n",
      "Epoch 13/200\n",
      "38/38 [==============================] - 0s 3ms/step - loss: 0.3484 - MAE: 0.4423 - RMSE: 0.5903 - val_loss: 0.1228 - val_MAE: 0.2339 - val_RMSE: 0.3505 - lr: 5.0000e-04\n",
      "Epoch 14/200\n",
      "38/38 [==============================] - 0s 3ms/step - loss: 0.3405 - MAE: 0.4317 - RMSE: 0.5835 - val_loss: 0.1500 - val_MAE: 0.2867 - val_RMSE: 0.3873 - lr: 5.0000e-04\n",
      "Epoch 15/200\n",
      "38/38 [==============================] - 0s 3ms/step - loss: 0.3198 - MAE: 0.4214 - RMSE: 0.5655 - val_loss: 0.1197 - val_MAE: 0.2331 - val_RMSE: 0.3460 - lr: 5.0000e-04\n",
      "Epoch 16/200\n",
      "38/38 [==============================] - 0s 3ms/step - loss: 0.3129 - MAE: 0.4141 - RMSE: 0.5594 - val_loss: 0.1270 - val_MAE: 0.2490 - val_RMSE: 0.3564 - lr: 5.0000e-04\n",
      "Epoch 17/200\n",
      "38/38 [==============================] - 0s 3ms/step - loss: 0.2909 - MAE: 0.3990 - RMSE: 0.5394 - val_loss: 0.1193 - val_MAE: 0.2263 - val_RMSE: 0.3453 - lr: 5.0000e-04\n",
      "Epoch 18/200\n",
      "38/38 [==============================] - 0s 3ms/step - loss: 0.2841 - MAE: 0.3952 - RMSE: 0.5330 - val_loss: 0.1173 - val_MAE: 0.2291 - val_RMSE: 0.3425 - lr: 5.0000e-04\n",
      "Epoch 19/200\n",
      "38/38 [==============================] - 0s 3ms/step - loss: 0.2716 - MAE: 0.3810 - RMSE: 0.5211 - val_loss: 0.1114 - val_MAE: 0.2081 - val_RMSE: 0.3338 - lr: 5.0000e-04\n",
      "Epoch 20/200\n",
      "38/38 [==============================] - 0s 3ms/step - loss: 0.2572 - MAE: 0.3746 - RMSE: 0.5072 - val_loss: 0.1209 - val_MAE: 0.2271 - val_RMSE: 0.3477 - lr: 5.0000e-04\n",
      "Epoch 21/200\n",
      "38/38 [==============================] - 0s 3ms/step - loss: 0.2543 - MAE: 0.3708 - RMSE: 0.5043 - val_loss: 0.1159 - val_MAE: 0.2144 - val_RMSE: 0.3404 - lr: 5.0000e-04\n",
      "Epoch 22/200\n",
      "38/38 [==============================] - 0s 3ms/step - loss: 0.2470 - MAE: 0.3673 - RMSE: 0.4969 - val_loss: 0.1174 - val_MAE: 0.2164 - val_RMSE: 0.3427 - lr: 5.0000e-04\n",
      "Epoch 23/200\n",
      "38/38 [==============================] - 0s 3ms/step - loss: 0.2364 - MAE: 0.3577 - RMSE: 0.4862 - val_loss: 0.1090 - val_MAE: 0.2079 - val_RMSE: 0.3301 - lr: 5.0000e-04\n",
      "Epoch 24/200\n",
      "38/38 [==============================] - 0s 3ms/step - loss: 0.2293 - MAE: 0.3510 - RMSE: 0.4789 - val_loss: 0.1159 - val_MAE: 0.2162 - val_RMSE: 0.3404 - lr: 5.0000e-04\n",
      "Epoch 25/200\n",
      "38/38 [==============================] - 0s 3ms/step - loss: 0.2265 - MAE: 0.3498 - RMSE: 0.4760 - val_loss: 0.1317 - val_MAE: 0.2532 - val_RMSE: 0.3628 - lr: 5.0000e-04\n",
      "Epoch 26/200\n",
      "38/38 [==============================] - 0s 3ms/step - loss: 0.2157 - MAE: 0.3399 - RMSE: 0.4645 - val_loss: 0.1080 - val_MAE: 0.2030 - val_RMSE: 0.3287 - lr: 5.0000e-04\n",
      "Epoch 27/200\n",
      "38/38 [==============================] - 0s 3ms/step - loss: 0.2094 - MAE: 0.3324 - RMSE: 0.4576 - val_loss: 0.1164 - val_MAE: 0.2242 - val_RMSE: 0.3411 - lr: 5.0000e-04\n",
      "Epoch 28/200\n",
      "38/38 [==============================] - 0s 3ms/step - loss: 0.2007 - MAE: 0.3271 - RMSE: 0.4480 - val_loss: 0.1178 - val_MAE: 0.2254 - val_RMSE: 0.3432 - lr: 5.0000e-04\n",
      "Epoch 29/200\n",
      "38/38 [==============================] - 0s 3ms/step - loss: 0.1967 - MAE: 0.3208 - RMSE: 0.4435 - val_loss: 0.1308 - val_MAE: 0.2401 - val_RMSE: 0.3617 - lr: 5.0000e-04\n",
      "Epoch 30/200\n",
      "38/38 [==============================] - 0s 3ms/step - loss: 0.1922 - MAE: 0.3166 - RMSE: 0.4384 - val_loss: 0.1138 - val_MAE: 0.2201 - val_RMSE: 0.3373 - lr: 5.0000e-04\n",
      "Epoch 31/200\n",
      "38/38 [==============================] - 0s 3ms/step - loss: 0.1869 - MAE: 0.3129 - RMSE: 0.4323 - val_loss: 0.1116 - val_MAE: 0.2123 - val_RMSE: 0.3341 - lr: 5.0000e-04\n",
      "Epoch 32/200\n",
      "38/38 [==============================] - 0s 3ms/step - loss: 0.1844 - MAE: 0.3101 - RMSE: 0.4294 - val_loss: 0.1095 - val_MAE: 0.2048 - val_RMSE: 0.3309 - lr: 5.0000e-04\n",
      "Epoch 33/200\n",
      "38/38 [==============================] - 0s 3ms/step - loss: 0.1876 - MAE: 0.3124 - RMSE: 0.4332 - val_loss: 0.1133 - val_MAE: 0.2119 - val_RMSE: 0.3365 - lr: 5.0000e-04\n",
      "Epoch 34/200\n",
      "38/38 [==============================] - 0s 3ms/step - loss: 0.1721 - MAE: 0.2989 - RMSE: 0.4148 - val_loss: 0.1100 - val_MAE: 0.2087 - val_RMSE: 0.3316 - lr: 5.0000e-04\n",
      "Epoch 35/200\n",
      "38/38 [==============================] - 0s 3ms/step - loss: 0.1779 - MAE: 0.3033 - RMSE: 0.4218 - val_loss: 0.1098 - val_MAE: 0.2085 - val_RMSE: 0.3314 - lr: 5.0000e-04\n",
      "Epoch 36/200\n",
      "38/38 [==============================] - 0s 3ms/step - loss: 0.1685 - MAE: 0.2925 - RMSE: 0.4105 - val_loss: 0.1122 - val_MAE: 0.2054 - val_RMSE: 0.3350 - lr: 5.0000e-04\n",
      "Epoch 37/200\n",
      "38/38 [==============================] - 0s 3ms/step - loss: 0.1598 - MAE: 0.2847 - RMSE: 0.3997 - val_loss: 0.1107 - val_MAE: 0.2078 - val_RMSE: 0.3327 - lr: 2.5000e-04\n",
      "Epoch 38/200\n",
      "38/38 [==============================] - 0s 3ms/step - loss: 0.1673 - MAE: 0.2919 - RMSE: 0.4091 - val_loss: 0.1121 - val_MAE: 0.2056 - val_RMSE: 0.3349 - lr: 2.5000e-04\n",
      "Epoch 39/200\n",
      "38/38 [==============================] - 0s 3ms/step - loss: 0.1644 - MAE: 0.2877 - RMSE: 0.4054 - val_loss: 0.1083 - val_MAE: 0.1995 - val_RMSE: 0.3291 - lr: 2.5000e-04\n",
      "Epoch 40/200\n",
      "38/38 [==============================] - 0s 3ms/step - loss: 0.1644 - MAE: 0.2888 - RMSE: 0.4055 - val_loss: 0.1094 - val_MAE: 0.2010 - val_RMSE: 0.3307 - lr: 2.5000e-04\n",
      "Epoch 41/200\n",
      "38/38 [==============================] - 0s 3ms/step - loss: 0.1640 - MAE: 0.2888 - RMSE: 0.4049 - val_loss: 0.1099 - val_MAE: 0.2022 - val_RMSE: 0.3315 - lr: 2.5000e-04\n",
      "Epoch 42/200\n",
      "38/38 [==============================] - 0s 3ms/step - loss: 0.1594 - MAE: 0.2819 - RMSE: 0.3993 - val_loss: 0.1098 - val_MAE: 0.2020 - val_RMSE: 0.3314 - lr: 2.5000e-04\n",
      "Epoch 43/200\n",
      "38/38 [==============================] - 0s 3ms/step - loss: 0.1539 - MAE: 0.2770 - RMSE: 0.3923 - val_loss: 0.1158 - val_MAE: 0.2099 - val_RMSE: 0.3404 - lr: 2.5000e-04\n",
      "Epoch 44/200\n",
      "38/38 [==============================] - 0s 3ms/step - loss: 0.1547 - MAE: 0.2784 - RMSE: 0.3933 - val_loss: 0.1124 - val_MAE: 0.2095 - val_RMSE: 0.3353 - lr: 2.5000e-04\n",
      "Epoch 45/200\n",
      "38/38 [==============================] - 0s 3ms/step - loss: 0.1524 - MAE: 0.2758 - RMSE: 0.3904 - val_loss: 0.1095 - val_MAE: 0.2022 - val_RMSE: 0.3309 - lr: 2.5000e-04\n",
      "Epoch 46/200\n",
      "38/38 [==============================] - 0s 3ms/step - loss: 0.1551 - MAE: 0.2772 - RMSE: 0.3939 - val_loss: 0.1099 - val_MAE: 0.2039 - val_RMSE: 0.3315 - lr: 2.5000e-04\n",
      "Epoch 00046: early stopping\n",
      "[INFO] Time 5.98\n"
     ]
    }
   ],
   "source": [
    "# Start clock\n",
    "#\n",
    "start = time.time()\n",
    "\n",
    "\n",
    "score = model.fit(trainX, trainY,                   \n",
    "                  epochs           = epochs, \n",
    "                  batch_size       = batch_size, \n",
    "                  callbacks        = [checkpoint, earlystopping, lrs_scheduler],\n",
    "                  shuffle          = True,\n",
    "                  verbose          = 1, \n",
    "                  validation_split = 0.2)\n",
    "\n",
    "\n",
    "# Terminate clock\n",
    "#\n",
    "stop = time.time()\n",
    "print('[INFO] Time %.2f' % (stop - start))"
   ]
  },
  {
   "cell_type": "code",
   "execution_count": 21,
   "id": "f33e81cf",
   "metadata": {},
   "outputs": [
    {
     "data": {
      "image/png": "[encoded data removed]",
      "text/plain": [
       "<Figure size 1440x216 with 2 Axes>"
      ]
     },
     "metadata": {
      "needs_background": "light"
     },
     "output_type": "display_data"
    }
   ],
   "source": [
    "# Create figure\n",
    "#\n",
    "fig, ax = plt.subplots(nrows = 1, ncols = 2, figsize = (20, 3) )\n",
    "\n",
    "# Plot RMSE\n",
    "#\n",
    "ax[0].plot( score.history['RMSE'], marker = 'o');\n",
    "ax[0].plot( score.history['val_RMSE'], marker = 'o');\n",
    "ax[0].legend(['Training', 'Valdiation'], frameon = False);\n",
    "ax[0].set_title('RMSE');\n",
    "\n",
    "# Plot RMSE\n",
    "#\n",
    "ax[1].plot( score.history['MAE'], marker = 'o');\n",
    "ax[1].plot( score.history['val_MAE'], marker = 'o');\n",
    "ax[1].legend(['Training', 'Validation'], frameon = False);\n",
    "ax[1].set_title('MAE');"
   ]
  },
  {
   "cell_type": "markdown",
   "id": "9f9a116e",
   "metadata": {},
   "source": [
    "## Load optimized model"
   ]
  },
  {
   "cell_type": "code",
   "execution_count": 22,
   "id": "fa18c7b3",
   "metadata": {},
   "outputs": [
    {
     "name": "stdout",
     "output_type": "stream",
     "text": [
      "[INFO] Model loaded\n"
     ]
    }
   ],
   "source": [
    "# Load the best model\n",
    "#\n",
    "model.load_weights('model/CO_model.hdf5')\n",
    "\n",
    "print('[INFO] Model loaded')"
   ]
  },
  {
   "cell_type": "markdown",
   "id": "97f57ed5",
   "metadata": {},
   "source": [
    "## Evaluation"
   ]
  },
  {
   "cell_type": "markdown",
   "id": "afea2e2a",
   "metadata": {},
   "source": [
    "### Get predictions"
   ]
  },
  {
   "cell_type": "code",
   "execution_count": 23,
   "id": "723e9db1",
   "metadata": {},
   "outputs": [],
   "source": [
    "# Get predictions\n",
    "#\n",
    "pred = model.predict( testX )"
   ]
  },
  {
   "cell_type": "markdown",
   "id": "c504d866",
   "metadata": {},
   "source": [
    "### Apply inverse scaling/transformation"
   ]
  },
  {
   "cell_type": "code",
   "execution_count": 24,
   "id": "3e662276",
   "metadata": {},
   "outputs": [],
   "source": [
    "# Apply inverse scaling\n",
    "#\n",
    "for i in range( Horizon ):\n",
    "    testY[:,  i] = scaler.inverse_transform( testY[:,  i].reshape(-1,1) ).squeeze(-1)\n",
    "    pred[:, i]   = scaler.inverse_transform( pred[:, i].reshape(-1,1) ).squeeze(-1)\n",
    "\n",
    "\n",
    "# Apply inverse transformation   \n",
    "#\n",
    "if (Transformation == True):\n",
    "    testY = np.exp( testY ) - VALUE\n",
    "    pred  = np.exp( pred )  - VALUE"
   ]
  },
  {
   "cell_type": "markdown",
   "id": "eed4118f",
   "metadata": {},
   "source": [
    "### Calculate Performance on Testing set - Prediction visualization\n"
   ]
  },
  {
   "cell_type": "code",
   "execution_count": 25,
   "id": "254bbca5",
   "metadata": {},
   "outputs": [
    {
     "name": "stdout",
     "output_type": "stream",
     "text": [
      "[INFO] Feature:  CO\n",
      "------------------------------------------------\n",
      "Horizon:  1 MAE  5.70 SMAPE:  4.19 R2: 0.86\n",
      "Horizon:  2 MAE  7.71 SMAPE:  5.66 R2: 0.71\n"
     ]
    }
   ],
   "source": [
    "print('[INFO] Feature: ', targetSeries)\n",
    "print('------------------------------------------------')\n",
    "Performance_Foresting_Model = {'RMSE': [], 'MAE': [], 'SMAPE': [], 'R2' : []}\n",
    "\n",
    "for i in range( Horizon ):\n",
    "\n",
    "    Prices = pd.DataFrame([])        \n",
    "\n",
    "    Prices[targetSeries] = testY[:,i]\n",
    "    Prices['Prediction'] = pred[:,i]\n",
    "\n",
    "\n",
    "    # Evaluation\n",
    "    #\n",
    "    MAE, RMSE, MAPE, SMAPE, R2 = RegressionEvaluation( Prices )\n",
    "\n",
    "    # Store results\n",
    "    #\n",
    "    Performance_Foresting_Model['RMSE']    += [ RMSE    ]\n",
    "    Performance_Foresting_Model['MAE']     += [ MAE     ]\n",
    "    Performance_Foresting_Model['SMAPE']   += [ SMAPE   ]\n",
    "    Performance_Foresting_Model['R2']      += [ R2      ]\n",
    "\n",
    "    # Present results\n",
    "    #\n",
    "#     print('Horizon: ', i+1)\n",
    "#     print('> MAE:   ', MAE)\n",
    "#     print('> RMSE:  ', RMSE)\n",
    "#     print('> SMAPE: ', SMAPE)\n",
    "#     print('> R2:    ', R2)\n",
    "#     print()\n",
    "    \n",
    "    print('Horizon: %2i MAE %5.2f SMAPE: %5.2f R2: %.2f' % (i+1, MAE, SMAPE, R2) )"
   ]
  },
  {
   "cell_type": "markdown",
   "id": "85b1f3e0",
   "metadata": {},
   "source": [
    "### Reliability evaluation"
   ]
  },
  {
   "cell_type": "code",
   "execution_count": 26,
   "id": "007dfdfe",
   "metadata": {},
   "outputs": [
    {
     "name": "stdout",
     "output_type": "stream",
     "text": [
      "[INFO] Feature:  CO\n",
      "------------------------------------------------\n"
     ]
    },
    {
     "data": {
      "image/png": "[encoded data removed]",
      "text/plain": [
       "<Figure size 1080x144 with 2 Axes>"
      ]
     },
     "metadata": {
      "needs_background": "light"
     },
     "output_type": "display_data"
    },
    {
     "data": {
      "image/png": "[encoded data removed]",
      "text/plain": [
       "<Figure size 1080x144 with 2 Axes>"
      ]
     },
     "metadata": {
      "needs_background": "light"
     },
     "output_type": "display_data"
    }
   ],
   "source": [
    "print('[INFO] Feature: ', targetSeries)\n",
    "print('------------------------------------------------')\n",
    "Performance_Foresting_Model = {'RMSE': [], 'MAE': [], 'SMAPE': [], 'R2' : []}\n",
    "\n",
    "for i in range( Horizon ):\n",
    "\n",
    "    Prices = pd.DataFrame([])        \n",
    "\n",
    "    Prices[targetSeries] = testY[:,i]\n",
    "    Prices['Prediction'] = pred[:,i]\n",
    "            \n",
    "            \n",
    "\n",
    "            \n",
    "    from scipy import stats\n",
    "    from statsmodels.graphics.tsaplots import plot_acf\n",
    "    \n",
    "    res = (Prices[targetSeries] - Prices['Prediction']).to_numpy()\n",
    "    \n",
    "    fig, ax = plt.subplots(nrows = 1, ncols = 2, figsize = (15, 2) )\n",
    "\n",
    "    ax[0].hist( res, bins = 100 )    \n",
    "    plot_acf( res, ax=ax[1] )       "
   ]
  },
  {
   "cell_type": "markdown",
   "id": "dfc66442",
   "metadata": {},
   "source": [
    "## Visualization"
   ]
  },
  {
   "cell_type": "code",
   "execution_count": 27,
   "id": "f9aa8d4f",
   "metadata": {},
   "outputs": [
    {
     "data": {
      "image/png": "[encoded data removed]",
      "text/plain": [
       "<Figure size 1440x288 with 1 Axes>"
      ]
     },
     "metadata": {
      "needs_background": "light"
     },
     "output_type": "display_data"
    }
   ],
   "source": [
    "Prices = pd.DataFrame( [] )\n",
    "\n",
    "Prices[targetSeries] = testY.flatten()\n",
    "Prices['Prediction'] = pred.flatten()\n",
    "\n",
    "\n",
    "# Plot results\n",
    "#\n",
    "plt.figure( figsize = (20, 4) );\n",
    "#\n",
    "Prices[ targetSeries ][:200].plot(color = 'tab:blue', marker = 'o')\n",
    "Prices[ 'Prediction' ][:200].plot(color = 'tab:orange', marker = 'o')\n",
    "plt.show();\n"
   ]
  },
  {
   "cell_type": "code",
   "execution_count": null,
   "id": "6855ec4e",
   "metadata": {},
   "outputs": [],
   "source": []
  }
 ],
 "metadata": {
  "kernelspec": {
   "display_name": "Python 3.7.12 ('tensorflow')",
   "language": "python",
   "name": "python3"
  },
  "language_info": {
   "codemirror_mode": {
    "name": "ipython",
    "version": 3
   },
   "file_extension": ".py",
   "mimetype": "text/x-python",
   "name": "python",
   "nbconvert_exporter": "python",
   "pygments_lexer": "ipython3",
   "version": "3.7.12"
  },
  "toc": {
   "base_numbering": 1,
   "nav_menu": {},
   "number_sections": true,
   "sideBar": true,
   "skip_h1_title": false,
   "title_cell": "Table of Contents",
   "title_sidebar": "Contents",
   "toc_cell": false,
   "toc_position": {
    "height": "calc(100% - 180px)",
    "left": "10px",
    "top": "150px",
    "width": "307.1964416503906px"
   },
   "toc_section_display": true,
   "toc_window_display": true
  },
  "vscode": {
   "interpreter": {
    "hash": "7428b380d083f99fc04fcc5ca6fbebec3e7c66e9e3f92621c0f3007db81c1bd7"
   }
  }
 },
 "nbformat": 4,
 "nbformat_minor": 5
}
