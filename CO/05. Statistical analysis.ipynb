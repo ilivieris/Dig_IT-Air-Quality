{
 "cells": [
  {
   "cell_type": "markdown",
   "metadata": {},
   "source": [
    "# Libraries"
   ]
  },
  {
   "cell_type": "code",
   "execution_count": 39,
   "metadata": {},
   "outputs": [],
   "source": [
    "import warnings\n",
    "warnings.filterwarnings(\"ignore\")"
   ]
  },
  {
   "cell_type": "code",
   "execution_count": 40,
   "metadata": {},
   "outputs": [],
   "source": [
    "# =-=-=-=-=-=-=-=-=-=-=-=-=-=-=-=-=-=-=-=-=-=-=-=-=-=-=-=-=-=-=-=-=-=-=-=-=-=\n",
    "# Basic libraries\n",
    "#\n",
    "import time\n",
    "import pandas    as pd\n",
    "import numpy     as np\n",
    "from   tqdm      import tqdm\n",
    "\n",
    "\n",
    "# =-=-=-=-=-=-=-=-=-=-=-=-=-=-=-=-=-=-=-=-=-=-=-=-=-=-=-=-=-=-=-=-=-=-=-=-=-=\n",
    "# Visualization library\n",
    "#\n",
    "import matplotlib.pyplot   as plt \n",
    "\n",
    "\n",
    "# =-=-=-=-=-=-=-=-=-=-=-=-=-=-=-=-=-=-=-=-=-=-=-=-=-=-=-=-=-=-=-=-=-=-=-=-=-=\n",
    "#\n",
    "# User libraries\n",
    "#\n",
    "from utils.non_parametric_tests import *\n",
    "from utils.PerformanceProfiles  import *\n",
    "from utils.PerformanceMetrics   import RegressionEvaluation"
   ]
  },
  {
   "cell_type": "markdown",
   "metadata": {},
   "source": [
    "# Import data"
   ]
  },
  {
   "cell_type": "code",
   "execution_count": 41,
   "metadata": {},
   "outputs": [
    {
     "name": "stdout",
     "output_type": "stream",
     "text": [
      "[INFO] Number of methods:  8\n"
     ]
    }
   ],
   "source": [
    "from os import listdir\n",
    "from os.path import isfile, join\n",
    "\n",
    "path = 'Predictions/'\n",
    "Files = [f for f in listdir( path ) if isfile(join(path, f))]\n",
    "\n",
    "print('[INFO] Number of methods: ', len(Files) )"
   ]
  },
  {
   "cell_type": "code",
   "execution_count": 42,
   "metadata": {},
   "outputs": [
    {
     "name": "stdout",
     "output_type": "stream",
     "text": [
      "Model:  NBeats\n",
      "Model:  Hybrid\n",
      "Model:  RF\n",
      "Model:  RF_diff\n",
      "Model:  NBeats_diff\n",
      "Model:  Seq2Seq_LSTM_diff\n",
      "Model:  Seq2Seq_LSTM\n",
      "Model:  Convolutional\n"
     ]
    }
   ],
   "source": [
    "Results = []\n",
    "df      = None\n",
    "for file in Files:\n",
    "    # Get method\n",
    "    Method = file.split('.')[0] \n",
    "    print('Model: ', Method)\n",
    "    \n",
    "    # Load data\n",
    "    temp = pd.read_csv(path + file, index_col = 0)\n",
    "    \n",
    "    # Evaluation\n",
    "    #\n",
    "    MAE, RMSE, MAPE, SMAPE, R2 = RegressionEvaluation( temp )\n",
    "    Results.append( [Method, MAE, RMSE, MAPE, SMAPE, 100*R2] )\n",
    "    \n",
    "    # Calculate Absolute Errors\n",
    "    temp[ Method ] = (temp.iloc[:,0] - temp.iloc[:,1]).abs().round(4)\n",
    "    # Keep only errors\n",
    "    temp = temp[ Method ]\n",
    "    \n",
    "    if (df is None):\n",
    "        df = temp\n",
    "    else:\n",
    "        df = pd.concat([df, temp], axis=1)\n",
    "        \n",
    "\n",
    "# df.head( 3 )"
   ]
  },
  {
   "cell_type": "markdown",
   "metadata": {},
   "source": [
    "# Performance evaluation based on metrics"
   ]
  },
  {
   "cell_type": "code",
   "execution_count": 43,
   "metadata": {},
   "outputs": [
    {
     "data": {
      "text/html": [
       "<div>\n",
       "<style scoped>\n",
       "    .dataframe tbody tr th:only-of-type {\n",
       "        vertical-align: middle;\n",
       "    }\n",
       "\n",
       "    .dataframe tbody tr th {\n",
       "        vertical-align: top;\n",
       "    }\n",
       "\n",
       "    .dataframe thead th {\n",
       "        text-align: right;\n",
       "    }\n",
       "</style>\n",
       "<table border=\"1\" class=\"dataframe\">\n",
       "  <thead>\n",
       "    <tr style=\"text-align: right;\">\n",
       "      <th></th>\n",
       "      <th>Method</th>\n",
       "      <th>MAE</th>\n",
       "      <th>RMSE</th>\n",
       "      <th>MAPE</th>\n",
       "      <th>SMAPE</th>\n",
       "      <th>R2</th>\n",
       "    </tr>\n",
       "  </thead>\n",
       "  <tbody>\n",
       "    <tr>\n",
       "      <th>0</th>\n",
       "      <td>NBeats_diff</td>\n",
       "      <td>19.434</td>\n",
       "      <td>31.593</td>\n",
       "      <td>9.268</td>\n",
       "      <td>9.414</td>\n",
       "      <td>74.40</td>\n",
       "    </tr>\n",
       "    <tr>\n",
       "      <th>1</th>\n",
       "      <td>Seq2Seq_LSTM_diff</td>\n",
       "      <td>19.266</td>\n",
       "      <td>30.595</td>\n",
       "      <td>9.314</td>\n",
       "      <td>9.429</td>\n",
       "      <td>76.00</td>\n",
       "    </tr>\n",
       "    <tr>\n",
       "      <th>2</th>\n",
       "      <td>NBeats</td>\n",
       "      <td>19.374</td>\n",
       "      <td>30.467</td>\n",
       "      <td>9.503</td>\n",
       "      <td>9.473</td>\n",
       "      <td>76.20</td>\n",
       "    </tr>\n",
       "    <tr>\n",
       "      <th>3</th>\n",
       "      <td>Seq2Seq_LSTM</td>\n",
       "      <td>19.526</td>\n",
       "      <td>30.477</td>\n",
       "      <td>9.602</td>\n",
       "      <td>9.546</td>\n",
       "      <td>76.18</td>\n",
       "    </tr>\n",
       "    <tr>\n",
       "      <th>4</th>\n",
       "      <td>Convolutional</td>\n",
       "      <td>19.661</td>\n",
       "      <td>30.552</td>\n",
       "      <td>9.500</td>\n",
       "      <td>9.619</td>\n",
       "      <td>76.06</td>\n",
       "    </tr>\n",
       "    <tr>\n",
       "      <th>5</th>\n",
       "      <td>RF_diff</td>\n",
       "      <td>19.673</td>\n",
       "      <td>30.625</td>\n",
       "      <td>9.832</td>\n",
       "      <td>9.652</td>\n",
       "      <td>75.95</td>\n",
       "    </tr>\n",
       "    <tr>\n",
       "      <th>6</th>\n",
       "      <td>Hybrid</td>\n",
       "      <td>19.610</td>\n",
       "      <td>30.641</td>\n",
       "      <td>9.722</td>\n",
       "      <td>9.718</td>\n",
       "      <td>75.92</td>\n",
       "    </tr>\n",
       "    <tr>\n",
       "      <th>7</th>\n",
       "      <td>RF</td>\n",
       "      <td>21.342</td>\n",
       "      <td>31.690</td>\n",
       "      <td>11.243</td>\n",
       "      <td>10.847</td>\n",
       "      <td>74.25</td>\n",
       "    </tr>\n",
       "  </tbody>\n",
       "</table>\n",
       "</div>"
      ],
      "text/plain": [
       "              Method     MAE    RMSE    MAPE   SMAPE     R2\n",
       "0        NBeats_diff  19.434  31.593   9.268   9.414  74.40\n",
       "1  Seq2Seq_LSTM_diff  19.266  30.595   9.314   9.429  76.00\n",
       "2             NBeats  19.374  30.467   9.503   9.473  76.20\n",
       "3       Seq2Seq_LSTM  19.526  30.477   9.602   9.546  76.18\n",
       "4      Convolutional  19.661  30.552   9.500   9.619  76.06\n",
       "5            RF_diff  19.673  30.625   9.832   9.652  75.95\n",
       "6             Hybrid  19.610  30.641   9.722   9.718  75.92\n",
       "7                 RF  21.342  31.690  11.243  10.847  74.25"
      ]
     },
     "execution_count": 43,
     "metadata": {},
     "output_type": "execute_result"
    }
   ],
   "source": [
    "Results = pd.DataFrame(data = Results, columns = ['Method', 'MAE', 'RMSE', 'MAPE', 'SMAPE', 'R2'] )\n",
    "\n",
    "Results['MAE']   = Results['MAE'].apply(lambda x: np.round(x,3))\n",
    "Results['RMSE']  = Results['RMSE'].apply(lambda x: np.round(x,3))\n",
    "Results['MAPE']  = Results['MAPE'].apply(lambda x: np.round(x,3))\n",
    "Results['SMAPE'] = Results['SMAPE'].apply(lambda x: np.round(x,3))\n",
    "Results['R2']    = Results['R2'].apply(lambda x: np.round(x,2))\n",
    "\n",
    "\n",
    "Results.sort_values(by = 'SMAPE', ignore_index = True)"
   ]
  },
  {
   "cell_type": "code",
   "execution_count": 44,
   "metadata": {},
   "outputs": [],
   "source": [
    "for x in df.columns:\n",
    "    df[x] = df[x].apply(lambda x: np.round(x, 1))"
   ]
  },
  {
   "cell_type": "markdown",
   "metadata": {},
   "source": [
    "# Performance profiles\n",
    "\n",
    "- Dolan, E. D., & Moré, J. J. (2002). Benchmarking optimization software with performance profiles. Mathematical programming, 91(2), 201-213.\n",
    "ISO 690\t\n"
   ]
  },
  {
   "cell_type": "code",
   "execution_count": 45,
   "metadata": {},
   "outputs": [
    {
     "name": "stdout",
     "output_type": "stream",
     "text": [
      "              NBeats solved 10.44% of cases with the best (least) score\n",
      "              Hybrid solved 13.41% of cases with the best (least) score\n",
      "                  RF solved 14.93% of cases with the best (least) score\n",
      "             RF_diff solved 14.09% of cases with the best (least) score\n",
      "         NBeats_diff solved 13.32% of cases with the best (least) score\n",
      "   Seq2Seq_LSTM_diff solved 11.10% of cases with the best (least) score\n",
      "        Seq2Seq_LSTM solved  8.76% of cases with the best (least) score\n",
      "       Convolutional solved 15.05% of cases with the best (least) score\n"
     ]
    },
    {
     "data": {
      "image/png": "[encoded data removed]",
      "text/plain": [
       "<Figure size 1080x432 with 1 Axes>"
      ]
     },
     "metadata": {
      "needs_background": "light"
     },
     "output_type": "display_data"
    }
   ],
   "source": [
    "perfprof(df, \n",
    "         legendnames = df.columns,\n",
    "         thmax       = 10, \n",
    "         figsize     = (15, 6))\n",
    "\n",
    "plt.xscale('log')\n",
    "\n",
    "# plt.ylim([0.1, 0.5])"
   ]
  },
  {
   "cell_type": "markdown",
   "metadata": {},
   "source": [
    "# Statistical analysis\n",
    "\n",
    "- Derrac, J., García, S., Molina, D., & Herrera, F. (2011). A practical tutorial on the use of nonparametric statistical tests as a methodology for comparing evolutionary and swarm intelligence algorithms. Swarm and Evolutionary Computation, 1(1), 3-18.\n",
    "\n",
    "- García, S., Fernández, A., Luengo, J., & Herrera, F. (2010). Advanced nonparametric tests for multiple comparisons in the design of experiments in computational intelligence and data mining: Experimental analysis of power. Information sciences, 180(10), 2044-2064."
   ]
  },
  {
   "cell_type": "code",
   "execution_count": 46,
   "metadata": {},
   "outputs": [],
   "source": [
    "# df = df[:1000]"
   ]
  },
  {
   "cell_type": "markdown",
   "metadata": {},
   "source": [
    "## Friedman Aligned Ranking (FAR)"
   ]
  },
  {
   "cell_type": "code",
   "execution_count": 47,
   "metadata": {},
   "outputs": [
    {
     "name": "stdout",
     "output_type": "stream",
     "text": [
      "[INFO] Number of methods:   8\n",
      "[INFO] Number of problems:  4280\n",
      "\n",
      "\n",
      "[INFO] H0: {All methods exhibited similar results with no statistical differences}\n",
      "[INFO] FAR: 214.226 (p-value: 0.00000)\n",
      "\t> H0 is rejected\n"
     ]
    }
   ],
   "source": [
    "T, p_value, rankings_avg, rankings_cmp = friedman_aligned_ranks_test( df )\n",
    "\n",
    "\n",
    "# Summary\n",
    "#\n",
    "print('\\n')\n",
    "print('[INFO] H0: {All methods exhibited similar results with no statistical differences}')\n",
    "print('[INFO] FAR: %.3f (p-value: %.5f)' % (T, p_value))\n",
    "if (p_value < 0.05):\n",
    "    print('\\t> H0 is rejected')\n",
    "else:\n",
    "    print('\\t> H0 is failed to be rejected')"
   ]
  },
  {
   "cell_type": "markdown",
   "metadata": {},
   "source": [
    "### FAR ranking"
   ]
  },
  {
   "cell_type": "code",
   "execution_count": 48,
   "metadata": {},
   "outputs": [
    {
     "data": {
      "text/html": [
       "<div>\n",
       "<style scoped>\n",
       "    .dataframe tbody tr th:only-of-type {\n",
       "        vertical-align: middle;\n",
       "    }\n",
       "\n",
       "    .dataframe tbody tr th {\n",
       "        vertical-align: top;\n",
       "    }\n",
       "\n",
       "    .dataframe thead th {\n",
       "        text-align: right;\n",
       "    }\n",
       "</style>\n",
       "<table border=\"1\" class=\"dataframe\">\n",
       "  <thead>\n",
       "    <tr style=\"text-align: right;\">\n",
       "      <th></th>\n",
       "      <th>Methods</th>\n",
       "      <th>FAR</th>\n",
       "    </tr>\n",
       "  </thead>\n",
       "  <tbody>\n",
       "    <tr>\n",
       "      <th>0</th>\n",
       "      <td>NBeats_diff</td>\n",
       "      <td>16208.047780</td>\n",
       "    </tr>\n",
       "    <tr>\n",
       "      <th>1</th>\n",
       "      <td>Seq2Seq_LSTM_diff</td>\n",
       "      <td>16328.976519</td>\n",
       "    </tr>\n",
       "    <tr>\n",
       "      <th>2</th>\n",
       "      <td>NBeats</td>\n",
       "      <td>16750.776285</td>\n",
       "    </tr>\n",
       "    <tr>\n",
       "      <th>3</th>\n",
       "      <td>RF_diff</td>\n",
       "      <td>16915.362033</td>\n",
       "    </tr>\n",
       "    <tr>\n",
       "      <th>4</th>\n",
       "      <td>Seq2Seq_LSTM</td>\n",
       "      <td>17073.558879</td>\n",
       "    </tr>\n",
       "    <tr>\n",
       "      <th>5</th>\n",
       "      <td>Convolutional</td>\n",
       "      <td>17291.743575</td>\n",
       "    </tr>\n",
       "    <tr>\n",
       "      <th>6</th>\n",
       "      <td>Hybrid</td>\n",
       "      <td>17348.341121</td>\n",
       "    </tr>\n",
       "    <tr>\n",
       "      <th>7</th>\n",
       "      <td>RF</td>\n",
       "      <td>19047.193808</td>\n",
       "    </tr>\n",
       "  </tbody>\n",
       "</table>\n",
       "</div>"
      ],
      "text/plain": [
       "             Methods           FAR\n",
       "0        NBeats_diff  16208.047780\n",
       "1  Seq2Seq_LSTM_diff  16328.976519\n",
       "2             NBeats  16750.776285\n",
       "3            RF_diff  16915.362033\n",
       "4       Seq2Seq_LSTM  17073.558879\n",
       "5      Convolutional  17291.743575\n",
       "6             Hybrid  17348.341121\n",
       "7                 RF  19047.193808"
      ]
     },
     "execution_count": 48,
     "metadata": {},
     "output_type": "execute_result"
    }
   ],
   "source": [
    "Ranking            = pd.DataFrame( [] )\n",
    "Ranking['Methods'] = df.columns\n",
    "Ranking['FAR']     = rankings_avg\n",
    "\n",
    "Ranking = Ranking.sort_values(by           = 'FAR', \n",
    "                              ignore_index = True)\n",
    "Ranking"
   ]
  },
  {
   "cell_type": "markdown",
   "metadata": {},
   "source": [
    "## Finner post-hoc test"
   ]
  },
  {
   "cell_type": "code",
   "execution_count": 49,
   "metadata": {},
   "outputs": [],
   "source": [
    "# Create dictionary with rankings\n",
    "#\n",
    "d = {}\n",
    "for i, feature in enumerate( df.columns ):\n",
    "    d[ feature ] = rankings_cmp[i] "
   ]
  },
  {
   "cell_type": "markdown",
   "metadata": {},
   "source": [
    "### Multiple comparisons ($1 \\times N$)\n",
    "\n",
    "**Finner post-hoc test**"
   ]
  },
  {
   "cell_type": "code",
   "execution_count": 50,
   "metadata": {},
   "outputs": [
    {
     "name": "stdout",
     "output_type": "stream",
     "text": [
      "[INFO] Control method:  NBeats_diff\n"
     ]
    },
    {
     "data": {
      "text/html": [
       "<div>\n",
       "<style scoped>\n",
       "    .dataframe tbody tr th:only-of-type {\n",
       "        vertical-align: middle;\n",
       "    }\n",
       "\n",
       "    .dataframe tbody tr th {\n",
       "        vertical-align: top;\n",
       "    }\n",
       "\n",
       "    .dataframe thead th {\n",
       "        text-align: right;\n",
       "    }\n",
       "</style>\n",
       "<table border=\"1\" class=\"dataframe\">\n",
       "  <thead>\n",
       "    <tr style=\"text-align: right;\">\n",
       "      <th></th>\n",
       "      <th>Comparisons</th>\n",
       "      <th>APV</th>\n",
       "      <th>Null hypothesis</th>\n",
       "    </tr>\n",
       "  </thead>\n",
       "  <tbody>\n",
       "    <tr>\n",
       "      <th>0</th>\n",
       "      <td>NBeats_diff vs Seq2Seq_LSTM_diff</td>\n",
       "      <td>5.714199e-01</td>\n",
       "      <td>Failed to reject</td>\n",
       "    </tr>\n",
       "    <tr>\n",
       "      <th>1</th>\n",
       "      <td>NBeats_diff vs NBeats</td>\n",
       "      <td>1.291944e-02</td>\n",
       "      <td>Rejected</td>\n",
       "    </tr>\n",
       "    <tr>\n",
       "      <th>2</th>\n",
       "      <td>NBeats_diff vs RF_diff</td>\n",
       "      <td>1.304414e-03</td>\n",
       "      <td>Rejected</td>\n",
       "    </tr>\n",
       "    <tr>\n",
       "      <th>3</th>\n",
       "      <td>NBeats_diff vs Seq2Seq_LSTM</td>\n",
       "      <td>8.936151e-05</td>\n",
       "      <td>Rejected</td>\n",
       "    </tr>\n",
       "    <tr>\n",
       "      <th>4</th>\n",
       "      <td>NBeats_diff vs Convolutional</td>\n",
       "      <td>9.193461e-07</td>\n",
       "      <td>Rejected</td>\n",
       "    </tr>\n",
       "    <tr>\n",
       "      <th>5</th>\n",
       "      <td>NBeats_diff vs Hybrid</td>\n",
       "      <td>3.312599e-07</td>\n",
       "      <td>Rejected</td>\n",
       "    </tr>\n",
       "    <tr>\n",
       "      <th>6</th>\n",
       "      <td>NBeats_diff vs RF</td>\n",
       "      <td>0.000000e+00</td>\n",
       "      <td>Rejected</td>\n",
       "    </tr>\n",
       "  </tbody>\n",
       "</table>\n",
       "</div>"
      ],
      "text/plain": [
       "                        Comparisons           APV   Null hypothesis\n",
       "0  NBeats_diff vs Seq2Seq_LSTM_diff  5.714199e-01  Failed to reject\n",
       "1             NBeats_diff vs NBeats  1.291944e-02          Rejected\n",
       "2            NBeats_diff vs RF_diff  1.304414e-03          Rejected\n",
       "3       NBeats_diff vs Seq2Seq_LSTM  8.936151e-05          Rejected\n",
       "4      NBeats_diff vs Convolutional  9.193461e-07          Rejected\n",
       "5             NBeats_diff vs Hybrid  3.312599e-07          Rejected\n",
       "6                 NBeats_diff vs RF  0.000000e+00          Rejected"
      ]
     },
     "execution_count": 50,
     "metadata": {},
     "output_type": "execute_result"
    }
   ],
   "source": [
    "comparisons, z_values, p_values, adj_p_values = finner_test( d )\n",
    "\n",
    "Finner = pd.DataFrame( [] )\n",
    "Finner['Comparisons']     = comparisons\n",
    "Finner['APV']             = adj_p_values\n",
    "Finner['Null hypothesis'] = Finner['APV'].apply(lambda x: 'Rejected' if x < 0.05 else 'Failed to reject')\n",
    "\n",
    "Finner = Finner.sort_values(by = 'APV', ascending = False, ignore_index = True)\n",
    "Finner"
   ]
  },
  {
   "cell_type": "code",
   "execution_count": 51,
   "metadata": {},
   "outputs": [],
   "source": [
    "# Ranking['Methods'] = ['Seq2Seq LSTM (Hybrid)', 'Seq2Seq LSTM + (d-diff)', 'NBeats', 'NBeats + (d-diff)', 'RF + (d-diff)', 'Seq2Seq LSTM', 'RF']\n",
    "# #\n",
    "# Ranking = Ranking.sort_values(by = 'FAR', ignore_index = True)\n",
    "# Ranking['APV'] = '-'\n",
    "# Ranking['APV'][1:] = Finner['APV']\n",
    "# Ranking['Null hypothesis'] = '-'\n",
    "# Ranking['Null hypothesis'][1:] = Finner['Null hypothesis']\n",
    "# Ranking\n"
   ]
  },
  {
   "cell_type": "markdown",
   "metadata": {},
   "source": [
    "### Multiple comparisons ($N \\times N$)\n",
    "\n",
    "**Finner-multitest post-hoc test**"
   ]
  },
  {
   "cell_type": "code",
   "execution_count": 52,
   "metadata": {},
   "outputs": [],
   "source": [
    "# comparisons, z_values, p_values, adj_p_values = finner_multitest(d)\n",
    "\n",
    "# Finner = pd.DataFrame( [] )\n",
    "# Finner['Comparisons']     = comparisons\n",
    "# Finner['APV']             = adj_p_values\n",
    "# Finner['Null hypothesis'] = Finner['APV'].apply(lambda x: 'Rejected' if x < 0.05 else 'Failed to reject')\n",
    "\n",
    "# Finner"
   ]
  }
 ],
 "metadata": {
  "kernelspec": {
   "display_name": "Python 3.7.12 ('tensorflow')",
   "language": "python",
   "name": "python3"
  },
  "language_info": {
   "codemirror_mode": {
    "name": "ipython",
    "version": 3
   },
   "file_extension": ".py",
   "mimetype": "text/x-python",
   "name": "python",
   "nbconvert_exporter": "python",
   "pygments_lexer": "ipython3",
   "version": "3.7.12"
  },
  "toc": {
   "base_numbering": 1,
   "nav_menu": {},
   "number_sections": true,
   "sideBar": true,
   "skip_h1_title": false,
   "title_cell": "Table of Contents",
   "title_sidebar": "Contents",
   "toc_cell": false,
   "toc_position": {
    "height": "calc(100% - 180px)",
    "left": "10px",
    "top": "150px",
    "width": "286.66070556640625px"
   },
   "toc_section_display": true,
   "toc_window_display": true
  },
  "vscode": {
   "interpreter": {
    "hash": "7428b380d083f99fc04fcc5ca6fbebec3e7c66e9e3f92621c0f3007db81c1bd7"
   }
  }
 },
 "nbformat": 4,
 "nbformat_minor": 4
}
