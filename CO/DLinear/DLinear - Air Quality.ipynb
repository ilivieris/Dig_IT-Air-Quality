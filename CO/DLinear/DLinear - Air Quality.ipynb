{
 "cells": [
  {
   "cell_type": "code",
   "execution_count": 1,
   "metadata": {},
   "outputs": [],
   "source": [
    "%reload_ext autoreload\n",
    "%autoreload 2\n",
    "%matplotlib inline"
   ]
  },
  {
   "cell_type": "markdown",
   "metadata": {},
   "source": [
    "# Libraries"
   ]
  },
  {
   "cell_type": "markdown",
   "metadata": {},
   "source": [
    "##  Remove warnings"
   ]
  },
  {
   "cell_type": "code",
   "execution_count": 2,
   "metadata": {},
   "outputs": [],
   "source": [
    "import warnings\n",
    "warnings.filterwarnings( 'ignore' )"
   ]
  },
  {
   "cell_type": "markdown",
   "metadata": {},
   "source": [
    "## Import libraries"
   ]
  },
  {
   "cell_type": "code",
   "execution_count": 3,
   "metadata": {},
   "outputs": [],
   "source": [
    "# =-=-=-=-=-=-=-=-=-=-=-=-=-=-=-=-=-=-=-=-=-=-=-=-=-=-=-=-=-=-=-=-=-=-=-=-=-=\n",
    "# Basic libraries\n",
    "#\n",
    "import time\n",
    "import random\n",
    "import pandas    as pd\n",
    "import numpy     as np\n",
    "\n",
    "\n",
    "# =-=-=-=-=-=-=-=-=-=-=-=-=-=-=-=-=-=-=-=-=-=-=-=-=-=-=-=-=-=-=-=-=-=-=-=-=-=\n",
    "# Visualization library\n",
    "#\n",
    "import matplotlib.pyplot   as plt \n",
    "\n",
    "\n",
    "# =-=-=-=-=-=-=-=-=-=-=-=-=-=-=-=-=-=-=-=-=-=-=-=-=-=-=-=-=-=-=-=-=-=-=-=-=-=\n",
    "# Sklearn library\n",
    "#\n",
    "from sklearn.preprocessing import StandardScaler, MinMaxScaler, RobustScaler\n",
    "\n",
    "\n",
    "# =-=-=-=-=-=-=-=-=-=-=-=-=-=-=-=-=-=-=-=-=-=-=-=-=-=-=-=-=-=-=-=-=-=-=-=-=-=\n",
    "#\n",
    "# Torch libraries\n",
    "#\n",
    "import torch\n",
    "import torch.nn                     as nn\n",
    "import torch.nn.functional          as F\n",
    "from   torch.utils.data             import DataLoader\n",
    "from   torch.utils.data             import Dataset\n",
    "\n",
    "\n",
    "# =-=-=-=-=-=-=-=-=-=-=-=-=-=-=-=-=-=-=-=-=-=-=-=-=-=-=-=-=-=-=-=-=-=-=-=-=-=-=\n",
    "#\n",
    "# User libraries\n",
    "#\n",
    "from utils.PerformanceMetrics import RegressionEvaluation\n",
    "from utils.EarlyStopping      import *\n",
    "from utils.LRScheduler        import *\n",
    "#\n",
    "from utils.DLinear_utils      import *\n",
    "from models.DLinear.DLinear   import *"
   ]
  },
  {
   "cell_type": "markdown",
   "metadata": {},
   "source": [
    "# Parameters"
   ]
  },
  {
   "cell_type": "code",
   "execution_count": 4,
   "metadata": {},
   "outputs": [],
   "source": [
    "import random\n",
    "import os\n",
    "# Set seed\n",
    "#\n",
    "seed = 1999\n",
    "random.seed(seed)\n",
    "os.environ['PYTHONHASHSEED'] = str(seed)\n",
    "np.random.seed(seed)\n",
    "\n",
    "torch.manual_seed(seed)\n",
    "torch.cuda.manual_seed(seed)\n",
    "torch.backends.cudnn.deterministic = True"
   ]
  },
  {
   "cell_type": "markdown",
   "metadata": {},
   "source": [
    "## CUDA"
   ]
  },
  {
   "cell_type": "code",
   "execution_count": 5,
   "metadata": {},
   "outputs": [
    {
     "name": "stdout",
     "output_type": "stream",
     "text": [
      "[INFO] CUDA is available\n",
      "[INFO] Device name: Quadro GV100\n"
     ]
    }
   ],
   "source": [
    "# device = torch.device( 'cpu' )\n",
    "try:\n",
    "    torch.cuda.init()\n",
    "\n",
    "    if (torch.cuda.is_available() == True):\n",
    "        print('[INFO] CUDA is available')\n",
    "\n",
    "        device = torch.device( 'cuda:0' )\n",
    "        print('[INFO] Device name: %s' % torch.cuda.get_device_name(0))\n",
    "\n",
    "    else:\n",
    "        print('[INFO] CUDA is not available')\n",
    "        device = torch.device( 'cpu' )\n",
    "except:\n",
    "    print('[INFO] CUDA is not available')\n",
    "    device = torch.device( 'cpu' )"
   ]
  },
  {
   "cell_type": "markdown",
   "metadata": {},
   "source": [
    "## Neural networks parameters"
   ]
  },
  {
   "cell_type": "code",
   "execution_count": 6,
   "metadata": {},
   "outputs": [],
   "source": [
    "class Parameters():\n",
    "    def __init__(self):\n",
    "        self.description = 'DLinear model for time-series forecasting'\n",
    "    \n",
    "        # =-=-=-=-=-=-=-=-=-=-=-=-=-=-=-=-=-=-=-=-=-=-=-=-=-=-=-=-=-=-=-=-=-=-=-=-=-=-=-=-=-=\n",
    "        # Neural network model parameters\n",
    "        #\n",
    "        # Input sequence length - look-back\n",
    "        self.Lag         = 6\n",
    "        # Prediction sequence length\n",
    "        self.Horizon     = 2\n",
    "        #\n",
    "        self.individual  = False\n",
    "        self.enc_in      = 1\n",
    "        self.kernel_size = 25\n",
    "        \n",
    "        # Training parameters\n",
    "        #\n",
    "        # Number of epochs\n",
    "        self.epochs        = 1000\n",
    "        # Batch size\n",
    "        self.batch_size    = 128\n",
    "        # Number of workers in DataLoader\n",
    "        self.num_workers   = 0\n",
    "        # Define verbose\n",
    "        self.verbose       = True\n",
    "        # Learning rate\n",
    "        self.learning_rate = 1e-4\n",
    "        # Weight decay\n",
    "        self.weight_decay  = 0.00001        \n",
    "        # Clip gradient\n",
    "        self.clip_grads      = False\n",
    "        # Norm for clip gradient                \n",
    "        self.clip_grads_norm = 0.5        \n",
    "        # Trained model path\n",
    "        self.model_path    = 'checkpoints/DLinear.pth'\n",
    "        \n",
    "        # Data handling\n",
    "        #\n",
    "        # Filename\n",
    "        self.filename              = '../metadata/7-kanal-1.csv'\n",
    "        # Target series name \n",
    "        self.targetSeries          = 'CO'\n",
    "        # Data Log-transformation\n",
    "        self.Transformation        = True\n",
    "        # Scaling {'Standard', 'MinMax', 'Robust'}\n",
    "        self.Scaling               = 'Standard'\n",
    "        # Smoothing\n",
    "        self.Smoothing             = False\n",
    "        #\n",
    "        self.window_len  = 2        # [2, 10]\n",
    "        self.window_type = 'bartlett' # ['ones', 'hanning', 'hamming', 'bartlett', 'blackman']\n",
    "        # Data Augmentation\n",
    "        self.DataAugmentation = True\n",
    "        \n",
    "args = Parameters()"
   ]
  },
  {
   "cell_type": "markdown",
   "metadata": {},
   "source": [
    "# Data handling"
   ]
  },
  {
   "cell_type": "markdown",
   "metadata": {},
   "source": [
    "## Import data\n"
   ]
  },
  {
   "cell_type": "code",
   "execution_count": 7,
   "metadata": {},
   "outputs": [
    {
     "name": "stdout",
     "output_type": "stream",
     "text": [
      "[INFO] Data imported\n",
      "[INFO] Time: 0.31 seconds\n"
     ]
    },
    {
     "data": {
      "text/html": [
       "<div>\n",
       "<style scoped>\n",
       "    .dataframe tbody tr th:only-of-type {\n",
       "        vertical-align: middle;\n",
       "    }\n",
       "\n",
       "    .dataframe tbody tr th {\n",
       "        vertical-align: top;\n",
       "    }\n",
       "\n",
       "    .dataframe thead th {\n",
       "        text-align: right;\n",
       "    }\n",
       "</style>\n",
       "<table border=\"1\" class=\"dataframe\">\n",
       "  <thead>\n",
       "    <tr style=\"text-align: right;\">\n",
       "      <th></th>\n",
       "      <th>Date</th>\n",
       "      <th>Temperature</th>\n",
       "      <th>Humidity</th>\n",
       "      <th>PM2.5</th>\n",
       "      <th>PM10</th>\n",
       "      <th>NO2</th>\n",
       "      <th>CO</th>\n",
       "    </tr>\n",
       "  </thead>\n",
       "  <tbody>\n",
       "    <tr>\n",
       "      <th>0</th>\n",
       "      <td>2022-02-19 00:00:09</td>\n",
       "      <td>-2.4</td>\n",
       "      <td>86.0</td>\n",
       "      <td>2.7</td>\n",
       "      <td>4.9</td>\n",
       "      <td>212.0</td>\n",
       "      <td>263.0</td>\n",
       "    </tr>\n",
       "    <tr>\n",
       "      <th>1</th>\n",
       "      <td>2022-02-19 00:00:25</td>\n",
       "      <td>-2.4</td>\n",
       "      <td>86.0</td>\n",
       "      <td>2.7</td>\n",
       "      <td>7.6</td>\n",
       "      <td>209.0</td>\n",
       "      <td>261.0</td>\n",
       "    </tr>\n",
       "    <tr>\n",
       "      <th>2</th>\n",
       "      <td>2022-02-19 00:00:41</td>\n",
       "      <td>-2.4</td>\n",
       "      <td>86.0</td>\n",
       "      <td>2.6</td>\n",
       "      <td>7.3</td>\n",
       "      <td>204.0</td>\n",
       "      <td>258.0</td>\n",
       "    </tr>\n",
       "  </tbody>\n",
       "</table>\n",
       "</div>"
      ],
      "text/plain": [
       "                  Date  Temperature  Humidity  PM2.5  PM10    NO2     CO\n",
       "0  2022-02-19 00:00:09         -2.4      86.0    2.7   4.9  212.0  263.0\n",
       "1  2022-02-19 00:00:25         -2.4      86.0    2.7   7.6  209.0  261.0\n",
       "2  2022-02-19 00:00:41         -2.4      86.0    2.6   7.3  204.0  258.0"
      ]
     },
     "execution_count": 7,
     "metadata": {},
     "output_type": "execute_result"
    }
   ],
   "source": [
    "# Start timer\n",
    "#\n",
    "start = time.time()\n",
    "\n",
    "# Load data\n",
    "#\n",
    "df = pd.read_csv( args.filename )\n",
    "\n",
    "\n",
    "print('[INFO] Data imported')\n",
    "print('[INFO] Time: %.2f seconds' % (time.time() - start))\n",
    "\n",
    "df.head( 3 )"
   ]
  },
  {
   "cell_type": "markdown",
   "metadata": {},
   "source": [
    "## Preprocess data"
   ]
  },
  {
   "cell_type": "markdown",
   "metadata": {},
   "source": [
    "### Set index"
   ]
  },
  {
   "cell_type": "code",
   "execution_count": 8,
   "metadata": {},
   "outputs": [
    {
     "data": {
      "text/html": [
       "<div>\n",
       "<style scoped>\n",
       "    .dataframe tbody tr th:only-of-type {\n",
       "        vertical-align: middle;\n",
       "    }\n",
       "\n",
       "    .dataframe tbody tr th {\n",
       "        vertical-align: top;\n",
       "    }\n",
       "\n",
       "    .dataframe thead th {\n",
       "        text-align: right;\n",
       "    }\n",
       "</style>\n",
       "<table border=\"1\" class=\"dataframe\">\n",
       "  <thead>\n",
       "    <tr style=\"text-align: right;\">\n",
       "      <th></th>\n",
       "      <th>CO</th>\n",
       "    </tr>\n",
       "    <tr>\n",
       "      <th>Date</th>\n",
       "      <th></th>\n",
       "    </tr>\n",
       "  </thead>\n",
       "  <tbody>\n",
       "    <tr>\n",
       "      <th>2022-02-19 00:00:00</th>\n",
       "      <td>240.710526</td>\n",
       "    </tr>\n",
       "    <tr>\n",
       "      <th>2022-02-19 00:10:00</th>\n",
       "      <td>227.473684</td>\n",
       "    </tr>\n",
       "    <tr>\n",
       "      <th>2022-02-19 00:20:00</th>\n",
       "      <td>229.526316</td>\n",
       "    </tr>\n",
       "  </tbody>\n",
       "</table>\n",
       "</div>"
      ],
      "text/plain": [
       "                             CO\n",
       "Date                           \n",
       "2022-02-19 00:00:00  240.710526\n",
       "2022-02-19 00:10:00  227.473684\n",
       "2022-02-19 00:20:00  229.526316"
      ]
     },
     "execution_count": 8,
     "metadata": {},
     "output_type": "execute_result"
    }
   ],
   "source": [
    "# Convert Date to 'datetime64'\n",
    "#\n",
    "df['Date'] = df['Date'].astype('datetime64')\n",
    "\n",
    "# Set index\n",
    "#\n",
    "df.set_index('Date', inplace=True)\n",
    "\n",
    "# Resample Dataset\n",
    "#\n",
    "df = df.resample('10min').mean()\n",
    "\n",
    "\n",
    "# Keep only selected time-series\n",
    "#\n",
    "df = pd.DataFrame( df[ [ args.targetSeries ] ] )\n",
    "\n",
    "\n",
    "df.head( 3 )"
   ]
  },
  {
   "cell_type": "markdown",
   "metadata": {},
   "source": [
    "### Split Training/Testing"
   ]
  },
  {
   "cell_type": "code",
   "execution_count": 9,
   "metadata": {},
   "outputs": [],
   "source": [
    "idx = int( df.shape[0] * 0.8 )\n",
    "\n",
    "df_train = df[ :idx ] \n",
    "df_test  = df[ idx: ] "
   ]
  },
  {
   "cell_type": "markdown",
   "metadata": {},
   "source": [
    "### Visualization"
   ]
  },
  {
   "cell_type": "code",
   "execution_count": 10,
   "metadata": {},
   "outputs": [
    {
     "data": {
      "image/png": "[encoded data removed]",
      "text/plain": [
       "<Figure size 1440x216 with 1 Axes>"
      ]
     },
     "metadata": {
      "needs_background": "light"
     },
     "output_type": "display_data"
    }
   ],
   "source": [
    "fig, ax = plt.subplots(nrows = 1, ncols = 1, figsize=(20, 3) )\n",
    "\n",
    "df_train[ args.targetSeries ].plot(ax=ax, color='tab:blue' )\n",
    "df_test[ args.targetSeries ].plot(ax=ax,  color='tab:orange')\n",
    "\n",
    "plt.legend(['Training', 'Testing'], frameon = False, fontsize = 14)\n",
    "plt.ylabel(args.targetSeries, size = 14)\n",
    "plt.xlabel('Date', size = 14);\n",
    "plt.xticks(size = 12);\n",
    "plt.yticks(size = 12);"
   ]
  },
  {
   "cell_type": "markdown",
   "metadata": {},
   "source": [
    "### Fix Lag"
   ]
  },
  {
   "cell_type": "code",
   "execution_count": 11,
   "metadata": {},
   "outputs": [],
   "source": [
    "df_test = pd.concat([df_train.iloc[-args.Lag:], df_test])"
   ]
  },
  {
   "cell_type": "markdown",
   "metadata": {},
   "source": [
    "## Preprocessing"
   ]
  },
  {
   "cell_type": "markdown",
   "metadata": {},
   "source": [
    "### Data Transformation"
   ]
  },
  {
   "cell_type": "code",
   "execution_count": 12,
   "metadata": {},
   "outputs": [
    {
     "name": "stdout",
     "output_type": "stream",
     "text": [
      "[INFO] Data transformation applied\n"
     ]
    }
   ],
   "source": [
    "if (args.Transformation == True):\n",
    "    \n",
    "    print('[INFO] Data transformation applied')\n",
    "    \n",
    "    VALUE = np.ceil( max(abs( -df.min().min() ), 1.0) )\n",
    "    \n",
    "    df_train  = np.log( df_train + VALUE)\n",
    "    df_test   = np.log( df_test  + VALUE)\n",
    "    \n",
    "else:\n",
    "    print('[INFO] No data transformation applied.')  "
   ]
  },
  {
   "cell_type": "markdown",
   "metadata": {},
   "source": [
    "### Scaling"
   ]
  },
  {
   "cell_type": "code",
   "execution_count": 13,
   "metadata": {},
   "outputs": [
    {
     "name": "stdout",
     "output_type": "stream",
     "text": [
      "[INFO] Scaling: Standard\n"
     ]
    }
   ],
   "source": [
    "if (args.Scaling == 'MinMax'):\n",
    "    print('[INFO] Scaling: MinMax')\n",
    "    \n",
    "       \n",
    "    # Scaling of Target Series\n",
    "    #\n",
    "    scaler = MinMaxScaler()\n",
    "    df_train[ args.targetSeries ] = scaler.fit_transform( df_train[  args.targetSeries  ].to_numpy().reshape(-1,1) )\n",
    "    df_test[ args.targetSeries ]  = scaler.transform( df_test[  args.targetSeries  ].to_numpy().reshape(-1,1) )\n",
    "            \n",
    "elif (args.Scaling == 'Robust'):\n",
    "    print('[INFO] Scaling: Robust')\n",
    "    \n",
    "       \n",
    "    # Scaling of Target Series\n",
    "    #\n",
    "    scaler = RobustScaler()\n",
    "    df_train[ args.targetSeries ] = scaler.fit_transform( df_train[  args.targetSeries  ].to_numpy().reshape(-1,1) )\n",
    "    df_test[ args.targetSeries ]  = scaler.transform( df_test[  args.targetSeries  ].to_numpy().reshape(-1,1) )\n",
    "        \n",
    "elif (args.Scaling == 'Standard'):\n",
    "    print('[INFO] Scaling: Standard')\n",
    "\n",
    "        \n",
    "    # Scaling of Target Series\n",
    "    #\n",
    "    scaler = StandardScaler()\n",
    "\n",
    "    df_train[ args.targetSeries ] = scaler.fit_transform( df_train[  args.targetSeries  ].to_numpy().reshape(-1,1) )\n",
    "    df_test[ args.targetSeries ]  = scaler.transform( df_test[  args.targetSeries  ].to_numpy().reshape(-1,1) )             \n",
    "    \n",
    "else:\n",
    "    print('[WARNING] Unknown data scaling. Standar scaling was selected')   "
   ]
  },
  {
   "cell_type": "markdown",
   "metadata": {},
   "source": [
    "## Create Training/Testing data"
   ]
  },
  {
   "cell_type": "code",
   "execution_count": 15,
   "metadata": {},
   "outputs": [
    {
     "name": "stderr",
     "output_type": "stream",
     "text": [
      "100%|██████████| 4276/4276 [00:00<00:00, 5460.60it/s]\n",
      "100%|██████████| 1070/1070 [00:00<00:00, 5594.81it/s]"
     ]
    },
    {
     "name": "stdout",
     "output_type": "stream",
     "text": [
      "Training data shape:    (3848, 6, 1) (3848, 2)\n",
      "Validation data shape:  (428, 6, 1) (428, 2)\n",
      "Testing data shape:     (1070, 6, 1) (1070, 2)\n"
     ]
    },
    {
     "name": "stderr",
     "output_type": "stream",
     "text": [
      "\n"
     ]
    }
   ],
   "source": [
    "trainX, trainY, trainTime  = create_dataset(df           = df_train, \n",
    "                                            Lag          = args.Lag, \n",
    "                                            Horizon      = args.Horizon, \n",
    "                                            targetSeries = args.targetSeries,\n",
    "                                            overlap      = args.Horizon,)\n",
    "\n",
    "\n",
    "testX,  testY, testDate,   = create_dataset(df           = df_test, \n",
    "                                            Lag          = args.Lag, \n",
    "                                            Horizon      = args.Horizon, \n",
    "                                            targetSeries = args.targetSeries,\n",
    "                                            overlap      = args.Horizon,)\n",
    "\n",
    "\n",
    "\n",
    "# # Last 10% of the training data will be used for validation\n",
    "# #\n",
    "idx = int(0.9 * trainX.shape[0])\n",
    "validX, validY, validTime = trainX[ idx: ], trainY[ idx: ], trainTime[ idx: ]\n",
    "trainX, trainY, trainTime = trainX[ :idx ], trainY[ :idx ], trainTime[ :idx ]\n",
    "\n",
    "print('Training data shape:   ', trainX.shape, trainY.shape)\n",
    "print('Validation data shape: ', validX.shape, validY.shape)\n",
    "print('Testing data shape:    ', testX.shape,  testY.shape)"
   ]
  },
  {
   "cell_type": "markdown",
   "metadata": {},
   "source": [
    "## Data augmentation"
   ]
  },
  {
   "cell_type": "markdown",
   "metadata": {},
   "source": [
    "### Part I"
   ]
  },
  {
   "cell_type": "code",
   "execution_count": 16,
   "metadata": {},
   "outputs": [],
   "source": [
    "# X = []\n",
    "# for i in tqdm( range(trainX.shape[0]) ):\n",
    "#     Instance = trainX[i]\n",
    "    \n",
    "#     X.append( np.concatenate([Instance[24:48], Instance[0:24], Instance[48:]], axis = 0) )\n",
    "    \n",
    "\n",
    "# for i in tqdm( range(trainX.shape[0]) ):\n",
    "#     Instance = trainX[i]\n",
    "    \n",
    "#     X.append( np.concatenate([Instance[48:], Instance[:48]], axis = 0) )\n",
    "    \n",
    "# # Convert to ndarray\n",
    "# X = np.array( X )\n",
    "\n",
    "\n",
    "# #\n",
    "# trainX     = np.concatenate( [trainX, X], axis = 0)\n",
    "# trainY     = np.concatenate( [trainY, trainY, trainY], axis = 0)"
   ]
  },
  {
   "cell_type": "markdown",
   "metadata": {},
   "source": [
    "### Part II"
   ]
  },
  {
   "cell_type": "code",
   "execution_count": 17,
   "metadata": {},
   "outputs": [
    {
     "name": "stderr",
     "output_type": "stream",
     "text": [
      " 11%|█         | 481/4276 [00:00<00:00, 4805.82it/s]"
     ]
    },
    {
     "name": "stdout",
     "output_type": "stream",
     "text": [
      "[INFO] Data Augmentation using Smoothing (ConvolutionSmoother) is setup\n"
     ]
    },
    {
     "name": "stderr",
     "output_type": "stream",
     "text": [
      "100%|██████████| 4276/4276 [00:00<00:00, 4903.84it/s]\n",
      "100%|██████████| 4276/4276 [00:00<00:00, 5463.02it/s]\n"
     ]
    }
   ],
   "source": [
    "if ( args.DataAugmentation ):\n",
    "    augmentation = DataAugmentation( df_train, args )\n",
    "\n",
    "\n",
    "    X , Y = augmentation.createInstances(3, 'hamming')\n",
    "\n",
    "    # Concatenate with training data\n",
    "    #\n",
    "    trainX     = np.concatenate( [trainX, X], axis = 0)\n",
    "    trainY     = np.concatenate( [trainY, Y], axis = 0)\n",
    "\n",
    "\n",
    "    X , Y = augmentation.createInstances(5, 'hamming')\n",
    "\n",
    "    # Concatenate with training data\n",
    "    #\n",
    "    trainX     = np.concatenate( [trainX, X], axis = 0)\n",
    "    trainY     = np.concatenate( [trainY, Y], axis = 0)    "
   ]
  },
  {
   "cell_type": "markdown",
   "metadata": {},
   "source": [
    "## Create DataLoader"
   ]
  },
  {
   "cell_type": "code",
   "execution_count": 18,
   "metadata": {},
   "outputs": [
    {
     "name": "stdout",
     "output_type": "stream",
     "text": [
      "[INFO] Data loaders were created\n"
     ]
    }
   ],
   "source": [
    "class Data( Dataset ):\n",
    "    def __init__(self, X, Y):\n",
    "        self.X    = X\n",
    "        self.Y    = Y\n",
    "\n",
    "    def __len__(self):\n",
    "        return len(self.Y)\n",
    "    \n",
    "    def __getitem__(self, idx):\n",
    "        return self.X[ idx ], self.Y[ idx ]\n",
    "    \n",
    "\n",
    "    \n",
    "# Create training and test dataloaders\n",
    "#\n",
    "train_ds = Data(trainX, trainY)\n",
    "valid_ds = Data(validX, validY)\n",
    "test_ds  = Data(testX,  testY )\n",
    "\n",
    "\n",
    "# Prepare Data-Loaders\n",
    "#\n",
    "train_dl = DataLoader(train_ds, batch_size = args.batch_size, num_workers = args.num_workers, shuffle = True)\n",
    "valid_dl = DataLoader(valid_ds, batch_size = args.batch_size, num_workers = args.num_workers, shuffle = True)\n",
    "test_dl  = DataLoader(test_ds,  batch_size = args.batch_size, num_workers = args.num_workers, shuffle = False)\n",
    "#\n",
    "print('[INFO] Data loaders were created')"
   ]
  },
  {
   "cell_type": "markdown",
   "metadata": {},
   "source": [
    "# Forecasting model: DeepTIMe"
   ]
  },
  {
   "cell_type": "markdown",
   "metadata": {},
   "source": [
    "## Setup model"
   ]
  },
  {
   "cell_type": "code",
   "execution_count": 19,
   "metadata": {},
   "outputs": [
    {
     "name": "stdout",
     "output_type": "stream",
     "text": [
      "DLinear(\n",
      "  (decompsition): series_decomp(\n",
      "    (moving_avg): moving_avg(\n",
      "      (avg): AvgPool1d(kernel_size=(25,), stride=(1,), padding=(0,))\n",
      "    )\n",
      "  )\n",
      "  (Linear_Seasonal): Linear(in_features=6, out_features=2, bias=True)\n",
      "  (Linear_Trend): Linear(in_features=6, out_features=2, bias=True)\n",
      "  (Linear_Decoder): Linear(in_features=6, out_features=2, bias=True)\n",
      ")\n"
     ]
    }
   ],
   "source": [
    "# Initialize Neural Network\n",
    "# \n",
    "model = DLinear( args )\n",
    "\n",
    "model.to( device )\n",
    "\n",
    "\n",
    "print( model )"
   ]
  },
  {
   "cell_type": "markdown",
   "metadata": {},
   "source": [
    "## Training parameters"
   ]
  },
  {
   "cell_type": "code",
   "execution_count": 20,
   "metadata": {},
   "outputs": [],
   "source": [
    "# Specify loss function\n",
    "#\n",
    "criterion = nn.MSELoss()\n",
    "# criterion = nn.L1Loss()\n",
    "\n",
    "\n",
    "# Specify loss function\n",
    "#\n",
    "optimizer = torch.optim.Adam(params       = model.parameters(), \n",
    "                             lr           = args.learning_rate,\n",
    "                             weight_decay = args.weight_decay)\n",
    "\n",
    "\n",
    "# Early stopping\n",
    "#\n",
    "early_stopping = EarlyStopping(patience  = 50,\n",
    "                               min_delta = 1.0e-5)\n",
    "\n",
    "\n",
    "# LR scheduler\n",
    "#\n",
    "scheduler = LRScheduler(optimizer = optimizer, \n",
    "                        patience  = 10, \n",
    "                        min_lr    = 1e-10, \n",
    "                        factor    = 0.5, \n",
    "                        verbose   = args.verbose)"
   ]
  },
  {
   "cell_type": "markdown",
   "metadata": {},
   "source": [
    "## Training process"
   ]
  },
  {
   "cell_type": "code",
   "execution_count": 21,
   "metadata": {
    "scrolled": true
   },
   "outputs": [
    {
     "name": "stdout",
     "output_type": "stream",
     "text": [
      "[INFO] Epoch:   1 Train Loss: 0.589574\tValid Loss: 0.235914 \tTime: 0.64secs (Model saved)\n",
      "[INFO] Epoch:   2 Train Loss: 0.558341\tValid Loss: 0.224927 \tTime: 0.34secs (Model saved)\n",
      "[INFO] Epoch:   3 Train Loss: 0.531662\tValid Loss: 0.215198 \tTime: 0.34secs (Model saved)\n",
      "[INFO] Epoch:   4 Train Loss: 0.507802\tValid Loss: 0.206232 \tTime: 0.34secs (Model saved)\n",
      "[INFO] Epoch:   5 Train Loss: 0.485845\tValid Loss: 0.197899 \tTime: 0.34secs (Model saved)\n",
      "[INFO] Epoch:   6 Train Loss: 0.465372\tValid Loss: 0.189914 \tTime: 0.34secs (Model saved)\n",
      "[INFO] Epoch:   7 Train Loss: 0.446138\tValid Loss: 0.182537 \tTime: 0.34secs (Model saved)\n",
      "[INFO] Epoch:   8 Train Loss: 0.428075\tValid Loss: 0.175461 \tTime: 0.34secs (Model saved)\n",
      "[INFO] Epoch:   9 Train Loss: 0.411064\tValid Loss: 0.168839 \tTime: 0.33secs (Model saved)\n",
      "[INFO] Epoch:  10 Train Loss: 0.395026\tValid Loss: 0.162654 \tTime: 0.33secs (Model saved)\n",
      "[INFO] Epoch:  11 Train Loss: 0.379934\tValid Loss: 0.156733 \tTime: 0.32secs (Model saved)\n",
      "[INFO] Epoch:  12 Train Loss: 0.365705\tValid Loss: 0.151184 \tTime: 0.32secs (Model saved)\n",
      "[INFO] Epoch:  13 Train Loss: 0.352282\tValid Loss: 0.145919 \tTime: 0.33secs (Model saved)\n",
      "[INFO] Epoch:  14 Train Loss: 0.339646\tValid Loss: 0.141057 \tTime: 0.32secs (Model saved)\n",
      "[INFO] Epoch:  15 Train Loss: 0.327749\tValid Loss: 0.136437 \tTime: 0.34secs (Model saved)\n",
      "[INFO] Epoch:  16 Train Loss: 0.316525\tValid Loss: 0.132076 \tTime: 0.32secs (Model saved)\n",
      "[INFO] Epoch:  17 Train Loss: 0.305951\tValid Loss: 0.127956 \tTime: 0.33secs (Model saved)\n",
      "[INFO] Epoch:  18 Train Loss: 0.296016\tValid Loss: 0.124130 \tTime: 0.32secs (Model saved)\n",
      "[INFO] Epoch:  19 Train Loss: 0.286657\tValid Loss: 0.120493 \tTime: 0.32secs (Model saved)\n",
      "[INFO] Epoch:  20 Train Loss: 0.277853\tValid Loss: 0.117054 \tTime: 0.33secs (Model saved)\n",
      "[INFO] Epoch:  21 Train Loss: 0.269585\tValid Loss: 0.113832 \tTime: 0.33secs (Model saved)\n",
      "[INFO] Epoch:  22 Train Loss: 0.261806\tValid Loss: 0.110836 \tTime: 0.33secs (Model saved)\n",
      "[INFO] Epoch:  23 Train Loss: 0.254518\tValid Loss: 0.108057 \tTime: 0.33secs (Model saved)\n",
      "[INFO] Epoch:  24 Train Loss: 0.247682\tValid Loss: 0.105441 \tTime: 0.33secs (Model saved)\n",
      "[INFO] Epoch:  25 Train Loss: 0.241286\tValid Loss: 0.102959 \tTime: 0.33secs (Model saved)\n",
      "[INFO] Epoch:  26 Train Loss: 0.235297\tValid Loss: 0.100683 \tTime: 0.33secs (Model saved)\n",
      "[INFO] Epoch:  27 Train Loss: 0.229713\tValid Loss: 0.098536 \tTime: 0.33secs (Model saved)\n",
      "[INFO] Epoch:  28 Train Loss: 0.224504\tValid Loss: 0.096524 \tTime: 0.33secs (Model saved)\n",
      "[INFO] Epoch:  29 Train Loss: 0.219647\tValid Loss: 0.094681 \tTime: 0.33secs (Model saved)\n",
      "[INFO] Epoch:  30 Train Loss: 0.215128\tValid Loss: 0.092979 \tTime: 0.33secs (Model saved)\n",
      "[INFO] Epoch:  31 Train Loss: 0.210937\tValid Loss: 0.091380 \tTime: 0.33secs (Model saved)\n",
      "[INFO] Epoch:  32 Train Loss: 0.207048\tValid Loss: 0.089908 \tTime: 0.33secs (Model saved)\n",
      "[INFO] Epoch:  33 Train Loss: 0.203452\tValid Loss: 0.088579 \tTime: 0.33secs (Model saved)\n",
      "[INFO] Epoch:  34 Train Loss: 0.200130\tValid Loss: 0.087285 \tTime: 0.33secs (Model saved)\n",
      "[INFO] Epoch:  35 Train Loss: 0.197067\tValid Loss: 0.086127 \tTime: 0.33secs (Model saved)\n",
      "[INFO] Epoch:  36 Train Loss: 0.194209\tValid Loss: 0.085119 \tTime: 0.33secs (Model saved)\n",
      "[INFO] Epoch:  37 Train Loss: 0.191600\tValid Loss: 0.084143 \tTime: 0.33secs (Model saved)\n",
      "[INFO] Epoch:  38 Train Loss: 0.189201\tValid Loss: 0.083253 \tTime: 0.33secs (Model saved)\n",
      "[INFO] Epoch:  39 Train Loss: 0.186996\tValid Loss: 0.082434 \tTime: 0.32secs (Model saved)\n",
      "[INFO] Epoch:  40 Train Loss: 0.184957\tValid Loss: 0.081709 \tTime: 0.33secs (Model saved)\n",
      "[INFO] Epoch:  41 Train Loss: 0.183096\tValid Loss: 0.081058 \tTime: 0.33secs (Model saved)\n",
      "[INFO] Epoch:  42 Train Loss: 0.181388\tValid Loss: 0.080438 \tTime: 0.33secs (Model saved)\n",
      "[INFO] Epoch:  43 Train Loss: 0.179823\tValid Loss: 0.079850 \tTime: 0.33secs (Model saved)\n",
      "[INFO] Epoch:  44 Train Loss: 0.178376\tValid Loss: 0.079335 \tTime: 0.33secs (Model saved)\n",
      "[INFO] Epoch:  45 Train Loss: 0.177068\tValid Loss: 0.078889 \tTime: 0.33secs (Model saved)\n",
      "[INFO] Epoch:  46 Train Loss: 0.175837\tValid Loss: 0.078444 \tTime: 0.34secs (Model saved)\n",
      "[INFO] Epoch:  47 Train Loss: 0.174715\tValid Loss: 0.078050 \tTime: 0.33secs (Model saved)\n",
      "[INFO] Epoch:  48 Train Loss: 0.173694\tValid Loss: 0.077709 \tTime: 0.33secs (Model saved)\n",
      "[INFO] Epoch:  49 Train Loss: 0.172721\tValid Loss: 0.077341 \tTime: 0.33secs (Model saved)\n",
      "[INFO] Epoch:  50 Train Loss: 0.171831\tValid Loss: 0.077057 \tTime: 0.33secs (Model saved)\n",
      "[INFO] Epoch:  51 Train Loss: 0.171006\tValid Loss: 0.076780 \tTime: 0.33secs (Model saved)\n",
      "[INFO] Epoch:  52 Train Loss: 0.170239\tValid Loss: 0.076499 \tTime: 0.33secs (Model saved)\n",
      "[INFO] Epoch:  53 Train Loss: 0.169504\tValid Loss: 0.076254 \tTime: 0.33secs (Model saved)\n",
      "[INFO] Epoch:  54 Train Loss: 0.168821\tValid Loss: 0.076035 \tTime: 0.33secs (Model saved)\n",
      "[INFO] Epoch:  55 Train Loss: 0.168174\tValid Loss: 0.075795 \tTime: 0.33secs (Model saved)\n",
      "[INFO] Epoch:  56 Train Loss: 0.167571\tValid Loss: 0.075619 \tTime: 0.33secs (Model saved)\n",
      "[INFO] Epoch:  57 Train Loss: 0.166984\tValid Loss: 0.075410 \tTime: 0.35secs (Model saved)\n",
      "[INFO] Epoch:  58 Train Loss: 0.166437\tValid Loss: 0.075206 \tTime: 0.35secs (Model saved)\n",
      "[INFO] Epoch:  59 Train Loss: 0.165903\tValid Loss: 0.075029 \tTime: 0.34secs (Model saved)\n",
      "[INFO] Epoch:  60 Train Loss: 0.165401\tValid Loss: 0.074892 \tTime: 0.33secs (Model saved)\n",
      "[INFO] Epoch:  61 Train Loss: 0.164903\tValid Loss: 0.074699 \tTime: 0.33secs (Model saved)\n",
      "[INFO] Epoch:  62 Train Loss: 0.164448\tValid Loss: 0.074533 \tTime: 0.33secs (Model saved)\n",
      "[INFO] Epoch:  63 Train Loss: 0.163972\tValid Loss: 0.074352 \tTime: 0.33secs (Model saved)\n",
      "[INFO] Epoch:  64 Train Loss: 0.163516\tValid Loss: 0.074209 \tTime: 0.33secs (Model saved)\n",
      "[INFO] Epoch:  65 Train Loss: 0.163078\tValid Loss: 0.074050 \tTime: 0.33secs (Model saved)\n",
      "[INFO] Epoch:  66 Train Loss: 0.162676\tValid Loss: 0.073889 \tTime: 0.33secs (Model saved)\n",
      "[INFO] Epoch:  67 Train Loss: 0.162259\tValid Loss: 0.073748 \tTime: 0.33secs (Model saved)\n",
      "[INFO] Epoch:  68 Train Loss: 0.161852\tValid Loss: 0.073618 \tTime: 0.33secs (Model saved)\n",
      "[INFO] Epoch:  69 Train Loss: 0.161471\tValid Loss: 0.073481 \tTime: 0.33secs (Model saved)\n",
      "[INFO] Epoch:  70 Train Loss: 0.161081\tValid Loss: 0.073355 \tTime: 0.33secs (Model saved)\n",
      "[INFO] Epoch:  71 Train Loss: 0.160700\tValid Loss: 0.073197 \tTime: 0.33secs (Model saved)\n",
      "[INFO] Epoch:  72 Train Loss: 0.160347\tValid Loss: 0.073065 \tTime: 0.32secs (Model saved)\n",
      "[INFO] Epoch:  73 Train Loss: 0.159985\tValid Loss: 0.072917 \tTime: 0.33secs (Model saved)\n",
      "[INFO] Epoch:  74 Train Loss: 0.159632\tValid Loss: 0.072781 \tTime: 0.33secs (Model saved)\n",
      "[INFO] Epoch:  75 Train Loss: 0.159303\tValid Loss: 0.072654 \tTime: 0.33secs (Model saved)\n",
      "[INFO] Epoch:  76 Train Loss: 0.158978\tValid Loss: 0.072513 \tTime: 0.33secs (Model saved)\n",
      "[INFO] Epoch:  77 Train Loss: 0.158640\tValid Loss: 0.072446 \tTime: 0.33secs (Model saved)\n",
      "[INFO] Epoch:  78 Train Loss: 0.158328\tValid Loss: 0.072335 \tTime: 0.33secs (Model saved)\n",
      "[INFO] Epoch:  79 Train Loss: 0.158030\tValid Loss: 0.072181 \tTime: 0.33secs (Model saved)\n",
      "[INFO] Epoch:  80 Train Loss: 0.157724\tValid Loss: 0.072106 \tTime: 0.33secs (Model saved)\n",
      "[INFO] Epoch:  81 Train Loss: 0.157429\tValid Loss: 0.071984 \tTime: 0.33secs (Model saved)\n",
      "[INFO] Epoch:  82 Train Loss: 0.157146\tValid Loss: 0.071900 \tTime: 0.33secs (Model saved)\n",
      "[INFO] Epoch:  83 Train Loss: 0.156871\tValid Loss: 0.071794 \tTime: 0.33secs (Model saved)\n",
      "[INFO] Epoch:  84 Train Loss: 0.156609\tValid Loss: 0.071709 \tTime: 0.33secs (Model saved)\n",
      "[INFO] Epoch:  85 Train Loss: 0.156331\tValid Loss: 0.071587 \tTime: 0.33secs (Model saved)\n",
      "[INFO] Epoch:  86 Train Loss: 0.156091\tValid Loss: 0.071529 \tTime: 0.33secs (Model saved)\n",
      "[INFO] Epoch:  87 Train Loss: 0.155833\tValid Loss: 0.071451 \tTime: 0.33secs (Model saved)\n",
      "[INFO] Epoch:  88 Train Loss: 0.155590\tValid Loss: 0.071343 \tTime: 0.32secs (Model saved)\n",
      "[INFO] Epoch:  89 Train Loss: 0.155357\tValid Loss: 0.071273 \tTime: 0.33secs (Model saved)\n",
      "[INFO] Epoch:  90 Train Loss: 0.155134\tValid Loss: 0.071190 \tTime: 0.33secs (Model saved)\n",
      "[INFO] Epoch:  91 Train Loss: 0.154904\tValid Loss: 0.071123 \tTime: 0.33secs (Model saved)\n",
      "[INFO] Epoch:  92 Train Loss: 0.154695\tValid Loss: 0.071050 \tTime: 0.33secs (Model saved)\n",
      "[INFO] Epoch:  93 Train Loss: 0.154505\tValid Loss: 0.070996 \tTime: 0.33secs (Model saved)\n",
      "[INFO] Epoch:  94 Train Loss: 0.154281\tValid Loss: 0.070894 \tTime: 0.33secs (Model saved)\n",
      "[INFO] Epoch:  95 Train Loss: 0.154076\tValid Loss: 0.070845 \tTime: 0.33secs (Model saved)\n",
      "[INFO] Epoch:  96 Train Loss: 0.153886\tValid Loss: 0.070793 \tTime: 0.33secs (Model saved)\n",
      "[INFO] Epoch:  97 Train Loss: 0.153701\tValid Loss: 0.070721 \tTime: 0.33secs (Model saved)\n",
      "[INFO] Epoch:  98 Train Loss: 0.153523\tValid Loss: 0.070668 \tTime: 0.33secs (Model saved)\n",
      "[INFO] Epoch:  99 Train Loss: 0.153351\tValid Loss: 0.070608 \tTime: 0.33secs (Model saved)\n",
      "[INFO] Epoch: 100 Train Loss: 0.153186\tValid Loss: 0.070556 \tTime: 0.32secs (Model saved)\n",
      "[INFO] Epoch: 101 Train Loss: 0.153023\tValid Loss: 0.070537 \tTime: 0.33secs (Model saved)\n",
      "[INFO] Epoch: 102 Train Loss: 0.152856\tValid Loss: 0.070481 \tTime: 0.32secs (Model saved)\n",
      "[INFO] Epoch: 103 Train Loss: 0.152699\tValid Loss: 0.070429 \tTime: 0.32secs (Model saved)\n",
      "[INFO] Epoch: 104 Train Loss: 0.152574\tValid Loss: 0.070368 \tTime: 0.32secs (Model saved)\n",
      "[INFO] Epoch: 105 Train Loss: 0.152417\tValid Loss: 0.070372 \tTime: 0.33secs \n",
      "[INFO] Epoch: 106 Train Loss: 0.152271\tValid Loss: 0.070321 \tTime: 0.33secs (Model saved)\n",
      "[INFO] Epoch: 107 Train Loss: 0.152129\tValid Loss: 0.070284 \tTime: 0.33secs (Model saved)\n",
      "[INFO] Epoch: 108 Train Loss: 0.152007\tValid Loss: 0.070267 \tTime: 0.33secs (Model saved)\n",
      "[INFO] Epoch: 109 Train Loss: 0.151868\tValid Loss: 0.070230 \tTime: 0.33secs (Model saved)\n",
      "[INFO] Epoch: 110 Train Loss: 0.151745\tValid Loss: 0.070174 \tTime: 0.33secs (Model saved)\n",
      "[INFO] Epoch: 111 Train Loss: 0.151638\tValid Loss: 0.070128 \tTime: 0.33secs (Model saved)\n",
      "[INFO] Epoch: 112 Train Loss: 0.151513\tValid Loss: 0.070109 \tTime: 0.33secs (Model saved)\n",
      "[INFO] Epoch: 113 Train Loss: 0.151407\tValid Loss: 0.070088 \tTime: 0.33secs (Model saved)\n",
      "[INFO] Epoch: 114 Train Loss: 0.151280\tValid Loss: 0.070092 \tTime: 0.33secs \n",
      "[INFO] Epoch: 115 Train Loss: 0.151169\tValid Loss: 0.070068 \tTime: 0.33secs (Model saved)\n",
      "[INFO] Epoch: 116 Train Loss: 0.151066\tValid Loss: 0.070051 \tTime: 0.33secs (Model saved)\n",
      "[INFO] Epoch: 117 Train Loss: 0.150959\tValid Loss: 0.070044 \tTime: 0.33secs (Model saved)\n",
      "[INFO] Epoch: 118 Train Loss: 0.150865\tValid Loss: 0.070026 \tTime: 0.32secs (Model saved)\n",
      "[INFO] Epoch: 119 Train Loss: 0.150766\tValid Loss: 0.069984 \tTime: 0.33secs (Model saved)\n",
      "[INFO] Epoch: 120 Train Loss: 0.150670\tValid Loss: 0.069976 \tTime: 0.33secs (Model saved)\n",
      "[INFO] Epoch: 121 Train Loss: 0.150579\tValid Loss: 0.069994 \tTime: 0.33secs \n",
      "[INFO] Epoch: 122 Train Loss: 0.150498\tValid Loss: 0.069975 \tTime: 0.33secs (Model saved)\n",
      "[INFO] Epoch: 123 Train Loss: 0.150404\tValid Loss: 0.069935 \tTime: 0.33secs (Model saved)\n",
      "[INFO] Epoch: 124 Train Loss: 0.150325\tValid Loss: 0.069906 \tTime: 0.33secs (Model saved)\n",
      "[INFO] Epoch: 125 Train Loss: 0.150245\tValid Loss: 0.069931 \tTime: 0.32secs \n",
      "[INFO] Epoch: 126 Train Loss: 0.150167\tValid Loss: 0.069916 \tTime: 0.33secs \n",
      "[INFO] Epoch: 127 Train Loss: 0.150089\tValid Loss: 0.069888 \tTime: 0.33secs (Model saved)\n",
      "[INFO] Epoch: 128 Train Loss: 0.150012\tValid Loss: 0.069914 \tTime: 0.33secs \n",
      "[INFO] Epoch: 129 Train Loss: 0.149941\tValid Loss: 0.069886 \tTime: 0.33secs (Model saved)\n",
      "[INFO] Epoch: 130 Train Loss: 0.149868\tValid Loss: 0.069903 \tTime: 0.33secs \n",
      "[INFO] Epoch: 131 Train Loss: 0.149810\tValid Loss: 0.069912 \tTime: 0.33secs \n",
      "[INFO] Epoch: 132 Train Loss: 0.149728\tValid Loss: 0.069889 \tTime: 0.33secs \n",
      "[INFO] Epoch: 133 Train Loss: 0.149670\tValid Loss: 0.069873 \tTime: 0.33secs (Model saved)\n",
      "[INFO] Epoch: 134 Train Loss: 0.149610\tValid Loss: 0.069871 \tTime: 0.32secs (Model saved)\n",
      "[INFO] Epoch: 135 Train Loss: 0.149541\tValid Loss: 0.069886 \tTime: 0.30secs \n",
      "[INFO] Epoch: 136 Train Loss: 0.149482\tValid Loss: 0.069877 \tTime: 0.30secs \n",
      "[INFO] Epoch: 137 Train Loss: 0.149429\tValid Loss: 0.069875 \tTime: 0.30secs \n",
      "[INFO] Epoch: 138 Train Loss: 0.149380\tValid Loss: 0.069900 \tTime: 0.33secs \n",
      "[INFO] Epoch: 139 Train Loss: 0.149317\tValid Loss: 0.069870 \tTime: 0.30secs (Model saved)\n",
      "[INFO] Epoch: 140 Train Loss: 0.149259\tValid Loss: 0.069877 \tTime: 0.33secs \n",
      "[INFO] Epoch: 141 Train Loss: 0.149214\tValid Loss: 0.069880 \tTime: 0.32secs \n",
      "[INFO] Epoch: 142 Train Loss: 0.149167\tValid Loss: 0.069883 \tTime: 0.33secs \n",
      "[INFO] Epoch: 143 Train Loss: 0.149124\tValid Loss: 0.069905 \tTime: 0.33secs \n",
      "[INFO] Epoch: 144 Train Loss: 0.149069\tValid Loss: 0.069921 \tTime: 0.33secs \n",
      "Epoch   144: reducing learning rate of group 0 to 5.0000e-05.\n",
      "[INFO] Epoch: 145 Train Loss: 0.149020\tValid Loss: 0.069916 \tTime: 0.33secs \n",
      "[INFO] Epoch: 146 Train Loss: 0.148996\tValid Loss: 0.069917 \tTime: 0.33secs \n",
      "[INFO] Epoch: 147 Train Loss: 0.148975\tValid Loss: 0.069923 \tTime: 0.32secs \n",
      "[INFO] Epoch: 148 Train Loss: 0.148949\tValid Loss: 0.069909 \tTime: 0.32secs \n",
      "[INFO] Epoch: 149 Train Loss: 0.148931\tValid Loss: 0.069930 \tTime: 0.33secs \n",
      "[INFO] Epoch: 150 Train Loss: 0.148908\tValid Loss: 0.069915 \tTime: 0.33secs \n",
      "[INFO] Epoch: 151 Train Loss: 0.148885\tValid Loss: 0.069914 \tTime: 0.33secs \n",
      "[INFO] Epoch: 152 Train Loss: 0.148870\tValid Loss: 0.069931 \tTime: 0.33secs \n",
      "[INFO] Epoch: 153 Train Loss: 0.148845\tValid Loss: 0.069919 \tTime: 0.33secs \n",
      "[INFO] Epoch: 154 Train Loss: 0.148820\tValid Loss: 0.069916 \tTime: 0.33secs \n",
      "[INFO] Epoch: 155 Train Loss: 0.148800\tValid Loss: 0.069916 \tTime: 0.33secs \n",
      "Epoch   155: reducing learning rate of group 0 to 2.5000e-05.\n",
      "[INFO] Epoch: 156 Train Loss: 0.148783\tValid Loss: 0.069929 \tTime: 0.32secs \n",
      "[INFO] Epoch: 157 Train Loss: 0.148773\tValid Loss: 0.069919 \tTime: 0.33secs \n",
      "[INFO] Epoch: 158 Train Loss: 0.148759\tValid Loss: 0.069935 \tTime: 0.33secs \n",
      "[INFO] Epoch: 159 Train Loss: 0.148751\tValid Loss: 0.069941 \tTime: 0.33secs \n",
      "[INFO] Epoch: 160 Train Loss: 0.148741\tValid Loss: 0.069932 \tTime: 0.33secs \n",
      "[INFO] Epoch: 161 Train Loss: 0.148732\tValid Loss: 0.069951 \tTime: 0.33secs \n",
      "[INFO] Epoch: 162 Train Loss: 0.148721\tValid Loss: 0.069936 \tTime: 0.33secs \n",
      "[INFO] Epoch: 163 Train Loss: 0.148712\tValid Loss: 0.069943 \tTime: 0.32secs \n",
      "[INFO] Epoch: 164 Train Loss: 0.148704\tValid Loss: 0.069940 \tTime: 0.33secs \n",
      "[INFO] Epoch: 165 Train Loss: 0.148691\tValid Loss: 0.069945 \tTime: 0.33secs \n",
      "[INFO] Epoch: 166 Train Loss: 0.148681\tValid Loss: 0.069947 \tTime: 0.33secs \n",
      "Epoch   166: reducing learning rate of group 0 to 1.2500e-05.\n",
      "[INFO] Epoch: 167 Train Loss: 0.148672\tValid Loss: 0.069948 \tTime: 0.33secs \n",
      "[INFO] Epoch: 168 Train Loss: 0.148667\tValid Loss: 0.069945 \tTime: 0.33secs \n",
      "[INFO] Epoch: 169 Train Loss: 0.148662\tValid Loss: 0.069944 \tTime: 0.33secs \n",
      "[INFO] Epoch: 170 Train Loss: 0.148659\tValid Loss: 0.069949 \tTime: 0.33secs \n",
      "[INFO] Early stopping\n"
     ]
    }
   ],
   "source": [
    "# Store training and validation loss\n",
    "Loss = {\n",
    "         'Train': [], \n",
    "         'Valid':  []\n",
    "       }\n",
    "\n",
    "\n",
    "\n",
    "# Main loop - Training process\n",
    "#\n",
    "for epoch in range(1, args.epochs+1):\n",
    "\n",
    "    # Start timer\n",
    "    start = time.time()\n",
    "    \n",
    "    # Monitor training loss\n",
    "    #\n",
    "    train_loss = 0.0\n",
    "    valid_loss = 0.0    \n",
    "    \n",
    "    \n",
    "    \n",
    "    ###################\n",
    "    # Train the model #\n",
    "    ###################\n",
    "    batch_idx = 0\n",
    "    for data, target in train_dl:\n",
    "        \n",
    "        # Clear the gradients of all optimized variables\n",
    "        #\n",
    "        optimizer.zero_grad()\n",
    "        \n",
    "        # Forward pass: compute predicted outputs by passing inputs to the model\n",
    "        #\n",
    "        if (device.type == 'cpu'):\n",
    "            data   = torch.tensor(data,   dtype=torch.float32)\n",
    "            target = torch.tensor(target, dtype=torch.float32)\n",
    "        else:\n",
    "            data   = torch.tensor(data,   dtype=torch.float32).cuda()\n",
    "            target = torch.tensor(target, dtype=torch.float32).cuda()\n",
    "\n",
    "            \n",
    "        outputs = model( data ).squeeze(-1)\n",
    "        \n",
    "\n",
    "        \n",
    "        # Calculate the loss\n",
    "        #\n",
    "        loss = criterion(outputs, target)\n",
    "        \n",
    "        \n",
    "        \n",
    "        # Backward pass: compute gradient of the loss with respect to model parameters\n",
    "        #\n",
    "        loss.backward()\n",
    "        \n",
    "        \n",
    "        # Clip gradients\n",
    "        #\n",
    "        if ( args.clip_grads ):\n",
    "            torch.nn.utils.clip_grad_norm_(model.parameters(), args.clip_grads_norm)\n",
    "            \n",
    "            \n",
    "        # Perform a single optimization step (parameter update)\n",
    "        #\n",
    "        optimizer.step()\n",
    "        \n",
    "        \n",
    "        \n",
    "        # Update running training loss\n",
    "        #\n",
    "        train_loss += loss.item()*data.size(0)\n",
    "               \n",
    "        # Increase batch_idx\n",
    "        #\n",
    "        batch_idx  += 1\n",
    "        \n",
    "        \n",
    "           \n",
    "        \n",
    "    # Print avg training statistics \n",
    "    #\n",
    "    train_loss = train_loss / train_dl.dataset.X.shape[0]\n",
    "\n",
    "    \n",
    "    \n",
    "    \n",
    "    \n",
    "    with torch.no_grad():\n",
    "        for data, target in valid_dl:\n",
    "\n",
    "            # Forward pass: compute predicted outputs by passing inputs to the model\n",
    "            #\n",
    "            if (device.type == 'cpu'):\n",
    "                data   = torch.tensor(data, dtype=torch.float32)\n",
    "                target = torch.tensor(target, dtype=torch.float32)\n",
    "            else:\n",
    "                data   = torch.tensor(data, dtype=torch.float32).cuda()\n",
    "                target = torch.tensor(target, dtype=torch.float32).cuda()\n",
    "\n",
    "\n",
    "            outputs = model( data ).squeeze(-1)\n",
    "        \n",
    "          \n",
    "\n",
    "            # Calculate the loss\n",
    "            #\n",
    "            loss = criterion(outputs, target)\n",
    "                \n",
    "            # update running training loss\n",
    "            valid_loss += loss.item()*data.size(0)\n",
    "              \n",
    "\n",
    "    # Print avg training statistics \n",
    "    #\n",
    "    valid_loss = valid_loss / test_dl.dataset.X.shape[0]\n",
    "\n",
    "\n",
    "\n",
    "\n",
    "\n",
    "\n",
    "    # Stop timer\n",
    "    #\n",
    "    stop  = time.time()\n",
    "    \n",
    "    \n",
    "    # Show training results\n",
    "    #\n",
    "    print('[INFO] Epoch: {:3.0f} Train Loss: {:.6f}\\tValid Loss: {:.6f} \\tTime: {:.2f}secs'.format(epoch, train_loss, valid_loss, stop-start), end=' ')\n",
    "\n",
    " \n",
    "    \n",
    "\n",
    "    # Update best model\n",
    "    #\n",
    "    if (epoch == 1):\n",
    "        Best_score = valid_loss\n",
    "        \n",
    "        torch.save(model.state_dict(), args.model_path)\n",
    "        print('(Model saved)')\n",
    "    else:\n",
    "        if (Best_score > valid_loss):\n",
    "            Best_score = valid_loss\n",
    "            \n",
    "            torch.save(model.state_dict(), args.model_path)\n",
    "            print('(Model saved)')\n",
    "        else:\n",
    "            print( )\n",
    "     \n",
    "    \n",
    "    # Store train/val loss\n",
    "    #\n",
    "    Loss['Train'] += [ train_loss ]\n",
    "    Loss['Valid'] += [ valid_loss ]\n",
    "    \n",
    "\n",
    "    \n",
    "    \n",
    "    \n",
    "    # =-=-=-=-=-=-=-=-=-=-=-=-=-=-=-=-=-=-=-=-=-=-=-=-=-=-=-=-=-=-=-=-=-=-=-=\n",
    "    # Learning rate scheduler\n",
    "    #\n",
    "    scheduler( valid_loss )\n",
    "    \n",
    "    \n",
    "    # =-=-=-=-=-=-=-=-=-=-=-=-=-=-=-=-=-=-=-=-=-=-=-=-=-=-=-=-=-=-=-=-=-=-=-=\n",
    "    # Early Stopping\n",
    "    #\n",
    "    if ( early_stopping( valid_loss ) ): break"
   ]
  },
  {
   "cell_type": "markdown",
   "metadata": {},
   "source": [
    "## Load optimized model"
   ]
  },
  {
   "cell_type": "code",
   "execution_count": 22,
   "metadata": {},
   "outputs": [
    {
     "name": "stdout",
     "output_type": "stream",
     "text": [
      "[INFO] Model loaded\n"
     ]
    }
   ],
   "source": [
    "# Load best model\n",
    "#\n",
    "model.load_state_dict( torch.load( args.model_path ) );\n",
    "model.eval();\n",
    "\n",
    "print('[INFO] Model loaded')"
   ]
  },
  {
   "cell_type": "markdown",
   "metadata": {},
   "source": [
    "## Evaluation"
   ]
  },
  {
   "cell_type": "markdown",
   "metadata": {},
   "source": [
    "### Get predictions"
   ]
  },
  {
   "cell_type": "code",
   "execution_count": 23,
   "metadata": {},
   "outputs": [
    {
     "name": "stderr",
     "output_type": "stream",
     "text": [
      "100%|██████████| 9/9 [00:00<00:00, 522.60it/s]\n"
     ]
    }
   ],
   "source": [
    "pred = None\n",
    "with torch.no_grad():\n",
    "    for data, target in tqdm( test_dl ):\n",
    "\n",
    "        if (device.type == 'cpu'):\n",
    "            data   = torch.tensor(data,   dtype=torch.float32)\n",
    "            target = torch.tensor(target, dtype=torch.float32)\n",
    "        else:\n",
    "            data   = torch.tensor(data,   dtype=torch.float32).cuda()\n",
    "            target = torch.tensor(target, dtype=torch.float32).cuda()\n",
    "            \n",
    "\n",
    "        if (pred is None):\n",
    "            pred = model( data ).squeeze(-1).cpu().detach().numpy()\n",
    "        else:\n",
    "            pred = np.concatenate([ pred, model( data ).squeeze(-1).cpu().detach().numpy() ])"
   ]
  },
  {
   "cell_type": "markdown",
   "metadata": {},
   "source": [
    "### Apply inverse scaling/transformation"
   ]
  },
  {
   "cell_type": "code",
   "execution_count": 24,
   "metadata": {},
   "outputs": [],
   "source": [
    "# Apply inverse scaling\n",
    "#\n",
    "for i in range( args.Horizon ):\n",
    "    testY[:,  i]  = scaler.inverse_transform( testY[:,  i].reshape(-1,1) ).squeeze(-1)\n",
    "    pred[:, i]    = scaler.inverse_transform( pred[:, i].reshape(-1,1) ).squeeze(-1)\n",
    "\n",
    "\n",
    "# Apply inverse transformation   \n",
    "#\n",
    "if (args.Transformation == True):\n",
    "    testY  = np.exp( testY ) - VALUE\n",
    "    pred   = np.exp( pred )  - VALUE"
   ]
  },
  {
   "cell_type": "markdown",
   "metadata": {},
   "source": [
    "### Calculate Performance on Testing set - Prediction visualization\n"
   ]
  },
  {
   "cell_type": "code",
   "execution_count": 34,
   "metadata": {},
   "outputs": [
    {
     "name": "stdout",
     "output_type": "stream",
     "text": [
      "[INFO] Feature:  CO\n",
      "------------------------------------------------\n",
      "    - \t    MAE 22.11 RMSE 33.73 SMAPE: 10.95 R2: 0.70\n",
      "\n",
      "Horizon:  1 MAE 16.39 RMSE 25.71 SMAPE:  8.00 R2: 0.83\n",
      "Horizon:  2 MAE 27.84 RMSE 40.18 SMAPE: 13.91 R2: 0.58\n"
     ]
    }
   ],
   "source": [
    "print('[INFO] Feature: ', args.targetSeries)\n",
    "print('------------------------------------------------')\n",
    "Prices = pd.DataFrame([])        \n",
    "\n",
    "Prices[ args.targetSeries ] = testY.flatten()\n",
    "Prices[ 'Prediction'      ] = pred.flatten()\n",
    "\n",
    "# Evaluation\n",
    "#\n",
    "MAE, RMSE, MAPE, SMAPE, R2 = RegressionEvaluation( Prices )\n",
    "\n",
    "print('    - \\t    MAE %5.2f RMSE %5.2f SMAPE: %5.2f R2: %.2f\\n' % (MAE, RMSE, SMAPE, R2) )\n",
    "\n",
    "Performance_Foresting_Model = {'RMSE': [], 'MAE': [], 'SMAPE': [], 'R2' : []}\n",
    "\n",
    "for i in range( args.Horizon ):\n",
    "\n",
    "    Prices = pd.DataFrame([])        \n",
    "\n",
    "    Prices[ args.targetSeries ] = testY[:,i]\n",
    "    Prices[ 'Prediction'      ] = pred[:,i]\n",
    "\n",
    "\n",
    "    # Evaluation\n",
    "    #\n",
    "    MAE, RMSE, MAPE, SMAPE, R2 = RegressionEvaluation( Prices )\n",
    "\n",
    "    # Store results\n",
    "    #\n",
    "    Performance_Foresting_Model['RMSE']    += [ RMSE    ]\n",
    "    Performance_Foresting_Model['MAE']     += [ MAE     ]\n",
    "    Performance_Foresting_Model['SMAPE']   += [ SMAPE   ]\n",
    "    Performance_Foresting_Model['R2']      += [ R2      ]\n",
    "\n",
    "    # Present results\n",
    "    #\n",
    "    print('Horizon: %2i MAE %5.2f RMSE %5.2f SMAPE: %5.2f R2: %.2f' % (i+1, MAE, RMSE, SMAPE, R2) )"
   ]
  },
  {
   "cell_type": "markdown",
   "metadata": {},
   "source": [
    "## Visualization"
   ]
  },
  {
   "cell_type": "code",
   "execution_count": 36,
   "metadata": {},
   "outputs": [
    {
     "data": {
      "image/png": "[encoded data removed]",
      "text/plain": [
       "<Figure size 1440x288 with 1 Axes>"
      ]
     },
     "metadata": {
      "needs_background": "light"
     },
     "output_type": "display_data"
    }
   ],
   "source": [
    "Prices = pd.DataFrame( [] )\n",
    "\n",
    "Prices[ args.targetSeries ] = testY.flatten()\n",
    "Prices[ 'Prediction'      ] = pred.flatten()\n",
    "\n",
    "\n",
    "# Plot results\n",
    "#\n",
    "plt.figure( figsize = (20, 4) );\n",
    "#\n",
    "Prices[ args.targetSeries ][:200].plot(color = 'tab:blue', marker = 'o')\n",
    "Prices[ 'Prediction'      ][:200].plot(color = 'tab:orange', marker = 'o')\n",
    "plt.show();\n"
   ]
  },
  {
   "cell_type": "markdown",
   "metadata": {},
   "source": [
    "### Examples"
   ]
  },
  {
   "cell_type": "code",
   "execution_count": 26,
   "metadata": {},
   "outputs": [
    {
     "data": {
      "image/png": "[encoded data removed]",
      "text/plain": [
       "<Figure size 1440x576 with 9 Axes>"
      ]
     },
     "metadata": {
      "needs_background": "light"
     },
     "output_type": "display_data"
    }
   ],
   "source": [
    "subplots = [331, 332, 333, 334, 335, 336,  337, 338, 339]\n",
    "plt.figure( figsize = (20, 8) )\n",
    "\n",
    "# Select random cases\n",
    "RandomInstances = [random.randint(1, testY.shape[0]) for i in range(0, 9)]\n",
    "# RandomInstances = [51, 44, 154, 53, 166, 13, 104, 102, 24]\n",
    "\n",
    "for plot_id, i in enumerate(RandomInstances):\n",
    "\n",
    "    plt.subplot(subplots[plot_id])\n",
    "    plt.grid()\n",
    "    plt.plot(testDate[i], testY[i], color = 'g', marker = 'o', linewidth = 2)\n",
    "    plt.plot(testDate[i], pred[i],  color = 'r', marker = 'o', linewidth = 2)\n",
    "    \n",
    "\n",
    "    \n",
    "    plt.legend(['Actual values', 'Prediction'], frameon = False, fontsize = 12)\n",
    "    plt.ylim([0, 260])\n",
    "    plt.xticks(rotation = 20)\n",
    "plt.show()"
   ]
  },
  {
   "cell_type": "code",
   "execution_count": null,
   "metadata": {},
   "outputs": [],
   "source": []
  }
 ],
 "metadata": {
  "kernelspec": {
   "display_name": "Python [conda env:.conda-dev_ili_pytorch]",
   "language": "python",
   "name": "conda-env-.conda-dev_ili_pytorch-py"
  },
  "language_info": {
   "codemirror_mode": {
    "name": "ipython",
    "version": 3
   },
   "file_extension": ".py",
   "mimetype": "text/x-python",
   "name": "python",
   "nbconvert_exporter": "python",
   "pygments_lexer": "ipython3",
   "version": "3.7.10"
  },
  "toc": {
   "base_numbering": 1,
   "nav_menu": {},
   "number_sections": true,
   "sideBar": true,
   "skip_h1_title": false,
   "title_cell": "Table of Contents",
   "title_sidebar": "Contents",
   "toc_cell": false,
   "toc_position": {
    "height": "calc(100% - 180px)",
    "left": "10px",
    "top": "150px",
    "width": "307.1875px"
   },
   "toc_section_display": true,
   "toc_window_display": true
  },
  "vscode": {
   "interpreter": {
    "hash": "3f87851f675c6afefcd51f967c1836fa00f505afe5b318b834b199856e321654"
   }
  }
 },
 "nbformat": 4,
 "nbformat_minor": 5
}
