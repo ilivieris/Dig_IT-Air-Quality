{
 "cells": [
  {
   "cell_type": "markdown",
   "metadata": {},
   "source": [
    "# Libraries"
   ]
  },
  {
   "cell_type": "code",
   "execution_count": 62,
   "metadata": {},
   "outputs": [],
   "source": [
    "import warnings\n",
    "warnings.filterwarnings( 'ignore' )"
   ]
  },
  {
   "cell_type": "markdown",
   "metadata": {},
   "source": [
    "## Import libraries"
   ]
  },
  {
   "cell_type": "code",
   "execution_count": 63,
   "metadata": {},
   "outputs": [],
   "source": [
    "# =-=-=-=-=-=-=-=-=-=-=-=-=-=-=-=-=-=-=-=-=-=-=-=-=-=-=-=-=-=-=-=-=-=-=-=-=-=\n",
    "# Basic libraries\n",
    "#\n",
    "import time\n",
    "import random\n",
    "import pandas    as pd\n",
    "import numpy     as np\n",
    "\n",
    "\n",
    "# =-=-=-=-=-=-=-=-=-=-=-=-=-=-=-=-=-=-=-=-=-=-=-=-=-=-=-=-=-=-=-=-=-=-=-=-=-=\n",
    "# Visualization library\n",
    "#\n",
    "import matplotlib.pyplot   as plt \n",
    "\n",
    "\n",
    "# =-=-=-=-=-=-=-=-=-=-=-=-=-=-=-=-=-=-=-=-=-=-=-=-=-=-=-=-=-=-=-=-=-=-=-=-=-=\n",
    "# Sklearn library\n",
    "#\n",
    "from sklearn.preprocessing import StandardScaler, MinMaxScaler, RobustScaler\n",
    "\n",
    "\n",
    "# =-=-=-=-=-=-=-=-=-=-=-=-=-=-=-=-=-=-=-=-=-=-=-=-=-=-=-=-=-=-=-=-=-=-=-=-=-=\n",
    "#\n",
    "# Torch libraries\n",
    "#\n",
    "import torch\n",
    "import torch.nn                     as nn\n",
    "import torch.nn.functional          as F\n",
    "from   torch.utils.data             import DataLoader\n",
    "from   torch.utils.data             import Dataset\n",
    "\n",
    "\n",
    "# =-=-=-=-=-=-=-=-=-=-=-=-=-=-=-=-=-=-=-=-=-=-=-=-=-=-=-=-=-=-=-=-=-=-=-=-=-=-=\n",
    "#\n",
    "# User libraries\n",
    "#\n",
    "from utils.PerformanceMetrics import RegressionEvaluation\n",
    "from utils.EarlyStopping      import *\n",
    "from utils.LRScheduler        import *\n",
    "#\n",
    "from utils.DLinear_utils      import *\n",
    "from models.DLinear.DLinear   import *"
   ]
  },
  {
   "cell_type": "markdown",
   "metadata": {},
   "source": [
    "# Parameters"
   ]
  },
  {
   "cell_type": "code",
   "execution_count": 64,
   "metadata": {},
   "outputs": [],
   "source": [
    "import random\n",
    "import os\n",
    "# Set seed\n",
    "#\n",
    "seed = 1999\n",
    "random.seed(seed)\n",
    "os.environ['PYTHONHASHSEED'] = str(seed)\n",
    "np.random.seed(seed)\n",
    "\n",
    "torch.manual_seed(seed)\n",
    "torch.cuda.manual_seed(seed)\n",
    "torch.backends.cudnn.deterministic = True"
   ]
  },
  {
   "cell_type": "markdown",
   "metadata": {},
   "source": [
    "## CUDA"
   ]
  },
  {
   "cell_type": "code",
   "execution_count": 65,
   "metadata": {},
   "outputs": [
    {
     "name": "stdout",
     "output_type": "stream",
     "text": [
      "[INFO] CUDA is not available\n"
     ]
    }
   ],
   "source": [
    "# device = torch.device( 'cpu' )\n",
    "try:\n",
    "    torch.cuda.init()\n",
    "\n",
    "    if (torch.cuda.is_available() == True):\n",
    "        print('[INFO] CUDA is available')\n",
    "\n",
    "        device = torch.device( 'cuda:0' )\n",
    "        print('[INFO] Device name: %s' % torch.cuda.get_device_name(0))\n",
    "\n",
    "    else:\n",
    "        print('[INFO] CUDA is not available')\n",
    "        device = torch.device( 'cpu' )\n",
    "except:\n",
    "    print('[INFO] CUDA is not available')\n",
    "    device = torch.device( 'cpu' )"
   ]
  },
  {
   "cell_type": "markdown",
   "metadata": {},
   "source": [
    "## Neural networks parameters"
   ]
  },
  {
   "cell_type": "code",
   "execution_count": 66,
   "metadata": {},
   "outputs": [],
   "source": [
    "class Parameters():\n",
    "    def __init__(self):\n",
    "        self.description = 'DLinear model for time-series forecasting'\n",
    "    \n",
    "        # =-=-=-=-=-=-=-=-=-=-=-=-=-=-=-=-=-=-=-=-=-=-=-=-=-=-=-=-=-=-=-=-=-=-=-=-=-=-=-=-=-=\n",
    "        # Neural network model parameters\n",
    "        #\n",
    "        # Input sequence length - look-back\n",
    "        self.Lag         = 12\n",
    "        # Prediction sequence length\n",
    "        self.Horizon     =  2\n",
    "        #\n",
    "        self.individual  = False\n",
    "        self.enc_in      =  2\n",
    "        self.kernel_size = 25\n",
    "        \n",
    "        # Training parameters\n",
    "        #\n",
    "        # Number of epochs\n",
    "        self.epochs        = 1000\n",
    "        # Batch size\n",
    "        self.batch_size    = 128\n",
    "        # Number of workers in DataLoader\n",
    "        self.num_workers   = 0\n",
    "        # Define verbose\n",
    "        self.verbose       = True\n",
    "        # Learning rate\n",
    "        self.learning_rate = 1e-4\n",
    "        # Weight decay\n",
    "        self.weight_decay  = 0.00001        \n",
    "        # Clip gradient\n",
    "        self.clip_grads      = False\n",
    "        # Norm for clip gradient                \n",
    "        self.clip_grads_norm = 0.5        \n",
    "        # Trained model path\n",
    "        self.model_path    = 'checkpoints/DLinear.pth'\n",
    "        \n",
    "        # Data handling\n",
    "        #\n",
    "        # Filename\n",
    "        self.filename              = '../../metadata/7-kanal-1.csv'\n",
    "        # Target series name \n",
    "        self.targetSeries          = 'CO'\n",
    "        # Data Log-transformation\n",
    "        self.Transformation        = True\n",
    "        # Scaling {'Standard', 'MinMax', 'Robust'}\n",
    "        self.Scaling               = 'Standard'\n",
    "        # Smoothing\n",
    "        self.Smoothing             = False\n",
    "        #\n",
    "        self.window_len  = 2        # [2, 10]\n",
    "        self.window_type = 'bartlett' # ['ones', 'hanning', 'hamming', 'bartlett', 'blackman']\n",
    "        # Data Augmentation\n",
    "        self.DataAugmentation = True\n",
    "        \n",
    "args = Parameters()"
   ]
  },
  {
   "cell_type": "markdown",
   "metadata": {},
   "source": [
    "# Data handling"
   ]
  },
  {
   "cell_type": "markdown",
   "metadata": {},
   "source": [
    "## Import data\n"
   ]
  },
  {
   "cell_type": "code",
   "execution_count": 67,
   "metadata": {},
   "outputs": [
    {
     "name": "stdout",
     "output_type": "stream",
     "text": [
      "[INFO] Data imported\n",
      "[INFO] Time: 0.39 seconds\n"
     ]
    },
    {
     "data": {
      "text/html": [
       "<div>\n",
       "<style scoped>\n",
       "    .dataframe tbody tr th:only-of-type {\n",
       "        vertical-align: middle;\n",
       "    }\n",
       "\n",
       "    .dataframe tbody tr th {\n",
       "        vertical-align: top;\n",
       "    }\n",
       "\n",
       "    .dataframe thead th {\n",
       "        text-align: right;\n",
       "    }\n",
       "</style>\n",
       "<table border=\"1\" class=\"dataframe\">\n",
       "  <thead>\n",
       "    <tr style=\"text-align: right;\">\n",
       "      <th></th>\n",
       "      <th>Date</th>\n",
       "      <th>Temperature</th>\n",
       "      <th>Humidity</th>\n",
       "      <th>PM2.5</th>\n",
       "      <th>PM10</th>\n",
       "      <th>NO2</th>\n",
       "      <th>CO</th>\n",
       "    </tr>\n",
       "  </thead>\n",
       "  <tbody>\n",
       "    <tr>\n",
       "      <th>0</th>\n",
       "      <td>2022-02-19 00:00:09</td>\n",
       "      <td>-2.4</td>\n",
       "      <td>86.0</td>\n",
       "      <td>2.7</td>\n",
       "      <td>4.9</td>\n",
       "      <td>212.0</td>\n",
       "      <td>263.0</td>\n",
       "    </tr>\n",
       "    <tr>\n",
       "      <th>1</th>\n",
       "      <td>2022-02-19 00:00:25</td>\n",
       "      <td>-2.4</td>\n",
       "      <td>86.0</td>\n",
       "      <td>2.7</td>\n",
       "      <td>7.6</td>\n",
       "      <td>209.0</td>\n",
       "      <td>261.0</td>\n",
       "    </tr>\n",
       "    <tr>\n",
       "      <th>2</th>\n",
       "      <td>2022-02-19 00:00:41</td>\n",
       "      <td>-2.4</td>\n",
       "      <td>86.0</td>\n",
       "      <td>2.6</td>\n",
       "      <td>7.3</td>\n",
       "      <td>204.0</td>\n",
       "      <td>258.0</td>\n",
       "    </tr>\n",
       "  </tbody>\n",
       "</table>\n",
       "</div>"
      ],
      "text/plain": [
       "                  Date  Temperature  Humidity  PM2.5  PM10    NO2     CO\n",
       "0  2022-02-19 00:00:09         -2.4      86.0    2.7   4.9  212.0  263.0\n",
       "1  2022-02-19 00:00:25         -2.4      86.0    2.7   7.6  209.0  261.0\n",
       "2  2022-02-19 00:00:41         -2.4      86.0    2.6   7.3  204.0  258.0"
      ]
     },
     "execution_count": 67,
     "metadata": {},
     "output_type": "execute_result"
    }
   ],
   "source": [
    "# Start timer\n",
    "#\n",
    "start = time.time()\n",
    "\n",
    "# Load data\n",
    "#\n",
    "df = pd.read_csv( args.filename )\n",
    "\n",
    "\n",
    "print('[INFO] Data imported')\n",
    "print('[INFO] Time: %.2f seconds' % (time.time() - start))\n",
    "\n",
    "df.head( 3 )"
   ]
  },
  {
   "cell_type": "markdown",
   "metadata": {},
   "source": [
    "## Preprocess data"
   ]
  },
  {
   "cell_type": "markdown",
   "metadata": {},
   "source": [
    "### Set index"
   ]
  },
  {
   "cell_type": "code",
   "execution_count": 68,
   "metadata": {},
   "outputs": [
    {
     "data": {
      "text/html": [
       "<div>\n",
       "<style scoped>\n",
       "    .dataframe tbody tr th:only-of-type {\n",
       "        vertical-align: middle;\n",
       "    }\n",
       "\n",
       "    .dataframe tbody tr th {\n",
       "        vertical-align: top;\n",
       "    }\n",
       "\n",
       "    .dataframe thead th {\n",
       "        text-align: right;\n",
       "    }\n",
       "</style>\n",
       "<table border=\"1\" class=\"dataframe\">\n",
       "  <thead>\n",
       "    <tr style=\"text-align: right;\">\n",
       "      <th></th>\n",
       "      <th>CO</th>\n",
       "    </tr>\n",
       "    <tr>\n",
       "      <th>Date</th>\n",
       "      <th></th>\n",
       "    </tr>\n",
       "  </thead>\n",
       "  <tbody>\n",
       "    <tr>\n",
       "      <th>2022-02-19 00:00:00</th>\n",
       "      <td>240.710526</td>\n",
       "    </tr>\n",
       "    <tr>\n",
       "      <th>2022-02-19 00:10:00</th>\n",
       "      <td>227.473684</td>\n",
       "    </tr>\n",
       "    <tr>\n",
       "      <th>2022-02-19 00:20:00</th>\n",
       "      <td>229.526316</td>\n",
       "    </tr>\n",
       "  </tbody>\n",
       "</table>\n",
       "</div>"
      ],
      "text/plain": [
       "                             CO\n",
       "Date                           \n",
       "2022-02-19 00:00:00  240.710526\n",
       "2022-02-19 00:10:00  227.473684\n",
       "2022-02-19 00:20:00  229.526316"
      ]
     },
     "execution_count": 68,
     "metadata": {},
     "output_type": "execute_result"
    }
   ],
   "source": [
    "# Convert Date to 'datetime64'\n",
    "#\n",
    "df['Date'] = df['Date'].astype('datetime64')\n",
    "\n",
    "# Set index\n",
    "#\n",
    "df.set_index('Date', inplace=True)\n",
    "\n",
    "# Resample Dataset\n",
    "#\n",
    "df = df.resample('10min').mean()\n",
    "\n",
    "\n",
    "# Keep only selected time-series\n",
    "#\n",
    "df = pd.DataFrame( df[ [ args.targetSeries ] ] )\n",
    "\n",
    "\n",
    "df.head( 3 )"
   ]
  },
  {
   "cell_type": "markdown",
   "metadata": {},
   "source": [
    "### Split Training/Testing"
   ]
  },
  {
   "cell_type": "code",
   "execution_count": 69,
   "metadata": {},
   "outputs": [],
   "source": [
    "idx = int( df.shape[0] * 0.8 )\n",
    "\n",
    "df_train = df[ :idx ] \n",
    "df_test  = df[ idx: ] "
   ]
  },
  {
   "cell_type": "markdown",
   "metadata": {},
   "source": [
    "### Visualization"
   ]
  },
  {
   "cell_type": "code",
   "execution_count": 70,
   "metadata": {},
   "outputs": [
    {
     "data": {
      "image/png": "[encoded data removed]",
      "text/plain": [
       "<Figure size 1440x216 with 1 Axes>"
      ]
     },
     "metadata": {
      "needs_background": "light"
     },
     "output_type": "display_data"
    }
   ],
   "source": [
    "fig, ax = plt.subplots(nrows = 1, ncols = 1, figsize=(20, 3) )\n",
    "\n",
    "df_train[ args.targetSeries ].plot(ax=ax, color='tab:blue' )\n",
    "df_test[ args.targetSeries ].plot(ax=ax,  color='tab:orange')\n",
    "\n",
    "plt.legend(['Training', 'Testing'], frameon = False, fontsize = 14)\n",
    "plt.ylabel(args.targetSeries, size = 14)\n",
    "plt.xlabel('Date', size = 14);\n",
    "plt.xticks(size = 12);\n",
    "plt.yticks(size = 12);"
   ]
  },
  {
   "cell_type": "markdown",
   "metadata": {},
   "source": [
    "### Fix Lag"
   ]
  },
  {
   "cell_type": "code",
   "execution_count": 71,
   "metadata": {},
   "outputs": [],
   "source": [
    "df_test = pd.concat([df_train.iloc[-args.Lag:], df_test])"
   ]
  },
  {
   "cell_type": "markdown",
   "metadata": {},
   "source": [
    "## Preprocessing"
   ]
  },
  {
   "cell_type": "markdown",
   "metadata": {},
   "source": [
    "### Data Transformation"
   ]
  },
  {
   "cell_type": "code",
   "execution_count": 72,
   "metadata": {},
   "outputs": [
    {
     "name": "stdout",
     "output_type": "stream",
     "text": [
      "[INFO] Data transformation applied\n"
     ]
    }
   ],
   "source": [
    "if (args.Transformation == True):\n",
    "    \n",
    "    print('[INFO] Data transformation applied')\n",
    "    \n",
    "    VALUE = np.ceil( max(abs( -df.min().min() ), 1.0) )\n",
    "    \n",
    "    df_train  = np.log( df_train + VALUE)\n",
    "    df_test   = np.log( df_test  + VALUE)\n",
    "    \n",
    "else:\n",
    "    print('[INFO] No data transformation applied.')  "
   ]
  },
  {
   "cell_type": "markdown",
   "metadata": {},
   "source": [
    "### Scaling"
   ]
  },
  {
   "cell_type": "code",
   "execution_count": 73,
   "metadata": {},
   "outputs": [
    {
     "name": "stdout",
     "output_type": "stream",
     "text": [
      "[INFO] Scaling: Standard\n"
     ]
    }
   ],
   "source": [
    "if (args.Scaling == 'MinMax'):\n",
    "    print('[INFO] Scaling: MinMax')\n",
    "    \n",
    "       \n",
    "    # Scaling of Target Series\n",
    "    #\n",
    "    scaler = MinMaxScaler()\n",
    "    df_train[ args.targetSeries ] = scaler.fit_transform( df_train[  args.targetSeries  ].to_numpy().reshape(-1,1) )\n",
    "    df_test[ args.targetSeries ]  = scaler.transform( df_test[  args.targetSeries  ].to_numpy().reshape(-1,1) )\n",
    "            \n",
    "elif (args.Scaling == 'Robust'):\n",
    "    print('[INFO] Scaling: Robust')\n",
    "    \n",
    "       \n",
    "    # Scaling of Target Series\n",
    "    #\n",
    "    scaler = RobustScaler()\n",
    "    df_train[ args.targetSeries ] = scaler.fit_transform( df_train[  args.targetSeries  ].to_numpy().reshape(-1,1) )\n",
    "    df_test[ args.targetSeries ]  = scaler.transform( df_test[  args.targetSeries  ].to_numpy().reshape(-1,1) )\n",
    "        \n",
    "elif (args.Scaling == 'Standard'):\n",
    "    print('[INFO] Scaling: Standard')\n",
    "\n",
    "        \n",
    "    # Scaling of Target Series\n",
    "    #\n",
    "    scaler = StandardScaler()\n",
    "\n",
    "    df_train[ args.targetSeries ] = scaler.fit_transform( df_train[  args.targetSeries  ].to_numpy().reshape(-1,1) )\n",
    "    df_test[ args.targetSeries ]  = scaler.transform( df_test[  args.targetSeries  ].to_numpy().reshape(-1,1) )             \n",
    "    \n",
    "else:\n",
    "    print('[WARNING] Unknown data scaling. Standar scaling was selected')   "
   ]
  },
  {
   "cell_type": "markdown",
   "metadata": {},
   "source": [
    "## Create Training/Testing data"
   ]
  },
  {
   "cell_type": "code",
   "execution_count": 74,
   "metadata": {},
   "outputs": [
    {
     "name": "stderr",
     "output_type": "stream",
     "text": [
      "100%|██████████| 4273/4273 [00:00<00:00, 8476.73it/s]\n",
      "100%|██████████| 1070/1070 [00:00<00:00, 8244.72it/s]"
     ]
    },
    {
     "name": "stdout",
     "output_type": "stream",
     "text": [
      "Training data shape:    (3845, 12, 1) (3845, 2)\n",
      "Validation data shape:  (428, 12, 1) (428, 2)\n",
      "Testing data shape:     (1070, 12, 1) (1070, 2)\n"
     ]
    },
    {
     "name": "stderr",
     "output_type": "stream",
     "text": [
      "\n"
     ]
    }
   ],
   "source": [
    "trainX, trainY, trainTime  = create_dataset(df           = df_train, \n",
    "                                            Lag          = args.Lag, \n",
    "                                            Horizon      = args.Horizon, \n",
    "                                            targetSeries = args.targetSeries,\n",
    "                                            overlap      = args.Horizon,)\n",
    "\n",
    "\n",
    "testX,  testY, testDate,   = create_dataset(df           = df_test, \n",
    "                                            Lag          = args.Lag, \n",
    "                                            Horizon      = args.Horizon, \n",
    "                                            targetSeries = args.targetSeries,\n",
    "                                            overlap      = args.Horizon,)\n",
    "\n",
    "\n",
    "\n",
    "# # Last 10% of the training data will be used for validation\n",
    "# #\n",
    "idx = int(0.9 * trainX.shape[0])\n",
    "validX, validY, validTime = trainX[ idx: ], trainY[ idx: ], trainTime[ idx: ]\n",
    "trainX, trainY, trainTime = trainX[ :idx ], trainY[ :idx ], trainTime[ :idx ]\n",
    "\n",
    "print('Training data shape:   ', trainX.shape, trainY.shape)\n",
    "print('Validation data shape: ', validX.shape, validY.shape)\n",
    "print('Testing data shape:    ', testX.shape,  testY.shape)"
   ]
  },
  {
   "cell_type": "markdown",
   "metadata": {},
   "source": [
    "## Data augmentation"
   ]
  },
  {
   "cell_type": "markdown",
   "metadata": {},
   "source": [
    "### Part I"
   ]
  },
  {
   "cell_type": "code",
   "execution_count": 75,
   "metadata": {},
   "outputs": [],
   "source": [
    "# X = []\n",
    "# for i in tqdm( range(trainX.shape[0]) ):\n",
    "#     Instance = trainX[i]\n",
    "    \n",
    "#     X.append( np.concatenate([Instance[24:48], Instance[0:24], Instance[48:]], axis = 0) )\n",
    "    \n",
    "\n",
    "# for i in tqdm( range(trainX.shape[0]) ):\n",
    "#     Instance = trainX[i]\n",
    "    \n",
    "#     X.append( np.concatenate([Instance[48:], Instance[:48]], axis = 0) )\n",
    "    \n",
    "# # Convert to ndarray\n",
    "# X = np.array( X )\n",
    "\n",
    "\n",
    "# #\n",
    "# trainX     = np.concatenate( [trainX, X], axis = 0)\n",
    "# trainY     = np.concatenate( [trainY, trainY, trainY], axis = 0)"
   ]
  },
  {
   "cell_type": "markdown",
   "metadata": {},
   "source": [
    "### Part II"
   ]
  },
  {
   "cell_type": "code",
   "execution_count": 76,
   "metadata": {},
   "outputs": [
    {
     "name": "stdout",
     "output_type": "stream",
     "text": [
      "[INFO] Data Augmentation using Smoothing (ConvolutionSmoother) is setup\n"
     ]
    },
    {
     "name": "stderr",
     "output_type": "stream",
     "text": [
      "100%|██████████| 4273/4273 [00:00<00:00, 8319.13it/s]\n",
      "100%|██████████| 4273/4273 [00:00<00:00, 7523.56it/s]\n"
     ]
    }
   ],
   "source": [
    "if ( args.DataAugmentation ):\n",
    "    augmentation = DataAugmentation( df_train, args )\n",
    "\n",
    "\n",
    "    X , Y = augmentation.createInstances(3, 'hamming')\n",
    "\n",
    "    # Concatenate with training data\n",
    "    #\n",
    "    trainX     = np.concatenate( [trainX, X], axis = 0)\n",
    "    trainY     = np.concatenate( [trainY, Y], axis = 0)\n",
    "\n",
    "\n",
    "    X , Y = augmentation.createInstances(5, 'hamming')\n",
    "\n",
    "    # Concatenate with training data\n",
    "    #\n",
    "    trainX     = np.concatenate( [trainX, X], axis = 0)\n",
    "    trainY     = np.concatenate( [trainY, Y], axis = 0)    "
   ]
  },
  {
   "cell_type": "markdown",
   "metadata": {},
   "source": [
    "## Create DataLoader"
   ]
  },
  {
   "cell_type": "code",
   "execution_count": 77,
   "metadata": {},
   "outputs": [
    {
     "name": "stdout",
     "output_type": "stream",
     "text": [
      "[INFO] Data loaders were created\n"
     ]
    }
   ],
   "source": [
    "class Data( Dataset ):\n",
    "    def __init__(self, X, Y):\n",
    "        self.X    = X\n",
    "        self.Y    = Y\n",
    "\n",
    "    def __len__(self):\n",
    "        return len(self.Y)\n",
    "    \n",
    "    def __getitem__(self, idx):\n",
    "        return self.X[ idx ], self.Y[ idx ]\n",
    "    \n",
    "\n",
    "    \n",
    "# Create training and test dataloaders\n",
    "#\n",
    "train_ds = Data(trainX, trainY)\n",
    "valid_ds = Data(validX, validY)\n",
    "test_ds  = Data(testX,  testY )\n",
    "\n",
    "\n",
    "# Prepare Data-Loaders\n",
    "#\n",
    "train_dl = DataLoader(train_ds, batch_size = args.batch_size, num_workers = args.num_workers, shuffle = True)\n",
    "valid_dl = DataLoader(valid_ds, batch_size = args.batch_size, num_workers = args.num_workers, shuffle = True)\n",
    "test_dl  = DataLoader(test_ds,  batch_size = args.batch_size, num_workers = args.num_workers, shuffle = False)\n",
    "#\n",
    "print('[INFO] Data loaders were created')"
   ]
  },
  {
   "cell_type": "markdown",
   "metadata": {},
   "source": [
    "# Forecasting model: DLinear"
   ]
  },
  {
   "cell_type": "markdown",
   "metadata": {},
   "source": [
    "## Setup model"
   ]
  },
  {
   "cell_type": "code",
   "execution_count": 78,
   "metadata": {},
   "outputs": [
    {
     "name": "stdout",
     "output_type": "stream",
     "text": [
      "DLinear(\n",
      "  (decompsition): series_decomp(\n",
      "    (moving_avg): moving_avg(\n",
      "      (avg): AvgPool1d(kernel_size=(25,), stride=(1,), padding=(0,))\n",
      "    )\n",
      "  )\n",
      "  (Linear_Seasonal): Linear(in_features=12, out_features=2, bias=True)\n",
      "  (Linear_Trend): Linear(in_features=12, out_features=2, bias=True)\n",
      "  (Linear_Decoder): Linear(in_features=12, out_features=2, bias=True)\n",
      ")\n"
     ]
    }
   ],
   "source": [
    "# Initialize Neural Network\n",
    "# \n",
    "model = DLinear( args )\n",
    "\n",
    "model.to( device )\n",
    "\n",
    "\n",
    "print( model )"
   ]
  },
  {
   "cell_type": "markdown",
   "metadata": {},
   "source": [
    "## Training parameters"
   ]
  },
  {
   "cell_type": "code",
   "execution_count": 79,
   "metadata": {},
   "outputs": [],
   "source": [
    "# Specify loss function\n",
    "#\n",
    "criterion = nn.MSELoss()\n",
    "# criterion = nn.L1Loss()\n",
    "\n",
    "\n",
    "# Specify loss function\n",
    "#\n",
    "optimizer = torch.optim.Adam(params       = model.parameters(), \n",
    "                             lr           = args.learning_rate,\n",
    "                             weight_decay = args.weight_decay)\n",
    "\n",
    "\n",
    "# Early stopping\n",
    "#\n",
    "early_stopping = EarlyStopping(patience  = 50,\n",
    "                               min_delta = 1.0e-5)\n",
    "\n",
    "\n",
    "# LR scheduler\n",
    "#\n",
    "scheduler = LRScheduler(optimizer = optimizer, \n",
    "                        patience  = 10, \n",
    "                        min_lr    = 1e-10, \n",
    "                        factor    = 0.5, \n",
    "                        verbose   = args.verbose)"
   ]
  },
  {
   "cell_type": "markdown",
   "metadata": {},
   "source": [
    "## Training process"
   ]
  },
  {
   "cell_type": "code",
   "execution_count": 80,
   "metadata": {
    "scrolled": true
   },
   "outputs": [
    {
     "name": "stdout",
     "output_type": "stream",
     "text": [
      "[INFO] Epoch:   1 Train Loss: 0.543034\tValid Loss: 0.207511 \tTime: 0.21secs (Model saved)\n",
      "[INFO] Epoch:   2 Train Loss: 0.501486\tValid Loss: 0.193401 \tTime: 0.20secs (Model saved)\n",
      "[INFO] Epoch:   3 Train Loss: 0.465522\tValid Loss: 0.180874 \tTime: 0.20secs (Model saved)\n",
      "[INFO] Epoch:   4 Train Loss: 0.433496\tValid Loss: 0.169617 \tTime: 0.18secs (Model saved)\n",
      "[INFO] Epoch:   5 Train Loss: 0.404856\tValid Loss: 0.159615 \tTime: 0.23secs (Model saved)\n",
      "[INFO] Epoch:   6 Train Loss: 0.379291\tValid Loss: 0.150654 \tTime: 0.23secs (Model saved)\n",
      "[INFO] Epoch:   7 Train Loss: 0.356348\tValid Loss: 0.142636 \tTime: 0.19secs (Model saved)\n",
      "[INFO] Epoch:   8 Train Loss: 0.335783\tValid Loss: 0.135515 \tTime: 0.23secs (Model saved)\n",
      "[INFO] Epoch:   9 Train Loss: 0.317401\tValid Loss: 0.129159 \tTime: 0.21secs (Model saved)\n",
      "[INFO] Epoch:  10 Train Loss: 0.300993\tValid Loss: 0.123476 \tTime: 0.22secs (Model saved)\n",
      "[INFO] Epoch:  11 Train Loss: 0.286384\tValid Loss: 0.118503 \tTime: 0.27secs (Model saved)\n",
      "[INFO] Epoch:  12 Train Loss: 0.273395\tValid Loss: 0.114083 \tTime: 0.23secs (Model saved)\n",
      "[INFO] Epoch:  13 Train Loss: 0.261896\tValid Loss: 0.110174 \tTime: 0.20secs (Model saved)\n",
      "[INFO] Epoch:  14 Train Loss: 0.251647\tValid Loss: 0.106741 \tTime: 0.19secs (Model saved)\n",
      "[INFO] Epoch:  15 Train Loss: 0.242578\tValid Loss: 0.103651 \tTime: 0.25secs (Model saved)\n",
      "[INFO] Epoch:  16 Train Loss: 0.234542\tValid Loss: 0.100953 \tTime: 0.27secs (Model saved)\n",
      "[INFO] Epoch:  17 Train Loss: 0.227431\tValid Loss: 0.098544 \tTime: 0.26secs (Model saved)\n",
      "[INFO] Epoch:  18 Train Loss: 0.221159\tValid Loss: 0.096425 \tTime: 0.25secs (Model saved)\n",
      "[INFO] Epoch:  19 Train Loss: 0.215558\tValid Loss: 0.094540 \tTime: 0.18secs (Model saved)\n",
      "[INFO] Epoch:  20 Train Loss: 0.210612\tValid Loss: 0.092826 \tTime: 0.18secs (Model saved)\n",
      "[INFO] Epoch:  21 Train Loss: 0.206175\tValid Loss: 0.091311 \tTime: 0.19secs (Model saved)\n",
      "[INFO] Epoch:  22 Train Loss: 0.202215\tValid Loss: 0.089961 \tTime: 0.28secs (Model saved)\n",
      "[INFO] Epoch:  23 Train Loss: 0.198657\tValid Loss: 0.088676 \tTime: 0.24secs (Model saved)\n",
      "[INFO] Epoch:  24 Train Loss: 0.195430\tValid Loss: 0.087501 \tTime: 0.26secs (Model saved)\n",
      "[INFO] Epoch:  25 Train Loss: 0.192497\tValid Loss: 0.086434 \tTime: 0.24secs (Model saved)\n",
      "[INFO] Epoch:  26 Train Loss: 0.189840\tValid Loss: 0.085432 \tTime: 0.26secs (Model saved)\n",
      "[INFO] Epoch:  27 Train Loss: 0.187390\tValid Loss: 0.084527 \tTime: 0.25secs (Model saved)\n",
      "[INFO] Epoch:  28 Train Loss: 0.185122\tValid Loss: 0.083622 \tTime: 0.23secs (Model saved)\n",
      "[INFO] Epoch:  29 Train Loss: 0.183052\tValid Loss: 0.082809 \tTime: 0.18secs (Model saved)\n",
      "[INFO] Epoch:  30 Train Loss: 0.181121\tValid Loss: 0.082044 \tTime: 0.18secs (Model saved)\n",
      "[INFO] Epoch:  31 Train Loss: 0.179340\tValid Loss: 0.081320 \tTime: 0.17secs (Model saved)\n",
      "[INFO] Epoch:  32 Train Loss: 0.177691\tValid Loss: 0.080646 \tTime: 0.18secs (Model saved)\n",
      "[INFO] Epoch:  33 Train Loss: 0.176144\tValid Loss: 0.079974 \tTime: 0.18secs (Model saved)\n",
      "[INFO] Epoch:  34 Train Loss: 0.174703\tValid Loss: 0.079405 \tTime: 0.18secs (Model saved)\n",
      "[INFO] Epoch:  35 Train Loss: 0.173359\tValid Loss: 0.078791 \tTime: 0.18secs (Model saved)\n",
      "[INFO] Epoch:  36 Train Loss: 0.172119\tValid Loss: 0.078253 \tTime: 0.18secs (Model saved)\n",
      "[INFO] Epoch:  37 Train Loss: 0.170952\tValid Loss: 0.077756 \tTime: 0.17secs (Model saved)\n",
      "[INFO] Epoch:  38 Train Loss: 0.169861\tValid Loss: 0.077293 \tTime: 0.19secs (Model saved)\n",
      "[INFO] Epoch:  39 Train Loss: 0.168864\tValid Loss: 0.076838 \tTime: 0.18secs (Model saved)\n",
      "[INFO] Epoch:  40 Train Loss: 0.167899\tValid Loss: 0.076452 \tTime: 0.18secs (Model saved)\n",
      "[INFO] Epoch:  41 Train Loss: 0.167028\tValid Loss: 0.076052 \tTime: 0.18secs (Model saved)\n",
      "[INFO] Epoch:  42 Train Loss: 0.166202\tValid Loss: 0.075692 \tTime: 0.18secs (Model saved)\n",
      "[INFO] Epoch:  43 Train Loss: 0.165435\tValid Loss: 0.075332 \tTime: 0.18secs (Model saved)\n",
      "[INFO] Epoch:  44 Train Loss: 0.164708\tValid Loss: 0.074986 \tTime: 0.18secs (Model saved)\n",
      "[INFO] Epoch:  45 Train Loss: 0.164020\tValid Loss: 0.074698 \tTime: 0.17secs (Model saved)\n",
      "[INFO] Epoch:  46 Train Loss: 0.163388\tValid Loss: 0.074394 \tTime: 0.18secs (Model saved)\n",
      "[INFO] Epoch:  47 Train Loss: 0.162792\tValid Loss: 0.074110 \tTime: 0.18secs (Model saved)\n",
      "[INFO] Epoch:  48 Train Loss: 0.162223\tValid Loss: 0.073873 \tTime: 0.18secs (Model saved)\n",
      "[INFO] Epoch:  49 Train Loss: 0.161682\tValid Loss: 0.073631 \tTime: 0.18secs (Model saved)\n",
      "[INFO] Epoch:  50 Train Loss: 0.161193\tValid Loss: 0.073380 \tTime: 0.18secs (Model saved)\n",
      "[INFO] Epoch:  51 Train Loss: 0.160702\tValid Loss: 0.073192 \tTime: 0.18secs (Model saved)\n",
      "[INFO] Epoch:  52 Train Loss: 0.160251\tValid Loss: 0.073024 \tTime: 0.18secs (Model saved)\n",
      "[INFO] Epoch:  53 Train Loss: 0.159815\tValid Loss: 0.072773 \tTime: 0.18secs (Model saved)\n",
      "[INFO] Epoch:  54 Train Loss: 0.159414\tValid Loss: 0.072583 \tTime: 0.18secs (Model saved)\n",
      "[INFO] Epoch:  55 Train Loss: 0.159011\tValid Loss: 0.072437 \tTime: 0.18secs (Model saved)\n",
      "[INFO] Epoch:  56 Train Loss: 0.158625\tValid Loss: 0.072270 \tTime: 0.18secs (Model saved)\n",
      "[INFO] Epoch:  57 Train Loss: 0.158271\tValid Loss: 0.072064 \tTime: 0.18secs (Model saved)\n",
      "[INFO] Epoch:  58 Train Loss: 0.157945\tValid Loss: 0.071910 \tTime: 0.18secs (Model saved)\n",
      "[INFO] Epoch:  59 Train Loss: 0.157596\tValid Loss: 0.071785 \tTime: 0.19secs (Model saved)\n",
      "[INFO] Epoch:  60 Train Loss: 0.157293\tValid Loss: 0.071640 \tTime: 0.19secs (Model saved)\n",
      "[INFO] Epoch:  61 Train Loss: 0.156978\tValid Loss: 0.071507 \tTime: 0.18secs (Model saved)\n",
      "[INFO] Epoch:  62 Train Loss: 0.156678\tValid Loss: 0.071384 \tTime: 0.20secs (Model saved)\n",
      "[INFO] Epoch:  63 Train Loss: 0.156405\tValid Loss: 0.071311 \tTime: 0.20secs (Model saved)\n",
      "[INFO] Epoch:  64 Train Loss: 0.156134\tValid Loss: 0.071178 \tTime: 0.18secs (Model saved)\n",
      "[INFO] Epoch:  65 Train Loss: 0.155863\tValid Loss: 0.071065 \tTime: 0.18secs (Model saved)\n",
      "[INFO] Epoch:  66 Train Loss: 0.155609\tValid Loss: 0.070929 \tTime: 0.18secs (Model saved)\n",
      "[INFO] Epoch:  67 Train Loss: 0.155375\tValid Loss: 0.070833 \tTime: 0.18secs (Model saved)\n",
      "[INFO] Epoch:  68 Train Loss: 0.155148\tValid Loss: 0.070722 \tTime: 0.18secs (Model saved)\n",
      "[INFO] Epoch:  69 Train Loss: 0.154914\tValid Loss: 0.070648 \tTime: 0.18secs (Model saved)\n",
      "[INFO] Epoch:  70 Train Loss: 0.154706\tValid Loss: 0.070566 \tTime: 0.18secs (Model saved)\n",
      "[INFO] Epoch:  71 Train Loss: 0.154483\tValid Loss: 0.070495 \tTime: 0.18secs (Model saved)\n",
      "[INFO] Epoch:  72 Train Loss: 0.154290\tValid Loss: 0.070506 \tTime: 0.18secs \n",
      "[INFO] Epoch:  73 Train Loss: 0.154101\tValid Loss: 0.070353 \tTime: 0.18secs (Model saved)\n",
      "[INFO] Epoch:  74 Train Loss: 0.153890\tValid Loss: 0.070264 \tTime: 0.18secs (Model saved)\n",
      "[INFO] Epoch:  75 Train Loss: 0.153726\tValid Loss: 0.070306 \tTime: 0.18secs \n",
      "[INFO] Epoch:  76 Train Loss: 0.153525\tValid Loss: 0.070142 \tTime: 0.18secs (Model saved)\n",
      "[INFO] Epoch:  77 Train Loss: 0.153365\tValid Loss: 0.070082 \tTime: 0.18secs (Model saved)\n",
      "[INFO] Epoch:  78 Train Loss: 0.153188\tValid Loss: 0.070095 \tTime: 0.18secs \n",
      "[INFO] Epoch:  79 Train Loss: 0.153015\tValid Loss: 0.069983 \tTime: 0.18secs (Model saved)\n",
      "[INFO] Epoch:  80 Train Loss: 0.152869\tValid Loss: 0.069952 \tTime: 0.18secs (Model saved)\n",
      "[INFO] Epoch:  81 Train Loss: 0.152700\tValid Loss: 0.069909 \tTime: 0.18secs (Model saved)\n",
      "[INFO] Epoch:  82 Train Loss: 0.152557\tValid Loss: 0.069838 \tTime: 0.18secs (Model saved)\n",
      "[INFO] Epoch:  83 Train Loss: 0.152415\tValid Loss: 0.069824 \tTime: 0.18secs (Model saved)\n",
      "[INFO] Epoch:  84 Train Loss: 0.152281\tValid Loss: 0.069827 \tTime: 0.17secs \n",
      "[INFO] Epoch:  85 Train Loss: 0.152111\tValid Loss: 0.069676 \tTime: 0.18secs (Model saved)\n",
      "[INFO] Epoch:  86 Train Loss: 0.152017\tValid Loss: 0.069680 \tTime: 0.18secs \n",
      "[INFO] Epoch:  87 Train Loss: 0.151864\tValid Loss: 0.069628 \tTime: 0.18secs (Model saved)\n",
      "[INFO] Epoch:  88 Train Loss: 0.151732\tValid Loss: 0.069612 \tTime: 0.20secs (Model saved)\n",
      "[INFO] Epoch:  89 Train Loss: 0.151608\tValid Loss: 0.069581 \tTime: 0.18secs (Model saved)\n",
      "[INFO] Epoch:  90 Train Loss: 0.151471\tValid Loss: 0.069557 \tTime: 0.18secs (Model saved)\n",
      "[INFO] Epoch:  91 Train Loss: 0.151359\tValid Loss: 0.069564 \tTime: 0.18secs \n",
      "[INFO] Epoch:  92 Train Loss: 0.151246\tValid Loss: 0.069514 \tTime: 0.18secs (Model saved)\n",
      "[INFO] Epoch:  93 Train Loss: 0.151154\tValid Loss: 0.069491 \tTime: 0.18secs (Model saved)\n",
      "[INFO] Epoch:  94 Train Loss: 0.151013\tValid Loss: 0.069430 \tTime: 0.17secs (Model saved)\n",
      "[INFO] Epoch:  95 Train Loss: 0.150907\tValid Loss: 0.069457 \tTime: 0.18secs \n",
      "[INFO] Epoch:  96 Train Loss: 0.150810\tValid Loss: 0.069442 \tTime: 0.18secs \n",
      "[INFO] Epoch:  97 Train Loss: 0.150713\tValid Loss: 0.069382 \tTime: 0.18secs (Model saved)\n",
      "[INFO] Epoch:  98 Train Loss: 0.150620\tValid Loss: 0.069388 \tTime: 0.18secs \n",
      "[INFO] Epoch:  99 Train Loss: 0.150513\tValid Loss: 0.069388 \tTime: 0.18secs \n",
      "[INFO] Epoch: 100 Train Loss: 0.150414\tValid Loss: 0.069339 \tTime: 0.18secs (Model saved)\n",
      "[INFO] Epoch: 101 Train Loss: 0.150315\tValid Loss: 0.069394 \tTime: 0.18secs \n",
      "[INFO] Epoch: 102 Train Loss: 0.150243\tValid Loss: 0.069333 \tTime: 0.17secs (Model saved)\n",
      "[INFO] Epoch: 103 Train Loss: 0.150157\tValid Loss: 0.069345 \tTime: 0.18secs \n",
      "[INFO] Epoch: 104 Train Loss: 0.150061\tValid Loss: 0.069334 \tTime: 0.18secs \n",
      "[INFO] Epoch: 105 Train Loss: 0.149981\tValid Loss: 0.069349 \tTime: 0.18secs \n",
      "[INFO] Epoch: 106 Train Loss: 0.149901\tValid Loss: 0.069347 \tTime: 0.18secs \n",
      "[INFO] Epoch: 107 Train Loss: 0.149829\tValid Loss: 0.069369 \tTime: 0.18secs \n",
      "[INFO] Epoch: 108 Train Loss: 0.149734\tValid Loss: 0.069312 \tTime: 0.18secs (Model saved)\n",
      "[INFO] Epoch: 109 Train Loss: 0.149699\tValid Loss: 0.069312 \tTime: 0.18secs \n",
      "[INFO] Epoch: 110 Train Loss: 0.149590\tValid Loss: 0.069312 \tTime: 0.18secs \n",
      "[INFO] Epoch: 111 Train Loss: 0.149516\tValid Loss: 0.069290 \tTime: 0.18secs (Model saved)\n",
      "[INFO] Epoch: 112 Train Loss: 0.149440\tValid Loss: 0.069300 \tTime: 0.18secs \n",
      "[INFO] Epoch: 113 Train Loss: 0.149385\tValid Loss: 0.069326 \tTime: 0.22secs \n",
      "[INFO] Epoch: 114 Train Loss: 0.149303\tValid Loss: 0.069319 \tTime: 0.18secs \n",
      "[INFO] Epoch: 115 Train Loss: 0.149237\tValid Loss: 0.069280 \tTime: 0.18secs (Model saved)\n",
      "[INFO] Epoch: 116 Train Loss: 0.149192\tValid Loss: 0.069285 \tTime: 0.18secs \n",
      "[INFO] Epoch: 117 Train Loss: 0.149127\tValid Loss: 0.069333 \tTime: 0.18secs \n",
      "[INFO] Epoch: 118 Train Loss: 0.149047\tValid Loss: 0.069319 \tTime: 0.18secs \n",
      "[INFO] Epoch: 119 Train Loss: 0.149007\tValid Loss: 0.069321 \tTime: 0.18secs \n",
      "[INFO] Epoch: 120 Train Loss: 0.148957\tValid Loss: 0.069301 \tTime: 0.18secs \n",
      "[INFO] Epoch: 121 Train Loss: 0.148877\tValid Loss: 0.069304 \tTime: 0.18secs \n",
      "[INFO] Epoch: 122 Train Loss: 0.148838\tValid Loss: 0.069309 \tTime: 0.18secs \n",
      "[INFO] Epoch: 123 Train Loss: 0.148771\tValid Loss: 0.069341 \tTime: 0.18secs \n",
      "[INFO] Epoch: 124 Train Loss: 0.148703\tValid Loss: 0.069364 \tTime: 0.18secs \n",
      "[INFO] Epoch: 125 Train Loss: 0.148669\tValid Loss: 0.069381 \tTime: 0.18secs \n",
      "[INFO] Epoch: 126 Train Loss: 0.148612\tValid Loss: 0.069360 \tTime: 0.18secs \n",
      "Epoch   126: reducing learning rate of group 0 to 5.0000e-05.\n",
      "[INFO] Epoch: 127 Train Loss: 0.148555\tValid Loss: 0.069355 \tTime: 0.20secs \n",
      "[INFO] Epoch: 128 Train Loss: 0.148522\tValid Loss: 0.069373 \tTime: 0.18secs \n",
      "[INFO] Epoch: 129 Train Loss: 0.148503\tValid Loss: 0.069363 \tTime: 0.18secs \n",
      "[INFO] Epoch: 130 Train Loss: 0.148479\tValid Loss: 0.069373 \tTime: 0.18secs \n",
      "[INFO] Epoch: 131 Train Loss: 0.148453\tValid Loss: 0.069379 \tTime: 0.18secs \n",
      "[INFO] Epoch: 132 Train Loss: 0.148427\tValid Loss: 0.069393 \tTime: 0.18secs \n",
      "[INFO] Epoch: 133 Train Loss: 0.148409\tValid Loss: 0.069387 \tTime: 0.18secs \n",
      "[INFO] Epoch: 134 Train Loss: 0.148390\tValid Loss: 0.069401 \tTime: 0.17secs \n",
      "[INFO] Epoch: 135 Train Loss: 0.148361\tValid Loss: 0.069384 \tTime: 0.18secs \n",
      "[INFO] Epoch: 136 Train Loss: 0.148338\tValid Loss: 0.069400 \tTime: 0.18secs \n",
      "[INFO] Epoch: 137 Train Loss: 0.148321\tValid Loss: 0.069384 \tTime: 0.18secs \n",
      "Epoch   137: reducing learning rate of group 0 to 2.5000e-05.\n",
      "[INFO] Epoch: 138 Train Loss: 0.148294\tValid Loss: 0.069389 \tTime: 0.18secs \n",
      "[INFO] Epoch: 139 Train Loss: 0.148283\tValid Loss: 0.069408 \tTime: 0.18secs \n",
      "[INFO] Epoch: 140 Train Loss: 0.148266\tValid Loss: 0.069406 \tTime: 0.18secs \n",
      "[INFO] Epoch: 141 Train Loss: 0.148259\tValid Loss: 0.069405 \tTime: 0.18secs \n",
      "[INFO] Epoch: 142 Train Loss: 0.148246\tValid Loss: 0.069412 \tTime: 0.18secs \n",
      "[INFO] Epoch: 143 Train Loss: 0.148239\tValid Loss: 0.069408 \tTime: 0.18secs \n",
      "[INFO] Early stopping\n"
     ]
    }
   ],
   "source": [
    "# Store training and validation loss\n",
    "Loss = {\n",
    "         'Train': [], \n",
    "         'Valid':  []\n",
    "       }\n",
    "\n",
    "\n",
    "\n",
    "# Main loop - Training process\n",
    "#\n",
    "for epoch in range(1, args.epochs+1):\n",
    "\n",
    "    # Start timer\n",
    "    start = time.time()\n",
    "    \n",
    "    # Monitor training loss\n",
    "    #\n",
    "    train_loss = 0.0\n",
    "    valid_loss = 0.0    \n",
    "    \n",
    "    \n",
    "    \n",
    "    ###################\n",
    "    # Train the model #\n",
    "    ###################\n",
    "    batch_idx = 0\n",
    "    for data, target in train_dl:\n",
    "        \n",
    "        # Clear the gradients of all optimized variables\n",
    "        #\n",
    "        optimizer.zero_grad()\n",
    "        \n",
    "        # Forward pass: compute predicted outputs by passing inputs to the model\n",
    "        #\n",
    "        if (device.type == 'cpu'):\n",
    "            data   = torch.tensor(data,   dtype=torch.float32)\n",
    "            target = torch.tensor(target, dtype=torch.float32)\n",
    "        else:\n",
    "            data   = torch.tensor(data,   dtype=torch.float32).cuda()\n",
    "            target = torch.tensor(target, dtype=torch.float32).cuda()\n",
    "\n",
    "            \n",
    "        outputs = model( data ).squeeze(-1)\n",
    "        \n",
    "\n",
    "        \n",
    "        # Calculate the loss\n",
    "        #\n",
    "        loss = criterion(outputs, target)\n",
    "        \n",
    "        \n",
    "        \n",
    "        # Backward pass: compute gradient of the loss with respect to model parameters\n",
    "        #\n",
    "        loss.backward()\n",
    "        \n",
    "        \n",
    "        # Clip gradients\n",
    "        #\n",
    "        if ( args.clip_grads ):\n",
    "            torch.nn.utils.clip_grad_norm_(model.parameters(), args.clip_grads_norm)\n",
    "            \n",
    "            \n",
    "        # Perform a single optimization step (parameter update)\n",
    "        #\n",
    "        optimizer.step()\n",
    "        \n",
    "        \n",
    "        \n",
    "        # Update running training loss\n",
    "        #\n",
    "        train_loss += loss.item()*data.size(0)\n",
    "               \n",
    "        # Increase batch_idx\n",
    "        #\n",
    "        batch_idx  += 1\n",
    "        \n",
    "        \n",
    "           \n",
    "        \n",
    "    # Print avg training statistics \n",
    "    #\n",
    "    train_loss = train_loss / train_dl.dataset.X.shape[0]\n",
    "\n",
    "    \n",
    "    \n",
    "    \n",
    "    \n",
    "    with torch.no_grad():\n",
    "        for data, target in valid_dl:\n",
    "\n",
    "            # Forward pass: compute predicted outputs by passing inputs to the model\n",
    "            #\n",
    "            if (device.type == 'cpu'):\n",
    "                data   = torch.tensor(data, dtype=torch.float32)\n",
    "                target = torch.tensor(target, dtype=torch.float32)\n",
    "            else:\n",
    "                data   = torch.tensor(data, dtype=torch.float32).cuda()\n",
    "                target = torch.tensor(target, dtype=torch.float32).cuda()\n",
    "\n",
    "\n",
    "            outputs = model( data ).squeeze(-1)\n",
    "        \n",
    "          \n",
    "\n",
    "            # Calculate the loss\n",
    "            #\n",
    "            loss = criterion(outputs, target)\n",
    "                \n",
    "            # update running training loss\n",
    "            valid_loss += loss.item()*data.size(0)\n",
    "              \n",
    "\n",
    "    # Print avg training statistics \n",
    "    #\n",
    "    valid_loss = valid_loss / test_dl.dataset.X.shape[0]\n",
    "\n",
    "\n",
    "\n",
    "\n",
    "\n",
    "\n",
    "    # Stop timer\n",
    "    #\n",
    "    stop  = time.time()\n",
    "    \n",
    "    \n",
    "    # Show training results\n",
    "    #\n",
    "    print('[INFO] Epoch: {:3.0f} Train Loss: {:.6f}\\tValid Loss: {:.6f} \\tTime: {:.2f}secs'.format(epoch, train_loss, valid_loss, stop-start), end=' ')\n",
    "\n",
    " \n",
    "    \n",
    "\n",
    "    # Update best model\n",
    "    #\n",
    "    if (epoch == 1):\n",
    "        Best_score = valid_loss\n",
    "        \n",
    "        torch.save(model.state_dict(), args.model_path)\n",
    "        print('(Model saved)')\n",
    "    else:\n",
    "        if (Best_score > valid_loss):\n",
    "            Best_score = valid_loss\n",
    "            \n",
    "            torch.save(model.state_dict(), args.model_path)\n",
    "            print('(Model saved)')\n",
    "        else:\n",
    "            print( )\n",
    "     \n",
    "    \n",
    "    # Store train/val loss\n",
    "    #\n",
    "    Loss['Train'] += [ train_loss ]\n",
    "    Loss['Valid'] += [ valid_loss ]\n",
    "    \n",
    "\n",
    "    \n",
    "    \n",
    "    \n",
    "    # =-=-=-=-=-=-=-=-=-=-=-=-=-=-=-=-=-=-=-=-=-=-=-=-=-=-=-=-=-=-=-=-=-=-=-=\n",
    "    # Learning rate scheduler\n",
    "    #\n",
    "    scheduler( valid_loss )\n",
    "    \n",
    "    \n",
    "    # =-=-=-=-=-=-=-=-=-=-=-=-=-=-=-=-=-=-=-=-=-=-=-=-=-=-=-=-=-=-=-=-=-=-=-=\n",
    "    # Early Stopping\n",
    "    #\n",
    "    if ( early_stopping( valid_loss ) ): break"
   ]
  },
  {
   "cell_type": "markdown",
   "metadata": {},
   "source": [
    "## Load optimized model"
   ]
  },
  {
   "cell_type": "code",
   "execution_count": 81,
   "metadata": {},
   "outputs": [
    {
     "name": "stdout",
     "output_type": "stream",
     "text": [
      "[INFO] Model loaded\n"
     ]
    }
   ],
   "source": [
    "# Load best model\n",
    "#\n",
    "model.load_state_dict( torch.load( args.model_path ) );\n",
    "model.eval();\n",
    "\n",
    "print('[INFO] Model loaded')"
   ]
  },
  {
   "cell_type": "markdown",
   "metadata": {},
   "source": [
    "## Evaluation"
   ]
  },
  {
   "cell_type": "markdown",
   "metadata": {},
   "source": [
    "### Get predictions"
   ]
  },
  {
   "cell_type": "code",
   "execution_count": 82,
   "metadata": {},
   "outputs": [
    {
     "name": "stderr",
     "output_type": "stream",
     "text": [
      "100%|██████████| 9/9 [00:00<00:00, 678.69it/s]\n"
     ]
    }
   ],
   "source": [
    "pred = None\n",
    "with torch.no_grad():\n",
    "    for data, target in tqdm( test_dl ):\n",
    "\n",
    "        if (device.type == 'cpu'):\n",
    "            data   = torch.tensor(data,   dtype=torch.float32)\n",
    "            target = torch.tensor(target, dtype=torch.float32)\n",
    "        else:\n",
    "            data   = torch.tensor(data,   dtype=torch.float32).cuda()\n",
    "            target = torch.tensor(target, dtype=torch.float32).cuda()\n",
    "            \n",
    "\n",
    "        if (pred is None):\n",
    "            pred = model( data ).squeeze(-1).cpu().detach().numpy()\n",
    "        else:\n",
    "            pred = np.concatenate([ pred, model( data ).squeeze(-1).cpu().detach().numpy() ])"
   ]
  },
  {
   "cell_type": "markdown",
   "metadata": {},
   "source": [
    "### Apply inverse scaling/transformation"
   ]
  },
  {
   "cell_type": "code",
   "execution_count": 83,
   "metadata": {},
   "outputs": [],
   "source": [
    "# Apply inverse scaling\n",
    "#\n",
    "for i in range( args.Horizon ):\n",
    "    testY[:,  i]  = scaler.inverse_transform( testY[:,  i].reshape(-1,1) ).squeeze(-1)\n",
    "    pred[:, i]    = scaler.inverse_transform( pred[:, i].reshape(-1,1) ).squeeze(-1)\n",
    "\n",
    "\n",
    "# Apply inverse transformation   \n",
    "#\n",
    "if (args.Transformation == True):\n",
    "    testY  = np.exp( testY ) - VALUE\n",
    "    pred   = np.exp( pred )  - VALUE"
   ]
  },
  {
   "cell_type": "markdown",
   "metadata": {},
   "source": [
    "### Calculate Performance on Testing set - Prediction visualization\n"
   ]
  },
  {
   "cell_type": "code",
   "execution_count": 84,
   "metadata": {},
   "outputs": [
    {
     "name": "stdout",
     "output_type": "stream",
     "text": [
      "[INFO] Feature:  CO\n",
      "------------------------------------------------\n",
      "    - \t    MAE 21.93 RMSE 33.52 SMAPE: 10.86 R2: 0.71\n",
      "\n",
      "Horizon:  1 MAE 16.26 RMSE 25.57 SMAPE:  7.93 R2: 0.83\n",
      "Horizon:  2 MAE 27.61 RMSE 39.92 SMAPE: 13.78 R2: 0.59\n"
     ]
    }
   ],
   "source": [
    "print('[INFO] Feature: ', args.targetSeries)\n",
    "print('------------------------------------------------')\n",
    "Prices = pd.DataFrame([])        \n",
    "\n",
    "Prices[ args.targetSeries ] = testY.flatten()\n",
    "Prices[ 'Prediction'      ] = pred.flatten()\n",
    "\n",
    "# Evaluation\n",
    "#\n",
    "MAE, RMSE, MAPE, SMAPE, R2 = RegressionEvaluation( Prices )\n",
    "\n",
    "print('    - \\t    MAE %5.2f RMSE %5.2f SMAPE: %5.2f R2: %.2f\\n' % (MAE, RMSE, SMAPE, R2) )\n",
    "\n",
    "Performance_Foresting_Model = {'RMSE': [], 'MAE': [], 'SMAPE': [], 'R2' : []}\n",
    "\n",
    "for i in range( args.Horizon ):\n",
    "\n",
    "    Prices = pd.DataFrame([])        \n",
    "\n",
    "    Prices[ args.targetSeries ] = testY[:,i]\n",
    "    Prices[ 'Prediction'      ] = pred[:,i]\n",
    "\n",
    "\n",
    "    # Evaluation\n",
    "    #\n",
    "    MAE, RMSE, MAPE, SMAPE, R2 = RegressionEvaluation( Prices )\n",
    "\n",
    "    # Store results\n",
    "    #\n",
    "    Performance_Foresting_Model['RMSE']    += [ RMSE    ]\n",
    "    Performance_Foresting_Model['MAE']     += [ MAE     ]\n",
    "    Performance_Foresting_Model['SMAPE']   += [ SMAPE   ]\n",
    "    Performance_Foresting_Model['R2']      += [ R2      ]\n",
    "\n",
    "    # Present results\n",
    "    #\n",
    "    print('Horizon: %2i MAE %5.2f RMSE %5.2f SMAPE: %5.2f R2: %.2f' % (i+1, MAE, RMSE, SMAPE, R2) )"
   ]
  },
  {
   "cell_type": "markdown",
   "metadata": {},
   "source": [
    "## Visualization"
   ]
  },
  {
   "cell_type": "code",
   "execution_count": 85,
   "metadata": {},
   "outputs": [
    {
     "data": {
      "image/png": "[encoded data removed]",
      "text/plain": [
       "<Figure size 1440x288 with 1 Axes>"
      ]
     },
     "metadata": {
      "needs_background": "light"
     },
     "output_type": "display_data"
    }
   ],
   "source": [
    "Prices = pd.DataFrame( [] )\n",
    "\n",
    "Prices[ args.targetSeries ] = testY.flatten()\n",
    "Prices[ 'Prediction'      ] = pred.flatten()\n",
    "\n",
    "\n",
    "# Plot results\n",
    "#\n",
    "plt.figure( figsize = (20, 4) );\n",
    "#\n",
    "Prices[ args.targetSeries ][:200].plot(color = 'tab:blue', marker = 'o')\n",
    "Prices[ 'Prediction'      ][:200].plot(color = 'tab:orange', marker = 'o')\n",
    "plt.show();\n"
   ]
  },
  {
   "cell_type": "markdown",
   "metadata": {},
   "source": [
    "### Examples"
   ]
  },
  {
   "cell_type": "code",
   "execution_count": 86,
   "metadata": {},
   "outputs": [
    {
     "data": {
      "image/png": "[encoded data removed]",
      "text/plain": [
       "<Figure size 1440x576 with 9 Axes>"
      ]
     },
     "metadata": {
      "needs_background": "light"
     },
     "output_type": "display_data"
    }
   ],
   "source": [
    "subplots = [331, 332, 333, 334, 335, 336,  337, 338, 339]\n",
    "plt.figure( figsize = (20, 8) )\n",
    "\n",
    "# Select random cases\n",
    "RandomInstances = [random.randint(1, testY.shape[0]) for i in range(0, 9)]\n",
    "# RandomInstances = [51, 44, 154, 53, 166, 13, 104, 102, 24]\n",
    "\n",
    "for plot_id, i in enumerate(RandomInstances):\n",
    "\n",
    "    plt.subplot(subplots[plot_id])\n",
    "    plt.grid()\n",
    "    plt.plot(testDate[i], testY[i], color = 'g', marker = 'o', linewidth = 2)\n",
    "    plt.plot(testDate[i], pred[i],  color = 'r', marker = 'o', linewidth = 2)\n",
    "    \n",
    "\n",
    "    \n",
    "    plt.legend(['Actual values', 'Prediction'], frameon = False, fontsize = 12)\n",
    "    plt.ylim([0, 260])\n",
    "    plt.xticks(rotation = 20)\n",
    "plt.show()"
   ]
  },
  {
   "cell_type": "markdown",
   "id": "a5d7f3ea",
   "metadata": {},
   "source": [
    "# Store predictions"
   ]
  },
  {
   "cell_type": "code",
   "execution_count": 87,
   "id": "796d5209",
   "metadata": {},
   "outputs": [],
   "source": [
    "Outputs = pd.DataFrame( [] )\n",
    "\n",
    "\n",
    "Outputs[ args.targetSeries ] = testY.flatten()\n",
    "Outputs[ 'DLinear'         ] = pred.flatten()\n",
    "\n",
    "Outputs.to_csv('../Predictions/DLinear.csv')"
   ]
  },
  {
   "cell_type": "code",
   "execution_count": null,
   "id": "4896cfd5",
   "metadata": {},
   "outputs": [],
   "source": []
  }
 ],
 "metadata": {
  "kernelspec": {
   "display_name": "Python 3.7.12 ('pytorch')",
   "language": "python",
   "name": "python3"
  },
  "language_info": {
   "codemirror_mode": {
    "name": "ipython",
    "version": 3
   },
   "file_extension": ".py",
   "mimetype": "text/x-python",
   "name": "python",
   "nbconvert_exporter": "python",
   "pygments_lexer": "ipython3",
   "version": "3.7.12"
  },
  "toc": {
   "base_numbering": 1,
   "nav_menu": {},
   "number_sections": true,
   "sideBar": true,
   "skip_h1_title": false,
   "title_cell": "Table of Contents",
   "title_sidebar": "Contents",
   "toc_cell": false,
   "toc_position": {
    "height": "calc(100% - 180px)",
    "left": "10px",
    "top": "150px",
    "width": "307.1875px"
   },
   "toc_section_display": true,
   "toc_window_display": true
  },
  "vscode": {
   "interpreter": {
    "hash": "3f87851f675c6afefcd51f967c1836fa00f505afe5b318b834b199856e321654"
   }
  }
 },
 "nbformat": 4,
 "nbformat_minor": 5
}
