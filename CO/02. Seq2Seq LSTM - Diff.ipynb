{
 "cells": [
  {
   "cell_type": "markdown",
   "metadata": {},
   "source": [
    "# Libraries"
   ]
  },
  {
   "cell_type": "code",
   "execution_count": 71,
   "metadata": {},
   "outputs": [],
   "source": [
    "import warnings\n",
    "warnings.filterwarnings(\"ignore\")\n",
    "\n",
    "# import tensorflow as tf\n",
    "# tf.config.experimental_run_functions_eagerly(True)\n",
    "# tf.keras.backend.set_floatx('float64')\n",
    "\n",
    "# import tensorflow.python.util.deprecation as deprecation\n",
    "# deprecation._PRINT_DEPRECATION_WARNINGS = False"
   ]
  },
  {
   "cell_type": "code",
   "execution_count": 72,
   "metadata": {},
   "outputs": [
    {
     "name": "stdout",
     "output_type": "stream",
     "text": [
      "The autoreload extension is already loaded. To reload it, use:\n",
      "  %reload_ext autoreload\n",
      "[INFO] Libraries imported\n"
     ]
    }
   ],
   "source": [
    "%matplotlib inline\n",
    "%load_ext autoreload\n",
    "%autoreload 2\n",
    "\n",
    "# =-=-=-=-=-=-=-=-=-=-=-=-=-=-=-=-=-=-=-=-=-=-=-=-=-=-=-=-=-=-=-=-=-=-=-=-=-=\n",
    "# Basic libraries\n",
    "#\n",
    "import math\n",
    "import pickle\n",
    "import time\n",
    "import timeit\n",
    "from   tqdm    import tqdm\n",
    "import pandas  as pd\n",
    "import numpy   as np\n",
    "\n",
    "\n",
    "# =-=-=-=-=-=-=-=-=-=-=-=-=-=-=-=-=-=-=-=-=-=-=-=-=-=-=-=-=-=-=-=-=-=-=-=-=-=\n",
    "# Visualization library\n",
    "#\n",
    "import matplotlib.pyplot                        as plt \n",
    "\n",
    "\n",
    "# =-=-=-=-=-=-=-=-=-=-=-=-=-=-=-=-=-=-=-=-=-=-=-=-=-=-=-=-=-=-=-=-=-=-=-=-=-=\n",
    "# Sklearn library\n",
    "#\n",
    "from sklearn.preprocessing import MinMaxScaler\n",
    "from sklearn.preprocessing import RobustScaler\n",
    "from sklearn.preprocessing import StandardScaler\n",
    "from sklearn.preprocessing import PowerTransformer\n",
    "\n",
    "\n",
    "# =-=-=-=-=-=-=-=-=-=-=-=-=-=-=-=-=-=-=-=-=-=-=-=-=-=-=-=-=-=-=-=-=-=-=-=-=-=\n",
    "# Tensorflow library\n",
    "#\n",
    "import tensorflow\n",
    "from   tensorflow.keras.models                  import *\n",
    "from   tensorflow.keras.layers                  import *\n",
    "from   tensorflow.keras.callbacks               import EarlyStopping\n",
    "from   tensorflow.keras.callbacks               import ModelCheckpoint\n",
    "from   tensorflow.keras.callbacks               import ReduceLROnPlateau\n",
    "from   tensorflow.keras.metrics                 import *\n",
    "from   tensorflow.keras.optimizers              import *\n",
    "\n",
    "\n",
    "# =-=-=-=-=-=-=-=-=-=-=-=-=-=-=-=-=-=-=-=-=-=-=-=-=-=-=-=-=-=-=-=-=-=-=-=-=-=\n",
    "# User library\n",
    "#\n",
    "from utils.PerformanceMetrics import RegressionEvaluation\n",
    "\n",
    "\n",
    "print('[INFO] Libraries imported')"
   ]
  },
  {
   "cell_type": "markdown",
   "metadata": {},
   "source": [
    "# Parameters"
   ]
  },
  {
   "cell_type": "code",
   "execution_count": 73,
   "metadata": {},
   "outputs": [],
   "source": [
    "import random, os\n",
    "seed = 42\n",
    "    \n",
    "random.seed(seed)\n",
    "os.environ[\"PYTHONHASHSEED\"] = str(seed)\n",
    "np.random.seed(seed)\n",
    "tensorflow.random.set_seed(seed)"
   ]
  },
  {
   "cell_type": "markdown",
   "metadata": {},
   "source": [
    "## CUDA"
   ]
  },
  {
   "cell_type": "code",
   "execution_count": 74,
   "metadata": {},
   "outputs": [],
   "source": [
    "try:\n",
    "    gpus = tensorflow.config.list_physical_devices('GPU')\n",
    "    if gpus:\n",
    "        try:\n",
    "            # Currently, memory growth needs to be the same across GPUs\n",
    "            for gpu in gpus:\n",
    "                tensorflow.config.experimental.set_memory_growth(gpu, True)\n",
    "\n",
    "            logical_gpus = tensorflow.config.list_logical_devices('GPU')\n",
    "            print(len(gpus), \"Physical GPUs,\", len(logical_gpus), \"Logical GPUs\")\n",
    "\n",
    "        except RuntimeError as e:\n",
    "\n",
    "            # Memory growth must be set before GPUs have been initialized\n",
    "            print(e)\n",
    "except:\n",
    "    print('[INFO] Not GPU found')"
   ]
  },
  {
   "cell_type": "markdown",
   "metadata": {},
   "source": [
    "## Training paramers"
   ]
  },
  {
   "cell_type": "code",
   "execution_count": 75,
   "metadata": {},
   "outputs": [],
   "source": [
    "Lag        =   12\n",
    "Horizon    =    2\n",
    "#\n",
    "epochs     =  100\n",
    "batch_size =  128\n",
    "\n",
    "Transformation = True"
   ]
  },
  {
   "cell_type": "markdown",
   "metadata": {},
   "source": [
    "# Importing data"
   ]
  },
  {
   "cell_type": "code",
   "execution_count": 76,
   "metadata": {},
   "outputs": [
    {
     "name": "stdout",
     "output_type": "stream",
     "text": [
      "[INFO] Data imported\n",
      "[INFO] Time: 0.41 seconds\n"
     ]
    },
    {
     "data": {
      "text/html": [
       "<div>\n",
       "<style scoped>\n",
       "    .dataframe tbody tr th:only-of-type {\n",
       "        vertical-align: middle;\n",
       "    }\n",
       "\n",
       "    .dataframe tbody tr th {\n",
       "        vertical-align: top;\n",
       "    }\n",
       "\n",
       "    .dataframe thead th {\n",
       "        text-align: right;\n",
       "    }\n",
       "</style>\n",
       "<table border=\"1\" class=\"dataframe\">\n",
       "  <thead>\n",
       "    <tr style=\"text-align: right;\">\n",
       "      <th></th>\n",
       "      <th>Date</th>\n",
       "      <th>Temperature</th>\n",
       "      <th>Humidity</th>\n",
       "      <th>PM2.5</th>\n",
       "      <th>PM10</th>\n",
       "      <th>NO2</th>\n",
       "      <th>CO</th>\n",
       "    </tr>\n",
       "  </thead>\n",
       "  <tbody>\n",
       "    <tr>\n",
       "      <th>0</th>\n",
       "      <td>2022-02-19 00:00:09</td>\n",
       "      <td>-2.4</td>\n",
       "      <td>86.0</td>\n",
       "      <td>2.7</td>\n",
       "      <td>4.9</td>\n",
       "      <td>212.0</td>\n",
       "      <td>263.0</td>\n",
       "    </tr>\n",
       "    <tr>\n",
       "      <th>1</th>\n",
       "      <td>2022-02-19 00:00:25</td>\n",
       "      <td>-2.4</td>\n",
       "      <td>86.0</td>\n",
       "      <td>2.7</td>\n",
       "      <td>7.6</td>\n",
       "      <td>209.0</td>\n",
       "      <td>261.0</td>\n",
       "    </tr>\n",
       "    <tr>\n",
       "      <th>2</th>\n",
       "      <td>2022-02-19 00:00:41</td>\n",
       "      <td>-2.4</td>\n",
       "      <td>86.0</td>\n",
       "      <td>2.6</td>\n",
       "      <td>7.3</td>\n",
       "      <td>204.0</td>\n",
       "      <td>258.0</td>\n",
       "    </tr>\n",
       "  </tbody>\n",
       "</table>\n",
       "</div>"
      ],
      "text/plain": [
       "                  Date  Temperature  Humidity  PM2.5  PM10    NO2     CO\n",
       "0  2022-02-19 00:00:09         -2.4      86.0    2.7   4.9  212.0  263.0\n",
       "1  2022-02-19 00:00:25         -2.4      86.0    2.7   7.6  209.0  261.0\n",
       "2  2022-02-19 00:00:41         -2.4      86.0    2.6   7.3  204.0  258.0"
      ]
     },
     "execution_count": 76,
     "metadata": {},
     "output_type": "execute_result"
    }
   ],
   "source": [
    "# =-=-=-=-=-=-=-=-=-=-=-=-=-=-=-=-=-=-=-=-=-=-=-=-=-=-=-=-=-=-=-=-=-=-=-=-=-=-=-=-=-=\n",
    "# Data concern the concentration from a mine in Norway\n",
    "# =-=-=-=-=-=-=-=-=-=-=-=-=-=-=-=-=-=-=-=-=-=-=-=-=-=-=-=-=-=-=-=-=-=-=-=-=-=-=-=-=-=\n",
    "\n",
    " \n",
    "\n",
    "# # Parameters\n",
    "#\n",
    "filename   = '../metadata/7-kanal-1.csv'\n",
    "\n",
    "Transformation  = True\n",
    "Scaling         = 'Standard'\n",
    "\n",
    "\n",
    "\n",
    "# Start timer\n",
    "#\n",
    "start = time.time()\n",
    "\n",
    "# Load data\n",
    "#\n",
    "df = pd.read_csv( filename )\n",
    "\n",
    "print('[INFO] Data imported')\n",
    "print('[INFO] Time: %.2f seconds' % (time.time() - start))\n",
    "\n",
    "df.head(3)"
   ]
  },
  {
   "cell_type": "code",
   "execution_count": 77,
   "metadata": {},
   "outputs": [],
   "source": [
    "# # Parameters\n",
    "# #\n",
    "# filename   = '../Data/D-6-It.csv'\n",
    "\n",
    "# Transformation  = True\n",
    "# Scaling         = 'Standard'\n",
    "\n",
    "\n",
    "\n",
    "\n",
    "# # Start timer\n",
    "# #\n",
    "# start = time.time()\n",
    "\n",
    "# # Load data\n",
    "# #\n",
    "# df = pd.read_csv(filename, \n",
    "#                  sep = ',')\n",
    "\n",
    "\n",
    "# # Rename columns\n",
    "# #\n",
    "# df = df.rename(columns = {'created_at' : 'Date',\n",
    "#                           'field1' : 'Temperature',\n",
    "#                           'field2' : 'Humidity',\n",
    "#                           'field3' : 'PM2.5',\n",
    "#                           'field4' : 'PM10',\n",
    "#                           'field5' : 'NO2',\n",
    "#                           'field6' : 'CO',\n",
    "#                           'field7' : 'NH4',})\n",
    "\n",
    "\n",
    "\n",
    "# # End timer\n",
    "# #\n",
    "# print('[INFO] Time: %.2f' % (time.time() - start))\n",
    "\n",
    "# df.head( 3 )"
   ]
  },
  {
   "cell_type": "markdown",
   "metadata": {},
   "source": [
    "## Preprocess"
   ]
  },
  {
   "cell_type": "code",
   "execution_count": 78,
   "metadata": {},
   "outputs": [
    {
     "data": {
      "text/html": [
       "<div>\n",
       "<style scoped>\n",
       "    .dataframe tbody tr th:only-of-type {\n",
       "        vertical-align: middle;\n",
       "    }\n",
       "\n",
       "    .dataframe tbody tr th {\n",
       "        vertical-align: top;\n",
       "    }\n",
       "\n",
       "    .dataframe thead th {\n",
       "        text-align: right;\n",
       "    }\n",
       "</style>\n",
       "<table border=\"1\" class=\"dataframe\">\n",
       "  <thead>\n",
       "    <tr style=\"text-align: right;\">\n",
       "      <th></th>\n",
       "      <th>NO2</th>\n",
       "      <th>CO</th>\n",
       "    </tr>\n",
       "    <tr>\n",
       "      <th>Date</th>\n",
       "      <th></th>\n",
       "      <th></th>\n",
       "    </tr>\n",
       "  </thead>\n",
       "  <tbody>\n",
       "    <tr>\n",
       "      <th>2022-02-19 00:00:00</th>\n",
       "      <td>168.631579</td>\n",
       "      <td>240.710526</td>\n",
       "    </tr>\n",
       "    <tr>\n",
       "      <th>2022-02-19 00:10:00</th>\n",
       "      <td>135.394737</td>\n",
       "      <td>227.473684</td>\n",
       "    </tr>\n",
       "    <tr>\n",
       "      <th>2022-02-19 00:20:00</th>\n",
       "      <td>141.447368</td>\n",
       "      <td>229.526316</td>\n",
       "    </tr>\n",
       "  </tbody>\n",
       "</table>\n",
       "</div>"
      ],
      "text/plain": [
       "                            NO2          CO\n",
       "Date                                       \n",
       "2022-02-19 00:00:00  168.631579  240.710526\n",
       "2022-02-19 00:10:00  135.394737  227.473684\n",
       "2022-02-19 00:20:00  141.447368  229.526316"
      ]
     },
     "execution_count": 78,
     "metadata": {},
     "output_type": "execute_result"
    }
   ],
   "source": [
    "# Convert Date to 'datetime64'\n",
    "#\n",
    "df['Date'] = df['Date'].astype('datetime64')\n",
    "\n",
    "# Set index\n",
    "#\n",
    "df.set_index('Date', inplace=True)\n",
    "\n",
    "\n",
    "df = df.resample('10min').mean()\n",
    "# df = pd.DataFrame( df[['Temperature', 'Humidity', 'NO2', 'CO']] )\n",
    "\n",
    "# The last feature is the target variable\n",
    "df = pd.DataFrame( df[ ['NO2', 'CO'] ] )\n",
    "# df = pd.DataFrame( df[ 'CO' ] )\n",
    "\n",
    "\n",
    "df.head(3)"
   ]
  },
  {
   "cell_type": "markdown",
   "metadata": {},
   "source": [
    "## Include MA-based features"
   ]
  },
  {
   "cell_type": "code",
   "execution_count": 79,
   "metadata": {},
   "outputs": [],
   "source": [
    "# df['MA6']  = df[ targetSeries ].rolling(6).mean()\n",
    "# df['MA12'] = df[ targetSeries ].rolling(12).mean()\n",
    "\n",
    "# df['Hour'] = df.index.hour"
   ]
  },
  {
   "cell_type": "code",
   "execution_count": 80,
   "metadata": {},
   "outputs": [],
   "source": [
    "# Set target series/Series which will be forecasted\n",
    "# \n",
    "targetSeries = df.columns[-1]\n",
    "\n",
    "# Set all other utilized features\n",
    "Features = df.columns[:-1]"
   ]
  },
  {
   "cell_type": "markdown",
   "metadata": {},
   "source": [
    "## Split Training/Testing set"
   ]
  },
  {
   "cell_type": "code",
   "execution_count": 81,
   "metadata": {},
   "outputs": [],
   "source": [
    "idx = int( df.shape[0] * 0.8 )\n",
    "\n",
    "df_train = df[ :idx ]\n",
    "df_test  = df[ idx: ]"
   ]
  },
  {
   "cell_type": "code",
   "execution_count": 82,
   "metadata": {},
   "outputs": [
    {
     "name": "stdout",
     "output_type": "stream",
     "text": [
      "Training:  8558\n",
      "Testing:   2140\n"
     ]
    }
   ],
   "source": [
    "print('Training: ', df_train.shape[0])\n",
    "print('Testing:  ', df_test.shape[0])"
   ]
  },
  {
   "cell_type": "markdown",
   "metadata": {},
   "source": [
    "## Visualize Training & Testing data"
   ]
  },
  {
   "cell_type": "code",
   "execution_count": 83,
   "metadata": {},
   "outputs": [
    {
     "data": {
      "image/png": "[encoded data removed]",
      "text/plain": [
       "<Figure size 1440x288 with 1 Axes>"
      ]
     },
     "metadata": {
      "needs_background": "light"
     },
     "output_type": "display_data"
    }
   ],
   "source": [
    "plt.figure( figsize = (20, 4) );\n",
    "#\n",
    "df_train[ targetSeries ].plot()\n",
    "df_test[ targetSeries ].plot()\n",
    "#\n",
    "plt.legend(['Training', 'Testing'], fontsize = 12, frameon = False);\n",
    "plt.ylabel( targetSeries, size = 12);\n",
    "plt.xlabel( 'Time', size = 12);"
   ]
  },
  {
   "cell_type": "markdown",
   "metadata": {},
   "source": [
    "## Fix lag"
   ]
  },
  {
   "cell_type": "code",
   "execution_count": 84,
   "metadata": {},
   "outputs": [],
   "source": [
    "df_test = pd.concat([df_train.iloc[-Lag:], df_test])"
   ]
  },
  {
   "cell_type": "markdown",
   "metadata": {},
   "source": [
    "## Contruction of fitting data for training a forecasting model"
   ]
  },
  {
   "cell_type": "markdown",
   "metadata": {},
   "source": [
    "### Data Transformation"
   ]
  },
  {
   "cell_type": "code",
   "execution_count": 85,
   "metadata": {},
   "outputs": [
    {
     "name": "stdout",
     "output_type": "stream",
     "text": [
      "[INFO] Data transformation applied\n"
     ]
    }
   ],
   "source": [
    "if (Transformation == True):\n",
    "    \n",
    "    print('[INFO] Data transformation applied')\n",
    "    \n",
    "    VALUE = np.ceil( max(abs( -df.min().min() ) + 1.0, 1.0) )\n",
    "    \n",
    "    df_train = np.log( df_train + VALUE)\n",
    "    df_test  = np.log( df_test  + VALUE)\n",
    "\n",
    "    # # Transformation parameter\n",
    "    # #\n",
    "    # d = {'parameter': VALUE}\n",
    "\n",
    "    # import json\n",
    "    # with open('checkpoints/Transformation.json', 'w') as fp:\n",
    "    #     json.dump(d, fp)\n",
    "    # print('[INFO] Parameters saved')\n",
    "\n",
    "else:\n",
    "    print('[INFO] No data transformation applied.')  "
   ]
  },
  {
   "cell_type": "markdown",
   "metadata": {},
   "source": [
    "### Data scaling "
   ]
  },
  {
   "cell_type": "code",
   "execution_count": 86,
   "metadata": {},
   "outputs": [
    {
     "name": "stdout",
     "output_type": "stream",
     "text": [
      "[INFO] Scaling: Standard\n"
     ]
    }
   ],
   "source": [
    "import pickle\n",
    "\n",
    "if (Scaling == 'MinMax'):\n",
    "    print('[INFO] Scaling: MinMax')\n",
    "    \n",
    "    # Set scaler\n",
    "    #\n",
    "    scaler = MinMaxScaler()\n",
    "    \n",
    "    df_train[ Features ] = scaler.fit_transform( df_train[ Features ].to_numpy().reshape(-1,1) )\n",
    "    df_test[ Features ]  = scaler.transform( df_test[ Features ].to_numpy().reshape(-1,1) )\n",
    "\n",
    "    # # Save Scaler\n",
    "    # #\n",
    "    # filename = 'checkpoints/Feature_scaler.pkl'\n",
    "    # pickle.dump(scaler, open(filename, 'wb'))\n",
    "    # print('[INFO] Feature scaler saved in ', filename)\n",
    "\n",
    "\n",
    "    # Scaling of Target Series\n",
    "    #\n",
    "    scaler = MinMaxScaler()\n",
    "    df_train[targetSeries] = scaler.fit_transform( df_train[ targetSeries ].to_numpy().reshape(-1,1) )\n",
    "    df_test[targetSeries]  = scaler.transform( df_test[ targetSeries ].to_numpy().reshape(-1,1) )\n",
    "            \n",
    "    # # Save Scaler\n",
    "    # #\n",
    "    # filename = 'checkpoints/Target_scaler.pkl'\n",
    "    # pickle.dump(scaler, open(filename, 'wb'))\n",
    "    # print('[INFO] Target scaler saved in ', filename)\n",
    "\n",
    "    \n",
    "elif (Scaling == 'Robust'):\n",
    "    print('[INFO] Scaling: Robust')\n",
    "    \n",
    "    # Set scaler\n",
    "    #\n",
    "    scaler = RobustScaler()\n",
    "    \n",
    "    df_train[ Features ] = scaler.fit_transform( df_train[ Features ].to_numpy().reshape(-1,1) )\n",
    "    df_test[ Features ]  = scaler.transform( df_test[ Features ].to_numpy().reshape(-1,1) )\n",
    "\n",
    "    # # Save Scaler\n",
    "    # #\n",
    "    # filename = 'checkpoints/Feature_scaler.pkl'\n",
    "    # pickle.dump(scaler, open(filename, 'wb'))\n",
    "    # print('[INFO] Feature scaler saved in ', filename)\n",
    "\n",
    "\n",
    "    # Scaling of Target Series\n",
    "    #\n",
    "    scaler = RobustScaler()\n",
    "    df_train[targetSeries] = scaler.fit_transform( df_train[ targetSeries ].to_numpy().reshape(-1,1) )\n",
    "    df_test[targetSeries]  = scaler.transform( df_test[ targetSeries ].to_numpy().reshape(-1,1) )\n",
    "            \n",
    "    # # Save Scaler\n",
    "    # #\n",
    "    # filename = 'checkpoints/Target_scaler.pkl'\n",
    "    # pickle.dump(scaler, open(filename, 'wb'))\n",
    "    # print('[INFO] Target scaler saved in ', filename)\n",
    "        \n",
    "elif (Scaling == 'Standard'):\n",
    "    print('[INFO] Scaling: Standard')\n",
    "\n",
    "    # Set scaler\n",
    "    #\n",
    "    scaler = StandardScaler()\n",
    "    \n",
    "    df_train[ Features ] = scaler.fit_transform( df_train[ Features ].to_numpy().reshape(-1,1) )\n",
    "    df_test[ Features ]  = scaler.transform( df_test[ Features ].to_numpy().reshape(-1,1) )\n",
    "\n",
    "    # # Save Scaler\n",
    "    # #\n",
    "    # filename = 'checkpoints/Feature_scaler.pkl'\n",
    "    # pickle.dump(scaler, open(filename, 'wb'))\n",
    "    # print('[INFO] Feature scaler saved in ', filename)\n",
    "\n",
    "\n",
    "    # Scaling of Target Series\n",
    "    #\n",
    "    scaler = StandardScaler()\n",
    "    df_train[targetSeries] = scaler.fit_transform( df_train[ targetSeries ].to_numpy().reshape(-1,1) )\n",
    "    df_test[targetSeries]  = scaler.transform( df_test[ targetSeries ].to_numpy().reshape(-1,1) )\n",
    "            \n",
    "    # # Save Scaler\n",
    "    # #\n",
    "    # filename = 'checkpoints/Target_scaler.pkl'\n",
    "    # pickle.dump(scaler, open(filename, 'wb'))\n",
    "    # print('[INFO] Target scaler saved in ', filename)       \n",
    "else:\n",
    "    print('[WARNING] Unknown data scaling. Standar scaling was selected')   \n",
    "\n",
    "\n",
    "# # Save Scaler\n",
    "# #\n",
    "# filename = 'checkpoints/Target_scaler.pkl'\n",
    "# pickle.dump(scaler, open(filename, 'wb'))\n",
    "# print('[INFO] Target scaler saved in ', filename)      "
   ]
  },
  {
   "cell_type": "markdown",
   "metadata": {},
   "source": [
    "### Include date/time features"
   ]
  },
  {
   "cell_type": "code",
   "execution_count": 87,
   "metadata": {},
   "outputs": [],
   "source": [
    "# df_train['Time (sin)'] = np.sin( df_train.index.hour + df_train.index.minute / 60 )\n",
    "# df_train['Time (cos)'] = np.cos( df_train.index.hour + df_train.index.minute / 60 )\n",
    "# #\n",
    "# df_test['Time (sin)']  = np.sin( df_test.index.hour + df_test.index.minute / 60 )\n",
    "# df_test['Time (cos)']  = np.cos( df_test.index.hour + df_test.index.minute / 60 )"
   ]
  },
  {
   "cell_type": "markdown",
   "metadata": {},
   "source": [
    "### Create fitting data "
   ]
  },
  {
   "cell_type": "code",
   "execution_count": 88,
   "metadata": {},
   "outputs": [],
   "source": [
    "def create_dataset(df = None, Lag = 1, Horizon = 12, targetSeries = None, overlap = 1, includeDate = False):\n",
    "    \n",
    "    if (targetSeries is None):\n",
    "        print('[INFO] Target series is not defined')\n",
    "        return (None, None, None)\n",
    "    \n",
    "    dataX, CurrentValue, dataY = [], [], []\n",
    "    for i in tqdm( range(0, df.shape[0] + 1  - Lag - Horizon, overlap) ):\n",
    "\n",
    "        # Check for NaN values\n",
    "        if (df[i:i + Lag + Horizon].dropna().shape[0] != df[i:i + Lag + Horizon].shape[0]): continue\n",
    "        \n",
    "        # Instances: Lag-d differences\n",
    "        Instance  = (df.iloc[i+Lag-1] - df.iloc[i:(i+Lag-1)]).to_numpy().tolist() \n",
    "        \n",
    "        # Include date info\n",
    "        if (includeDate):            \n",
    "            myDate = [ np.sin(df[i:(i+Lag-1)].index.hour + df[i:(i+Lag-1)].index.minute / 60 ).tolist(), \n",
    "                       np.cos(df[i:(i+Lag-1)].index.hour + df[i:(i+Lag-1)].index.minute / 60 ).tolist() ]\n",
    "            myDate = np.asarray( myDate ).T\n",
    "            #\n",
    "            Instance = np.concatenate([Instance, myDate], axis = -1)\n",
    "\n",
    "        # Current value\n",
    "        CurrentValue.append( df[ targetSeries ].to_numpy()[i+Lag-1] )\n",
    "        # Append instance\n",
    "        dataX.append( Instance ) \n",
    "                \n",
    "        # Target Instance\n",
    "        Instance = (df[ targetSeries ][i+Lag-1] - df[ targetSeries ].to_numpy()[i + Lag : i + Lag + Horizon])\n",
    "        # Append instance\n",
    "        dataY.append( Instance )\n",
    "\n",
    "        \n",
    "    return ( np.array(dataX), np.array(dataY), np.array(CurrentValue) )"
   ]
  },
  {
   "cell_type": "code",
   "execution_count": 89,
   "metadata": {},
   "outputs": [
    {
     "name": "stderr",
     "output_type": "stream",
     "text": [
      "100%|██████████| 8545/8545 [00:16<00:00, 532.00it/s]\n",
      "100%|██████████| 1070/1070 [00:03<00:00, 272.78it/s]\n"
     ]
    },
    {
     "name": "stdout",
     "output_type": "stream",
     "text": [
      "Training instances:     8545\n",
      "Testing instances:      1070\n"
     ]
    }
   ],
   "source": [
    "trainX, trainY, _                = create_dataset(df           = df_train, \n",
    "                                                  Lag          = Lag, \n",
    "                                                  Horizon      = Horizon, \n",
    "                                                  targetSeries = targetSeries,\n",
    "                                                  includeDate  = False,\n",
    "                                                  overlap      = 1,)\n",
    "\n",
    "testX,  testY, test_CurrentValue = create_dataset(df           = df_test, \n",
    "                                                  Lag          = Lag, \n",
    "                                                  Horizon      = Horizon, \n",
    "                                                  targetSeries = targetSeries,\n",
    "                                                  includeDate  = False,                                                \n",
    "                                                  overlap      = Horizon,)\n",
    "\n",
    "\n",
    "# trainX = np.expand_dims(trainX, axis=-1)\n",
    "# testX  = np.expand_dims(testX, axis=-1)\n",
    "print('Training instances:   %6i' % trainX.shape[0])\n",
    "print('Testing instances:    %6i' % testX.shape[0])"
   ]
  },
  {
   "cell_type": "markdown",
   "metadata": {},
   "source": [
    "# Forecasting model"
   ]
  },
  {
   "cell_type": "code",
   "execution_count": 90,
   "metadata": {},
   "outputs": [],
   "source": [
    "# Define metrics\n",
    "#\n",
    "metrics = [\n",
    "            MeanAbsolutePercentageError(name = \"MAPE\", dtype = None),\n",
    "            RootMeanSquaredError(name = 'RMSE', dtype = None),\n",
    "          ]"
   ]
  },
  {
   "cell_type": "code",
   "execution_count": 91,
   "metadata": {},
   "outputs": [],
   "source": [
    "from   tensorflow.keras.layers                  import *\n",
    "from   tensorflow.keras.models                  import *\n",
    "# Inputs\n",
    "#\n",
    "Inputs = Input(shape = (trainX.shape[1], trainX.shape[2]))\n",
    "\n",
    "\n",
    "# Encoder\n",
    "#\n",
    "Encoder = LSTM(units = 100, activation='relu')( Inputs )\n",
    "# Decoder\n",
    "#\n",
    "Decoder = RepeatVector( Horizon )(Encoder)\n",
    "#\n",
    "Decoder = LSTM(units = 100, activation='relu')(Decoder)\n",
    "\n",
    "# Output\n",
    "#\n",
    "# Outputs =  TimeDistributed(Dense(1, activation='linear'))( Decoder )\n",
    "Outputs =  Dense( Horizon, activation='linear' )( Decoder )\n",
    "\n",
    "\n",
    "# Create model\n",
    "#\n",
    "model = Model(inputs = Inputs, outputs = Outputs)"
   ]
  },
  {
   "cell_type": "markdown",
   "metadata": {},
   "source": [
    "## Training forecasting model"
   ]
  },
  {
   "cell_type": "code",
   "execution_count": 92,
   "metadata": {},
   "outputs": [],
   "source": [
    "# Define metrics\n",
    "#\n",
    "metrics = [\n",
    "            MeanAbsoluteError(name = \"MAE\", dtype = None),\n",
    "            RootMeanSquaredError(name = 'RMSE', dtype = None),\n",
    "          ]\n",
    "\n",
    "\n",
    "model.compile(loss      = 'mse', \n",
    "              optimizer = Adam(learning_rate = 5.e-4), \n",
    "              metrics   = metrics)"
   ]
  },
  {
   "cell_type": "code",
   "execution_count": 93,
   "metadata": {},
   "outputs": [],
   "source": [
    "# Checkpoint\n",
    "#\n",
    "checkpoint = ModelCheckpoint(\"checkpoints/Seq2Seq_LSTM_diff.hdf5\", \n",
    "                              monitor        = 'val_loss', \n",
    "                              verbose        = 0, \n",
    "                              save_best_only = True, \n",
    "                              mode           = 'min')\n",
    "\n",
    "# Earlystopping\n",
    "#\n",
    "earlystopping = EarlyStopping(monitor       = 'val_loss', \n",
    "                              mode          = 'min', \n",
    "                              verbose       = 1, \n",
    "                              patience      = 20)\n",
    "\n",
    "# Learning rate adjustment\n",
    "#\n",
    "lrs_scheduler  = ReduceLROnPlateau(monitor     = 'val_loss', \n",
    "                                   factor      = 0.5,\n",
    "                                   patience    = 10)"
   ]
  },
  {
   "cell_type": "code",
   "execution_count": 94,
   "metadata": {
    "scrolled": true
   },
   "outputs": [
    {
     "name": "stdout",
     "output_type": "stream",
     "text": [
      "Epoch 1/100\n",
      "54/54 [==============================] - 7s 36ms/step - loss: 0.1908 - MAE: 0.2818 - RMSE: 0.4368 - val_loss: 0.2620 - val_MAE: 0.3305 - val_RMSE: 0.5118 - lr: 5.0000e-04\n",
      "Epoch 2/100\n",
      "54/54 [==============================] - 1s 22ms/step - loss: 0.1819 - MAE: 0.2791 - RMSE: 0.4265 - val_loss: 0.2516 - val_MAE: 0.3247 - val_RMSE: 0.5016 - lr: 5.0000e-04\n",
      "Epoch 3/100\n",
      "54/54 [==============================] - 1s 24ms/step - loss: 0.1792 - MAE: 0.2783 - RMSE: 0.4234 - val_loss: 0.2495 - val_MAE: 0.3276 - val_RMSE: 0.4995 - lr: 5.0000e-04\n",
      "Epoch 4/100\n",
      "54/54 [==============================] - 1s 25ms/step - loss: 0.1776 - MAE: 0.2786 - RMSE: 0.4214 - val_loss: 0.2464 - val_MAE: 0.3244 - val_RMSE: 0.4964 - lr: 5.0000e-04\n",
      "Epoch 5/100\n",
      "54/54 [==============================] - 1s 22ms/step - loss: 0.1766 - MAE: 0.2773 - RMSE: 0.4203 - val_loss: 0.2424 - val_MAE: 0.3229 - val_RMSE: 0.4924 - lr: 5.0000e-04\n",
      "Epoch 6/100\n",
      "54/54 [==============================] - 1s 24ms/step - loss: 0.1759 - MAE: 0.2778 - RMSE: 0.4194 - val_loss: 0.2424 - val_MAE: 0.3294 - val_RMSE: 0.4923 - lr: 5.0000e-04\n",
      "Epoch 7/100\n",
      "54/54 [==============================] - 1s 23ms/step - loss: 0.1755 - MAE: 0.2780 - RMSE: 0.4189 - val_loss: 0.2405 - val_MAE: 0.3282 - val_RMSE: 0.4904 - lr: 5.0000e-04\n",
      "Epoch 8/100\n",
      "54/54 [==============================] - 1s 25ms/step - loss: 0.1742 - MAE: 0.2775 - RMSE: 0.4173 - val_loss: 0.2413 - val_MAE: 0.3280 - val_RMSE: 0.4912 - lr: 5.0000e-04\n",
      "Epoch 9/100\n",
      "54/54 [==============================] - 1s 26ms/step - loss: 0.1750 - MAE: 0.2779 - RMSE: 0.4183 - val_loss: 0.2402 - val_MAE: 0.3195 - val_RMSE: 0.4901 - lr: 5.0000e-04\n",
      "Epoch 10/100\n",
      "54/54 [==============================] - 1s 25ms/step - loss: 0.1729 - MAE: 0.2760 - RMSE: 0.4158 - val_loss: 0.2345 - val_MAE: 0.3183 - val_RMSE: 0.4842 - lr: 5.0000e-04\n",
      "Epoch 11/100\n",
      "54/54 [==============================] - 1s 25ms/step - loss: 0.1723 - MAE: 0.2762 - RMSE: 0.4151 - val_loss: 0.2363 - val_MAE: 0.3249 - val_RMSE: 0.4861 - lr: 5.0000e-04\n",
      "Epoch 12/100\n",
      "54/54 [==============================] - 1s 25ms/step - loss: 0.1720 - MAE: 0.2772 - RMSE: 0.4147 - val_loss: 0.2347 - val_MAE: 0.3211 - val_RMSE: 0.4845 - lr: 5.0000e-04\n",
      "Epoch 13/100\n",
      "54/54 [==============================] - 1s 20ms/step - loss: 0.1717 - MAE: 0.2757 - RMSE: 0.4143 - val_loss: 0.2380 - val_MAE: 0.3172 - val_RMSE: 0.4879 - lr: 5.0000e-04\n",
      "Epoch 14/100\n",
      "54/54 [==============================] - 1s 23ms/step - loss: 0.1729 - MAE: 0.2768 - RMSE: 0.4158 - val_loss: 0.2372 - val_MAE: 0.3195 - val_RMSE: 0.4870 - lr: 5.0000e-04\n",
      "Epoch 15/100\n",
      "54/54 [==============================] - 1s 25ms/step - loss: 0.1705 - MAE: 0.2754 - RMSE: 0.4129 - val_loss: 0.2321 - val_MAE: 0.3219 - val_RMSE: 0.4817 - lr: 5.0000e-04\n",
      "Epoch 16/100\n",
      "54/54 [==============================] - 1s 20ms/step - loss: 0.1698 - MAE: 0.2747 - RMSE: 0.4121 - val_loss: 0.2316 - val_MAE: 0.3186 - val_RMSE: 0.4813 - lr: 5.0000e-04\n",
      "Epoch 17/100\n",
      "54/54 [==============================] - 1s 23ms/step - loss: 0.1695 - MAE: 0.2749 - RMSE: 0.4117 - val_loss: 0.2361 - val_MAE: 0.3214 - val_RMSE: 0.4859 - lr: 5.0000e-04\n",
      "Epoch 18/100\n",
      "54/54 [==============================] - 1s 22ms/step - loss: 0.1695 - MAE: 0.2739 - RMSE: 0.4117 - val_loss: 0.2317 - val_MAE: 0.3192 - val_RMSE: 0.4813 - lr: 5.0000e-04\n",
      "Epoch 19/100\n",
      "54/54 [==============================] - 1s 23ms/step - loss: 0.1688 - MAE: 0.2738 - RMSE: 0.4109 - val_loss: 0.2328 - val_MAE: 0.3194 - val_RMSE: 0.4825 - lr: 5.0000e-04\n",
      "Epoch 20/100\n",
      "54/54 [==============================] - 1s 23ms/step - loss: 0.1690 - MAE: 0.2753 - RMSE: 0.4111 - val_loss: 0.2329 - val_MAE: 0.3185 - val_RMSE: 0.4826 - lr: 5.0000e-04\n",
      "Epoch 21/100\n",
      "54/54 [==============================] - 1s 25ms/step - loss: 0.1683 - MAE: 0.2739 - RMSE: 0.4103 - val_loss: 0.2315 - val_MAE: 0.3212 - val_RMSE: 0.4811 - lr: 5.0000e-04\n",
      "Epoch 22/100\n",
      "54/54 [==============================] - 1s 23ms/step - loss: 0.1682 - MAE: 0.2733 - RMSE: 0.4101 - val_loss: 0.2307 - val_MAE: 0.3179 - val_RMSE: 0.4803 - lr: 5.0000e-04\n",
      "Epoch 23/100\n",
      "54/54 [==============================] - 1s 23ms/step - loss: 0.1681 - MAE: 0.2748 - RMSE: 0.4100 - val_loss: 0.2309 - val_MAE: 0.3174 - val_RMSE: 0.4805 - lr: 5.0000e-04\n",
      "Epoch 24/100\n",
      "54/54 [==============================] - 1s 22ms/step - loss: 0.1669 - MAE: 0.2731 - RMSE: 0.4085 - val_loss: 0.2382 - val_MAE: 0.3276 - val_RMSE: 0.4881 - lr: 5.0000e-04\n",
      "Epoch 25/100\n",
      "54/54 [==============================] - 1s 24ms/step - loss: 0.1680 - MAE: 0.2736 - RMSE: 0.4098 - val_loss: 0.2316 - val_MAE: 0.3190 - val_RMSE: 0.4813 - lr: 5.0000e-04\n",
      "Epoch 26/100\n",
      "54/54 [==============================] - 1s 22ms/step - loss: 0.1670 - MAE: 0.2725 - RMSE: 0.4086 - val_loss: 0.2311 - val_MAE: 0.3232 - val_RMSE: 0.4808 - lr: 5.0000e-04\n",
      "Epoch 27/100\n",
      "54/54 [==============================] - 1s 22ms/step - loss: 0.1664 - MAE: 0.2732 - RMSE: 0.4079 - val_loss: 0.2326 - val_MAE: 0.3179 - val_RMSE: 0.4822 - lr: 5.0000e-04\n",
      "Epoch 28/100\n",
      "54/54 [==============================] - 1s 25ms/step - loss: 0.1663 - MAE: 0.2728 - RMSE: 0.4078 - val_loss: 0.2351 - val_MAE: 0.3162 - val_RMSE: 0.4849 - lr: 5.0000e-04\n",
      "Epoch 29/100\n",
      "54/54 [==============================] - 1s 25ms/step - loss: 0.1661 - MAE: 0.2719 - RMSE: 0.4075 - val_loss: 0.2324 - val_MAE: 0.3198 - val_RMSE: 0.4821 - lr: 5.0000e-04\n",
      "Epoch 30/100\n",
      "54/54 [==============================] - 1s 23ms/step - loss: 0.1666 - MAE: 0.2732 - RMSE: 0.4082 - val_loss: 0.2308 - val_MAE: 0.3179 - val_RMSE: 0.4805 - lr: 5.0000e-04\n",
      "Epoch 31/100\n",
      "54/54 [==============================] - 1s 25ms/step - loss: 0.1666 - MAE: 0.2734 - RMSE: 0.4081 - val_loss: 0.2292 - val_MAE: 0.3154 - val_RMSE: 0.4788 - lr: 5.0000e-04\n",
      "Epoch 32/100\n",
      "54/54 [==============================] - 1s 23ms/step - loss: 0.1664 - MAE: 0.2717 - RMSE: 0.4080 - val_loss: 0.2316 - val_MAE: 0.3164 - val_RMSE: 0.4813 - lr: 5.0000e-04\n",
      "Epoch 33/100\n",
      "54/54 [==============================] - 1s 22ms/step - loss: 0.1650 - MAE: 0.2723 - RMSE: 0.4063 - val_loss: 0.2309 - val_MAE: 0.3240 - val_RMSE: 0.4805 - lr: 5.0000e-04\n",
      "Epoch 34/100\n",
      "54/54 [==============================] - 1s 24ms/step - loss: 0.1661 - MAE: 0.2729 - RMSE: 0.4075 - val_loss: 0.2347 - val_MAE: 0.3191 - val_RMSE: 0.4845 - lr: 5.0000e-04\n",
      "Epoch 35/100\n",
      "54/54 [==============================] - 1s 24ms/step - loss: 0.1654 - MAE: 0.2717 - RMSE: 0.4067 - val_loss: 0.2290 - val_MAE: 0.3192 - val_RMSE: 0.4785 - lr: 5.0000e-04\n",
      "Epoch 36/100\n",
      "54/54 [==============================] - 1s 22ms/step - loss: 0.1649 - MAE: 0.2723 - RMSE: 0.4060 - val_loss: 0.2334 - val_MAE: 0.3207 - val_RMSE: 0.4831 - lr: 5.0000e-04\n",
      "Epoch 37/100\n",
      "54/54 [==============================] - 1s 26ms/step - loss: 0.1649 - MAE: 0.2714 - RMSE: 0.4061 - val_loss: 0.2285 - val_MAE: 0.3186 - val_RMSE: 0.4780 - lr: 5.0000e-04\n",
      "Epoch 38/100\n",
      "54/54 [==============================] - 1s 23ms/step - loss: 0.1645 - MAE: 0.2717 - RMSE: 0.4056 - val_loss: 0.2307 - val_MAE: 0.3196 - val_RMSE: 0.4803 - lr: 5.0000e-04\n",
      "Epoch 39/100\n",
      "54/54 [==============================] - 1s 24ms/step - loss: 0.1644 - MAE: 0.2718 - RMSE: 0.4054 - val_loss: 0.2303 - val_MAE: 0.3184 - val_RMSE: 0.4799 - lr: 5.0000e-04\n",
      "Epoch 40/100\n",
      "54/54 [==============================] - 1s 22ms/step - loss: 0.1636 - MAE: 0.2710 - RMSE: 0.4045 - val_loss: 0.2313 - val_MAE: 0.3196 - val_RMSE: 0.4809 - lr: 5.0000e-04\n",
      "Epoch 41/100\n",
      "54/54 [==============================] - 1s 22ms/step - loss: 0.1629 - MAE: 0.2692 - RMSE: 0.4036 - val_loss: 0.2329 - val_MAE: 0.3237 - val_RMSE: 0.4826 - lr: 5.0000e-04\n",
      "Epoch 42/100\n",
      "54/54 [==============================] - 1s 20ms/step - loss: 0.1633 - MAE: 0.2716 - RMSE: 0.4041 - val_loss: 0.2310 - val_MAE: 0.3213 - val_RMSE: 0.4807 - lr: 5.0000e-04\n",
      "Epoch 43/100\n",
      "54/54 [==============================] - 1s 19ms/step - loss: 0.1628 - MAE: 0.2705 - RMSE: 0.4035 - val_loss: 0.2292 - val_MAE: 0.3217 - val_RMSE: 0.4787 - lr: 5.0000e-04\n",
      "Epoch 44/100\n",
      "54/54 [==============================] - 1s 22ms/step - loss: 0.1634 - MAE: 0.2714 - RMSE: 0.4042 - val_loss: 0.2300 - val_MAE: 0.3191 - val_RMSE: 0.4796 - lr: 5.0000e-04\n",
      "Epoch 45/100\n",
      "54/54 [==============================] - 1s 19ms/step - loss: 0.1628 - MAE: 0.2698 - RMSE: 0.4035 - val_loss: 0.2297 - val_MAE: 0.3218 - val_RMSE: 0.4793 - lr: 5.0000e-04\n",
      "Epoch 46/100\n",
      "54/54 [==============================] - 1s 20ms/step - loss: 0.1623 - MAE: 0.2695 - RMSE: 0.4028 - val_loss: 0.2308 - val_MAE: 0.3246 - val_RMSE: 0.4804 - lr: 5.0000e-04\n",
      "Epoch 47/100\n",
      "54/54 [==============================] - 1s 20ms/step - loss: 0.1633 - MAE: 0.2709 - RMSE: 0.4041 - val_loss: 0.2277 - val_MAE: 0.3246 - val_RMSE: 0.4771 - lr: 5.0000e-04\n",
      "Epoch 48/100\n",
      "54/54 [==============================] - 1s 21ms/step - loss: 0.1631 - MAE: 0.2711 - RMSE: 0.4039 - val_loss: 0.2309 - val_MAE: 0.3199 - val_RMSE: 0.4805 - lr: 5.0000e-04\n",
      "Epoch 49/100\n",
      "54/54 [==============================] - 1s 18ms/step - loss: 0.1622 - MAE: 0.2701 - RMSE: 0.4028 - val_loss: 0.2289 - val_MAE: 0.3230 - val_RMSE: 0.4785 - lr: 5.0000e-04\n",
      "Epoch 50/100\n",
      "54/54 [==============================] - 1s 19ms/step - loss: 0.1614 - MAE: 0.2698 - RMSE: 0.4017 - val_loss: 0.2322 - val_MAE: 0.3178 - val_RMSE: 0.4819 - lr: 5.0000e-04\n",
      "Epoch 51/100\n",
      "54/54 [==============================] - 1s 20ms/step - loss: 0.1626 - MAE: 0.2690 - RMSE: 0.4033 - val_loss: 0.2280 - val_MAE: 0.3222 - val_RMSE: 0.4775 - lr: 5.0000e-04\n",
      "Epoch 52/100\n",
      "54/54 [==============================] - 1s 18ms/step - loss: 0.1607 - MAE: 0.2691 - RMSE: 0.4009 - val_loss: 0.2305 - val_MAE: 0.3169 - val_RMSE: 0.4801 - lr: 5.0000e-04\n",
      "Epoch 53/100\n",
      "54/54 [==============================] - 1s 18ms/step - loss: 0.1610 - MAE: 0.2688 - RMSE: 0.4013 - val_loss: 0.2381 - val_MAE: 0.3188 - val_RMSE: 0.4879 - lr: 5.0000e-04\n",
      "Epoch 54/100\n",
      "54/54 [==============================] - 1s 19ms/step - loss: 0.1608 - MAE: 0.2692 - RMSE: 0.4010 - val_loss: 0.2312 - val_MAE: 0.3234 - val_RMSE: 0.4808 - lr: 5.0000e-04\n",
      "Epoch 55/100\n",
      "54/54 [==============================] - 1s 19ms/step - loss: 0.1599 - MAE: 0.2689 - RMSE: 0.3998 - val_loss: 0.2327 - val_MAE: 0.3179 - val_RMSE: 0.4823 - lr: 5.0000e-04\n",
      "Epoch 56/100\n",
      "54/54 [==============================] - 1s 19ms/step - loss: 0.1608 - MAE: 0.2684 - RMSE: 0.4010 - val_loss: 0.2277 - val_MAE: 0.3237 - val_RMSE: 0.4771 - lr: 5.0000e-04\n",
      "Epoch 57/100\n",
      "54/54 [==============================] - 1s 22ms/step - loss: 0.1600 - MAE: 0.2674 - RMSE: 0.3999 - val_loss: 0.2256 - val_MAE: 0.3200 - val_RMSE: 0.4749 - lr: 5.0000e-04\n",
      "Epoch 58/100\n",
      "54/54 [==============================] - 1s 19ms/step - loss: 0.1600 - MAE: 0.2697 - RMSE: 0.4000 - val_loss: 0.2300 - val_MAE: 0.3178 - val_RMSE: 0.4796 - lr: 5.0000e-04\n",
      "Epoch 59/100\n",
      "54/54 [==============================] - 1s 19ms/step - loss: 0.1604 - MAE: 0.2675 - RMSE: 0.4005 - val_loss: 0.2380 - val_MAE: 0.3211 - val_RMSE: 0.4878 - lr: 5.0000e-04\n",
      "Epoch 60/100\n",
      "54/54 [==============================] - 1s 20ms/step - loss: 0.1601 - MAE: 0.2693 - RMSE: 0.4002 - val_loss: 0.2285 - val_MAE: 0.3259 - val_RMSE: 0.4781 - lr: 5.0000e-04\n",
      "Epoch 61/100\n",
      "54/54 [==============================] - 1s 20ms/step - loss: 0.1596 - MAE: 0.2683 - RMSE: 0.3995 - val_loss: 0.2318 - val_MAE: 0.3210 - val_RMSE: 0.4814 - lr: 5.0000e-04\n",
      "Epoch 62/100\n",
      "54/54 [==============================] - 1s 19ms/step - loss: 0.1587 - MAE: 0.2684 - RMSE: 0.3983 - val_loss: 0.2346 - val_MAE: 0.3187 - val_RMSE: 0.4844 - lr: 5.0000e-04\n",
      "Epoch 63/100\n",
      "54/54 [==============================] - 1s 17ms/step - loss: 0.1597 - MAE: 0.2680 - RMSE: 0.3996 - val_loss: 0.2313 - val_MAE: 0.3172 - val_RMSE: 0.4809 - lr: 5.0000e-04\n",
      "Epoch 64/100\n",
      "54/54 [==============================] - 1s 18ms/step - loss: 0.1591 - MAE: 0.2680 - RMSE: 0.3988 - val_loss: 0.2266 - val_MAE: 0.3171 - val_RMSE: 0.4761 - lr: 5.0000e-04\n",
      "Epoch 65/100\n",
      "54/54 [==============================] - 1s 20ms/step - loss: 0.1581 - MAE: 0.2676 - RMSE: 0.3977 - val_loss: 0.2290 - val_MAE: 0.3192 - val_RMSE: 0.4785 - lr: 5.0000e-04\n",
      "Epoch 66/100\n",
      "54/54 [==============================] - 1s 19ms/step - loss: 0.1578 - MAE: 0.2669 - RMSE: 0.3972 - val_loss: 0.2322 - val_MAE: 0.3181 - val_RMSE: 0.4818 - lr: 5.0000e-04\n",
      "Epoch 67/100\n",
      "54/54 [==============================] - 1s 18ms/step - loss: 0.1585 - MAE: 0.2674 - RMSE: 0.3982 - val_loss: 0.2284 - val_MAE: 0.3174 - val_RMSE: 0.4780 - lr: 5.0000e-04\n",
      "Epoch 68/100\n",
      "54/54 [==============================] - 1s 19ms/step - loss: 0.1560 - MAE: 0.2645 - RMSE: 0.3949 - val_loss: 0.2272 - val_MAE: 0.3182 - val_RMSE: 0.4766 - lr: 2.5000e-04\n",
      "Epoch 69/100\n",
      "54/54 [==============================] - 1s 15ms/step - loss: 0.1567 - MAE: 0.2665 - RMSE: 0.3959 - val_loss: 0.2257 - val_MAE: 0.3183 - val_RMSE: 0.4751 - lr: 2.5000e-04\n",
      "Epoch 70/100\n",
      "54/54 [==============================] - 1s 14ms/step - loss: 0.1551 - MAE: 0.2643 - RMSE: 0.3938 - val_loss: 0.2314 - val_MAE: 0.3204 - val_RMSE: 0.4811 - lr: 2.5000e-04\n",
      "Epoch 71/100\n",
      "54/54 [==============================] - 1s 13ms/step - loss: 0.1550 - MAE: 0.2652 - RMSE: 0.3937 - val_loss: 0.2275 - val_MAE: 0.3187 - val_RMSE: 0.4770 - lr: 2.5000e-04\n",
      "Epoch 72/100\n",
      "54/54 [==============================] - 1s 14ms/step - loss: 0.1547 - MAE: 0.2639 - RMSE: 0.3933 - val_loss: 0.2292 - val_MAE: 0.3203 - val_RMSE: 0.4788 - lr: 2.5000e-04\n",
      "Epoch 73/100\n",
      "54/54 [==============================] - 1s 13ms/step - loss: 0.1549 - MAE: 0.2648 - RMSE: 0.3936 - val_loss: 0.2251 - val_MAE: 0.3203 - val_RMSE: 0.4744 - lr: 2.5000e-04\n",
      "Epoch 74/100\n",
      "54/54 [==============================] - 1s 15ms/step - loss: 0.1539 - MAE: 0.2643 - RMSE: 0.3923 - val_loss: 0.2249 - val_MAE: 0.3177 - val_RMSE: 0.4742 - lr: 2.5000e-04\n",
      "Epoch 75/100\n",
      "54/54 [==============================] - 1s 14ms/step - loss: 0.1543 - MAE: 0.2648 - RMSE: 0.3928 - val_loss: 0.2303 - val_MAE: 0.3190 - val_RMSE: 0.4799 - lr: 2.5000e-04\n",
      "Epoch 76/100\n",
      "54/54 [==============================] - 1s 15ms/step - loss: 0.1537 - MAE: 0.2629 - RMSE: 0.3921 - val_loss: 0.2270 - val_MAE: 0.3205 - val_RMSE: 0.4764 - lr: 2.5000e-04\n",
      "Epoch 77/100\n",
      "54/54 [==============================] - 1s 13ms/step - loss: 0.1538 - MAE: 0.2645 - RMSE: 0.3922 - val_loss: 0.2287 - val_MAE: 0.3186 - val_RMSE: 0.4782 - lr: 2.5000e-04\n",
      "Epoch 78/100\n",
      "54/54 [==============================] - 1s 15ms/step - loss: 0.1543 - MAE: 0.2639 - RMSE: 0.3928 - val_loss: 0.2345 - val_MAE: 0.3174 - val_RMSE: 0.4843 - lr: 2.5000e-04\n",
      "Epoch 79/100\n",
      "54/54 [==============================] - 1s 14ms/step - loss: 0.1532 - MAE: 0.2641 - RMSE: 0.3914 - val_loss: 0.2269 - val_MAE: 0.3186 - val_RMSE: 0.4764 - lr: 2.5000e-04\n",
      "Epoch 80/100\n",
      "54/54 [==============================] - 1s 13ms/step - loss: 0.1527 - MAE: 0.2636 - RMSE: 0.3908 - val_loss: 0.2319 - val_MAE: 0.3232 - val_RMSE: 0.4815 - lr: 2.5000e-04\n",
      "Epoch 81/100\n",
      "54/54 [==============================] - 1s 13ms/step - loss: 0.1537 - MAE: 0.2633 - RMSE: 0.3920 - val_loss: 0.2272 - val_MAE: 0.3210 - val_RMSE: 0.4767 - lr: 2.5000e-04\n",
      "Epoch 82/100\n",
      "54/54 [==============================] - 1s 13ms/step - loss: 0.1522 - MAE: 0.2640 - RMSE: 0.3902 - val_loss: 0.2301 - val_MAE: 0.3191 - val_RMSE: 0.4797 - lr: 2.5000e-04\n",
      "Epoch 83/100\n",
      "54/54 [==============================] - 1s 15ms/step - loss: 0.1532 - MAE: 0.2634 - RMSE: 0.3914 - val_loss: 0.2258 - val_MAE: 0.3211 - val_RMSE: 0.4752 - lr: 2.5000e-04\n",
      "Epoch 84/100\n",
      "54/54 [==============================] - 1s 14ms/step - loss: 0.1526 - MAE: 0.2630 - RMSE: 0.3906 - val_loss: 0.2259 - val_MAE: 0.3196 - val_RMSE: 0.4753 - lr: 2.5000e-04\n",
      "Epoch 85/100\n",
      "54/54 [==============================] - 1s 13ms/step - loss: 0.1513 - MAE: 0.2627 - RMSE: 0.3890 - val_loss: 0.2266 - val_MAE: 0.3192 - val_RMSE: 0.4760 - lr: 1.2500e-04\n",
      "Epoch 86/100\n",
      "54/54 [==============================] - 1s 13ms/step - loss: 0.1509 - MAE: 0.2612 - RMSE: 0.3885 - val_loss: 0.2278 - val_MAE: 0.3185 - val_RMSE: 0.4772 - lr: 1.2500e-04\n",
      "Epoch 87/100\n",
      "54/54 [==============================] - 1s 14ms/step - loss: 0.1506 - MAE: 0.2617 - RMSE: 0.3880 - val_loss: 0.2269 - val_MAE: 0.3192 - val_RMSE: 0.4764 - lr: 1.2500e-04\n",
      "Epoch 88/100\n",
      "54/54 [==============================] - 1s 17ms/step - loss: 0.1504 - MAE: 0.2613 - RMSE: 0.3878 - val_loss: 0.2275 - val_MAE: 0.3197 - val_RMSE: 0.4769 - lr: 1.2500e-04\n",
      "Epoch 89/100\n",
      "54/54 [==============================] - 1s 12ms/step - loss: 0.1501 - MAE: 0.2618 - RMSE: 0.3874 - val_loss: 0.2271 - val_MAE: 0.3190 - val_RMSE: 0.4765 - lr: 1.2500e-04\n",
      "Epoch 90/100\n",
      "54/54 [==============================] - 1s 11ms/step - loss: 0.1499 - MAE: 0.2606 - RMSE: 0.3872 - val_loss: 0.2285 - val_MAE: 0.3219 - val_RMSE: 0.4780 - lr: 1.2500e-04\n",
      "Epoch 91/100\n",
      "54/54 [==============================] - 1s 11ms/step - loss: 0.1501 - MAE: 0.2610 - RMSE: 0.3874 - val_loss: 0.2272 - val_MAE: 0.3228 - val_RMSE: 0.4767 - lr: 1.2500e-04\n",
      "Epoch 92/100\n",
      "54/54 [==============================] - 1s 10ms/step - loss: 0.1497 - MAE: 0.2617 - RMSE: 0.3869 - val_loss: 0.2304 - val_MAE: 0.3184 - val_RMSE: 0.4800 - lr: 1.2500e-04\n",
      "Epoch 93/100\n",
      "54/54 [==============================] - 1s 10ms/step - loss: 0.1495 - MAE: 0.2600 - RMSE: 0.3866 - val_loss: 0.2264 - val_MAE: 0.3201 - val_RMSE: 0.4758 - lr: 1.2500e-04\n",
      "Epoch 94/100\n",
      "54/54 [==============================] - 1s 10ms/step - loss: 0.1495 - MAE: 0.2613 - RMSE: 0.3866 - val_loss: 0.2265 - val_MAE: 0.3190 - val_RMSE: 0.4760 - lr: 1.2500e-04\n",
      "Epoch 00094: early stopping\n"
     ]
    }
   ],
   "source": [
    "# Start clock\n",
    "#\n",
    "start = timeit.default_timer()\n",
    "\n",
    "\n",
    "score = model.fit(trainX, trainY, \n",
    "                  epochs           = epochs, \n",
    "                  batch_size       = batch_size, \n",
    "                  callbacks        = [checkpoint, earlystopping, lrs_scheduler],\n",
    "                  verbose          = True, \n",
    "                  shuffle          = True,\n",
    "                  validation_split = 0.2)\n",
    "\n",
    "\n",
    "# Terminate clock\n",
    "#\n",
    "stop = timeit.default_timer()"
   ]
  },
  {
   "cell_type": "code",
   "execution_count": 95,
   "metadata": {},
   "outputs": [
    {
     "data": {
      "image/png": "[encoded data removed]",
      "text/plain": [
       "<Figure size 1440x216 with 2 Axes>"
      ]
     },
     "metadata": {
      "needs_background": "light"
     },
     "output_type": "display_data"
    }
   ],
   "source": [
    "# Create figure\n",
    "#\n",
    "fig, ax = plt.subplots(nrows = 1, ncols = 2, figsize = (20, 3) )\n",
    "\n",
    "# Plot RMSE\n",
    "#\n",
    "ax[0].plot( score.history['RMSE'], marker = 'o');\n",
    "ax[0].plot( score.history['val_RMSE'], marker = 'o');\n",
    "ax[0].legend(['Training', 'Validation'], frameon = False, fontsize = 14);\n",
    "ax[0].set_title('RMSE');\n",
    "\n",
    "# Plot RMSE\n",
    "#\n",
    "ax[1].plot( score.history['MAE'], marker = 'o');\n",
    "ax[1].plot( score.history['val_MAE'], marker = 'o');\n",
    "ax[1].legend(['Training', 'Validation'], frameon = False, fontsize = 14);\n",
    "ax[1].set_title('MAE');"
   ]
  },
  {
   "cell_type": "markdown",
   "metadata": {},
   "source": [
    "## Load optimized forecasting model"
   ]
  },
  {
   "cell_type": "code",
   "execution_count": 96,
   "metadata": {},
   "outputs": [],
   "source": [
    "# Load the best model\n",
    "#\n",
    "model.load_weights('checkpoints/Seq2Seq_LSTM_diff.hdf5')"
   ]
  },
  {
   "cell_type": "markdown",
   "metadata": {},
   "source": [
    "# Evaluation"
   ]
  },
  {
   "cell_type": "markdown",
   "metadata": {},
   "source": [
    "## Get predictions"
   ]
  },
  {
   "cell_type": "code",
   "execution_count": 97,
   "metadata": {},
   "outputs": [],
   "source": [
    "# Get predictions\n",
    "#\n",
    "pred = model.predict( testX )"
   ]
  },
  {
   "cell_type": "markdown",
   "metadata": {},
   "source": [
    "## Inverse \"Lag-d Diff\" transformation"
   ]
  },
  {
   "cell_type": "code",
   "execution_count": 98,
   "metadata": {},
   "outputs": [],
   "source": [
    "for i in range( Horizon ):\n",
    "    testY[:, i] = test_CurrentValue - testY[:, i]\n",
    "    pred[:, i]  = test_CurrentValue - pred[:, i]"
   ]
  },
  {
   "cell_type": "markdown",
   "metadata": {},
   "source": [
    "## Apply inverse scaling/transformation"
   ]
  },
  {
   "cell_type": "code",
   "execution_count": 99,
   "metadata": {},
   "outputs": [],
   "source": [
    "# Apply inverse scaling\n",
    "#\n",
    "for i in range( Horizon ):\n",
    "    testY[:,  i] = scaler.inverse_transform( testY[:,  i].reshape(-1,1) ).squeeze(-1)\n",
    "    pred[:, i]   = scaler.inverse_transform( pred[:, i].reshape(-1,1) ).squeeze(-1)\n",
    "\n",
    "\n",
    "# Apply inverse transformation   \n",
    "#\n",
    "if (Transformation == True):\n",
    "    testY = np.exp( testY ) - VALUE\n",
    "    pred  = np.exp( pred )  - VALUE"
   ]
  },
  {
   "cell_type": "markdown",
   "metadata": {},
   "source": [
    "### Calculate Performance on Testing set"
   ]
  },
  {
   "cell_type": "code",
   "execution_count": 100,
   "metadata": {
    "scrolled": true
   },
   "outputs": [
    {
     "name": "stdout",
     "output_type": "stream",
     "text": [
      "[INFO] Feature:  CO\n",
      "------------------------------------------------\n",
      "Horizon:  1 MAE 16.06 RMSE 28.13 SMAPE:  7.59 R2: 0.79\n",
      "Horizon:  2 MAE 26.79 RMSE 45.68 SMAPE: 12.84 R2: 0.46\n"
     ]
    }
   ],
   "source": [
    "print('[INFO] Feature: ', targetSeries)\n",
    "print('------------------------------------------------')\n",
    "Performance_Foresting_Model = {'RMSE': [], 'MAE': [], 'SMAPE': [], 'R2' : []}\n",
    "\n",
    "for i in range( Horizon ):\n",
    "\n",
    "    Prices = pd.DataFrame([])        \n",
    "\n",
    "    Prices[targetSeries] = testY[:,i]\n",
    "    Prices['Prediction'] = pred[:,i]\n",
    "\n",
    "\n",
    "    # Evaluation\n",
    "    #\n",
    "    MAE, RMSE, MAPE, SMAPE, R2 = RegressionEvaluation( Prices )\n",
    "\n",
    "    # Store results\n",
    "    #\n",
    "    Performance_Foresting_Model['RMSE']    += [ RMSE    ]\n",
    "    Performance_Foresting_Model['MAE']     += [ MAE     ]\n",
    "    Performance_Foresting_Model['SMAPE']   += [ SMAPE   ]\n",
    "    Performance_Foresting_Model['R2']      += [ R2      ]\n",
    "\n",
    "    # Present results\n",
    "    #\n",
    "#     print('Horizon: ', i+1)\n",
    "#     print('> MAE:   ', MAE)\n",
    "#     print('> RMSE:  ', RMSE)\n",
    "#     print('> SMAPE: ', SMAPE)\n",
    "#     print('> R2:    ', R2)\n",
    "#     print()\n",
    "    \n",
    "    print('Horizon: %2i MAE %5.2f RMSE %5.2f SMAPE: %5.2f R2: %.2f' % (i+1, MAE, RMSE, SMAPE, R2) )"
   ]
  },
  {
   "cell_type": "markdown",
   "metadata": {},
   "source": [
    "### Reliability evaluation"
   ]
  },
  {
   "cell_type": "code",
   "execution_count": 101,
   "metadata": {},
   "outputs": [
    {
     "name": "stdout",
     "output_type": "stream",
     "text": [
      "[INFO] Feature:  CO\n",
      "------------------------------------------------\n"
     ]
    },
    {
     "data": {
      "image/png": "[encoded data removed]",
      "text/plain": [
       "<Figure size 1080x144 with 2 Axes>"
      ]
     },
     "metadata": {
      "needs_background": "light"
     },
     "output_type": "display_data"
    },
    {
     "data": {
      "image/png": "[encoded data removed]",
      "text/plain": [
       "<Figure size 1080x144 with 2 Axes>"
      ]
     },
     "metadata": {
      "needs_background": "light"
     },
     "output_type": "display_data"
    }
   ],
   "source": [
    "print('[INFO] Feature: ', targetSeries)\n",
    "print('------------------------------------------------')\n",
    "Performance_Foresting_Model = {'RMSE': [], 'MAE': [], 'SMAPE': [], 'R2' : []}\n",
    "\n",
    "for i in range( Horizon ):\n",
    "\n",
    "    Prices = pd.DataFrame([])        \n",
    "\n",
    "    Prices[targetSeries] = testY[:,i]\n",
    "    Prices['Prediction'] = pred[:,i]\n",
    "            \n",
    "            \n",
    "\n",
    "            \n",
    "    from scipy import stats\n",
    "    from statsmodels.graphics.tsaplots import plot_acf\n",
    "    \n",
    "    res = (Prices[targetSeries] - Prices['Prediction']).to_numpy()\n",
    "    \n",
    "    fig, ax = plt.subplots(nrows = 1, ncols = 2, figsize = (15, 2) )\n",
    "\n",
    "    ax[0].hist( res, bins = 100 )    \n",
    "    plot_acf( res, ax=ax[1] )       "
   ]
  },
  {
   "cell_type": "markdown",
   "metadata": {},
   "source": [
    "## Visualization"
   ]
  },
  {
   "cell_type": "code",
   "execution_count": 102,
   "metadata": {},
   "outputs": [
    {
     "data": {
      "image/png": "[encoded data removed]",
      "text/plain": [
       "<Figure size 1440x288 with 1 Axes>"
      ]
     },
     "metadata": {
      "needs_background": "light"
     },
     "output_type": "display_data"
    }
   ],
   "source": [
    "Prices = pd.DataFrame( [] )\n",
    "\n",
    "Prices[targetSeries] = testY.flatten()\n",
    "Prices['Prediction'] = pred.flatten()\n",
    "\n",
    "\n",
    "# Plot results\n",
    "#\n",
    "plt.figure( figsize = (20, 4) );\n",
    "#\n",
    "Prices[ targetSeries ][:200].plot(color = 'tab:blue', marker = 'o')\n",
    "Prices[ 'Prediction' ][:200].plot(color = 'tab:orange', marker = 'o')\n",
    "plt.show();\n"
   ]
  },
  {
   "cell_type": "markdown",
   "metadata": {},
   "source": [
    "### Examples"
   ]
  },
  {
   "cell_type": "code",
   "execution_count": 103,
   "metadata": {},
   "outputs": [],
   "source": [
    "# subplots = [331, 332, 333, 334, 335, 336,  337, 338, 339]\n",
    "# plt.figure( figsize = (20, 8) )\n",
    "# RandomInstances = [random.randint(1, testY.shape[0]) for i in range(0, 9)]\n",
    "# RandomInstances = [66, 62, 192, 448, 477, 1035, 34, 408, 860]\n",
    "\n",
    "# for plot_id, i in enumerate(RandomInstances):\n",
    "\n",
    "#     plt.subplot(subplots[plot_id])\n",
    "#     plt.grid()\n",
    "\n",
    "#     plt.plot(testY[i], color='g', marker = 'o', linewidth = 2)\n",
    "#     plt.plot(pred[i],  color='r', marker = 'o', linewidth = 2)\n",
    "\n",
    "#     plt.legend(['Future values', 'Prediction'], frameon = False, fontsize = 12)\n",
    "#     plt.ylim([90, 260])\n",
    "# plt.show()"
   ]
  },
  {
   "cell_type": "markdown",
   "metadata": {},
   "source": [
    "# Store predictions"
   ]
  },
  {
   "cell_type": "code",
   "execution_count": 104,
   "metadata": {},
   "outputs": [],
   "source": [
    "Outputs = pd.DataFrame( [] )\n",
    "\n",
    "\n",
    "Outputs[ targetSeries ] = testY.flatten()\n",
    "Outputs['Seq2Seq_LSTM_diff'] = pred.flatten()\n",
    "\n",
    "Outputs.to_csv('Predictions/Seq2Seq_LSTM_diff.csv')"
   ]
  },
  {
   "cell_type": "code",
   "execution_count": null,
   "metadata": {},
   "outputs": [],
   "source": []
  }
 ],
 "metadata": {
  "kernelspec": {
   "display_name": "Python 3.7.12 ('tensorflow')",
   "language": "python",
   "name": "python3"
  },
  "language_info": {
   "codemirror_mode": {
    "name": "ipython",
    "version": 3
   },
   "file_extension": ".py",
   "mimetype": "text/x-python",
   "name": "python",
   "nbconvert_exporter": "python",
   "pygments_lexer": "ipython3",
   "version": "3.7.12"
  },
  "toc": {
   "base_numbering": 1,
   "nav_menu": {},
   "number_sections": true,
   "sideBar": true,
   "skip_h1_title": false,
   "title_cell": "Table of Contents",
   "title_sidebar": "Contents",
   "toc_cell": false,
   "toc_position": {
    "height": "calc(100% - 180px)",
    "left": "10px",
    "top": "150px",
    "width": "307.1964416503906px"
   },
   "toc_section_display": true,
   "toc_window_display": true
  },
  "vscode": {
   "interpreter": {
    "hash": "7428b380d083f99fc04fcc5ca6fbebec3e7c66e9e3f92621c0f3007db81c1bd7"
   }
  }
 },
 "nbformat": 4,
 "nbformat_minor": 4
}
