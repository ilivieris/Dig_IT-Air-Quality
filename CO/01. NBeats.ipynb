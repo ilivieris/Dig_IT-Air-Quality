{
 "cells": [
  {
   "cell_type": "markdown",
   "metadata": {},
   "source": [
    "# Libraries"
   ]
  },
  {
   "cell_type": "markdown",
   "metadata": {},
   "source": [
    "##  Remove warnings"
   ]
  },
  {
   "cell_type": "code",
   "execution_count": 151,
   "metadata": {},
   "outputs": [],
   "source": [
    "import warnings\n",
    "warnings.filterwarnings(\"ignore\")"
   ]
  },
  {
   "cell_type": "markdown",
   "metadata": {},
   "source": [
    "## Import libraries"
   ]
  },
  {
   "cell_type": "code",
   "execution_count": 152,
   "metadata": {},
   "outputs": [],
   "source": [
    "# =-=-=-=-=-=-=-=-=-=-=-=-=-=-=-=-=-=-=-=-=-=-=-=-=-=-=-=-=-=-=-=-=-=-=-=-=-=\n",
    "# Basic libraries\n",
    "#\n",
    "import time\n",
    "import pickle\n",
    "import pandas    as pd\n",
    "import numpy     as np\n",
    "from   tqdm      import tqdm\n",
    "\n",
    "\n",
    "# =-=-=-=-=-=-=-=-=-=-=-=-=-=-=-=-=-=-=-=-=-=-=-=-=-=-=-=-=-=-=-=-=-=-=-=-=-=\n",
    "# Visualization library\n",
    "#\n",
    "import matplotlib.pyplot   as plt \n",
    "\n",
    "\n",
    "# =-=-=-=-=-=-=-=-=-=-=-=-=-=-=-=-=-=-=-=-=-=-=-=-=-=-=-=-=-=-=-=-=-=-=-=-=-=\n",
    "# Sklearn library\n",
    "#\n",
    "from sklearn.preprocessing import StandardScaler, MinMaxScaler, RobustScaler\n",
    "\n",
    "\n",
    "# =-=-=-=-=-=-=-=-=-=-=-=-=-=-=-=-=-=-=-=-=-=-=-=-=-=-=-=-=-=-=-=-=-=-=-=-=-=\n",
    "# Tensorflow library\n",
    "#\n",
    "import tensorflow \n",
    "from   tensorflow.keras.metrics                 import *\n",
    "from   tensorflow.keras.optimizers              import *\n",
    "from   tensorflow.keras.callbacks               import EarlyStopping\n",
    "from   tensorflow.keras.callbacks               import ModelCheckpoint\n",
    "from   tensorflow.keras.callbacks               import ReduceLROnPlateau\n",
    "\n",
    "\n",
    "# =-=-=-=-=-=-=-=-=-=-=-=-=-=-=-=-=-=-=-=-=-=-=-=-=-=-=-=-=-=-=-=-=-=-=-=-=-=-=-=-=-=-=-=-=-=-=-=-=-=-=-=-=-=-=-=-=-=-=-=-=-=-=-=-=-=-=-=-=-=-=-=-=-=-=-=-=\n",
    "#\n",
    "# User libraries\n",
    "#\n",
    "from utils.PerformanceMetrics import RegressionEvaluation\n",
    "from utils.plot_scatter       import *"
   ]
  },
  {
   "cell_type": "markdown",
   "metadata": {},
   "source": [
    "# Parameters"
   ]
  },
  {
   "cell_type": "markdown",
   "metadata": {},
   "source": [
    "## CUDA"
   ]
  },
  {
   "cell_type": "code",
   "execution_count": 153,
   "metadata": {},
   "outputs": [],
   "source": [
    "try:\n",
    "    gpus = tensorflow.config.list_physical_devices('GPU')\n",
    "    if gpus:\n",
    "        try:\n",
    "            # Currently, memory growth needs to be the same across GPUs\n",
    "            for gpu in gpus:\n",
    "                tensorflow.config.experimental.set_memory_growth(gpu, True)\n",
    "\n",
    "            logical_gpus = tensorflow.config.list_logical_devices('GPU')\n",
    "            print(len(gpus), \"Physical GPUs,\", len(logical_gpus), \"Logical GPUs\")\n",
    "\n",
    "        except RuntimeError as e:\n",
    "\n",
    "            # Memory growth must be set before GPUs have been initialized\n",
    "            print(e)\n",
    "except:\n",
    "    print('[INFO] Not GPU found')"
   ]
  },
  {
   "cell_type": "markdown",
   "metadata": {},
   "source": [
    "## Neural networks parameters"
   ]
  },
  {
   "cell_type": "code",
   "execution_count": 154,
   "metadata": {},
   "outputs": [],
   "source": [
    "Lag        =   12\n",
    "Horizon    =    2\n",
    "#\n",
    "epochs     =  100\n",
    "batch_size =  128"
   ]
  },
  {
   "cell_type": "markdown",
   "metadata": {},
   "source": [
    "# Data handling"
   ]
  },
  {
   "cell_type": "markdown",
   "metadata": {},
   "source": [
    "## Import data\n"
   ]
  },
  {
   "cell_type": "code",
   "execution_count": 155,
   "metadata": {},
   "outputs": [
    {
     "name": "stdout",
     "output_type": "stream",
     "text": [
      "[INFO] Data imported\n",
      "[INFO] Time: 0.32 seconds\n"
     ]
    },
    {
     "data": {
      "text/html": [
       "<div>\n",
       "<style scoped>\n",
       "    .dataframe tbody tr th:only-of-type {\n",
       "        vertical-align: middle;\n",
       "    }\n",
       "\n",
       "    .dataframe tbody tr th {\n",
       "        vertical-align: top;\n",
       "    }\n",
       "\n",
       "    .dataframe thead th {\n",
       "        text-align: right;\n",
       "    }\n",
       "</style>\n",
       "<table border=\"1\" class=\"dataframe\">\n",
       "  <thead>\n",
       "    <tr style=\"text-align: right;\">\n",
       "      <th></th>\n",
       "      <th>Date</th>\n",
       "      <th>Temperature</th>\n",
       "      <th>Humidity</th>\n",
       "      <th>PM2.5</th>\n",
       "      <th>PM10</th>\n",
       "      <th>NO2</th>\n",
       "      <th>CO</th>\n",
       "    </tr>\n",
       "  </thead>\n",
       "  <tbody>\n",
       "    <tr>\n",
       "      <th>0</th>\n",
       "      <td>2022-02-19 00:00:09</td>\n",
       "      <td>-2.4</td>\n",
       "      <td>86.0</td>\n",
       "      <td>2.7</td>\n",
       "      <td>4.9</td>\n",
       "      <td>212.0</td>\n",
       "      <td>263.0</td>\n",
       "    </tr>\n",
       "    <tr>\n",
       "      <th>1</th>\n",
       "      <td>2022-02-19 00:00:25</td>\n",
       "      <td>-2.4</td>\n",
       "      <td>86.0</td>\n",
       "      <td>2.7</td>\n",
       "      <td>7.6</td>\n",
       "      <td>209.0</td>\n",
       "      <td>261.0</td>\n",
       "    </tr>\n",
       "    <tr>\n",
       "      <th>2</th>\n",
       "      <td>2022-02-19 00:00:41</td>\n",
       "      <td>-2.4</td>\n",
       "      <td>86.0</td>\n",
       "      <td>2.6</td>\n",
       "      <td>7.3</td>\n",
       "      <td>204.0</td>\n",
       "      <td>258.0</td>\n",
       "    </tr>\n",
       "  </tbody>\n",
       "</table>\n",
       "</div>"
      ],
      "text/plain": [
       "                  Date  Temperature  Humidity  PM2.5  PM10    NO2     CO\n",
       "0  2022-02-19 00:00:09         -2.4      86.0    2.7   4.9  212.0  263.0\n",
       "1  2022-02-19 00:00:25         -2.4      86.0    2.7   7.6  209.0  261.0\n",
       "2  2022-02-19 00:00:41         -2.4      86.0    2.6   7.3  204.0  258.0"
      ]
     },
     "execution_count": 155,
     "metadata": {},
     "output_type": "execute_result"
    }
   ],
   "source": [
    "# =-=-=-=-=-=-=-=-=-=-=-=-=-=-=-=-=-=-=-=-=-=-=-=-=-=-=-=-=-=-=-=-=-=-=-=-=-=-=-=-=-=\n",
    "# Data concern the concentration from a mine in Norway\n",
    "# =-=-=-=-=-=-=-=-=-=-=-=-=-=-=-=-=-=-=-=-=-=-=-=-=-=-=-=-=-=-=-=-=-=-=-=-=-=-=-=-=-=\n",
    "\n",
    " \n",
    "\n",
    "# # Parameters\n",
    "#\n",
    "filename   = '../metadata/7-kanal-1.csv'\n",
    "\n",
    "Transformation  = True\n",
    "Scaling         = 'Standard'\n",
    "\n",
    "\n",
    "\n",
    "# Start timer\n",
    "#\n",
    "start = time.time()\n",
    "\n",
    "# Load data\n",
    "#\n",
    "df = pd.read_csv( filename )\n",
    "\n",
    "print('[INFO] Data imported')\n",
    "print('[INFO] Time: %.2f seconds' % (time.time() - start))\n",
    "\n",
    "df.head(3)"
   ]
  },
  {
   "cell_type": "code",
   "execution_count": 156,
   "id": "f104f130",
   "metadata": {},
   "outputs": [],
   "source": [
    "# # Parameters\n",
    "# #\n",
    "# filename   = '../Data/D-6-It.csv'\n",
    "\n",
    "# Transformation  = True\n",
    "# Scaling         = 'Standard'\n",
    "\n",
    "\n",
    "\n",
    "\n",
    "# # Start timer\n",
    "# #\n",
    "# start = time.time()\n",
    "\n",
    "# # Load data\n",
    "# #\n",
    "# df = pd.read_csv(filename, \n",
    "#                  sep = ',')\n",
    "\n",
    "\n",
    "# # Rename columns\n",
    "# #\n",
    "# df = df.rename(columns = {'created_at' : 'Date',\n",
    "#                           'field1' : 'Temperature',\n",
    "#                           'field2' : 'Humidity',\n",
    "#                           'field3' : 'PM2.5',\n",
    "#                           'field4' : 'PM10',\n",
    "#                           'field5' : 'NO2',\n",
    "#                           'field6' : 'CO',\n",
    "#                           'field7' : 'NH4',})\n",
    "\n",
    "\n",
    "\n",
    "# # End timer\n",
    "# #\n",
    "# print('[INFO] Time: %.2f' % (time.time() - start))\n",
    "\n",
    "# df.head( 3 )"
   ]
  },
  {
   "cell_type": "markdown",
   "metadata": {},
   "source": [
    "## Preprocess data"
   ]
  },
  {
   "cell_type": "markdown",
   "metadata": {},
   "source": [
    "### Set index"
   ]
  },
  {
   "cell_type": "code",
   "execution_count": 157,
   "metadata": {},
   "outputs": [
    {
     "data": {
      "text/html": [
       "<div>\n",
       "<style scoped>\n",
       "    .dataframe tbody tr th:only-of-type {\n",
       "        vertical-align: middle;\n",
       "    }\n",
       "\n",
       "    .dataframe tbody tr th {\n",
       "        vertical-align: top;\n",
       "    }\n",
       "\n",
       "    .dataframe thead th {\n",
       "        text-align: right;\n",
       "    }\n",
       "</style>\n",
       "<table border=\"1\" class=\"dataframe\">\n",
       "  <thead>\n",
       "    <tr style=\"text-align: right;\">\n",
       "      <th></th>\n",
       "      <th>NO2</th>\n",
       "      <th>CO</th>\n",
       "    </tr>\n",
       "    <tr>\n",
       "      <th>Date</th>\n",
       "      <th></th>\n",
       "      <th></th>\n",
       "    </tr>\n",
       "  </thead>\n",
       "  <tbody>\n",
       "    <tr>\n",
       "      <th>2022-02-19 00:00:00</th>\n",
       "      <td>168.631579</td>\n",
       "      <td>240.710526</td>\n",
       "    </tr>\n",
       "    <tr>\n",
       "      <th>2022-02-19 00:10:00</th>\n",
       "      <td>135.394737</td>\n",
       "      <td>227.473684</td>\n",
       "    </tr>\n",
       "    <tr>\n",
       "      <th>2022-02-19 00:20:00</th>\n",
       "      <td>141.447368</td>\n",
       "      <td>229.526316</td>\n",
       "    </tr>\n",
       "  </tbody>\n",
       "</table>\n",
       "</div>"
      ],
      "text/plain": [
       "                            NO2          CO\n",
       "Date                                       \n",
       "2022-02-19 00:00:00  168.631579  240.710526\n",
       "2022-02-19 00:10:00  135.394737  227.473684\n",
       "2022-02-19 00:20:00  141.447368  229.526316"
      ]
     },
     "execution_count": 157,
     "metadata": {},
     "output_type": "execute_result"
    }
   ],
   "source": [
    "# Convert Date to 'datetime64'\n",
    "#\n",
    "df['Date'] = df['Date'].astype('datetime64')\n",
    "\n",
    "# Set index\n",
    "#\n",
    "df.set_index('Date', inplace=True)\n",
    "\n",
    "\n",
    "df = df.resample('10min').mean()\n",
    "# df = pd.DataFrame( df[ ['CO'] ] )\n",
    "\n",
    "# The last feature is the target variable\n",
    "df = pd.DataFrame( df[ ['NO2', 'CO'] ] )\n",
    "# df = pd.DataFrame( df[ ['Temperature', 'Humidity', 'NO2', 'CO'] ] )\n",
    "\n",
    "\n",
    "df.head(3)"
   ]
  },
  {
   "cell_type": "code",
   "execution_count": 158,
   "metadata": {},
   "outputs": [],
   "source": [
    "# Set target series/Series which will be forecasted\n",
    "# \n",
    "targetSeries = df.columns[-1]\n",
    "\n",
    "# Set all other utilized features\n",
    "Features = df.columns[:-1]"
   ]
  },
  {
   "cell_type": "markdown",
   "metadata": {},
   "source": [
    "### Split Training/Testing"
   ]
  },
  {
   "cell_type": "code",
   "execution_count": 159,
   "metadata": {},
   "outputs": [],
   "source": [
    "idx = int( df.shape[0] * 0.8 )\n",
    "\n",
    "df_train = df[ :idx ]\n",
    "df_test  = df[ idx: ]"
   ]
  },
  {
   "cell_type": "markdown",
   "metadata": {},
   "source": [
    "### Visualization"
   ]
  },
  {
   "cell_type": "code",
   "execution_count": 160,
   "metadata": {},
   "outputs": [
    {
     "data": {
      "image/png": "[encoded data removed]",
      "text/plain": [
       "<Figure size 1440x288 with 1 Axes>"
      ]
     },
     "metadata": {
      "needs_background": "light"
     },
     "output_type": "display_data"
    }
   ],
   "source": [
    "plt.figure( figsize = (20, 4) );\n",
    "#\n",
    "df_train[ targetSeries ].plot()\n",
    "df_test[ targetSeries ].plot()\n",
    "#\n",
    "plt.legend(['Training', 'Testing'], fontsize = 12, frameon = False);\n",
    "plt.ylabel( targetSeries, size = 12);\n",
    "plt.xlabel( 'Time', size = 12);"
   ]
  },
  {
   "cell_type": "markdown",
   "metadata": {},
   "source": [
    "### Fixing Lag"
   ]
  },
  {
   "cell_type": "code",
   "execution_count": 161,
   "metadata": {},
   "outputs": [],
   "source": [
    "df_test = pd.concat([df_train.iloc[-Lag:], df_test])"
   ]
  },
  {
   "cell_type": "markdown",
   "metadata": {},
   "source": [
    "## Preprocessing"
   ]
  },
  {
   "cell_type": "markdown",
   "metadata": {},
   "source": [
    "## Data Transformation"
   ]
  },
  {
   "cell_type": "code",
   "execution_count": 162,
   "metadata": {},
   "outputs": [
    {
     "name": "stdout",
     "output_type": "stream",
     "text": [
      "[INFO] Data transformation applied\n"
     ]
    }
   ],
   "source": [
    "if (Transformation == True):\n",
    "    \n",
    "    print('[INFO] Data transformation applied')\n",
    "    \n",
    "    VALUE = np.ceil( max(abs( -df.min().min() ) + 1.0, 1.0) )\n",
    "    \n",
    "    df_train = np.log( df_train + VALUE)\n",
    "    df_test  = np.log( df_test  + VALUE)\n",
    "\n",
    "    # # Transformation parameter\n",
    "    # #\n",
    "    # d = {'parameter': VALUE}\n",
    "\n",
    "    # import json\n",
    "    # with open('checkpoints/Transformation.json', 'w') as fp:\n",
    "    #     json.dump(d, fp)\n",
    "    # print('[INFO] Parameters saved')\n",
    "\n",
    "else:\n",
    "    print('[INFO] No data transformation applied.')  "
   ]
  },
  {
   "cell_type": "code",
   "execution_count": 163,
   "metadata": {},
   "outputs": [
    {
     "name": "stdout",
     "output_type": "stream",
     "text": [
      "[INFO] Scaling: Standard\n"
     ]
    }
   ],
   "source": [
    "import pickle\n",
    "\n",
    "if (Scaling == 'MinMax'):\n",
    "    print('[INFO] Scaling: MinMax')\n",
    "    \n",
    "    # Set scaler\n",
    "    #\n",
    "    scaler = MinMaxScaler()\n",
    "    \n",
    "    df_train[ Features ] = scaler.fit_transform( df_train[ Features ].to_numpy().reshape(-1,1) )\n",
    "    df_test[ Features ]  = scaler.transform( df_test[ Features ].to_numpy().reshape(-1,1) )\n",
    "\n",
    "    # # Save Scaler\n",
    "    # #\n",
    "    # filename = 'checkpoints/Feature_scaler.pkl'\n",
    "    # pickle.dump(scaler, open(filename, 'wb'))\n",
    "    # print('[INFO] Feature scaler saved in ', filename)\n",
    "\n",
    "\n",
    "    # Scaling of Target Series\n",
    "    #\n",
    "    scaler = MinMaxScaler()\n",
    "    df_train[targetSeries] = scaler.fit_transform( df_train[ targetSeries ].to_numpy().reshape(-1,1) )\n",
    "    df_test[targetSeries]  = scaler.transform( df_test[ targetSeries ].to_numpy().reshape(-1,1) )\n",
    "            \n",
    "    # # Save Scaler\n",
    "    # #\n",
    "    # filename = 'checkpoints/Target_scaler.pkl'\n",
    "    # pickle.dump(scaler, open(filename, 'wb'))\n",
    "    # print('[INFO] Target scaler saved in ', filename)\n",
    "\n",
    "    \n",
    "elif (Scaling == 'Robust'):\n",
    "    print('[INFO] Scaling: Robust')\n",
    "    \n",
    "    # Set scaler\n",
    "    #\n",
    "    scaler = RobustScaler()\n",
    "    \n",
    "    df_train[ Features ] = scaler.fit_transform( df_train[ Features ].to_numpy().reshape(-1,1) )\n",
    "    df_test[ Features ]  = scaler.transform( df_test[ Features ].to_numpy().reshape(-1,1) )\n",
    "\n",
    "    # # Save Scaler\n",
    "    # #\n",
    "    # filename = 'checkpoints/Feature_scaler.pkl'\n",
    "    # pickle.dump(scaler, open(filename, 'wb'))\n",
    "    # print('[INFO] Feature scaler saved in ', filename)\n",
    "\n",
    "\n",
    "    # Scaling of Target Series\n",
    "    #\n",
    "    scaler = RobustScaler()\n",
    "    df_train[targetSeries] = scaler.fit_transform( df_train[ targetSeries ].to_numpy().reshape(-1,1) )\n",
    "    df_test[targetSeries]  = scaler.transform( df_test[ targetSeries ].to_numpy().reshape(-1,1) )\n",
    "            \n",
    "    # # Save Scaler\n",
    "    # #\n",
    "    # filename = 'checkpoints/Target_scaler.pkl'\n",
    "    # pickle.dump(scaler, open(filename, 'wb'))\n",
    "    # print('[INFO] Target scaler saved in ', filename)\n",
    "        \n",
    "elif (Scaling == 'Standard'):\n",
    "    print('[INFO] Scaling: Standard')\n",
    "\n",
    "    # Set scaler\n",
    "    #\n",
    "    scaler = StandardScaler()\n",
    "    \n",
    "    df_train[ Features ] = scaler.fit_transform( df_train[ Features ].to_numpy().reshape(-1,1) )\n",
    "    df_test[ Features ]  = scaler.transform( df_test[ Features ].to_numpy().reshape(-1,1) )\n",
    "\n",
    "    # # Save Scaler\n",
    "    # #\n",
    "    # filename = 'checkpoints/Feature_scaler.pkl'\n",
    "    # pickle.dump(scaler, open(filename, 'wb'))\n",
    "    # print('[INFO] Feature scaler saved in ', filename)\n",
    "\n",
    "\n",
    "    # Scaling of Target Series\n",
    "    #\n",
    "    scaler = StandardScaler()\n",
    "    df_train[targetSeries] = scaler.fit_transform( df_train[ targetSeries ].to_numpy().reshape(-1,1) )\n",
    "    df_test[targetSeries]  = scaler.transform( df_test[ targetSeries ].to_numpy().reshape(-1,1) )\n",
    "            \n",
    "    # # Save Scaler\n",
    "    # #\n",
    "    # filename = 'checkpoints/Target_scaler.pkl'\n",
    "    # pickle.dump(scaler, open(filename, 'wb'))\n",
    "    # print('[INFO] Target scaler saved in ', filename)       \n",
    "else:\n",
    "    print('[WARNING] Unknown data scaling. Standar scaling was selected')   "
   ]
  },
  {
   "cell_type": "markdown",
   "metadata": {},
   "source": [
    "### Include date/time features"
   ]
  },
  {
   "cell_type": "code",
   "execution_count": 164,
   "metadata": {},
   "outputs": [],
   "source": [
    "# df_train['Time (sin)'] = np.sin( df_train.index.hour + df_train.index.minute / 60 )\n",
    "# df_train['Time (cos)'] = np.cos( df_train.index.hour + df_train.index.minute / 60 )\n",
    "# #\n",
    "# df_test['Time (sin)']  = np.sin( df_test.index.hour + df_test.index.minute / 60 )\n",
    "# df_test['Time (cos)']  = np.cos( df_test.index.hour + df_test.index.minute / 60 )"
   ]
  },
  {
   "cell_type": "markdown",
   "metadata": {},
   "source": [
    "## Create Training/Testing data"
   ]
  },
  {
   "cell_type": "code",
   "execution_count": 165,
   "metadata": {},
   "outputs": [],
   "source": [
    "def create_dataset(df = None, Lag = 1, Horizon = 12, targetSeries = None, overlap = 1):\n",
    "    \n",
    "    if (targetSeries is None):\n",
    "        targetSeries = df.columns[-1]\n",
    "    \n",
    "    dataX, dataY = [], []\n",
    "    \n",
    "    for i in tqdm( range(0, df.shape[0] + 1  - Lag - Horizon, overlap) ):\n",
    "\n",
    "        # Check for NaN values\n",
    "        if (df[i:i + Lag + Horizon].dropna().shape[0] != df[i:i + Lag + Horizon].shape[0]): continue\n",
    "                \n",
    "        dataX.append( df.to_numpy()[i:(i+Lag)] )        \n",
    "        dataY.append( df[ targetSeries ].to_numpy()[i + Lag : i + Lag + Horizon] )\n",
    "        \n",
    "        \n",
    "    return ( np.array(dataX), np.array(dataY) )\n"
   ]
  },
  {
   "cell_type": "code",
   "execution_count": 166,
   "metadata": {},
   "outputs": [
    {
     "name": "stderr",
     "output_type": "stream",
     "text": [
      "100%|██████████| 8545/8545 [00:06<00:00, 1230.31it/s]\n",
      "100%|██████████| 1070/1070 [00:00<00:00, 1392.12it/s]"
     ]
    },
    {
     "name": "stdout",
     "output_type": "stream",
     "text": [
      "Training instances:     8545\n",
      "Testing instances:      1070\n"
     ]
    },
    {
     "name": "stderr",
     "output_type": "stream",
     "text": [
      "\n"
     ]
    }
   ],
   "source": [
    "trainX, trainY = create_dataset(df           = df_train, \n",
    "                                Lag          = Lag, \n",
    "                                Horizon      = Horizon, \n",
    "                                targetSeries = targetSeries,\n",
    "                                overlap      = 1,)\n",
    "                               \n",
    "\n",
    "testX,  testY  = create_dataset(df           = df_test, \n",
    "                                Lag          = Lag, \n",
    "                                Horizon      = Horizon, \n",
    "                                targetSeries = targetSeries,\n",
    "                                overlap      = Horizon,)\n",
    "\n",
    "\n",
    "print('Training instances:   %6i' % trainX.shape[0])\n",
    "print('Testing instances:    %6i' % testX.shape[0])"
   ]
  },
  {
   "cell_type": "markdown",
   "metadata": {},
   "source": [
    "# Forecasting model: NBeats"
   ]
  },
  {
   "cell_type": "code",
   "execution_count": 167,
   "metadata": {},
   "outputs": [],
   "source": [
    "import random, os\n",
    "seed = 42\n",
    "    \n",
    "random.seed(seed)\n",
    "os.environ[\"PYTHONHASHSEED\"] = str(seed)\n",
    "np.random.seed(seed)\n",
    "tensorflow.random.set_seed(seed)"
   ]
  },
  {
   "cell_type": "markdown",
   "metadata": {},
   "source": [
    "## Setup model"
   ]
  },
  {
   "cell_type": "code",
   "execution_count": 168,
   "metadata": {},
   "outputs": [],
   "source": [
    "from utils.NBeats_Keras import NBeatsNet\n",
    "\n",
    "model = NBeatsNet(stack_types         = (NBeatsNet.SEASONALITY_BLOCK, NBeatsNet.TREND_BLOCK),\n",
    "                  forecast_length     = Horizon,\n",
    "                  input_dim           = trainX.shape[2],\n",
    "                  backcast_length     = trainX.shape[1],\n",
    "                  hidden_layer_units  = 32, \n",
    "                  activation_function = 'elu')"
   ]
  },
  {
   "cell_type": "markdown",
   "metadata": {},
   "source": [
    "## Training parameters"
   ]
  },
  {
   "cell_type": "code",
   "execution_count": 169,
   "metadata": {},
   "outputs": [],
   "source": [
    "# Define metrics\n",
    "#\n",
    "metrics = [\n",
    "            MeanAbsoluteError(name = \"MAE\", dtype = None),\n",
    "            RootMeanSquaredError(name = 'RMSE', dtype = None),\n",
    "          ]\n",
    "\n",
    "model.compile(loss = 'mse', optimizer = Adam(learning_rate = 5.e-5), metrics = metrics)\n",
    "# "
   ]
  },
  {
   "cell_type": "code",
   "execution_count": 170,
   "metadata": {},
   "outputs": [],
   "source": [
    "# Checkpoint\n",
    "#\n",
    "checkpoint = ModelCheckpoint(\"checkpoints/NBeats.hdf5\", \n",
    "                              monitor        = 'val_loss', \n",
    "                              verbose        = 0, \n",
    "                              save_best_only = True, \n",
    "                              mode           = 'min')\n",
    "\n",
    "# Earlystopping\n",
    "earlystopping = EarlyStopping(monitor       = 'val_loss', \n",
    "                              mode          = 'min', \n",
    "                              verbose       = 1, \n",
    "                              patience      = 20)\n",
    "\n",
    "# Learning rate adjustment\n",
    "#\n",
    "lrs_scheduler  = ReduceLROnPlateau(monitor     = 'val_loss', \n",
    "                                   factor      = 0.5,\n",
    "                                   patience    = 10)"
   ]
  },
  {
   "cell_type": "markdown",
   "metadata": {},
   "source": [
    "## Training process"
   ]
  },
  {
   "cell_type": "code",
   "execution_count": 171,
   "metadata": {
    "scrolled": true
   },
   "outputs": [
    {
     "name": "stdout",
     "output_type": "stream",
     "text": [
      "Epoch 1/100\n",
      "54/54 [==============================] - 4s 20ms/step - loss: 0.7641 - MAE: 0.7244 - RMSE: 0.8742 - val_loss: 0.7652 - val_MAE: 0.7428 - val_RMSE: 0.8748 - lr: 5.0000e-05\n",
      "Epoch 2/100\n",
      "54/54 [==============================] - 0s 7ms/step - loss: 0.4812 - MAE: 0.5598 - RMSE: 0.6937 - val_loss: 0.5963 - val_MAE: 0.6350 - val_RMSE: 0.7722 - lr: 5.0000e-05\n",
      "Epoch 3/100\n",
      "54/54 [==============================] - 0s 8ms/step - loss: 0.3820 - MAE: 0.4883 - RMSE: 0.6180 - val_loss: 0.4954 - val_MAE: 0.5645 - val_RMSE: 0.7038 - lr: 5.0000e-05\n",
      "Epoch 4/100\n",
      "54/54 [==============================] - 0s 8ms/step - loss: 0.3228 - MAE: 0.4421 - RMSE: 0.5681 - val_loss: 0.4278 - val_MAE: 0.5119 - val_RMSE: 0.6540 - lr: 5.0000e-05\n",
      "Epoch 5/100\n",
      "54/54 [==============================] - 0s 6ms/step - loss: 0.2835 - MAE: 0.4058 - RMSE: 0.5325 - val_loss: 0.3818 - val_MAE: 0.4762 - val_RMSE: 0.6179 - lr: 5.0000e-05\n",
      "Epoch 6/100\n",
      "54/54 [==============================] - 0s 6ms/step - loss: 0.2563 - MAE: 0.3809 - RMSE: 0.5062 - val_loss: 0.3494 - val_MAE: 0.4467 - val_RMSE: 0.5911 - lr: 5.0000e-05\n",
      "Epoch 7/100\n",
      "54/54 [==============================] - 0s 9ms/step - loss: 0.2367 - MAE: 0.3616 - RMSE: 0.4865 - val_loss: 0.3249 - val_MAE: 0.4251 - val_RMSE: 0.5700 - lr: 5.0000e-05\n",
      "Epoch 8/100\n",
      "54/54 [==============================] - 0s 7ms/step - loss: 0.2224 - MAE: 0.3478 - RMSE: 0.4716 - val_loss: 0.3078 - val_MAE: 0.4066 - val_RMSE: 0.5548 - lr: 5.0000e-05\n",
      "Epoch 9/100\n",
      "54/54 [==============================] - 1s 10ms/step - loss: 0.2120 - MAE: 0.3367 - RMSE: 0.4605 - val_loss: 0.2950 - val_MAE: 0.3929 - val_RMSE: 0.5431 - lr: 5.0000e-05\n",
      "Epoch 10/100\n",
      "54/54 [==============================] - 0s 6ms/step - loss: 0.2041 - MAE: 0.3271 - RMSE: 0.4518 - val_loss: 0.2831 - val_MAE: 0.3864 - val_RMSE: 0.5320 - lr: 5.0000e-05\n",
      "Epoch 11/100\n",
      "54/54 [==============================] - 0s 8ms/step - loss: 0.1983 - MAE: 0.3208 - RMSE: 0.4454 - val_loss: 0.2751 - val_MAE: 0.3767 - val_RMSE: 0.5245 - lr: 5.0000e-05\n",
      "Epoch 12/100\n",
      "54/54 [==============================] - 0s 6ms/step - loss: 0.1937 - MAE: 0.3152 - RMSE: 0.4401 - val_loss: 0.2682 - val_MAE: 0.3739 - val_RMSE: 0.5179 - lr: 5.0000e-05\n",
      "Epoch 13/100\n",
      "54/54 [==============================] - 0s 7ms/step - loss: 0.1902 - MAE: 0.3107 - RMSE: 0.4361 - val_loss: 0.2630 - val_MAE: 0.3696 - val_RMSE: 0.5129 - lr: 5.0000e-05\n",
      "Epoch 14/100\n",
      "54/54 [==============================] - 0s 7ms/step - loss: 0.1873 - MAE: 0.3080 - RMSE: 0.4328 - val_loss: 0.2594 - val_MAE: 0.3593 - val_RMSE: 0.5093 - lr: 5.0000e-05\n",
      "Epoch 15/100\n",
      "54/54 [==============================] - 0s 6ms/step - loss: 0.1848 - MAE: 0.3041 - RMSE: 0.4298 - val_loss: 0.2557 - val_MAE: 0.3561 - val_RMSE: 0.5057 - lr: 5.0000e-05\n",
      "Epoch 16/100\n",
      "54/54 [==============================] - 0s 7ms/step - loss: 0.1827 - MAE: 0.3015 - RMSE: 0.4275 - val_loss: 0.2524 - val_MAE: 0.3543 - val_RMSE: 0.5024 - lr: 5.0000e-05\n",
      "Epoch 17/100\n",
      "54/54 [==============================] - 0s 8ms/step - loss: 0.1812 - MAE: 0.2993 - RMSE: 0.4257 - val_loss: 0.2499 - val_MAE: 0.3504 - val_RMSE: 0.4999 - lr: 5.0000e-05\n",
      "Epoch 18/100\n",
      "54/54 [==============================] - 0s 6ms/step - loss: 0.1796 - MAE: 0.2970 - RMSE: 0.4238 - val_loss: 0.2477 - val_MAE: 0.3488 - val_RMSE: 0.4977 - lr: 5.0000e-05\n",
      "Epoch 19/100\n",
      "54/54 [==============================] - 0s 7ms/step - loss: 0.1785 - MAE: 0.2950 - RMSE: 0.4225 - val_loss: 0.2456 - val_MAE: 0.3485 - val_RMSE: 0.4955 - lr: 5.0000e-05\n",
      "Epoch 20/100\n",
      "54/54 [==============================] - 0s 6ms/step - loss: 0.1774 - MAE: 0.2949 - RMSE: 0.4212 - val_loss: 0.2449 - val_MAE: 0.3431 - val_RMSE: 0.4949 - lr: 5.0000e-05\n",
      "Epoch 21/100\n",
      "54/54 [==============================] - 0s 7ms/step - loss: 0.1763 - MAE: 0.2926 - RMSE: 0.4199 - val_loss: 0.2433 - val_MAE: 0.3418 - val_RMSE: 0.4932 - lr: 5.0000e-05\n",
      "Epoch 22/100\n",
      "54/54 [==============================] - 0s 7ms/step - loss: 0.1755 - MAE: 0.2909 - RMSE: 0.4189 - val_loss: 0.2414 - val_MAE: 0.3434 - val_RMSE: 0.4913 - lr: 5.0000e-05\n",
      "Epoch 23/100\n",
      "54/54 [==============================] - 0s 8ms/step - loss: 0.1749 - MAE: 0.2908 - RMSE: 0.4182 - val_loss: 0.2404 - val_MAE: 0.3415 - val_RMSE: 0.4903 - lr: 5.0000e-05\n",
      "Epoch 24/100\n",
      "54/54 [==============================] - 0s 4ms/step - loss: 0.1739 - MAE: 0.2898 - RMSE: 0.4170 - val_loss: 0.2412 - val_MAE: 0.3365 - val_RMSE: 0.4911 - lr: 5.0000e-05\n",
      "Epoch 25/100\n",
      "54/54 [==============================] - 0s 7ms/step - loss: 0.1735 - MAE: 0.2886 - RMSE: 0.4166 - val_loss: 0.2402 - val_MAE: 0.3361 - val_RMSE: 0.4901 - lr: 5.0000e-05\n",
      "Epoch 26/100\n",
      "54/54 [==============================] - 0s 6ms/step - loss: 0.1729 - MAE: 0.2878 - RMSE: 0.4158 - val_loss: 0.2393 - val_MAE: 0.3347 - val_RMSE: 0.4891 - lr: 5.0000e-05\n",
      "Epoch 27/100\n",
      "54/54 [==============================] - 0s 3ms/step - loss: 0.1724 - MAE: 0.2870 - RMSE: 0.4152 - val_loss: 0.2396 - val_MAE: 0.3331 - val_RMSE: 0.4895 - lr: 5.0000e-05\n",
      "Epoch 28/100\n",
      "54/54 [==============================] - 0s 7ms/step - loss: 0.1717 - MAE: 0.2874 - RMSE: 0.4144 - val_loss: 0.2367 - val_MAE: 0.3347 - val_RMSE: 0.4866 - lr: 5.0000e-05\n",
      "Epoch 29/100\n",
      "54/54 [==============================] - 0s 7ms/step - loss: 0.1714 - MAE: 0.2856 - RMSE: 0.4140 - val_loss: 0.2364 - val_MAE: 0.3341 - val_RMSE: 0.4862 - lr: 5.0000e-05\n",
      "Epoch 30/100\n",
      "54/54 [==============================] - 0s 7ms/step - loss: 0.1709 - MAE: 0.2856 - RMSE: 0.4135 - val_loss: 0.2357 - val_MAE: 0.3351 - val_RMSE: 0.4855 - lr: 5.0000e-05\n",
      "Epoch 31/100\n",
      "54/54 [==============================] - 0s 8ms/step - loss: 0.1704 - MAE: 0.2843 - RMSE: 0.4128 - val_loss: 0.2355 - val_MAE: 0.3331 - val_RMSE: 0.4853 - lr: 5.0000e-05\n",
      "Epoch 32/100\n",
      "54/54 [==============================] - 0s 7ms/step - loss: 0.1702 - MAE: 0.2846 - RMSE: 0.4126 - val_loss: 0.2341 - val_MAE: 0.3359 - val_RMSE: 0.4838 - lr: 5.0000e-05\n",
      "Epoch 33/100\n",
      "54/54 [==============================] - 0s 8ms/step - loss: 0.1698 - MAE: 0.2834 - RMSE: 0.4121 - val_loss: 0.2340 - val_MAE: 0.3369 - val_RMSE: 0.4837 - lr: 5.0000e-05\n",
      "Epoch 34/100\n",
      "54/54 [==============================] - 0s 8ms/step - loss: 0.1698 - MAE: 0.2840 - RMSE: 0.4120 - val_loss: 0.2332 - val_MAE: 0.3368 - val_RMSE: 0.4829 - lr: 5.0000e-05\n",
      "Epoch 35/100\n",
      "54/54 [==============================] - 0s 8ms/step - loss: 0.1693 - MAE: 0.2831 - RMSE: 0.4115 - val_loss: 0.2332 - val_MAE: 0.3339 - val_RMSE: 0.4829 - lr: 5.0000e-05\n",
      "Epoch 36/100\n",
      "54/54 [==============================] - 0s 4ms/step - loss: 0.1690 - MAE: 0.2834 - RMSE: 0.4112 - val_loss: 0.2335 - val_MAE: 0.3317 - val_RMSE: 0.4833 - lr: 5.0000e-05\n",
      "Epoch 37/100\n",
      "54/54 [==============================] - 0s 6ms/step - loss: 0.1688 - MAE: 0.2825 - RMSE: 0.4108 - val_loss: 0.2322 - val_MAE: 0.3344 - val_RMSE: 0.4819 - lr: 5.0000e-05\n",
      "Epoch 38/100\n",
      "54/54 [==============================] - 0s 4ms/step - loss: 0.1688 - MAE: 0.2823 - RMSE: 0.4108 - val_loss: 0.2326 - val_MAE: 0.3321 - val_RMSE: 0.4823 - lr: 5.0000e-05\n",
      "Epoch 39/100\n",
      "54/54 [==============================] - 0s 4ms/step - loss: 0.1684 - MAE: 0.2830 - RMSE: 0.4103 - val_loss: 0.2329 - val_MAE: 0.3301 - val_RMSE: 0.4826 - lr: 5.0000e-05\n",
      "Epoch 40/100\n",
      "54/54 [==============================] - 0s 4ms/step - loss: 0.1685 - MAE: 0.2814 - RMSE: 0.4105 - val_loss: 0.2347 - val_MAE: 0.3288 - val_RMSE: 0.4844 - lr: 5.0000e-05\n",
      "Epoch 41/100\n",
      "54/54 [==============================] - 0s 4ms/step - loss: 0.1680 - MAE: 0.2810 - RMSE: 0.4099 - val_loss: 0.2327 - val_MAE: 0.3302 - val_RMSE: 0.4824 - lr: 5.0000e-05\n",
      "Epoch 42/100\n",
      "54/54 [==============================] - 0s 3ms/step - loss: 0.1678 - MAE: 0.2822 - RMSE: 0.4096 - val_loss: 0.2325 - val_MAE: 0.3292 - val_RMSE: 0.4822 - lr: 5.0000e-05\n",
      "Epoch 43/100\n",
      "54/54 [==============================] - 0s 7ms/step - loss: 0.1676 - MAE: 0.2808 - RMSE: 0.4094 - val_loss: 0.2313 - val_MAE: 0.3318 - val_RMSE: 0.4809 - lr: 5.0000e-05\n",
      "Epoch 44/100\n",
      "54/54 [==============================] - 0s 4ms/step - loss: 0.1677 - MAE: 0.2812 - RMSE: 0.4095 - val_loss: 0.2317 - val_MAE: 0.3303 - val_RMSE: 0.4814 - lr: 5.0000e-05\n",
      "Epoch 45/100\n",
      "54/54 [==============================] - 0s 7ms/step - loss: 0.1673 - MAE: 0.2804 - RMSE: 0.4090 - val_loss: 0.2308 - val_MAE: 0.3320 - val_RMSE: 0.4804 - lr: 5.0000e-05\n",
      "Epoch 46/100\n",
      "54/54 [==============================] - 0s 6ms/step - loss: 0.1672 - MAE: 0.2806 - RMSE: 0.4089 - val_loss: 0.2310 - val_MAE: 0.3310 - val_RMSE: 0.4806 - lr: 5.0000e-05\n",
      "Epoch 47/100\n",
      "54/54 [==============================] - 0s 5ms/step - loss: 0.1672 - MAE: 0.2803 - RMSE: 0.4089 - val_loss: 0.2310 - val_MAE: 0.3298 - val_RMSE: 0.4806 - lr: 5.0000e-05\n",
      "Epoch 48/100\n",
      "54/54 [==============================] - 0s 4ms/step - loss: 0.1670 - MAE: 0.2813 - RMSE: 0.4086 - val_loss: 0.2311 - val_MAE: 0.3285 - val_RMSE: 0.4807 - lr: 5.0000e-05\n",
      "Epoch 49/100\n",
      "54/54 [==============================] - 0s 6ms/step - loss: 0.1668 - MAE: 0.2790 - RMSE: 0.4084 - val_loss: 0.2306 - val_MAE: 0.3321 - val_RMSE: 0.4802 - lr: 5.0000e-05\n",
      "Epoch 50/100\n",
      "54/54 [==============================] - 0s 6ms/step - loss: 0.1670 - MAE: 0.2814 - RMSE: 0.4086 - val_loss: 0.2304 - val_MAE: 0.3326 - val_RMSE: 0.4800 - lr: 5.0000e-05\n",
      "Epoch 51/100\n",
      "54/54 [==============================] - 0s 4ms/step - loss: 0.1665 - MAE: 0.2797 - RMSE: 0.4081 - val_loss: 0.2307 - val_MAE: 0.3291 - val_RMSE: 0.4803 - lr: 5.0000e-05\n",
      "Epoch 52/100\n",
      "54/54 [==============================] - 0s 6ms/step - loss: 0.1666 - MAE: 0.2796 - RMSE: 0.4082 - val_loss: 0.2303 - val_MAE: 0.3340 - val_RMSE: 0.4799 - lr: 5.0000e-05\n",
      "Epoch 53/100\n",
      "54/54 [==============================] - 0s 4ms/step - loss: 0.1665 - MAE: 0.2807 - RMSE: 0.4081 - val_loss: 0.2316 - val_MAE: 0.3274 - val_RMSE: 0.4812 - lr: 5.0000e-05\n",
      "Epoch 54/100\n",
      "54/54 [==============================] - 0s 6ms/step - loss: 0.1664 - MAE: 0.2790 - RMSE: 0.4080 - val_loss: 0.2298 - val_MAE: 0.3309 - val_RMSE: 0.4794 - lr: 5.0000e-05\n",
      "Epoch 55/100\n",
      "54/54 [==============================] - 0s 4ms/step - loss: 0.1662 - MAE: 0.2801 - RMSE: 0.4076 - val_loss: 0.2302 - val_MAE: 0.3293 - val_RMSE: 0.4798 - lr: 5.0000e-05\n",
      "Epoch 56/100\n",
      "54/54 [==============================] - 0s 4ms/step - loss: 0.1663 - MAE: 0.2786 - RMSE: 0.4078 - val_loss: 0.2300 - val_MAE: 0.3308 - val_RMSE: 0.4796 - lr: 5.0000e-05\n",
      "Epoch 57/100\n",
      "54/54 [==============================] - 0s 6ms/step - loss: 0.1659 - MAE: 0.2795 - RMSE: 0.4074 - val_loss: 0.2298 - val_MAE: 0.3305 - val_RMSE: 0.4794 - lr: 5.0000e-05\n",
      "Epoch 58/100\n",
      "54/54 [==============================] - 0s 4ms/step - loss: 0.1662 - MAE: 0.2811 - RMSE: 0.4077 - val_loss: 0.2348 - val_MAE: 0.3259 - val_RMSE: 0.4845 - lr: 5.0000e-05\n",
      "Epoch 59/100\n",
      "54/54 [==============================] - 0s 4ms/step - loss: 0.1662 - MAE: 0.2787 - RMSE: 0.4077 - val_loss: 0.2303 - val_MAE: 0.3278 - val_RMSE: 0.4799 - lr: 5.0000e-05\n",
      "Epoch 60/100\n",
      "54/54 [==============================] - 0s 4ms/step - loss: 0.1658 - MAE: 0.2785 - RMSE: 0.4072 - val_loss: 0.2298 - val_MAE: 0.3313 - val_RMSE: 0.4794 - lr: 5.0000e-05\n",
      "Epoch 61/100\n",
      "54/54 [==============================] - 0s 7ms/step - loss: 0.1658 - MAE: 0.2805 - RMSE: 0.4072 - val_loss: 0.2292 - val_MAE: 0.3305 - val_RMSE: 0.4788 - lr: 5.0000e-05\n",
      "Epoch 62/100\n",
      "54/54 [==============================] - 0s 5ms/step - loss: 0.1657 - MAE: 0.2785 - RMSE: 0.4070 - val_loss: 0.2322 - val_MAE: 0.3272 - val_RMSE: 0.4819 - lr: 5.0000e-05\n",
      "Epoch 63/100\n",
      "54/54 [==============================] - 0s 4ms/step - loss: 0.1658 - MAE: 0.2788 - RMSE: 0.4071 - val_loss: 0.2297 - val_MAE: 0.3282 - val_RMSE: 0.4792 - lr: 5.0000e-05\n",
      "Epoch 64/100\n",
      "54/54 [==============================] - 0s 4ms/step - loss: 0.1655 - MAE: 0.2787 - RMSE: 0.4068 - val_loss: 0.2292 - val_MAE: 0.3304 - val_RMSE: 0.4788 - lr: 5.0000e-05\n",
      "Epoch 65/100\n",
      "54/54 [==============================] - 0s 4ms/step - loss: 0.1654 - MAE: 0.2784 - RMSE: 0.4067 - val_loss: 0.2297 - val_MAE: 0.3302 - val_RMSE: 0.4793 - lr: 5.0000e-05\n",
      "Epoch 66/100\n",
      "54/54 [==============================] - 0s 6ms/step - loss: 0.1653 - MAE: 0.2796 - RMSE: 0.4066 - val_loss: 0.2307 - val_MAE: 0.3268 - val_RMSE: 0.4804 - lr: 5.0000e-05\n",
      "Epoch 67/100\n",
      "54/54 [==============================] - 0s 5ms/step - loss: 0.1653 - MAE: 0.2782 - RMSE: 0.4066 - val_loss: 0.2293 - val_MAE: 0.3290 - val_RMSE: 0.4789 - lr: 5.0000e-05\n",
      "Epoch 68/100\n",
      "54/54 [==============================] - 0s 4ms/step - loss: 0.1654 - MAE: 0.2783 - RMSE: 0.4068 - val_loss: 0.2298 - val_MAE: 0.3282 - val_RMSE: 0.4794 - lr: 5.0000e-05\n",
      "Epoch 69/100\n",
      "54/54 [==============================] - 0s 6ms/step - loss: 0.1653 - MAE: 0.2792 - RMSE: 0.4065 - val_loss: 0.2291 - val_MAE: 0.3290 - val_RMSE: 0.4787 - lr: 5.0000e-05\n",
      "Epoch 70/100\n",
      "54/54 [==============================] - 0s 5ms/step - loss: 0.1655 - MAE: 0.2795 - RMSE: 0.4068 - val_loss: 0.2299 - val_MAE: 0.3269 - val_RMSE: 0.4795 - lr: 5.0000e-05\n",
      "Epoch 71/100\n",
      "54/54 [==============================] - 0s 5ms/step - loss: 0.1652 - MAE: 0.2782 - RMSE: 0.4064 - val_loss: 0.2302 - val_MAE: 0.3286 - val_RMSE: 0.4798 - lr: 5.0000e-05\n",
      "Epoch 72/100\n",
      "54/54 [==============================] - 0s 5ms/step - loss: 0.1650 - MAE: 0.2783 - RMSE: 0.4062 - val_loss: 0.2307 - val_MAE: 0.3270 - val_RMSE: 0.4803 - lr: 2.5000e-05\n",
      "Epoch 73/100\n",
      "54/54 [==============================] - 0s 7ms/step - loss: 0.1649 - MAE: 0.2776 - RMSE: 0.4060 - val_loss: 0.2288 - val_MAE: 0.3307 - val_RMSE: 0.4783 - lr: 2.5000e-05\n",
      "Epoch 74/100\n",
      "54/54 [==============================] - 0s 5ms/step - loss: 0.1648 - MAE: 0.2787 - RMSE: 0.4060 - val_loss: 0.2289 - val_MAE: 0.3295 - val_RMSE: 0.4784 - lr: 2.5000e-05\n",
      "Epoch 75/100\n",
      "54/54 [==============================] - 0s 7ms/step - loss: 0.1648 - MAE: 0.2776 - RMSE: 0.4060 - val_loss: 0.2291 - val_MAE: 0.3291 - val_RMSE: 0.4786 - lr: 2.5000e-05\n",
      "Epoch 76/100\n",
      "54/54 [==============================] - 0s 7ms/step - loss: 0.1647 - MAE: 0.2776 - RMSE: 0.4058 - val_loss: 0.2287 - val_MAE: 0.3299 - val_RMSE: 0.4783 - lr: 2.5000e-05\n",
      "Epoch 77/100\n",
      "54/54 [==============================] - 0s 5ms/step - loss: 0.1647 - MAE: 0.2788 - RMSE: 0.4059 - val_loss: 0.2293 - val_MAE: 0.3279 - val_RMSE: 0.4788 - lr: 2.5000e-05\n",
      "Epoch 78/100\n",
      "54/54 [==============================] - 0s 7ms/step - loss: 0.1647 - MAE: 0.2780 - RMSE: 0.4058 - val_loss: 0.2286 - val_MAE: 0.3308 - val_RMSE: 0.4781 - lr: 2.5000e-05\n",
      "Epoch 79/100\n",
      "54/54 [==============================] - 0s 6ms/step - loss: 0.1647 - MAE: 0.2780 - RMSE: 0.4058 - val_loss: 0.2286 - val_MAE: 0.3313 - val_RMSE: 0.4781 - lr: 2.5000e-05\n",
      "Epoch 80/100\n",
      "54/54 [==============================] - 0s 4ms/step - loss: 0.1647 - MAE: 0.2783 - RMSE: 0.4059 - val_loss: 0.2291 - val_MAE: 0.3293 - val_RMSE: 0.4786 - lr: 2.5000e-05\n",
      "Epoch 81/100\n",
      "54/54 [==============================] - 0s 8ms/step - loss: 0.1646 - MAE: 0.2772 - RMSE: 0.4057 - val_loss: 0.2285 - val_MAE: 0.3317 - val_RMSE: 0.4780 - lr: 2.5000e-05\n",
      "Epoch 82/100\n",
      "54/54 [==============================] - 0s 5ms/step - loss: 0.1644 - MAE: 0.2788 - RMSE: 0.4055 - val_loss: 0.2309 - val_MAE: 0.3262 - val_RMSE: 0.4806 - lr: 2.5000e-05\n",
      "Epoch 83/100\n",
      "54/54 [==============================] - 0s 4ms/step - loss: 0.1647 - MAE: 0.2778 - RMSE: 0.4058 - val_loss: 0.2296 - val_MAE: 0.3273 - val_RMSE: 0.4792 - lr: 2.5000e-05\n",
      "Epoch 84/100\n",
      "54/54 [==============================] - 0s 4ms/step - loss: 0.1645 - MAE: 0.2777 - RMSE: 0.4056 - val_loss: 0.2290 - val_MAE: 0.3289 - val_RMSE: 0.4786 - lr: 2.5000e-05\n",
      "Epoch 85/100\n",
      "54/54 [==============================] - 0s 5ms/step - loss: 0.1645 - MAE: 0.2775 - RMSE: 0.4056 - val_loss: 0.2290 - val_MAE: 0.3292 - val_RMSE: 0.4785 - lr: 2.5000e-05\n",
      "Epoch 86/100\n",
      "54/54 [==============================] - 0s 5ms/step - loss: 0.1645 - MAE: 0.2779 - RMSE: 0.4056 - val_loss: 0.2295 - val_MAE: 0.3277 - val_RMSE: 0.4791 - lr: 2.5000e-05\n",
      "Epoch 87/100\n",
      "54/54 [==============================] - 0s 4ms/step - loss: 0.1644 - MAE: 0.2776 - RMSE: 0.4054 - val_loss: 0.2291 - val_MAE: 0.3285 - val_RMSE: 0.4786 - lr: 2.5000e-05\n",
      "Epoch 88/100\n",
      "54/54 [==============================] - 0s 4ms/step - loss: 0.1644 - MAE: 0.2776 - RMSE: 0.4054 - val_loss: 0.2287 - val_MAE: 0.3301 - val_RMSE: 0.4782 - lr: 2.5000e-05\n",
      "Epoch 89/100\n",
      "54/54 [==============================] - 0s 4ms/step - loss: 0.1645 - MAE: 0.2786 - RMSE: 0.4056 - val_loss: 0.2290 - val_MAE: 0.3280 - val_RMSE: 0.4785 - lr: 2.5000e-05\n",
      "Epoch 90/100\n",
      "54/54 [==============================] - 0s 4ms/step - loss: 0.1645 - MAE: 0.2771 - RMSE: 0.4056 - val_loss: 0.2291 - val_MAE: 0.3284 - val_RMSE: 0.4787 - lr: 2.5000e-05\n",
      "Epoch 91/100\n",
      "54/54 [==============================] - 0s 4ms/step - loss: 0.1645 - MAE: 0.2776 - RMSE: 0.4055 - val_loss: 0.2294 - val_MAE: 0.3276 - val_RMSE: 0.4790 - lr: 2.5000e-05\n",
      "Epoch 92/100\n",
      "54/54 [==============================] - 0s 4ms/step - loss: 0.1644 - MAE: 0.2786 - RMSE: 0.4054 - val_loss: 0.2293 - val_MAE: 0.3278 - val_RMSE: 0.4788 - lr: 1.2500e-05\n",
      "Epoch 93/100\n",
      "54/54 [==============================] - 0s 4ms/step - loss: 0.1641 - MAE: 0.2769 - RMSE: 0.4051 - val_loss: 0.2285 - val_MAE: 0.3293 - val_RMSE: 0.4780 - lr: 1.2500e-05\n",
      "Epoch 94/100\n",
      "54/54 [==============================] - 0s 4ms/step - loss: 0.1642 - MAE: 0.2781 - RMSE: 0.4053 - val_loss: 0.2286 - val_MAE: 0.3292 - val_RMSE: 0.4781 - lr: 1.2500e-05\n",
      "Epoch 95/100\n",
      "54/54 [==============================] - 0s 5ms/step - loss: 0.1641 - MAE: 0.2780 - RMSE: 0.4051 - val_loss: 0.2295 - val_MAE: 0.3273 - val_RMSE: 0.4790 - lr: 1.2500e-05\n",
      "Epoch 96/100\n",
      "54/54 [==============================] - 0s 5ms/step - loss: 0.1642 - MAE: 0.2771 - RMSE: 0.4052 - val_loss: 0.2288 - val_MAE: 0.3286 - val_RMSE: 0.4783 - lr: 1.2500e-05\n",
      "Epoch 97/100\n",
      "54/54 [==============================] - 0s 5ms/step - loss: 0.1641 - MAE: 0.2774 - RMSE: 0.4051 - val_loss: 0.2286 - val_MAE: 0.3294 - val_RMSE: 0.4781 - lr: 1.2500e-05\n",
      "Epoch 98/100\n",
      "54/54 [==============================] - 0s 7ms/step - loss: 0.1643 - MAE: 0.2768 - RMSE: 0.4053 - val_loss: 0.2283 - val_MAE: 0.3303 - val_RMSE: 0.4778 - lr: 1.2500e-05\n",
      "Epoch 99/100\n",
      "54/54 [==============================] - 0s 4ms/step - loss: 0.1642 - MAE: 0.2777 - RMSE: 0.4053 - val_loss: 0.2284 - val_MAE: 0.3298 - val_RMSE: 0.4779 - lr: 1.2500e-05\n",
      "Epoch 100/100\n",
      "54/54 [==============================] - 0s 4ms/step - loss: 0.1641 - MAE: 0.2790 - RMSE: 0.4051 - val_loss: 0.2293 - val_MAE: 0.3277 - val_RMSE: 0.4788 - lr: 1.2500e-05\n",
      "[INFO] Time 33.78\n"
     ]
    }
   ],
   "source": [
    "# Start clock\n",
    "#\n",
    "start = time.time()\n",
    "\n",
    "\n",
    "score = model.fit(trainX, trainY,                   \n",
    "                  epochs           = epochs, \n",
    "                  batch_size       = batch_size, \n",
    "                  callbacks        = [checkpoint, earlystopping, lrs_scheduler],\n",
    "                  shuffle          = True,\n",
    "                  verbose          = 1, \n",
    "                  validation_split = 0.2)\n",
    "\n",
    "\n",
    "# Terminate clock\n",
    "#\n",
    "stop = time.time()\n",
    "print('[INFO] Time %.2f' % (stop - start))"
   ]
  },
  {
   "cell_type": "code",
   "execution_count": 172,
   "metadata": {},
   "outputs": [
    {
     "data": {
      "image/png": "[encoded data removed]",
      "text/plain": [
       "<Figure size 1440x216 with 2 Axes>"
      ]
     },
     "metadata": {
      "needs_background": "light"
     },
     "output_type": "display_data"
    }
   ],
   "source": [
    "# Create figure\n",
    "#\n",
    "fig, ax = plt.subplots(nrows = 1, ncols = 2, figsize = (20, 3) )\n",
    "\n",
    "# Plot RMSE\n",
    "#\n",
    "ax[0].plot( score.history['RMSE'], marker = 'o');\n",
    "ax[0].plot( score.history['val_RMSE'], marker = 'o');\n",
    "ax[0].legend(['Training', 'Valdiation'], frameon = False);\n",
    "ax[0].set_title('RMSE');\n",
    "\n",
    "# Plot RMSE\n",
    "#\n",
    "ax[1].plot( score.history['MAE'], marker = 'o');\n",
    "ax[1].plot( score.history['val_MAE'], marker = 'o');\n",
    "ax[1].legend(['Training', 'Validation'], frameon = False);\n",
    "ax[1].set_title('MAE');"
   ]
  },
  {
   "cell_type": "markdown",
   "metadata": {},
   "source": [
    "## Load optimized model"
   ]
  },
  {
   "cell_type": "code",
   "execution_count": 173,
   "metadata": {},
   "outputs": [
    {
     "name": "stdout",
     "output_type": "stream",
     "text": [
      "[INFO] Model loaded\n"
     ]
    }
   ],
   "source": [
    "# Load the best model\n",
    "#\n",
    "model.load_weights('checkpoints/NBeats.hdf5')\n",
    "\n",
    "print('[INFO] Model loaded')"
   ]
  },
  {
   "cell_type": "markdown",
   "metadata": {},
   "source": [
    "## Evaluation"
   ]
  },
  {
   "cell_type": "markdown",
   "metadata": {},
   "source": [
    "### Get predictions"
   ]
  },
  {
   "cell_type": "code",
   "execution_count": 174,
   "metadata": {},
   "outputs": [],
   "source": [
    "# Get predictions\n",
    "#\n",
    "pred = model.predict( testX ).squeeze(-1)"
   ]
  },
  {
   "cell_type": "markdown",
   "metadata": {},
   "source": [
    "### Apply inverse scaling/transformation"
   ]
  },
  {
   "cell_type": "code",
   "execution_count": 175,
   "metadata": {},
   "outputs": [],
   "source": [
    "# Apply inverse scaling\n",
    "#\n",
    "for i in range( Horizon ):\n",
    "    testY[:,  i] = scaler.inverse_transform( testY[:,  i].reshape(-1,1) ).squeeze(-1)\n",
    "    pred[:, i]   = scaler.inverse_transform( pred[:, i].reshape(-1,1) ).squeeze(-1)\n",
    "\n",
    "\n",
    "# Apply inverse transformation   \n",
    "#\n",
    "if (Transformation == True):\n",
    "    testY = np.exp( testY ) - VALUE\n",
    "    pred  = np.exp( pred )  - VALUE"
   ]
  },
  {
   "cell_type": "markdown",
   "metadata": {},
   "source": [
    "### Calculate Performance on Testing set - Prediction visualization\n"
   ]
  },
  {
   "cell_type": "code",
   "execution_count": 181,
   "metadata": {},
   "outputs": [
    {
     "name": "stdout",
     "output_type": "stream",
     "text": [
      "[INFO] Feature:  CO\n",
      "------------------------------------------------\n",
      "Horizon:  1 MAE 16.07 RMSE 24.84 SMAPE:  8.05 R2: 0.84\n",
      "Horizon:  2 MAE 25.76 RMSE 37.88 SMAPE: 12.78 R2: 0.63\n"
     ]
    }
   ],
   "source": [
    "print('[INFO] Feature: ', targetSeries)\n",
    "print('------------------------------------------------')\n",
    "Performance_Foresting_Model = {'RMSE': [], 'MAE': [], 'SMAPE': [], 'R2' : []}\n",
    "\n",
    "for i in range( Horizon ):\n",
    "\n",
    "    Prices = pd.DataFrame([])        \n",
    "\n",
    "    Prices[targetSeries] = testY[:,i]\n",
    "    Prices['Prediction'] = pred[:,i]\n",
    "\n",
    "\n",
    "    # Evaluation\n",
    "    #\n",
    "    MAE, RMSE, MAPE, SMAPE, R2 = RegressionEvaluation( Prices )\n",
    "\n",
    "    # Store results\n",
    "    #\n",
    "    Performance_Foresting_Model['RMSE']    += [ RMSE    ]\n",
    "    Performance_Foresting_Model['MAE']     += [ MAE     ]\n",
    "    Performance_Foresting_Model['SMAPE']   += [ SMAPE   ]\n",
    "    Performance_Foresting_Model['R2']      += [ R2      ]\n",
    "\n",
    "    # Present results\n",
    "    #\n",
    "#     print('Horizon: ', i+1)\n",
    "#     print('> MAE:   ', MAE)\n",
    "#     print('> RMSE:  ', RMSE)\n",
    "#     print('> SMAPE: ', SMAPE)\n",
    "#     print('> R2:    ', R2)\n",
    "#     print()\n",
    "    \n",
    "    print('Horizon: %2i MAE %5.2f RMSE %5.2f SMAPE: %5.2f R2: %.2f' % (i+1, MAE, RMSE, SMAPE, R2) )"
   ]
  },
  {
   "cell_type": "markdown",
   "metadata": {},
   "source": [
    "### Reliability evaluation"
   ]
  },
  {
   "cell_type": "code",
   "execution_count": 177,
   "metadata": {},
   "outputs": [
    {
     "name": "stdout",
     "output_type": "stream",
     "text": [
      "[INFO] Feature:  CO\n",
      "------------------------------------------------\n"
     ]
    },
    {
     "data": {
      "image/png": "[encoded data removed]",
      "text/plain": [
       "<Figure size 1080x144 with 2 Axes>"
      ]
     },
     "metadata": {
      "needs_background": "light"
     },
     "output_type": "display_data"
    },
    {
     "data": {
      "image/png": "[encoded data removed]",
      "text/plain": [
       "<Figure size 1080x144 with 2 Axes>"
      ]
     },
     "metadata": {
      "needs_background": "light"
     },
     "output_type": "display_data"
    }
   ],
   "source": [
    "print('[INFO] Feature: ', targetSeries)\n",
    "print('------------------------------------------------')\n",
    "Performance_Foresting_Model = {'RMSE': [], 'MAE': [], 'SMAPE': [], 'R2' : []}\n",
    "\n",
    "for i in range( Horizon ):\n",
    "\n",
    "    Prices = pd.DataFrame([])        \n",
    "\n",
    "    Prices[targetSeries] = testY[:,i]\n",
    "    Prices['Prediction'] = pred[:,i]\n",
    "            \n",
    "            \n",
    "\n",
    "            \n",
    "    from scipy import stats\n",
    "    from statsmodels.graphics.tsaplots import plot_acf\n",
    "    \n",
    "    res = (Prices[targetSeries] - Prices['Prediction']).to_numpy()\n",
    "    \n",
    "    fig, ax = plt.subplots(nrows = 1, ncols = 2, figsize = (15, 2) )\n",
    "\n",
    "    ax[0].hist( res, bins = 100 )    \n",
    "    plot_acf( res, ax=ax[1] )       "
   ]
  },
  {
   "cell_type": "markdown",
   "metadata": {},
   "source": [
    "## Visualization"
   ]
  },
  {
   "cell_type": "code",
   "execution_count": 178,
   "metadata": {},
   "outputs": [
    {
     "data": {
      "image/png": "[encoded data removed]",
      "text/plain": [
       "<Figure size 1440x288 with 1 Axes>"
      ]
     },
     "metadata": {
      "needs_background": "light"
     },
     "output_type": "display_data"
    }
   ],
   "source": [
    "Prices = pd.DataFrame( [] )\n",
    "\n",
    "Prices[targetSeries] = testY.flatten()\n",
    "Prices['Prediction'] = pred.flatten()\n",
    "\n",
    "\n",
    "# Plot results\n",
    "#\n",
    "plt.figure( figsize = (20, 4) );\n",
    "#\n",
    "Prices[ targetSeries ][:200].plot(color = 'tab:blue', marker = 'o')\n",
    "Prices[ 'Prediction' ][:200].plot(color = 'tab:orange', marker = 'o')\n",
    "plt.show();\n"
   ]
  },
  {
   "cell_type": "markdown",
   "metadata": {},
   "source": [
    "### Examples"
   ]
  },
  {
   "cell_type": "code",
   "execution_count": 179,
   "metadata": {},
   "outputs": [],
   "source": [
    "# subplots = [331, 332, 333, 334, 335, 336,  337, 338, 339]\n",
    "# plt.figure( figsize = (20, 8) )\n",
    "# RandomInstances = [random.randint(1, testY.shape[0]) for i in range(0, 9)]\n",
    "# RandomInstances = [66, 62, 192, 448, 477, 1035, 34, 408, 860]\n",
    "\n",
    "# for plot_id, i in enumerate(RandomInstances):\n",
    "\n",
    "#     plt.subplot(subplots[plot_id])\n",
    "#     plt.grid()\n",
    "\n",
    "#     plt.plot(testY[i], color='g', marker = 'o', linewidth = 2)\n",
    "#     plt.plot(pred[i],  color='r', marker = 'o', linewidth = 2)\n",
    "\n",
    "#     plt.legend(['Future values', 'Prediction'], frameon = False, fontsize = 12)\n",
    "#     plt.ylim([90, 260])\n",
    "# plt.show()"
   ]
  },
  {
   "cell_type": "markdown",
   "metadata": {},
   "source": [
    "# Store predictions"
   ]
  },
  {
   "cell_type": "code",
   "execution_count": 180,
   "metadata": {},
   "outputs": [],
   "source": [
    "Outputs = pd.DataFrame([])\n",
    "#\n",
    "#\n",
    "Outputs[targetSeries] = testY.flatten()\n",
    "Outputs['NBeats']     = pred.flatten()\n",
    "#\n",
    "Outputs.to_csv('Predictions/NBeats.csv')"
   ]
  }
 ],
 "metadata": {
  "kernelspec": {
   "display_name": "Python 3.7.12 ('tensorflow')",
   "language": "python",
   "name": "python3"
  },
  "language_info": {
   "codemirror_mode": {
    "name": "ipython",
    "version": 3
   },
   "file_extension": ".py",
   "mimetype": "text/x-python",
   "name": "python",
   "nbconvert_exporter": "python",
   "pygments_lexer": "ipython3",
   "version": "3.7.12"
  },
  "toc": {
   "base_numbering": 1,
   "nav_menu": {},
   "number_sections": true,
   "sideBar": true,
   "skip_h1_title": false,
   "title_cell": "Table of Contents",
   "title_sidebar": "Contents",
   "toc_cell": false,
   "toc_position": {
    "height": "calc(100% - 180px)",
    "left": "10px",
    "top": "150px",
    "width": "307.1964416503906px"
   },
   "toc_section_display": true,
   "toc_window_display": true
  },
  "vscode": {
   "interpreter": {
    "hash": "7428b380d083f99fc04fcc5ca6fbebec3e7c66e9e3f92621c0f3007db81c1bd7"
   }
  }
 },
 "nbformat": 4,
 "nbformat_minor": 5
}
